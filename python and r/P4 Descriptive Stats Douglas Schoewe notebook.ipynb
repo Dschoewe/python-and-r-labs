{
 "cells": [
  {
   "cell_type": "code",
   "execution_count": 2,
   "id": "41d0bced",
   "metadata": {},
   "outputs": [
    {
     "data": {
      "text/html": [
       "'C:/Users/Douglas Schoewe'"
      ],
      "text/latex": [
       "'C:/Users/Douglas Schoewe'"
      ],
      "text/markdown": [
       "'C:/Users/Douglas Schoewe'"
      ],
      "text/plain": [
       "[1] \"C:/Users/Douglas Schoewe\""
      ]
     },
     "metadata": {},
     "output_type": "display_data"
    }
   ],
   "source": [
    "getwd()"
   ]
  },
  {
   "cell_type": "code",
   "execution_count": 5,
   "id": "d62eae29",
   "metadata": {},
   "outputs": [],
   "source": [
    "setwd(\"C:/rscripts/data/urban_analytics-master/04_Descriptive_statistics\")"
   ]
  },
  {
   "cell_type": "code",
   "execution_count": null,
   "id": "743b130a",
   "metadata": {},
   "outputs": [],
   "source": [
    "amsterdam <- read.csv(\"./data/listings.csv\")"
   ]
  },
  {
   "cell_type": "code",
   "execution_count": 6,
   "id": "955c5701",
   "metadata": {},
   "outputs": [],
   "source": [
    "amsterdam <- read.csv(\"./data/listings.csv\")"
   ]
  },
  {
   "cell_type": "code",
   "execution_count": 7,
   "id": "1b1e5e17",
   "metadata": {},
   "outputs": [
    {
     "data": {
      "text/html": [
       "<style>\n",
       ".list-inline {list-style: none; margin:0; padding: 0}\n",
       ".list-inline>li {display: inline-block}\n",
       ".list-inline>li:not(:last-child)::after {content: \"\\00b7\"; padding: 0 .5ex}\n",
       "</style>\n",
       "<ol class=list-inline><li>'id'</li><li>'listing_url'</li><li>'scrape_id'</li><li>'last_scraped'</li><li>'name'</li><li>'summary'</li><li>'space'</li><li>'description'</li><li>'experiences_offered'</li><li>'neighborhood_overview'</li><li>'notes'</li><li>'transit'</li><li>'access'</li><li>'interaction'</li><li>'house_rules'</li><li>'thumbnail_url'</li><li>'medium_url'</li><li>'picture_url'</li><li>'xl_picture_url'</li><li>'host_id'</li><li>'host_url'</li><li>'host_name'</li><li>'host_since'</li><li>'host_location'</li><li>'host_about'</li><li>'host_response_time'</li><li>'host_response_rate'</li><li>'host_acceptance_rate'</li><li>'host_is_superhost'</li><li>'host_thumbnail_url'</li><li>'host_picture_url'</li><li>'host_neighbourhood'</li><li>'host_listings_count'</li><li>'host_total_listings_count'</li><li>'host_verifications'</li><li>'host_has_profile_pic'</li><li>'host_identity_verified'</li><li>'street'</li><li>'neighbourhood'</li><li>'neighbourhood_cleansed'</li><li>'neighbourhood_group_cleansed'</li><li>'city'</li><li>'state'</li><li>'zipcode'</li><li>'market'</li><li>'smart_location'</li><li>'country_code'</li><li>'country'</li><li>'latitude'</li><li>'longitude'</li><li>'is_location_exact'</li><li>'property_type'</li><li>'room_type'</li><li>'accommodates'</li><li>'bathrooms'</li><li>'bedrooms'</li><li>'beds'</li><li>'bed_type'</li><li>'amenities'</li><li>'square_feet'</li><li>'price'</li><li>'weekly_price'</li><li>'monthly_price'</li><li>'security_deposit'</li><li>'cleaning_fee'</li><li>'guests_included'</li><li>'extra_people'</li><li>'minimum_nights'</li><li>'maximum_nights'</li><li>'calendar_updated'</li><li>'has_availability'</li><li>'availability_30'</li><li>'availability_60'</li><li>'availability_90'</li><li>'availability_365'</li><li>'calendar_last_scraped'</li><li>'number_of_reviews'</li><li>'first_review'</li><li>'last_review'</li><li>'review_scores_rating'</li><li>'review_scores_accuracy'</li><li>'review_scores_cleanliness'</li><li>'review_scores_checkin'</li><li>'review_scores_communication'</li><li>'review_scores_location'</li><li>'review_scores_value'</li><li>'requires_license'</li><li>'license'</li><li>'jurisdiction_names'</li><li>'instant_bookable'</li><li>'cancellation_policy'</li><li>'require_guest_profile_picture'</li><li>'require_guest_phone_verification'</li><li>'calculated_host_listings_count'</li><li>'reviews_per_month'</li></ol>\n"
      ],
      "text/latex": [
       "\\begin{enumerate*}\n",
       "\\item 'id'\n",
       "\\item 'listing\\_url'\n",
       "\\item 'scrape\\_id'\n",
       "\\item 'last\\_scraped'\n",
       "\\item 'name'\n",
       "\\item 'summary'\n",
       "\\item 'space'\n",
       "\\item 'description'\n",
       "\\item 'experiences\\_offered'\n",
       "\\item 'neighborhood\\_overview'\n",
       "\\item 'notes'\n",
       "\\item 'transit'\n",
       "\\item 'access'\n",
       "\\item 'interaction'\n",
       "\\item 'house\\_rules'\n",
       "\\item 'thumbnail\\_url'\n",
       "\\item 'medium\\_url'\n",
       "\\item 'picture\\_url'\n",
       "\\item 'xl\\_picture\\_url'\n",
       "\\item 'host\\_id'\n",
       "\\item 'host\\_url'\n",
       "\\item 'host\\_name'\n",
       "\\item 'host\\_since'\n",
       "\\item 'host\\_location'\n",
       "\\item 'host\\_about'\n",
       "\\item 'host\\_response\\_time'\n",
       "\\item 'host\\_response\\_rate'\n",
       "\\item 'host\\_acceptance\\_rate'\n",
       "\\item 'host\\_is\\_superhost'\n",
       "\\item 'host\\_thumbnail\\_url'\n",
       "\\item 'host\\_picture\\_url'\n",
       "\\item 'host\\_neighbourhood'\n",
       "\\item 'host\\_listings\\_count'\n",
       "\\item 'host\\_total\\_listings\\_count'\n",
       "\\item 'host\\_verifications'\n",
       "\\item 'host\\_has\\_profile\\_pic'\n",
       "\\item 'host\\_identity\\_verified'\n",
       "\\item 'street'\n",
       "\\item 'neighbourhood'\n",
       "\\item 'neighbourhood\\_cleansed'\n",
       "\\item 'neighbourhood\\_group\\_cleansed'\n",
       "\\item 'city'\n",
       "\\item 'state'\n",
       "\\item 'zipcode'\n",
       "\\item 'market'\n",
       "\\item 'smart\\_location'\n",
       "\\item 'country\\_code'\n",
       "\\item 'country'\n",
       "\\item 'latitude'\n",
       "\\item 'longitude'\n",
       "\\item 'is\\_location\\_exact'\n",
       "\\item 'property\\_type'\n",
       "\\item 'room\\_type'\n",
       "\\item 'accommodates'\n",
       "\\item 'bathrooms'\n",
       "\\item 'bedrooms'\n",
       "\\item 'beds'\n",
       "\\item 'bed\\_type'\n",
       "\\item 'amenities'\n",
       "\\item 'square\\_feet'\n",
       "\\item 'price'\n",
       "\\item 'weekly\\_price'\n",
       "\\item 'monthly\\_price'\n",
       "\\item 'security\\_deposit'\n",
       "\\item 'cleaning\\_fee'\n",
       "\\item 'guests\\_included'\n",
       "\\item 'extra\\_people'\n",
       "\\item 'minimum\\_nights'\n",
       "\\item 'maximum\\_nights'\n",
       "\\item 'calendar\\_updated'\n",
       "\\item 'has\\_availability'\n",
       "\\item 'availability\\_30'\n",
       "\\item 'availability\\_60'\n",
       "\\item 'availability\\_90'\n",
       "\\item 'availability\\_365'\n",
       "\\item 'calendar\\_last\\_scraped'\n",
       "\\item 'number\\_of\\_reviews'\n",
       "\\item 'first\\_review'\n",
       "\\item 'last\\_review'\n",
       "\\item 'review\\_scores\\_rating'\n",
       "\\item 'review\\_scores\\_accuracy'\n",
       "\\item 'review\\_scores\\_cleanliness'\n",
       "\\item 'review\\_scores\\_checkin'\n",
       "\\item 'review\\_scores\\_communication'\n",
       "\\item 'review\\_scores\\_location'\n",
       "\\item 'review\\_scores\\_value'\n",
       "\\item 'requires\\_license'\n",
       "\\item 'license'\n",
       "\\item 'jurisdiction\\_names'\n",
       "\\item 'instant\\_bookable'\n",
       "\\item 'cancellation\\_policy'\n",
       "\\item 'require\\_guest\\_profile\\_picture'\n",
       "\\item 'require\\_guest\\_phone\\_verification'\n",
       "\\item 'calculated\\_host\\_listings\\_count'\n",
       "\\item 'reviews\\_per\\_month'\n",
       "\\end{enumerate*}\n"
      ],
      "text/markdown": [
       "1. 'id'\n",
       "2. 'listing_url'\n",
       "3. 'scrape_id'\n",
       "4. 'last_scraped'\n",
       "5. 'name'\n",
       "6. 'summary'\n",
       "7. 'space'\n",
       "8. 'description'\n",
       "9. 'experiences_offered'\n",
       "10. 'neighborhood_overview'\n",
       "11. 'notes'\n",
       "12. 'transit'\n",
       "13. 'access'\n",
       "14. 'interaction'\n",
       "15. 'house_rules'\n",
       "16. 'thumbnail_url'\n",
       "17. 'medium_url'\n",
       "18. 'picture_url'\n",
       "19. 'xl_picture_url'\n",
       "20. 'host_id'\n",
       "21. 'host_url'\n",
       "22. 'host_name'\n",
       "23. 'host_since'\n",
       "24. 'host_location'\n",
       "25. 'host_about'\n",
       "26. 'host_response_time'\n",
       "27. 'host_response_rate'\n",
       "28. 'host_acceptance_rate'\n",
       "29. 'host_is_superhost'\n",
       "30. 'host_thumbnail_url'\n",
       "31. 'host_picture_url'\n",
       "32. 'host_neighbourhood'\n",
       "33. 'host_listings_count'\n",
       "34. 'host_total_listings_count'\n",
       "35. 'host_verifications'\n",
       "36. 'host_has_profile_pic'\n",
       "37. 'host_identity_verified'\n",
       "38. 'street'\n",
       "39. 'neighbourhood'\n",
       "40. 'neighbourhood_cleansed'\n",
       "41. 'neighbourhood_group_cleansed'\n",
       "42. 'city'\n",
       "43. 'state'\n",
       "44. 'zipcode'\n",
       "45. 'market'\n",
       "46. 'smart_location'\n",
       "47. 'country_code'\n",
       "48. 'country'\n",
       "49. 'latitude'\n",
       "50. 'longitude'\n",
       "51. 'is_location_exact'\n",
       "52. 'property_type'\n",
       "53. 'room_type'\n",
       "54. 'accommodates'\n",
       "55. 'bathrooms'\n",
       "56. 'bedrooms'\n",
       "57. 'beds'\n",
       "58. 'bed_type'\n",
       "59. 'amenities'\n",
       "60. 'square_feet'\n",
       "61. 'price'\n",
       "62. 'weekly_price'\n",
       "63. 'monthly_price'\n",
       "64. 'security_deposit'\n",
       "65. 'cleaning_fee'\n",
       "66. 'guests_included'\n",
       "67. 'extra_people'\n",
       "68. 'minimum_nights'\n",
       "69. 'maximum_nights'\n",
       "70. 'calendar_updated'\n",
       "71. 'has_availability'\n",
       "72. 'availability_30'\n",
       "73. 'availability_60'\n",
       "74. 'availability_90'\n",
       "75. 'availability_365'\n",
       "76. 'calendar_last_scraped'\n",
       "77. 'number_of_reviews'\n",
       "78. 'first_review'\n",
       "79. 'last_review'\n",
       "80. 'review_scores_rating'\n",
       "81. 'review_scores_accuracy'\n",
       "82. 'review_scores_cleanliness'\n",
       "83. 'review_scores_checkin'\n",
       "84. 'review_scores_communication'\n",
       "85. 'review_scores_location'\n",
       "86. 'review_scores_value'\n",
       "87. 'requires_license'\n",
       "88. 'license'\n",
       "89. 'jurisdiction_names'\n",
       "90. 'instant_bookable'\n",
       "91. 'cancellation_policy'\n",
       "92. 'require_guest_profile_picture'\n",
       "93. 'require_guest_phone_verification'\n",
       "94. 'calculated_host_listings_count'\n",
       "95. 'reviews_per_month'\n",
       "\n",
       "\n"
      ],
      "text/plain": [
       " [1] \"id\"                               \"listing_url\"                     \n",
       " [3] \"scrape_id\"                        \"last_scraped\"                    \n",
       " [5] \"name\"                             \"summary\"                         \n",
       " [7] \"space\"                            \"description\"                     \n",
       " [9] \"experiences_offered\"              \"neighborhood_overview\"           \n",
       "[11] \"notes\"                            \"transit\"                         \n",
       "[13] \"access\"                           \"interaction\"                     \n",
       "[15] \"house_rules\"                      \"thumbnail_url\"                   \n",
       "[17] \"medium_url\"                       \"picture_url\"                     \n",
       "[19] \"xl_picture_url\"                   \"host_id\"                         \n",
       "[21] \"host_url\"                         \"host_name\"                       \n",
       "[23] \"host_since\"                       \"host_location\"                   \n",
       "[25] \"host_about\"                       \"host_response_time\"              \n",
       "[27] \"host_response_rate\"               \"host_acceptance_rate\"            \n",
       "[29] \"host_is_superhost\"                \"host_thumbnail_url\"              \n",
       "[31] \"host_picture_url\"                 \"host_neighbourhood\"              \n",
       "[33] \"host_listings_count\"              \"host_total_listings_count\"       \n",
       "[35] \"host_verifications\"               \"host_has_profile_pic\"            \n",
       "[37] \"host_identity_verified\"           \"street\"                          \n",
       "[39] \"neighbourhood\"                    \"neighbourhood_cleansed\"          \n",
       "[41] \"neighbourhood_group_cleansed\"     \"city\"                            \n",
       "[43] \"state\"                            \"zipcode\"                         \n",
       "[45] \"market\"                           \"smart_location\"                  \n",
       "[47] \"country_code\"                     \"country\"                         \n",
       "[49] \"latitude\"                         \"longitude\"                       \n",
       "[51] \"is_location_exact\"                \"property_type\"                   \n",
       "[53] \"room_type\"                        \"accommodates\"                    \n",
       "[55] \"bathrooms\"                        \"bedrooms\"                        \n",
       "[57] \"beds\"                             \"bed_type\"                        \n",
       "[59] \"amenities\"                        \"square_feet\"                     \n",
       "[61] \"price\"                            \"weekly_price\"                    \n",
       "[63] \"monthly_price\"                    \"security_deposit\"                \n",
       "[65] \"cleaning_fee\"                     \"guests_included\"                 \n",
       "[67] \"extra_people\"                     \"minimum_nights\"                  \n",
       "[69] \"maximum_nights\"                   \"calendar_updated\"                \n",
       "[71] \"has_availability\"                 \"availability_30\"                 \n",
       "[73] \"availability_60\"                  \"availability_90\"                 \n",
       "[75] \"availability_365\"                 \"calendar_last_scraped\"           \n",
       "[77] \"number_of_reviews\"                \"first_review\"                    \n",
       "[79] \"last_review\"                      \"review_scores_rating\"            \n",
       "[81] \"review_scores_accuracy\"           \"review_scores_cleanliness\"       \n",
       "[83] \"review_scores_checkin\"            \"review_scores_communication\"     \n",
       "[85] \"review_scores_location\"           \"review_scores_value\"             \n",
       "[87] \"requires_license\"                 \"license\"                         \n",
       "[89] \"jurisdiction_names\"               \"instant_bookable\"                \n",
       "[91] \"cancellation_policy\"              \"require_guest_profile_picture\"   \n",
       "[93] \"require_guest_phone_verification\" \"calculated_host_listings_count\"  \n",
       "[95] \"reviews_per_month\"               "
      ]
     },
     "metadata": {},
     "output_type": "display_data"
    }
   ],
   "source": [
    "colnames(amsterdam)"
   ]
  },
  {
   "cell_type": "code",
   "execution_count": 8,
   "id": "11bceff4",
   "metadata": {},
   "outputs": [],
   "source": [
    "amsterdam <- subset(amsterdam, select = c(\"id\",\"neighbourhood_cleansed\",\"latitude\",\"longitude\",\"property_type\",\"room_type\",\"bedrooms\",\"price\",\"number_of_reviews\"))"
   ]
  },
  {
   "cell_type": "code",
   "execution_count": 9,
   "id": "c54b5c40",
   "metadata": {},
   "outputs": [],
   "source": [
    "amsterdam$price <- gsub(\"$\",\"\",amsterdam$price,fixed = TRUE)\n",
    "amsterdam$price <- gsub(\",\",\"\",amsterdam$price,fixed = TRUE)\n",
    "amsterdam$price <- as.numeric(as.character(amsterdam$price))"
   ]
  },
  {
   "cell_type": "code",
   "execution_count": 10,
   "id": "b7d65292",
   "metadata": {},
   "outputs": [],
   "source": [
    "amsterdam <- amsterdam[complete.cases(amsterdam),]"
   ]
  },
  {
   "cell_type": "code",
   "execution_count": 11,
   "id": "7487a2dc",
   "metadata": {},
   "outputs": [
    {
     "data": {
      "text/html": [
       "<table class=\"dataframe\">\n",
       "<caption>A data.frame: 6 × 9</caption>\n",
       "<thead>\n",
       "\t<tr><th></th><th scope=col>id</th><th scope=col>neighbourhood_cleansed</th><th scope=col>latitude</th><th scope=col>longitude</th><th scope=col>property_type</th><th scope=col>room_type</th><th scope=col>bedrooms</th><th scope=col>price</th><th scope=col>number_of_reviews</th></tr>\n",
       "\t<tr><th></th><th scope=col>&lt;int&gt;</th><th scope=col>&lt;chr&gt;</th><th scope=col>&lt;dbl&gt;</th><th scope=col>&lt;dbl&gt;</th><th scope=col>&lt;chr&gt;</th><th scope=col>&lt;chr&gt;</th><th scope=col>&lt;int&gt;</th><th scope=col>&lt;dbl&gt;</th><th scope=col>&lt;int&gt;</th></tr>\n",
       "</thead>\n",
       "<tbody>\n",
       "\t<tr><th scope=row>1</th><td> 9784567</td><td>Bijlmer-Oost</td><td>52.32337</td><td>4.977730</td><td>Apartment</td><td>Private room   </td><td>1</td><td>95</td><td> 5</td></tr>\n",
       "\t<tr><th scope=row>2</th><td>13163805</td><td>Bijlmer-Oost</td><td>52.31564</td><td>4.978166</td><td>Apartment</td><td>Private room   </td><td>1</td><td>60</td><td> 4</td></tr>\n",
       "\t<tr><th scope=row>3</th><td> 3719167</td><td>Bijlmer-Oost</td><td>52.31671</td><td>4.986618</td><td>House    </td><td>Private room   </td><td>1</td><td>45</td><td>11</td></tr>\n",
       "\t<tr><th scope=row>4</th><td>13188367</td><td>Bijlmer-Oost</td><td>52.32120</td><td>4.976630</td><td>Apartment</td><td>Private room   </td><td>1</td><td>35</td><td> 2</td></tr>\n",
       "\t<tr><th scope=row>5</th><td> 4831606</td><td>Bijlmer-Oost</td><td>52.32727</td><td>4.967352</td><td>House    </td><td>Private room   </td><td>1</td><td>39</td><td>12</td></tr>\n",
       "\t<tr><th scope=row>6</th><td>13727930</td><td>Bijlmer-Oost</td><td>52.31459</td><td>4.975385</td><td>Apartment</td><td>Entire home/apt</td><td>0</td><td>80</td><td> 0</td></tr>\n",
       "</tbody>\n",
       "</table>\n"
      ],
      "text/latex": [
       "A data.frame: 6 × 9\n",
       "\\begin{tabular}{r|lllllllll}\n",
       "  & id & neighbourhood\\_cleansed & latitude & longitude & property\\_type & room\\_type & bedrooms & price & number\\_of\\_reviews\\\\\n",
       "  & <int> & <chr> & <dbl> & <dbl> & <chr> & <chr> & <int> & <dbl> & <int>\\\\\n",
       "\\hline\n",
       "\t1 &  9784567 & Bijlmer-Oost & 52.32337 & 4.977730 & Apartment & Private room    & 1 & 95 &  5\\\\\n",
       "\t2 & 13163805 & Bijlmer-Oost & 52.31564 & 4.978166 & Apartment & Private room    & 1 & 60 &  4\\\\\n",
       "\t3 &  3719167 & Bijlmer-Oost & 52.31671 & 4.986618 & House     & Private room    & 1 & 45 & 11\\\\\n",
       "\t4 & 13188367 & Bijlmer-Oost & 52.32120 & 4.976630 & Apartment & Private room    & 1 & 35 &  2\\\\\n",
       "\t5 &  4831606 & Bijlmer-Oost & 52.32727 & 4.967352 & House     & Private room    & 1 & 39 & 12\\\\\n",
       "\t6 & 13727930 & Bijlmer-Oost & 52.31459 & 4.975385 & Apartment & Entire home/apt & 0 & 80 &  0\\\\\n",
       "\\end{tabular}\n"
      ],
      "text/markdown": [
       "\n",
       "A data.frame: 6 × 9\n",
       "\n",
       "| <!--/--> | id &lt;int&gt; | neighbourhood_cleansed &lt;chr&gt; | latitude &lt;dbl&gt; | longitude &lt;dbl&gt; | property_type &lt;chr&gt; | room_type &lt;chr&gt; | bedrooms &lt;int&gt; | price &lt;dbl&gt; | number_of_reviews &lt;int&gt; |\n",
       "|---|---|---|---|---|---|---|---|---|---|\n",
       "| 1 |  9784567 | Bijlmer-Oost | 52.32337 | 4.977730 | Apartment | Private room    | 1 | 95 |  5 |\n",
       "| 2 | 13163805 | Bijlmer-Oost | 52.31564 | 4.978166 | Apartment | Private room    | 1 | 60 |  4 |\n",
       "| 3 |  3719167 | Bijlmer-Oost | 52.31671 | 4.986618 | House     | Private room    | 1 | 45 | 11 |\n",
       "| 4 | 13188367 | Bijlmer-Oost | 52.32120 | 4.976630 | Apartment | Private room    | 1 | 35 |  2 |\n",
       "| 5 |  4831606 | Bijlmer-Oost | 52.32727 | 4.967352 | House     | Private room    | 1 | 39 | 12 |\n",
       "| 6 | 13727930 | Bijlmer-Oost | 52.31459 | 4.975385 | Apartment | Entire home/apt | 0 | 80 |  0 |\n",
       "\n"
      ],
      "text/plain": [
       "  id       neighbourhood_cleansed latitude longitude property_type\n",
       "1  9784567 Bijlmer-Oost           52.32337 4.977730  Apartment    \n",
       "2 13163805 Bijlmer-Oost           52.31564 4.978166  Apartment    \n",
       "3  3719167 Bijlmer-Oost           52.31671 4.986618  House        \n",
       "4 13188367 Bijlmer-Oost           52.32120 4.976630  Apartment    \n",
       "5  4831606 Bijlmer-Oost           52.32727 4.967352  House        \n",
       "6 13727930 Bijlmer-Oost           52.31459 4.975385  Apartment    \n",
       "  room_type       bedrooms price number_of_reviews\n",
       "1 Private room    1        95     5               \n",
       "2 Private room    1        60     4               \n",
       "3 Private room    1        45    11               \n",
       "4 Private room    1        35     2               \n",
       "5 Private room    1        39    12               \n",
       "6 Entire home/apt 0        80     0               "
      ]
     },
     "metadata": {},
     "output_type": "display_data"
    }
   ],
   "source": [
    "head(amsterdam)"
   ]
  },
  {
   "cell_type": "code",
   "execution_count": 12,
   "id": "1126e8d7",
   "metadata": {},
   "outputs": [
    {
     "data": {
      "text/plain": [
       "       id           neighbourhood_cleansed    latitude       longitude    \n",
       " Min.   :    2818   Length:13837           Min.   :52.29   Min.   :4.763  \n",
       " 1st Qu.: 3736210   Class :character       1st Qu.:52.36   1st Qu.:4.866  \n",
       " Median : 7555967   Mode  :character       Median :52.37   Median :4.886  \n",
       " Mean   : 7418371                          Mean   :52.37   Mean   :4.889  \n",
       " 3rd Qu.:11267148                          3rd Qu.:52.37   3rd Qu.:4.907  \n",
       " Max.   :13828444                          Max.   :52.43   Max.   :5.028  \n",
       " property_type       room_type            bedrooms          price       \n",
       " Length:13837       Length:13837       Min.   : 0.000   Min.   :  10.0  \n",
       " Class :character   Class :character   1st Qu.: 1.000   1st Qu.:  89.0  \n",
       " Mode  :character   Mode  :character   Median : 1.000   Median : 115.0  \n",
       "                                       Mean   : 1.428   Mean   : 132.8  \n",
       "                                       3rd Qu.: 2.000   3rd Qu.: 150.0  \n",
       "                                       Max.   :10.000   Max.   :8616.0  \n",
       " number_of_reviews\n",
       " Min.   :  0.00   \n",
       " 1st Qu.:  1.00   \n",
       " Median :  6.00   \n",
       " Mean   : 15.42   \n",
       " 3rd Qu.: 16.00   \n",
       " Max.   :416.00   "
      ]
     },
     "metadata": {},
     "output_type": "display_data"
    }
   ],
   "source": [
    "summary(amsterdam)"
   ]
  },
  {
   "cell_type": "code",
   "execution_count": 13,
   "id": "623e01b3",
   "metadata": {},
   "outputs": [
    {
     "data": {
      "text/html": [
       "132.830382308304"
      ],
      "text/latex": [
       "132.830382308304"
      ],
      "text/markdown": [
       "132.830382308304"
      ],
      "text/plain": [
       "[1] 132.8304"
      ]
     },
     "metadata": {},
     "output_type": "display_data"
    },
    {
     "data": {
      "text/html": [
       "115"
      ],
      "text/latex": [
       "115"
      ],
      "text/markdown": [
       "115"
      ],
      "text/plain": [
       "[1] 115"
      ]
     },
     "metadata": {},
     "output_type": "display_data"
    },
    {
     "data": {
      "text/html": [
       "105.301712376012"
      ],
      "text/latex": [
       "105.301712376012"
      ],
      "text/markdown": [
       "105.301712376012"
      ],
      "text/plain": [
       "[1] 105.3017"
      ]
     },
     "metadata": {},
     "output_type": "display_data"
    },
    {
     "data": {
      "text/html": [
       "10"
      ],
      "text/latex": [
       "10"
      ],
      "text/markdown": [
       "10"
      ],
      "text/plain": [
       "[1] 10"
      ]
     },
     "metadata": {},
     "output_type": "display_data"
    },
    {
     "data": {
      "text/html": [
       "8616"
      ],
      "text/latex": [
       "8616"
      ],
      "text/markdown": [
       "8616"
      ],
      "text/plain": [
       "[1] 8616"
      ]
     },
     "metadata": {},
     "output_type": "display_data"
    },
    {
     "data": {
      "text/html": [
       "<style>\n",
       ".list-inline {list-style: none; margin:0; padding: 0}\n",
       ".list-inline>li {display: inline-block}\n",
       ".list-inline>li:not(:last-child)::after {content: \"\\00b7\"; padding: 0 .5ex}\n",
       "</style>\n",
       "<ol class=list-inline><li>10</li><li>8616</li></ol>\n"
      ],
      "text/latex": [
       "\\begin{enumerate*}\n",
       "\\item 10\n",
       "\\item 8616\n",
       "\\end{enumerate*}\n"
      ],
      "text/markdown": [
       "1. 10\n",
       "2. 8616\n",
       "\n",
       "\n"
      ],
      "text/plain": [
       "[1]   10 8616"
      ]
     },
     "metadata": {},
     "output_type": "display_data"
    },
    {
     "data": {
      "text/html": [
       "<style>\n",
       ".dl-inline {width: auto; margin:0; padding: 0}\n",
       ".dl-inline>dt, .dl-inline>dd {float: none; width: auto; display: inline-block}\n",
       ".dl-inline>dt::after {content: \":\\0020\"; padding-right: .5ex}\n",
       ".dl-inline>dt:not(:first-of-type) {padding-left: .5ex}\n",
       "</style><dl class=dl-inline><dt>0%</dt><dd>10</dd><dt>25%</dt><dd>89</dd><dt>50%</dt><dd>115</dd><dt>75%</dt><dd>150</dd><dt>100%</dt><dd>8616</dd></dl>\n"
      ],
      "text/latex": [
       "\\begin{description*}\n",
       "\\item[0\\textbackslash{}\\%] 10\n",
       "\\item[25\\textbackslash{}\\%] 89\n",
       "\\item[50\\textbackslash{}\\%] 115\n",
       "\\item[75\\textbackslash{}\\%] 150\n",
       "\\item[100\\textbackslash{}\\%] 8616\n",
       "\\end{description*}\n"
      ],
      "text/markdown": [
       "0%\n",
       ":   1025%\n",
       ":   8950%\n",
       ":   11575%\n",
       ":   150100%\n",
       ":   8616\n",
       "\n"
      ],
      "text/plain": [
       "  0%  25%  50%  75% 100% \n",
       "  10   89  115  150 8616 "
      ]
     },
     "metadata": {},
     "output_type": "display_data"
    }
   ],
   "source": [
    "#Mean\n",
    "mean(amsterdam$price)\n",
    "\n",
    "# Median\n",
    "median(amsterdam$price)\n",
    "\n",
    "# Standard deviation\n",
    "sd(amsterdam$price)\n",
    "\n",
    "# Min, Max, Range\n",
    "min(amsterdam$price)\n",
    "max(amsterdam$price)\n",
    "range(amsterdam$price)\n",
    "\n",
    "# Quantiles\n",
    "quantile(amsterdam$price)\n"
   ]
  },
  {
   "cell_type": "code",
   "execution_count": 14,
   "id": "c6cf63b8",
   "metadata": {},
   "outputs": [
    {
     "data": {
      "text/plain": [
       "\n",
       "                       Bijlmer-Centrum                           Bijlmer-Oost \n",
       "                                    61                                     72 \n",
       "                         Bos en Lommer                 Buitenveldert - Zuidas \n",
       "                                   695                                    160 \n",
       "                          Centrum-Oost                           Centrum-West \n",
       "                                  1345                                   1878 \n",
       "                De Aker - Nieuw Sloten                 De Baarsjes - Oud-West \n",
       "                                    91                                   2430 \n",
       "               De Pijp - Rivierenbuurt                  Gaasperdam - Driemond \n",
       "                                  1619                                     63 \n",
       "               Geuzenveld - Slotermeer               IJburg - Zeeburgereiland \n",
       "                                   138                                    272 \n",
       "                            Noord-Oost                             Noord-West \n",
       "                                   159                                    186 \n",
       "Oostelijk Havengebied - Indische Buurt                                 Osdorp \n",
       "                                   694                                     99 \n",
       "                             Oud-Noord                               Oud-Oost \n",
       "                                   390                                    806 \n",
       "                           Slotervaart                        Watergraafsmeer \n",
       "                                   280                                    362 \n",
       "                            Westerpark                                   Zuid \n",
       "                                  1029                                   1008 "
      ]
     },
     "metadata": {},
     "output_type": "display_data"
    }
   ],
   "source": [
    "table(amsterdam$neighbourhood_cleansed)"
   ]
  },
  {
   "cell_type": "code",
   "execution_count": 15,
   "id": "95357efd",
   "metadata": {},
   "outputs": [
    {
     "data": {
      "text/plain": [
       "                                        \n",
       "                                            0    1    2    3    4    5    6\n",
       "  Bijlmer-Centrum                           5   54    0    2    0    0    0\n",
       "  Bijlmer-Oost                              3   49   17    3    0    0    0\n",
       "  Bos en Lommer                            49  453  154   35    4    0    0\n",
       "  Buitenveldert - Zuidas                    4   94   40   14    7    1    0\n",
       "  Centrum-Oost                             88  792  333   95   29    6    1\n",
       "  Centrum-West                            164 1167  420   86   32    7    2\n",
       "  De Aker - Nieuw Sloten                    6   48   21   12    4    0    0\n",
       "  De Baarsjes - Oud-West                   80 1607  559  139   36    7    2\n",
       "  De Pijp - Rivierenbuurt                  81  993  409  112   21    3    0\n",
       "  Gaasperdam - Driemond                     0   48    8    5    2    0    0\n",
       "  Geuzenveld - Slotermeer                   0   96   24   10    7    1    0\n",
       "  IJburg - Zeeburgereiland                  9   95   63   58   40    5    0\n",
       "  Noord-Oost                                6   74   33   28   18    0    0\n",
       "  Noord-West                                9   90   43   28   15    0    0\n",
       "  Oostelijk Havengebied - Indische Buurt   26  428  165   55   11    3    3\n",
       "  Osdorp                                    2   66   25    5    1    0    0\n",
       "  Oud-Noord                                18  190   99   54   18    2    1\n",
       "  Oud-Oost                                 27  528  188   49   12    1    0\n",
       "  Slotervaart                               8  175   69   25    3    0    0\n",
       "  Watergraafsmeer                          56  157   71   55   22    1    0\n",
       "  Westerpark                               49  706  204   57    5    1    1\n",
       "  Zuid                                     27  590  246   90   43   10    2\n",
       "                                        \n",
       "                                            7    8    9   10\n",
       "  Bijlmer-Centrum                           0    0    0    0\n",
       "  Bijlmer-Oost                              0    0    0    0\n",
       "  Bos en Lommer                             0    0    0    0\n",
       "  Buitenveldert - Zuidas                    0    0    0    0\n",
       "  Centrum-Oost                              0    0    0    1\n",
       "  Centrum-West                              0    0    0    0\n",
       "  De Aker - Nieuw Sloten                    0    0    0    0\n",
       "  De Baarsjes - Oud-West                    0    0    0    0\n",
       "  De Pijp - Rivierenbuurt                   0    0    0    0\n",
       "  Gaasperdam - Driemond                     0    0    0    0\n",
       "  Geuzenveld - Slotermeer                   0    0    0    0\n",
       "  IJburg - Zeeburgereiland                  0    1    1    0\n",
       "  Noord-Oost                                0    0    0    0\n",
       "  Noord-West                                0    0    0    1\n",
       "  Oostelijk Havengebied - Indische Buurt    0    0    2    1\n",
       "  Osdorp                                    0    0    0    0\n",
       "  Oud-Noord                                 2    2    0    4\n",
       "  Oud-Oost                                  1    0    0    0\n",
       "  Slotervaart                               0    0    0    0\n",
       "  Watergraafsmeer                           0    0    0    0\n",
       "  Westerpark                                1    0    0    5\n",
       "  Zuid                                      0    0    0    0"
      ]
     },
     "metadata": {},
     "output_type": "display_data"
    }
   ],
   "source": [
    "table(amsterdam$neighbourhood_cleansed,amsterdam$bedrooms)"
   ]
  },
  {
   "cell_type": "code",
   "execution_count": 16,
   "id": "ac96aaa3",
   "metadata": {},
   "outputs": [],
   "source": [
    "neigh_bedrooms <- table(amsterdam$neighbourhood_cleansed,amsterdam$bedrooms)"
   ]
  },
  {
   "cell_type": "code",
   "execution_count": 18,
   "id": "5863fb8c",
   "metadata": {},
   "outputs": [
    {
     "data": {
      "text/plain": [
       "\n",
       "                       Bijlmer-Centrum                           Bijlmer-Oost \n",
       "                                    61                                     72 \n",
       "                         Bos en Lommer                 Buitenveldert - Zuidas \n",
       "                                   695                                    160 \n",
       "                          Centrum-Oost                           Centrum-West \n",
       "                                  1345                                   1878 \n",
       "                De Aker - Nieuw Sloten                 De Baarsjes - Oud-West \n",
       "                                    91                                   2430 \n",
       "               De Pijp - Rivierenbuurt                  Gaasperdam - Driemond \n",
       "                                  1619                                     63 \n",
       "               Geuzenveld - Slotermeer               IJburg - Zeeburgereiland \n",
       "                                   138                                    272 \n",
       "                            Noord-Oost                             Noord-West \n",
       "                                   159                                    186 \n",
       "Oostelijk Havengebied - Indische Buurt                                 Osdorp \n",
       "                                   694                                     99 \n",
       "                             Oud-Noord                               Oud-Oost \n",
       "                                   390                                    806 \n",
       "                           Slotervaart                        Watergraafsmeer \n",
       "                                   280                                    362 \n",
       "                            Westerpark                                   Zuid \n",
       "                                  1029                                   1008 "
      ]
     },
     "metadata": {},
     "output_type": "display_data"
    },
    {
     "data": {
      "text/plain": [
       "\n",
       "   0    1    2    3    4    5    6    7    8    9   10 \n",
       " 717 8500 3191 1017  330   48   12    4    3    3   12 "
      ]
     },
     "metadata": {},
     "output_type": "display_data"
    },
    {
     "data": {
      "text/plain": [
       "                                        \n",
       "                                            0    1    2    3    4    5    6\n",
       "  Bijlmer-Centrum                        0.08 0.89 0.00 0.03 0.00 0.00 0.00\n",
       "  Bijlmer-Oost                           0.04 0.68 0.24 0.04 0.00 0.00 0.00\n",
       "  Bos en Lommer                          0.07 0.65 0.22 0.05 0.01 0.00 0.00\n",
       "  Buitenveldert - Zuidas                 0.03 0.59 0.25 0.09 0.04 0.01 0.00\n",
       "  Centrum-Oost                           0.07 0.59 0.25 0.07 0.02 0.00 0.00\n",
       "  Centrum-West                           0.09 0.62 0.22 0.05 0.02 0.00 0.00\n",
       "  De Aker - Nieuw Sloten                 0.07 0.53 0.23 0.13 0.04 0.00 0.00\n",
       "  De Baarsjes - Oud-West                 0.03 0.66 0.23 0.06 0.01 0.00 0.00\n",
       "  De Pijp - Rivierenbuurt                0.05 0.61 0.25 0.07 0.01 0.00 0.00\n",
       "  Gaasperdam - Driemond                  0.00 0.76 0.13 0.08 0.03 0.00 0.00\n",
       "  Geuzenveld - Slotermeer                0.00 0.70 0.17 0.07 0.05 0.01 0.00\n",
       "  IJburg - Zeeburgereiland               0.03 0.35 0.23 0.21 0.15 0.02 0.00\n",
       "  Noord-Oost                             0.04 0.47 0.21 0.18 0.11 0.00 0.00\n",
       "  Noord-West                             0.05 0.48 0.23 0.15 0.08 0.00 0.00\n",
       "  Oostelijk Havengebied - Indische Buurt 0.04 0.62 0.24 0.08 0.02 0.00 0.00\n",
       "  Osdorp                                 0.02 0.67 0.25 0.05 0.01 0.00 0.00\n",
       "  Oud-Noord                              0.05 0.49 0.25 0.14 0.05 0.01 0.00\n",
       "  Oud-Oost                               0.03 0.66 0.23 0.06 0.01 0.00 0.00\n",
       "  Slotervaart                            0.03 0.62 0.25 0.09 0.01 0.00 0.00\n",
       "  Watergraafsmeer                        0.15 0.43 0.20 0.15 0.06 0.00 0.00\n",
       "  Westerpark                             0.05 0.69 0.20 0.06 0.00 0.00 0.00\n",
       "  Zuid                                   0.03 0.59 0.24 0.09 0.04 0.01 0.00\n",
       "                                        \n",
       "                                            7    8    9   10\n",
       "  Bijlmer-Centrum                        0.00 0.00 0.00 0.00\n",
       "  Bijlmer-Oost                           0.00 0.00 0.00 0.00\n",
       "  Bos en Lommer                          0.00 0.00 0.00 0.00\n",
       "  Buitenveldert - Zuidas                 0.00 0.00 0.00 0.00\n",
       "  Centrum-Oost                           0.00 0.00 0.00 0.00\n",
       "  Centrum-West                           0.00 0.00 0.00 0.00\n",
       "  De Aker - Nieuw Sloten                 0.00 0.00 0.00 0.00\n",
       "  De Baarsjes - Oud-West                 0.00 0.00 0.00 0.00\n",
       "  De Pijp - Rivierenbuurt                0.00 0.00 0.00 0.00\n",
       "  Gaasperdam - Driemond                  0.00 0.00 0.00 0.00\n",
       "  Geuzenveld - Slotermeer                0.00 0.00 0.00 0.00\n",
       "  IJburg - Zeeburgereiland               0.00 0.00 0.00 0.00\n",
       "  Noord-Oost                             0.00 0.00 0.00 0.00\n",
       "  Noord-West                             0.00 0.00 0.00 0.01\n",
       "  Oostelijk Havengebied - Indische Buurt 0.00 0.00 0.00 0.00\n",
       "  Osdorp                                 0.00 0.00 0.00 0.00\n",
       "  Oud-Noord                              0.01 0.01 0.00 0.01\n",
       "  Oud-Oost                               0.00 0.00 0.00 0.00\n",
       "  Slotervaart                            0.00 0.00 0.00 0.00\n",
       "  Watergraafsmeer                        0.00 0.00 0.00 0.00\n",
       "  Westerpark                             0.00 0.00 0.00 0.00\n",
       "  Zuid                                   0.00 0.00 0.00 0.00"
      ]
     },
     "metadata": {},
     "output_type": "display_data"
    },
    {
     "data": {
      "text/plain": [
       "                                        \n",
       "                                            0    1    2    3    4    5    6\n",
       "  Bijlmer-Centrum                        0.01 0.01 0.00 0.00 0.00 0.00 0.00\n",
       "  Bijlmer-Oost                           0.00 0.01 0.01 0.00 0.00 0.00 0.00\n",
       "  Bos en Lommer                          0.07 0.05 0.05 0.03 0.01 0.00 0.00\n",
       "  Buitenveldert - Zuidas                 0.01 0.01 0.01 0.01 0.02 0.02 0.00\n",
       "  Centrum-Oost                           0.12 0.09 0.10 0.09 0.09 0.12 0.08\n",
       "  Centrum-West                           0.23 0.14 0.13 0.08 0.10 0.15 0.17\n",
       "  De Aker - Nieuw Sloten                 0.01 0.01 0.01 0.01 0.01 0.00 0.00\n",
       "  De Baarsjes - Oud-West                 0.11 0.19 0.18 0.14 0.11 0.15 0.17\n",
       "  De Pijp - Rivierenbuurt                0.11 0.12 0.13 0.11 0.06 0.06 0.00\n",
       "  Gaasperdam - Driemond                  0.00 0.01 0.00 0.00 0.01 0.00 0.00\n",
       "  Geuzenveld - Slotermeer                0.00 0.01 0.01 0.01 0.02 0.02 0.00\n",
       "  IJburg - Zeeburgereiland               0.01 0.01 0.02 0.06 0.12 0.10 0.00\n",
       "  Noord-Oost                             0.01 0.01 0.01 0.03 0.05 0.00 0.00\n",
       "  Noord-West                             0.01 0.01 0.01 0.03 0.05 0.00 0.00\n",
       "  Oostelijk Havengebied - Indische Buurt 0.04 0.05 0.05 0.05 0.03 0.06 0.25\n",
       "  Osdorp                                 0.00 0.01 0.01 0.00 0.00 0.00 0.00\n",
       "  Oud-Noord                              0.03 0.02 0.03 0.05 0.05 0.04 0.08\n",
       "  Oud-Oost                               0.04 0.06 0.06 0.05 0.04 0.02 0.00\n",
       "  Slotervaart                            0.01 0.02 0.02 0.02 0.01 0.00 0.00\n",
       "  Watergraafsmeer                        0.08 0.02 0.02 0.05 0.07 0.02 0.00\n",
       "  Westerpark                             0.07 0.08 0.06 0.06 0.02 0.02 0.08\n",
       "  Zuid                                   0.04 0.07 0.08 0.09 0.13 0.21 0.17\n",
       "                                        \n",
       "                                            7    8    9   10\n",
       "  Bijlmer-Centrum                        0.00 0.00 0.00 0.00\n",
       "  Bijlmer-Oost                           0.00 0.00 0.00 0.00\n",
       "  Bos en Lommer                          0.00 0.00 0.00 0.00\n",
       "  Buitenveldert - Zuidas                 0.00 0.00 0.00 0.00\n",
       "  Centrum-Oost                           0.00 0.00 0.00 0.08\n",
       "  Centrum-West                           0.00 0.00 0.00 0.00\n",
       "  De Aker - Nieuw Sloten                 0.00 0.00 0.00 0.00\n",
       "  De Baarsjes - Oud-West                 0.00 0.00 0.00 0.00\n",
       "  De Pijp - Rivierenbuurt                0.00 0.00 0.00 0.00\n",
       "  Gaasperdam - Driemond                  0.00 0.00 0.00 0.00\n",
       "  Geuzenveld - Slotermeer                0.00 0.00 0.00 0.00\n",
       "  IJburg - Zeeburgereiland               0.00 0.33 0.33 0.00\n",
       "  Noord-Oost                             0.00 0.00 0.00 0.00\n",
       "  Noord-West                             0.00 0.00 0.00 0.08\n",
       "  Oostelijk Havengebied - Indische Buurt 0.00 0.00 0.67 0.08\n",
       "  Osdorp                                 0.00 0.00 0.00 0.00\n",
       "  Oud-Noord                              0.50 0.67 0.00 0.33\n",
       "  Oud-Oost                               0.25 0.00 0.00 0.00\n",
       "  Slotervaart                            0.00 0.00 0.00 0.00\n",
       "  Watergraafsmeer                        0.00 0.00 0.00 0.00\n",
       "  Westerpark                             0.25 0.00 0.00 0.42\n",
       "  Zuid                                   0.00 0.00 0.00 0.00"
      ]
     },
     "metadata": {},
     "output_type": "display_data"
    }
   ],
   "source": [
    "# Row frequencies\n",
    "margin.table(neigh_bedrooms,1)\n",
    "# Column frequencies\n",
    "margin.table(neigh_bedrooms,2)\n",
    "# Row percentages\n",
    "round(prop.table(neigh_bedrooms,1),2)\n",
    "# Column percentages\n",
    "round(prop.table(neigh_bedrooms,2),2)\n"
   ]
  },
  {
   "cell_type": "code",
   "execution_count": 19,
   "id": "a7f8a622",
   "metadata": {},
   "outputs": [],
   "source": [
    "neigh_bedrooms_DF <- as.data.frame(neigh_bedrooms)"
   ]
  },
  {
   "cell_type": "code",
   "execution_count": 20,
   "id": "770b3e8a",
   "metadata": {},
   "outputs": [
    {
     "data": {
      "text/html": [
       "<table class=\"dataframe\">\n",
       "<caption>A data.frame: 6 × 3</caption>\n",
       "<thead>\n",
       "\t<tr><th></th><th scope=col>Var1</th><th scope=col>Var2</th><th scope=col>Freq</th></tr>\n",
       "\t<tr><th></th><th scope=col>&lt;fct&gt;</th><th scope=col>&lt;fct&gt;</th><th scope=col>&lt;int&gt;</th></tr>\n",
       "</thead>\n",
       "<tbody>\n",
       "\t<tr><th scope=row>1</th><td>Bijlmer-Centrum       </td><td>0</td><td>  5</td></tr>\n",
       "\t<tr><th scope=row>2</th><td>Bijlmer-Oost          </td><td>0</td><td>  3</td></tr>\n",
       "\t<tr><th scope=row>3</th><td>Bos en Lommer         </td><td>0</td><td> 49</td></tr>\n",
       "\t<tr><th scope=row>4</th><td>Buitenveldert - Zuidas</td><td>0</td><td>  4</td></tr>\n",
       "\t<tr><th scope=row>5</th><td>Centrum-Oost          </td><td>0</td><td> 88</td></tr>\n",
       "\t<tr><th scope=row>6</th><td>Centrum-West          </td><td>0</td><td>164</td></tr>\n",
       "</tbody>\n",
       "</table>\n"
      ],
      "text/latex": [
       "A data.frame: 6 × 3\n",
       "\\begin{tabular}{r|lll}\n",
       "  & Var1 & Var2 & Freq\\\\\n",
       "  & <fct> & <fct> & <int>\\\\\n",
       "\\hline\n",
       "\t1 & Bijlmer-Centrum        & 0 &   5\\\\\n",
       "\t2 & Bijlmer-Oost           & 0 &   3\\\\\n",
       "\t3 & Bos en Lommer          & 0 &  49\\\\\n",
       "\t4 & Buitenveldert - Zuidas & 0 &   4\\\\\n",
       "\t5 & Centrum-Oost           & 0 &  88\\\\\n",
       "\t6 & Centrum-West           & 0 & 164\\\\\n",
       "\\end{tabular}\n"
      ],
      "text/markdown": [
       "\n",
       "A data.frame: 6 × 3\n",
       "\n",
       "| <!--/--> | Var1 &lt;fct&gt; | Var2 &lt;fct&gt; | Freq &lt;int&gt; |\n",
       "|---|---|---|---|\n",
       "| 1 | Bijlmer-Centrum        | 0 |   5 |\n",
       "| 2 | Bijlmer-Oost           | 0 |   3 |\n",
       "| 3 | Bos en Lommer          | 0 |  49 |\n",
       "| 4 | Buitenveldert - Zuidas | 0 |   4 |\n",
       "| 5 | Centrum-Oost           | 0 |  88 |\n",
       "| 6 | Centrum-West           | 0 | 164 |\n",
       "\n"
      ],
      "text/plain": [
       "  Var1                   Var2 Freq\n",
       "1 Bijlmer-Centrum        0      5 \n",
       "2 Bijlmer-Oost           0      3 \n",
       "3 Bos en Lommer          0     49 \n",
       "4 Buitenveldert - Zuidas 0      4 \n",
       "5 Centrum-Oost           0     88 \n",
       "6 Centrum-West           0    164 "
      ]
     },
     "metadata": {},
     "output_type": "display_data"
    }
   ],
   "source": [
    "head(neigh_bedrooms_DF)"
   ]
  },
  {
   "cell_type": "code",
   "execution_count": 21,
   "id": "4009524c",
   "metadata": {},
   "outputs": [
    {
     "data": {
      "text/html": [
       "<table class=\"dataframe\">\n",
       "<caption>A data.frame: 6 × 3</caption>\n",
       "<thead>\n",
       "\t<tr><th></th><th scope=col>Var1</th><th scope=col>Var2</th><th scope=col>Freq</th></tr>\n",
       "\t<tr><th></th><th scope=col>&lt;fct&gt;</th><th scope=col>&lt;fct&gt;</th><th scope=col>&lt;int&gt;</th></tr>\n",
       "</thead>\n",
       "<tbody>\n",
       "\t<tr><th scope=row>1</th><td>Bijlmer-Centrum       </td><td>0</td><td>  5</td></tr>\n",
       "\t<tr><th scope=row>2</th><td>Bijlmer-Oost          </td><td>0</td><td>  3</td></tr>\n",
       "\t<tr><th scope=row>3</th><td>Bos en Lommer         </td><td>0</td><td> 49</td></tr>\n",
       "\t<tr><th scope=row>4</th><td>Buitenveldert - Zuidas</td><td>0</td><td>  4</td></tr>\n",
       "\t<tr><th scope=row>5</th><td>Centrum-Oost          </td><td>0</td><td> 88</td></tr>\n",
       "\t<tr><th scope=row>6</th><td>Centrum-West          </td><td>0</td><td>164</td></tr>\n",
       "</tbody>\n",
       "</table>\n"
      ],
      "text/latex": [
       "A data.frame: 6 × 3\n",
       "\\begin{tabular}{r|lll}\n",
       "  & Var1 & Var2 & Freq\\\\\n",
       "  & <fct> & <fct> & <int>\\\\\n",
       "\\hline\n",
       "\t1 & Bijlmer-Centrum        & 0 &   5\\\\\n",
       "\t2 & Bijlmer-Oost           & 0 &   3\\\\\n",
       "\t3 & Bos en Lommer          & 0 &  49\\\\\n",
       "\t4 & Buitenveldert - Zuidas & 0 &   4\\\\\n",
       "\t5 & Centrum-Oost           & 0 &  88\\\\\n",
       "\t6 & Centrum-West           & 0 & 164\\\\\n",
       "\\end{tabular}\n"
      ],
      "text/markdown": [
       "\n",
       "A data.frame: 6 × 3\n",
       "\n",
       "| <!--/--> | Var1 &lt;fct&gt; | Var2 &lt;fct&gt; | Freq &lt;int&gt; |\n",
       "|---|---|---|---|\n",
       "| 1 | Bijlmer-Centrum        | 0 |   5 |\n",
       "| 2 | Bijlmer-Oost           | 0 |   3 |\n",
       "| 3 | Bos en Lommer          | 0 |  49 |\n",
       "| 4 | Buitenveldert - Zuidas | 0 |   4 |\n",
       "| 5 | Centrum-Oost           | 0 |  88 |\n",
       "| 6 | Centrum-West           | 0 | 164 |\n",
       "\n"
      ],
      "text/plain": [
       "  Var1                   Var2 Freq\n",
       "1 Bijlmer-Centrum        0      5 \n",
       "2 Bijlmer-Oost           0      3 \n",
       "3 Bos en Lommer          0     49 \n",
       "4 Buitenveldert - Zuidas 0      4 \n",
       "5 Centrum-Oost           0     88 \n",
       "6 Centrum-West           0    164 "
      ]
     },
     "metadata": {},
     "output_type": "display_data"
    }
   ],
   "source": [
    "head(neigh_bedrooms_DF)"
   ]
  },
  {
   "cell_type": "code",
   "execution_count": 22,
   "id": "2cf9f12b",
   "metadata": {},
   "outputs": [
    {
     "data": {
      "text/html": [
       "<table class=\"dataframe\">\n",
       "<caption>A data.frame: 6 × 3</caption>\n",
       "<thead>\n",
       "\t<tr><th></th><th scope=col>Var1</th><th scope=col>Var2</th><th scope=col>Freq</th></tr>\n",
       "\t<tr><th></th><th scope=col>&lt;fct&gt;</th><th scope=col>&lt;fct&gt;</th><th scope=col>&lt;int&gt;</th></tr>\n",
       "</thead>\n",
       "<tbody>\n",
       "\t<tr><th scope=row>1</th><td>Bijlmer-Centrum       </td><td>0</td><td>  5</td></tr>\n",
       "\t<tr><th scope=row>2</th><td>Bijlmer-Oost          </td><td>0</td><td>  3</td></tr>\n",
       "\t<tr><th scope=row>3</th><td>Bos en Lommer         </td><td>0</td><td> 49</td></tr>\n",
       "\t<tr><th scope=row>4</th><td>Buitenveldert - Zuidas</td><td>0</td><td>  4</td></tr>\n",
       "\t<tr><th scope=row>5</th><td>Centrum-Oost          </td><td>0</td><td> 88</td></tr>\n",
       "\t<tr><th scope=row>6</th><td>Centrum-West          </td><td>0</td><td>164</td></tr>\n",
       "</tbody>\n",
       "</table>\n"
      ],
      "text/latex": [
       "A data.frame: 6 × 3\n",
       "\\begin{tabular}{r|lll}\n",
       "  & Var1 & Var2 & Freq\\\\\n",
       "  & <fct> & <fct> & <int>\\\\\n",
       "\\hline\n",
       "\t1 & Bijlmer-Centrum        & 0 &   5\\\\\n",
       "\t2 & Bijlmer-Oost           & 0 &   3\\\\\n",
       "\t3 & Bos en Lommer          & 0 &  49\\\\\n",
       "\t4 & Buitenveldert - Zuidas & 0 &   4\\\\\n",
       "\t5 & Centrum-Oost           & 0 &  88\\\\\n",
       "\t6 & Centrum-West           & 0 & 164\\\\\n",
       "\\end{tabular}\n"
      ],
      "text/markdown": [
       "\n",
       "A data.frame: 6 × 3\n",
       "\n",
       "| <!--/--> | Var1 &lt;fct&gt; | Var2 &lt;fct&gt; | Freq &lt;int&gt; |\n",
       "|---|---|---|---|\n",
       "| 1 | Bijlmer-Centrum        | 0 |   5 |\n",
       "| 2 | Bijlmer-Oost           | 0 |   3 |\n",
       "| 3 | Bos en Lommer          | 0 |  49 |\n",
       "| 4 | Buitenveldert - Zuidas | 0 |   4 |\n",
       "| 5 | Centrum-Oost           | 0 |  88 |\n",
       "| 6 | Centrum-West           | 0 | 164 |\n",
       "\n"
      ],
      "text/plain": [
       "  Var1                   Var2 Freq\n",
       "1 Bijlmer-Centrum        0      5 \n",
       "2 Bijlmer-Oost           0      3 \n",
       "3 Bos en Lommer          0     49 \n",
       "4 Buitenveldert - Zuidas 0      4 \n",
       "5 Centrum-Oost           0     88 \n",
       "6 Centrum-West           0    164 "
      ]
     },
     "metadata": {},
     "output_type": "display_data"
    }
   ],
   "source": [
    "head(neigh_bedrooms_DF)"
   ]
  },
  {
   "cell_type": "code",
   "execution_count": 23,
   "id": "4bc98b17",
   "metadata": {},
   "outputs": [
    {
     "data": {
      "text/html": [
       "<table class=\"dataframe\">\n",
       "<caption>A data.frame: 22 × 2</caption>\n",
       "<thead>\n",
       "\t<tr><th scope=col>Group.1</th><th scope=col>x</th></tr>\n",
       "\t<tr><th scope=col>&lt;chr&gt;</th><th scope=col>&lt;dbl&gt;</th></tr>\n",
       "</thead>\n",
       "<tbody>\n",
       "\t<tr><td>Bijlmer-Centrum                       </td><td> 56.57377</td></tr>\n",
       "\t<tr><td>Bijlmer-Oost                          </td><td> 72.65278</td></tr>\n",
       "\t<tr><td>Bos en Lommer                         </td><td> 99.66619</td></tr>\n",
       "\t<tr><td>Buitenveldert - Zuidas                </td><td>118.14375</td></tr>\n",
       "\t<tr><td>Centrum-Oost                          </td><td>160.51747</td></tr>\n",
       "\t<tr><td>Centrum-West                          </td><td>168.88765</td></tr>\n",
       "\t<tr><td>De Aker - Nieuw Sloten                </td><td>119.82418</td></tr>\n",
       "\t<tr><td>De Baarsjes - Oud-West                </td><td>124.60823</td></tr>\n",
       "\t<tr><td>De Pijp - Rivierenbuurt               </td><td>131.37122</td></tr>\n",
       "\t<tr><td>Gaasperdam - Driemond                 </td><td> 79.25397</td></tr>\n",
       "\t<tr><td>Geuzenveld - Slotermeer               </td><td> 96.89130</td></tr>\n",
       "\t<tr><td>IJburg - Zeeburgereiland              </td><td>141.01471</td></tr>\n",
       "\t<tr><td>Noord-Oost                            </td><td>113.18868</td></tr>\n",
       "\t<tr><td>Noord-West                            </td><td> 99.44086</td></tr>\n",
       "\t<tr><td>Oostelijk Havengebied - Indische Buurt</td><td>118.76369</td></tr>\n",
       "\t<tr><td>Osdorp                                </td><td> 94.51515</td></tr>\n",
       "\t<tr><td>Oud-Noord                             </td><td>127.27949</td></tr>\n",
       "\t<tr><td>Oud-Oost                              </td><td>120.61663</td></tr>\n",
       "\t<tr><td>Slotervaart                           </td><td> 95.60357</td></tr>\n",
       "\t<tr><td>Watergraafsmeer                       </td><td>123.14088</td></tr>\n",
       "\t<tr><td>Westerpark                            </td><td>122.60836</td></tr>\n",
       "\t<tr><td>Zuid                                  </td><td>151.09524</td></tr>\n",
       "</tbody>\n",
       "</table>\n"
      ],
      "text/latex": [
       "A data.frame: 22 × 2\n",
       "\\begin{tabular}{ll}\n",
       " Group.1 & x\\\\\n",
       " <chr> & <dbl>\\\\\n",
       "\\hline\n",
       "\t Bijlmer-Centrum                        &  56.57377\\\\\n",
       "\t Bijlmer-Oost                           &  72.65278\\\\\n",
       "\t Bos en Lommer                          &  99.66619\\\\\n",
       "\t Buitenveldert - Zuidas                 & 118.14375\\\\\n",
       "\t Centrum-Oost                           & 160.51747\\\\\n",
       "\t Centrum-West                           & 168.88765\\\\\n",
       "\t De Aker - Nieuw Sloten                 & 119.82418\\\\\n",
       "\t De Baarsjes - Oud-West                 & 124.60823\\\\\n",
       "\t De Pijp - Rivierenbuurt                & 131.37122\\\\\n",
       "\t Gaasperdam - Driemond                  &  79.25397\\\\\n",
       "\t Geuzenveld - Slotermeer                &  96.89130\\\\\n",
       "\t IJburg - Zeeburgereiland               & 141.01471\\\\\n",
       "\t Noord-Oost                             & 113.18868\\\\\n",
       "\t Noord-West                             &  99.44086\\\\\n",
       "\t Oostelijk Havengebied - Indische Buurt & 118.76369\\\\\n",
       "\t Osdorp                                 &  94.51515\\\\\n",
       "\t Oud-Noord                              & 127.27949\\\\\n",
       "\t Oud-Oost                               & 120.61663\\\\\n",
       "\t Slotervaart                            &  95.60357\\\\\n",
       "\t Watergraafsmeer                        & 123.14088\\\\\n",
       "\t Westerpark                             & 122.60836\\\\\n",
       "\t Zuid                                   & 151.09524\\\\\n",
       "\\end{tabular}\n"
      ],
      "text/markdown": [
       "\n",
       "A data.frame: 22 × 2\n",
       "\n",
       "| Group.1 &lt;chr&gt; | x &lt;dbl&gt; |\n",
       "|---|---|\n",
       "| Bijlmer-Centrum                        |  56.57377 |\n",
       "| Bijlmer-Oost                           |  72.65278 |\n",
       "| Bos en Lommer                          |  99.66619 |\n",
       "| Buitenveldert - Zuidas                 | 118.14375 |\n",
       "| Centrum-Oost                           | 160.51747 |\n",
       "| Centrum-West                           | 168.88765 |\n",
       "| De Aker - Nieuw Sloten                 | 119.82418 |\n",
       "| De Baarsjes - Oud-West                 | 124.60823 |\n",
       "| De Pijp - Rivierenbuurt                | 131.37122 |\n",
       "| Gaasperdam - Driemond                  |  79.25397 |\n",
       "| Geuzenveld - Slotermeer                |  96.89130 |\n",
       "| IJburg - Zeeburgereiland               | 141.01471 |\n",
       "| Noord-Oost                             | 113.18868 |\n",
       "| Noord-West                             |  99.44086 |\n",
       "| Oostelijk Havengebied - Indische Buurt | 118.76369 |\n",
       "| Osdorp                                 |  94.51515 |\n",
       "| Oud-Noord                              | 127.27949 |\n",
       "| Oud-Oost                               | 120.61663 |\n",
       "| Slotervaart                            |  95.60357 |\n",
       "| Watergraafsmeer                        | 123.14088 |\n",
       "| Westerpark                             | 122.60836 |\n",
       "| Zuid                                   | 151.09524 |\n",
       "\n"
      ],
      "text/plain": [
       "   Group.1                                x        \n",
       "1  Bijlmer-Centrum                         56.57377\n",
       "2  Bijlmer-Oost                            72.65278\n",
       "3  Bos en Lommer                           99.66619\n",
       "4  Buitenveldert - Zuidas                 118.14375\n",
       "5  Centrum-Oost                           160.51747\n",
       "6  Centrum-West                           168.88765\n",
       "7  De Aker - Nieuw Sloten                 119.82418\n",
       "8  De Baarsjes - Oud-West                 124.60823\n",
       "9  De Pijp - Rivierenbuurt                131.37122\n",
       "10 Gaasperdam - Driemond                   79.25397\n",
       "11 Geuzenveld - Slotermeer                 96.89130\n",
       "12 IJburg - Zeeburgereiland               141.01471\n",
       "13 Noord-Oost                             113.18868\n",
       "14 Noord-West                              99.44086\n",
       "15 Oostelijk Havengebied - Indische Buurt 118.76369\n",
       "16 Osdorp                                  94.51515\n",
       "17 Oud-Noord                              127.27949\n",
       "18 Oud-Oost                               120.61663\n",
       "19 Slotervaart                             95.60357\n",
       "20 Watergraafsmeer                        123.14088\n",
       "21 Westerpark                             122.60836\n",
       "22 Zuid                                   151.09524"
      ]
     },
     "metadata": {},
     "output_type": "display_data"
    }
   ],
   "source": [
    "aggregate(x=amsterdam[,\"price\"],by=list(amsterdam[,\"neighbourhood_cleansed\"]),FUN=mean)"
   ]
  },
  {
   "cell_type": "code",
   "execution_count": 24,
   "id": "d4f5dbbd",
   "metadata": {},
   "outputs": [
    {
     "data": {
      "text/html": [
       "<table class=\"dataframe\">\n",
       "<caption>A data.frame: 186 × 3</caption>\n",
       "<thead>\n",
       "\t<tr><th scope=col>Group.1</th><th scope=col>Group.2</th><th scope=col>x</th></tr>\n",
       "\t<tr><th scope=col>&lt;chr&gt;</th><th scope=col>&lt;chr&gt;</th><th scope=col>&lt;dbl&gt;</th></tr>\n",
       "</thead>\n",
       "<tbody>\n",
       "\t<tr><td>Bijlmer-Centrum                       </td><td>Apartment      </td><td> 59.37209</td></tr>\n",
       "\t<tr><td>Bijlmer-Oost                          </td><td>Apartment      </td><td> 78.51020</td></tr>\n",
       "\t<tr><td>Bos en Lommer                         </td><td>Apartment      </td><td> 97.92552</td></tr>\n",
       "\t<tr><td>Buitenveldert - Zuidas                </td><td>Apartment      </td><td>111.80303</td></tr>\n",
       "\t<tr><td>Centrum-Oost                          </td><td>Apartment      </td><td>151.46565</td></tr>\n",
       "\t<tr><td>Centrum-West                          </td><td>Apartment      </td><td>165.51986</td></tr>\n",
       "\t<tr><td>De Aker - Nieuw Sloten                </td><td>Apartment      </td><td>103.21212</td></tr>\n",
       "\t<tr><td>De Baarsjes - Oud-West                </td><td>Apartment      </td><td>121.14313</td></tr>\n",
       "\t<tr><td>De Pijp - Rivierenbuurt               </td><td>Apartment      </td><td>130.41432</td></tr>\n",
       "\t<tr><td>Gaasperdam - Driemond                 </td><td>Apartment      </td><td> 75.65625</td></tr>\n",
       "\t<tr><td>Geuzenveld - Slotermeer               </td><td>Apartment      </td><td> 94.73810</td></tr>\n",
       "\t<tr><td>IJburg - Zeeburgereiland              </td><td>Apartment      </td><td>113.75630</td></tr>\n",
       "\t<tr><td>Noord-Oost                            </td><td>Apartment      </td><td> 83.62500</td></tr>\n",
       "\t<tr><td>Noord-West                            </td><td>Apartment      </td><td> 78.64706</td></tr>\n",
       "\t<tr><td>Oostelijk Havengebied - Indische Buurt</td><td>Apartment      </td><td>103.90018</td></tr>\n",
       "\t<tr><td>Osdorp                                </td><td>Apartment      </td><td> 93.61905</td></tr>\n",
       "\t<tr><td>Oud-Noord                             </td><td>Apartment      </td><td>105.11806</td></tr>\n",
       "\t<tr><td>Oud-Oost                              </td><td>Apartment      </td><td>116.73039</td></tr>\n",
       "\t<tr><td>Slotervaart                           </td><td>Apartment      </td><td> 92.32174</td></tr>\n",
       "\t<tr><td>Watergraafsmeer                       </td><td>Apartment      </td><td>113.26693</td></tr>\n",
       "\t<tr><td>Westerpark                            </td><td>Apartment      </td><td>118.00446</td></tr>\n",
       "\t<tr><td>Zuid                                  </td><td>Apartment      </td><td>145.04813</td></tr>\n",
       "\t<tr><td><span style=white-space:pre-wrap>Bijlmer-Centrum                       </span></td><td>Bed &amp; Breakfast</td><td> 55.00000</td></tr>\n",
       "\t<tr><td><span style=white-space:pre-wrap>Bijlmer-Oost                          </span></td><td>Bed &amp; Breakfast</td><td> 70.00000</td></tr>\n",
       "\t<tr><td><span style=white-space:pre-wrap>Bos en Lommer                         </span></td><td>Bed &amp; Breakfast</td><td> 70.80000</td></tr>\n",
       "\t<tr><td><span style=white-space:pre-wrap>Buitenveldert - Zuidas                </span></td><td>Bed &amp; Breakfast</td><td> 70.00000</td></tr>\n",
       "\t<tr><td><span style=white-space:pre-wrap>Centrum-Oost                          </span></td><td>Bed &amp; Breakfast</td><td>122.85714</td></tr>\n",
       "\t<tr><td><span style=white-space:pre-wrap>Centrum-West                          </span></td><td>Bed &amp; Breakfast</td><td>140.61404</td></tr>\n",
       "\t<tr><td><span style=white-space:pre-wrap>De Aker - Nieuw Sloten                </span></td><td>Bed &amp; Breakfast</td><td> 86.83333</td></tr>\n",
       "\t<tr><td><span style=white-space:pre-wrap>De Baarsjes - Oud-West                </span></td><td>Bed &amp; Breakfast</td><td> 92.00000</td></tr>\n",
       "\t<tr><td>⋮</td><td>⋮</td><td>⋮</td></tr>\n",
       "\t<tr><td>Watergraafsmeer                       </td><td>Other    </td><td>123.25000</td></tr>\n",
       "\t<tr><td>Westerpark                            </td><td>Other    </td><td> 63.00000</td></tr>\n",
       "\t<tr><td>Zuid                                  </td><td>Other    </td><td> 87.50000</td></tr>\n",
       "\t<tr><td>Watergraafsmeer                       </td><td>Tent     </td><td> 20.00000</td></tr>\n",
       "\t<tr><td>Bijlmer-Oost                          </td><td>Townhouse</td><td> 77.00000</td></tr>\n",
       "\t<tr><td>Bos en Lommer                         </td><td>Townhouse</td><td>120.83333</td></tr>\n",
       "\t<tr><td>Centrum-Oost                          </td><td>Townhouse</td><td>229.76471</td></tr>\n",
       "\t<tr><td>Centrum-West                          </td><td>Townhouse</td><td>171.96552</td></tr>\n",
       "\t<tr><td>De Aker - Nieuw Sloten                </td><td>Townhouse</td><td>181.00000</td></tr>\n",
       "\t<tr><td>De Baarsjes - Oud-West                </td><td>Townhouse</td><td>187.37500</td></tr>\n",
       "\t<tr><td>De Pijp - Rivierenbuurt               </td><td>Townhouse</td><td>121.30000</td></tr>\n",
       "\t<tr><td>IJburg - Zeeburgereiland              </td><td>Townhouse</td><td>114.14286</td></tr>\n",
       "\t<tr><td>Noord-Oost                            </td><td>Townhouse</td><td> 54.66667</td></tr>\n",
       "\t<tr><td>Noord-West                            </td><td>Townhouse</td><td>108.00000</td></tr>\n",
       "\t<tr><td>Oostelijk Havengebied - Indische Buurt</td><td>Townhouse</td><td> 89.33333</td></tr>\n",
       "\t<tr><td>Oud-Noord                             </td><td>Townhouse</td><td> 94.20000</td></tr>\n",
       "\t<tr><td>Oud-Oost                              </td><td>Townhouse</td><td>160.75000</td></tr>\n",
       "\t<tr><td>Slotervaart                           </td><td>Townhouse</td><td>175.50000</td></tr>\n",
       "\t<tr><td>Watergraafsmeer                       </td><td>Townhouse</td><td>140.25000</td></tr>\n",
       "\t<tr><td>Westerpark                            </td><td>Townhouse</td><td> 75.66667</td></tr>\n",
       "\t<tr><td>Zuid                                  </td><td>Townhouse</td><td>194.26667</td></tr>\n",
       "\t<tr><td>Buitenveldert - Zuidas                </td><td>Villa    </td><td> 93.00000</td></tr>\n",
       "\t<tr><td>Centrum-Oost                          </td><td>Villa    </td><td>276.00000</td></tr>\n",
       "\t<tr><td>De Aker - Nieuw Sloten                </td><td>Villa    </td><td>200.00000</td></tr>\n",
       "\t<tr><td>De Pijp - Rivierenbuurt               </td><td>Villa    </td><td> 85.00000</td></tr>\n",
       "\t<tr><td>IJburg - Zeeburgereiland              </td><td>Villa    </td><td>203.92308</td></tr>\n",
       "\t<tr><td>Noord-Oost                            </td><td>Villa    </td><td> 95.00000</td></tr>\n",
       "\t<tr><td>Noord-West                            </td><td>Villa    </td><td> 85.16667</td></tr>\n",
       "\t<tr><td>Oud-Noord                             </td><td>Villa    </td><td> 85.00000</td></tr>\n",
       "\t<tr><td>Gaasperdam - Driemond                 </td><td>Yurt     </td><td> 85.00000</td></tr>\n",
       "</tbody>\n",
       "</table>\n"
      ],
      "text/latex": [
       "A data.frame: 186 × 3\n",
       "\\begin{tabular}{lll}\n",
       " Group.1 & Group.2 & x\\\\\n",
       " <chr> & <chr> & <dbl>\\\\\n",
       "\\hline\n",
       "\t Bijlmer-Centrum                        & Apartment       &  59.37209\\\\\n",
       "\t Bijlmer-Oost                           & Apartment       &  78.51020\\\\\n",
       "\t Bos en Lommer                          & Apartment       &  97.92552\\\\\n",
       "\t Buitenveldert - Zuidas                 & Apartment       & 111.80303\\\\\n",
       "\t Centrum-Oost                           & Apartment       & 151.46565\\\\\n",
       "\t Centrum-West                           & Apartment       & 165.51986\\\\\n",
       "\t De Aker - Nieuw Sloten                 & Apartment       & 103.21212\\\\\n",
       "\t De Baarsjes - Oud-West                 & Apartment       & 121.14313\\\\\n",
       "\t De Pijp - Rivierenbuurt                & Apartment       & 130.41432\\\\\n",
       "\t Gaasperdam - Driemond                  & Apartment       &  75.65625\\\\\n",
       "\t Geuzenveld - Slotermeer                & Apartment       &  94.73810\\\\\n",
       "\t IJburg - Zeeburgereiland               & Apartment       & 113.75630\\\\\n",
       "\t Noord-Oost                             & Apartment       &  83.62500\\\\\n",
       "\t Noord-West                             & Apartment       &  78.64706\\\\\n",
       "\t Oostelijk Havengebied - Indische Buurt & Apartment       & 103.90018\\\\\n",
       "\t Osdorp                                 & Apartment       &  93.61905\\\\\n",
       "\t Oud-Noord                              & Apartment       & 105.11806\\\\\n",
       "\t Oud-Oost                               & Apartment       & 116.73039\\\\\n",
       "\t Slotervaart                            & Apartment       &  92.32174\\\\\n",
       "\t Watergraafsmeer                        & Apartment       & 113.26693\\\\\n",
       "\t Westerpark                             & Apartment       & 118.00446\\\\\n",
       "\t Zuid                                   & Apartment       & 145.04813\\\\\n",
       "\t Bijlmer-Centrum                        & Bed \\& Breakfast &  55.00000\\\\\n",
       "\t Bijlmer-Oost                           & Bed \\& Breakfast &  70.00000\\\\\n",
       "\t Bos en Lommer                          & Bed \\& Breakfast &  70.80000\\\\\n",
       "\t Buitenveldert - Zuidas                 & Bed \\& Breakfast &  70.00000\\\\\n",
       "\t Centrum-Oost                           & Bed \\& Breakfast & 122.85714\\\\\n",
       "\t Centrum-West                           & Bed \\& Breakfast & 140.61404\\\\\n",
       "\t De Aker - Nieuw Sloten                 & Bed \\& Breakfast &  86.83333\\\\\n",
       "\t De Baarsjes - Oud-West                 & Bed \\& Breakfast &  92.00000\\\\\n",
       "\t ⋮ & ⋮ & ⋮\\\\\n",
       "\t Watergraafsmeer                        & Other     & 123.25000\\\\\n",
       "\t Westerpark                             & Other     &  63.00000\\\\\n",
       "\t Zuid                                   & Other     &  87.50000\\\\\n",
       "\t Watergraafsmeer                        & Tent      &  20.00000\\\\\n",
       "\t Bijlmer-Oost                           & Townhouse &  77.00000\\\\\n",
       "\t Bos en Lommer                          & Townhouse & 120.83333\\\\\n",
       "\t Centrum-Oost                           & Townhouse & 229.76471\\\\\n",
       "\t Centrum-West                           & Townhouse & 171.96552\\\\\n",
       "\t De Aker - Nieuw Sloten                 & Townhouse & 181.00000\\\\\n",
       "\t De Baarsjes - Oud-West                 & Townhouse & 187.37500\\\\\n",
       "\t De Pijp - Rivierenbuurt                & Townhouse & 121.30000\\\\\n",
       "\t IJburg - Zeeburgereiland               & Townhouse & 114.14286\\\\\n",
       "\t Noord-Oost                             & Townhouse &  54.66667\\\\\n",
       "\t Noord-West                             & Townhouse & 108.00000\\\\\n",
       "\t Oostelijk Havengebied - Indische Buurt & Townhouse &  89.33333\\\\\n",
       "\t Oud-Noord                              & Townhouse &  94.20000\\\\\n",
       "\t Oud-Oost                               & Townhouse & 160.75000\\\\\n",
       "\t Slotervaart                            & Townhouse & 175.50000\\\\\n",
       "\t Watergraafsmeer                        & Townhouse & 140.25000\\\\\n",
       "\t Westerpark                             & Townhouse &  75.66667\\\\\n",
       "\t Zuid                                   & Townhouse & 194.26667\\\\\n",
       "\t Buitenveldert - Zuidas                 & Villa     &  93.00000\\\\\n",
       "\t Centrum-Oost                           & Villa     & 276.00000\\\\\n",
       "\t De Aker - Nieuw Sloten                 & Villa     & 200.00000\\\\\n",
       "\t De Pijp - Rivierenbuurt                & Villa     &  85.00000\\\\\n",
       "\t IJburg - Zeeburgereiland               & Villa     & 203.92308\\\\\n",
       "\t Noord-Oost                             & Villa     &  95.00000\\\\\n",
       "\t Noord-West                             & Villa     &  85.16667\\\\\n",
       "\t Oud-Noord                              & Villa     &  85.00000\\\\\n",
       "\t Gaasperdam - Driemond                  & Yurt      &  85.00000\\\\\n",
       "\\end{tabular}\n"
      ],
      "text/markdown": [
       "\n",
       "A data.frame: 186 × 3\n",
       "\n",
       "| Group.1 &lt;chr&gt; | Group.2 &lt;chr&gt; | x &lt;dbl&gt; |\n",
       "|---|---|---|\n",
       "| Bijlmer-Centrum                        | Apartment       |  59.37209 |\n",
       "| Bijlmer-Oost                           | Apartment       |  78.51020 |\n",
       "| Bos en Lommer                          | Apartment       |  97.92552 |\n",
       "| Buitenveldert - Zuidas                 | Apartment       | 111.80303 |\n",
       "| Centrum-Oost                           | Apartment       | 151.46565 |\n",
       "| Centrum-West                           | Apartment       | 165.51986 |\n",
       "| De Aker - Nieuw Sloten                 | Apartment       | 103.21212 |\n",
       "| De Baarsjes - Oud-West                 | Apartment       | 121.14313 |\n",
       "| De Pijp - Rivierenbuurt                | Apartment       | 130.41432 |\n",
       "| Gaasperdam - Driemond                  | Apartment       |  75.65625 |\n",
       "| Geuzenveld - Slotermeer                | Apartment       |  94.73810 |\n",
       "| IJburg - Zeeburgereiland               | Apartment       | 113.75630 |\n",
       "| Noord-Oost                             | Apartment       |  83.62500 |\n",
       "| Noord-West                             | Apartment       |  78.64706 |\n",
       "| Oostelijk Havengebied - Indische Buurt | Apartment       | 103.90018 |\n",
       "| Osdorp                                 | Apartment       |  93.61905 |\n",
       "| Oud-Noord                              | Apartment       | 105.11806 |\n",
       "| Oud-Oost                               | Apartment       | 116.73039 |\n",
       "| Slotervaart                            | Apartment       |  92.32174 |\n",
       "| Watergraafsmeer                        | Apartment       | 113.26693 |\n",
       "| Westerpark                             | Apartment       | 118.00446 |\n",
       "| Zuid                                   | Apartment       | 145.04813 |\n",
       "| Bijlmer-Centrum                        | Bed &amp; Breakfast |  55.00000 |\n",
       "| Bijlmer-Oost                           | Bed &amp; Breakfast |  70.00000 |\n",
       "| Bos en Lommer                          | Bed &amp; Breakfast |  70.80000 |\n",
       "| Buitenveldert - Zuidas                 | Bed &amp; Breakfast |  70.00000 |\n",
       "| Centrum-Oost                           | Bed &amp; Breakfast | 122.85714 |\n",
       "| Centrum-West                           | Bed &amp; Breakfast | 140.61404 |\n",
       "| De Aker - Nieuw Sloten                 | Bed &amp; Breakfast |  86.83333 |\n",
       "| De Baarsjes - Oud-West                 | Bed &amp; Breakfast |  92.00000 |\n",
       "| ⋮ | ⋮ | ⋮ |\n",
       "| Watergraafsmeer                        | Other     | 123.25000 |\n",
       "| Westerpark                             | Other     |  63.00000 |\n",
       "| Zuid                                   | Other     |  87.50000 |\n",
       "| Watergraafsmeer                        | Tent      |  20.00000 |\n",
       "| Bijlmer-Oost                           | Townhouse |  77.00000 |\n",
       "| Bos en Lommer                          | Townhouse | 120.83333 |\n",
       "| Centrum-Oost                           | Townhouse | 229.76471 |\n",
       "| Centrum-West                           | Townhouse | 171.96552 |\n",
       "| De Aker - Nieuw Sloten                 | Townhouse | 181.00000 |\n",
       "| De Baarsjes - Oud-West                 | Townhouse | 187.37500 |\n",
       "| De Pijp - Rivierenbuurt                | Townhouse | 121.30000 |\n",
       "| IJburg - Zeeburgereiland               | Townhouse | 114.14286 |\n",
       "| Noord-Oost                             | Townhouse |  54.66667 |\n",
       "| Noord-West                             | Townhouse | 108.00000 |\n",
       "| Oostelijk Havengebied - Indische Buurt | Townhouse |  89.33333 |\n",
       "| Oud-Noord                              | Townhouse |  94.20000 |\n",
       "| Oud-Oost                               | Townhouse | 160.75000 |\n",
       "| Slotervaart                            | Townhouse | 175.50000 |\n",
       "| Watergraafsmeer                        | Townhouse | 140.25000 |\n",
       "| Westerpark                             | Townhouse |  75.66667 |\n",
       "| Zuid                                   | Townhouse | 194.26667 |\n",
       "| Buitenveldert - Zuidas                 | Villa     |  93.00000 |\n",
       "| Centrum-Oost                           | Villa     | 276.00000 |\n",
       "| De Aker - Nieuw Sloten                 | Villa     | 200.00000 |\n",
       "| De Pijp - Rivierenbuurt                | Villa     |  85.00000 |\n",
       "| IJburg - Zeeburgereiland               | Villa     | 203.92308 |\n",
       "| Noord-Oost                             | Villa     |  95.00000 |\n",
       "| Noord-West                             | Villa     |  85.16667 |\n",
       "| Oud-Noord                              | Villa     |  85.00000 |\n",
       "| Gaasperdam - Driemond                  | Yurt      |  85.00000 |\n",
       "\n"
      ],
      "text/plain": [
       "    Group.1                                Group.2         x        \n",
       "1   Bijlmer-Centrum                        Apartment        59.37209\n",
       "2   Bijlmer-Oost                           Apartment        78.51020\n",
       "3   Bos en Lommer                          Apartment        97.92552\n",
       "4   Buitenveldert - Zuidas                 Apartment       111.80303\n",
       "5   Centrum-Oost                           Apartment       151.46565\n",
       "6   Centrum-West                           Apartment       165.51986\n",
       "7   De Aker - Nieuw Sloten                 Apartment       103.21212\n",
       "8   De Baarsjes - Oud-West                 Apartment       121.14313\n",
       "9   De Pijp - Rivierenbuurt                Apartment       130.41432\n",
       "10  Gaasperdam - Driemond                  Apartment        75.65625\n",
       "11  Geuzenveld - Slotermeer                Apartment        94.73810\n",
       "12  IJburg - Zeeburgereiland               Apartment       113.75630\n",
       "13  Noord-Oost                             Apartment        83.62500\n",
       "14  Noord-West                             Apartment        78.64706\n",
       "15  Oostelijk Havengebied - Indische Buurt Apartment       103.90018\n",
       "16  Osdorp                                 Apartment        93.61905\n",
       "17  Oud-Noord                              Apartment       105.11806\n",
       "18  Oud-Oost                               Apartment       116.73039\n",
       "19  Slotervaart                            Apartment        92.32174\n",
       "20  Watergraafsmeer                        Apartment       113.26693\n",
       "21  Westerpark                             Apartment       118.00446\n",
       "22  Zuid                                   Apartment       145.04813\n",
       "23  Bijlmer-Centrum                        Bed & Breakfast  55.00000\n",
       "24  Bijlmer-Oost                           Bed & Breakfast  70.00000\n",
       "25  Bos en Lommer                          Bed & Breakfast  70.80000\n",
       "26  Buitenveldert - Zuidas                 Bed & Breakfast  70.00000\n",
       "27  Centrum-Oost                           Bed & Breakfast 122.85714\n",
       "28  Centrum-West                           Bed & Breakfast 140.61404\n",
       "29  De Aker - Nieuw Sloten                 Bed & Breakfast  86.83333\n",
       "30  De Baarsjes - Oud-West                 Bed & Breakfast  92.00000\n",
       "⋮   ⋮                                      ⋮               ⋮        \n",
       "157 Watergraafsmeer                        Other           123.25000\n",
       "158 Westerpark                             Other            63.00000\n",
       "159 Zuid                                   Other            87.50000\n",
       "160 Watergraafsmeer                        Tent             20.00000\n",
       "161 Bijlmer-Oost                           Townhouse        77.00000\n",
       "162 Bos en Lommer                          Townhouse       120.83333\n",
       "163 Centrum-Oost                           Townhouse       229.76471\n",
       "164 Centrum-West                           Townhouse       171.96552\n",
       "165 De Aker - Nieuw Sloten                 Townhouse       181.00000\n",
       "166 De Baarsjes - Oud-West                 Townhouse       187.37500\n",
       "167 De Pijp - Rivierenbuurt                Townhouse       121.30000\n",
       "168 IJburg - Zeeburgereiland               Townhouse       114.14286\n",
       "169 Noord-Oost                             Townhouse        54.66667\n",
       "170 Noord-West                             Townhouse       108.00000\n",
       "171 Oostelijk Havengebied - Indische Buurt Townhouse        89.33333\n",
       "172 Oud-Noord                              Townhouse        94.20000\n",
       "173 Oud-Oost                               Townhouse       160.75000\n",
       "174 Slotervaart                            Townhouse       175.50000\n",
       "175 Watergraafsmeer                        Townhouse       140.25000\n",
       "176 Westerpark                             Townhouse        75.66667\n",
       "177 Zuid                                   Townhouse       194.26667\n",
       "178 Buitenveldert - Zuidas                 Villa            93.00000\n",
       "179 Centrum-Oost                           Villa           276.00000\n",
       "180 De Aker - Nieuw Sloten                 Villa           200.00000\n",
       "181 De Pijp - Rivierenbuurt                Villa            85.00000\n",
       "182 IJburg - Zeeburgereiland               Villa           203.92308\n",
       "183 Noord-Oost                             Villa            95.00000\n",
       "184 Noord-West                             Villa            85.16667\n",
       "185 Oud-Noord                              Villa            85.00000\n",
       "186 Gaasperdam - Driemond                  Yurt             85.00000"
      ]
     },
     "metadata": {},
     "output_type": "display_data"
    }
   ],
   "source": [
    "aggregate(x=amsterdam[,\"price\"],by=list(amsterdam[,\"neighbourhood_cleansed\"],amsterdam[,\"property_type\"]),FUN=mean)"
   ]
  },
  {
   "cell_type": "code",
   "execution_count": 25,
   "id": "dc14287b",
   "metadata": {},
   "outputs": [],
   "source": [
    "data_description <- function(x) { \n",
    "  stats <- c(M = mean(x), S = length(x))\n",
    "  return(stats)\n",
    "  }"
   ]
  },
  {
   "cell_type": "code",
   "execution_count": 26,
   "id": "c7e9a25f",
   "metadata": {},
   "outputs": [
    {
     "data": {
      "text/html": [
       "<style>\n",
       ".dl-inline {width: auto; margin:0; padding: 0}\n",
       ".dl-inline>dt, .dl-inline>dd {float: none; width: auto; display: inline-block}\n",
       ".dl-inline>dt::after {content: \":\\0020\"; padding-right: .5ex}\n",
       ".dl-inline>dt:not(:first-of-type) {padding-left: .5ex}\n",
       "</style><dl class=dl-inline><dt>M</dt><dd>132.830382308304</dd><dt>S</dt><dd>13837</dd></dl>\n"
      ],
      "text/latex": [
       "\\begin{description*}\n",
       "\\item[M] 132.830382308304\n",
       "\\item[S] 13837\n",
       "\\end{description*}\n"
      ],
      "text/markdown": [
       "M\n",
       ":   132.830382308304S\n",
       ":   13837\n",
       "\n"
      ],
      "text/plain": [
       "         M          S \n",
       "  132.8304 13837.0000 "
      ]
     },
     "metadata": {},
     "output_type": "display_data"
    }
   ],
   "source": [
    "data_description(amsterdam$price)"
   ]
  },
  {
   "cell_type": "code",
   "execution_count": 27,
   "id": "db472b74",
   "metadata": {},
   "outputs": [
    {
     "name": "stderr",
     "output_type": "stream",
     "text": [
      "Installing package into 'C:/Users/Douglas Schoewe/AppData/Local/R/win-library/4.2'\n",
      "(as 'lib' is unspecified)\n",
      "\n"
     ]
    },
    {
     "name": "stdout",
     "output_type": "stream",
     "text": [
      "package 'doBy' successfully unpacked and MD5 sums checked\n",
      "\n",
      "The downloaded binary packages are in\n",
      "\tC:\\Users\\Douglas Schoewe\\AppData\\Local\\Temp\\RtmpYHXg3p\\downloaded_packages\n"
     ]
    }
   ],
   "source": [
    "install.packages(\"doBy\")"
   ]
  },
  {
   "cell_type": "code",
   "execution_count": 68,
   "id": "12e0d88e",
   "metadata": {},
   "outputs": [],
   "source": [
    "library(rgdal,verbose = FALSE)"
   ]
  },
  {
   "cell_type": "code",
   "execution_count": null,
   "id": "ca1828e1",
   "metadata": {},
   "outputs": [],
   "source": [
    "## Beyond This point I am getting data errors"
   ]
  },
  {
   "cell_type": "code",
   "execution_count": 69,
   "id": "9ad43c91",
   "metadata": {},
   "outputs": [
    {
     "data": {
      "text/html": [
       "'C:/rscripts/data/urban_analytics-master/04_Descriptive_statistics'"
      ],
      "text/latex": [
       "'C:/rscripts/data/urban\\_analytics-master/04\\_Descriptive\\_statistics'"
      ],
      "text/markdown": [
       "'C:/rscripts/data/urban_analytics-master/04_Descriptive_statistics'"
      ],
      "text/plain": [
       "[1] \"C:/rscripts/data/urban_analytics-master/04_Descriptive_statistics\""
      ]
     },
     "metadata": {},
     "output_type": "display_data"
    }
   ],
   "source": [
    "getwd()"
   ]
  },
  {
   "cell_type": "code",
   "execution_count": null,
   "id": "95cfbc5e",
   "metadata": {},
   "outputs": [],
   "source": []
  }
 ],
 "metadata": {
  "kernelspec": {
   "display_name": "R",
   "language": "R",
   "name": "ir"
  },
  "language_info": {
   "codemirror_mode": "r",
   "file_extension": ".r",
   "mimetype": "text/x-r-source",
   "name": "R",
   "pygments_lexer": "r",
   "version": "4.2.1"
  }
 },
 "nbformat": 4,
 "nbformat_minor": 5
}
