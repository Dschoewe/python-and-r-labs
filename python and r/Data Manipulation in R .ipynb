{
 "cells": [
  {
   "cell_type": "code",
   "execution_count": 261,
   "id": "50c72bf0",
   "metadata": {},
   "outputs": [
    {
     "data": {
      "text/html": [
       "'C:/rscripts'"
      ],
      "text/latex": [
       "'C:/rscripts'"
      ],
      "text/markdown": [
       "'C:/rscripts'"
      ],
      "text/plain": [
       "[1] \"C:/rscripts\""
      ]
     },
     "metadata": {},
     "output_type": "display_data"
    }
   ],
   "source": [
    "getwd()"
   ]
  },
  {
   "cell_type": "code",
   "execution_count": 397,
   "id": "297d8592",
   "metadata": {
    "scrolled": true
   },
   "outputs": [
    {
     "name": "stderr",
     "output_type": "stream",
     "text": [
      "Installing package into 'C:/Users/Douglas Schoewe/AppData/Local/R/win-library/4.2'\n",
      "(as 'lib' is unspecified)\n",
      "\n"
     ]
    },
    {
     "name": "stdout",
     "output_type": "stream",
     "text": [
      "package 'ggplot2' successfully unpacked and MD5 sums checked\n",
      "\n",
      "The downloaded binary packages are in\n",
      "\tC:\\Users\\Douglas Schoewe\\AppData\\Local\\Temp\\RtmpgPfvlp\\downloaded_packages\n"
     ]
    }
   ],
   "source": [
    "install.packages(\"ggplot2\")"
   ]
  },
  {
   "cell_type": "code",
   "execution_count": 398,
   "id": "5095d908",
   "metadata": {},
   "outputs": [],
   "source": [
    "library(ggplot2)"
   ]
  },
  {
   "cell_type": "code",
   "execution_count": 262,
   "id": "3df67ed7",
   "metadata": {},
   "outputs": [],
   "source": [
    "setwd('C:/rscripts')"
   ]
  },
  {
   "cell_type": "code",
   "execution_count": 263,
   "id": "847d3262",
   "metadata": {},
   "outputs": [
    {
     "data": {
      "text/html": [
       "'C:/rscripts'"
      ],
      "text/latex": [
       "'C:/rscripts'"
      ],
      "text/markdown": [
       "'C:/rscripts'"
      ],
      "text/plain": [
       "[1] \"C:/rscripts\""
      ]
     },
     "metadata": {},
     "output_type": "display_data"
    }
   ],
   "source": [
    "getwd()"
   ]
  },
  {
   "cell_type": "code",
   "execution_count": 264,
   "id": "6821ff6f",
   "metadata": {},
   "outputs": [],
   "source": [
    "a <- rep(2010:2017, each = 4)"
   ]
  },
  {
   "cell_type": "code",
   "execution_count": 265,
   "id": "9490d8a0",
   "metadata": {},
   "outputs": [],
   "source": [
    "b <- round(runif(32, 0, 40))"
   ]
  },
  {
   "cell_type": "code",
   "execution_count": 266,
   "id": "b724b438",
   "metadata": {},
   "outputs": [],
   "source": [
    "c <- data.frame(a,b)"
   ]
  },
  {
   "cell_type": "code",
   "execution_count": 267,
   "id": "3455f4b5",
   "metadata": {},
   "outputs": [
    {
     "data": {
      "text/html": [
       "<table class=\"dataframe\">\n",
       "<caption>A data.frame: 6 × 2</caption>\n",
       "<thead>\n",
       "\t<tr><th></th><th scope=col>a</th><th scope=col>b</th></tr>\n",
       "\t<tr><th></th><th scope=col>&lt;int&gt;</th><th scope=col>&lt;dbl&gt;</th></tr>\n",
       "</thead>\n",
       "<tbody>\n",
       "\t<tr><th scope=row>1</th><td>2010</td><td>19</td></tr>\n",
       "\t<tr><th scope=row>2</th><td>2010</td><td>33</td></tr>\n",
       "\t<tr><th scope=row>3</th><td>2010</td><td>33</td></tr>\n",
       "\t<tr><th scope=row>4</th><td>2010</td><td>32</td></tr>\n",
       "\t<tr><th scope=row>5</th><td>2011</td><td> 6</td></tr>\n",
       "\t<tr><th scope=row>6</th><td>2011</td><td>37</td></tr>\n",
       "</tbody>\n",
       "</table>\n"
      ],
      "text/latex": [
       "A data.frame: 6 × 2\n",
       "\\begin{tabular}{r|ll}\n",
       "  & a & b\\\\\n",
       "  & <int> & <dbl>\\\\\n",
       "\\hline\n",
       "\t1 & 2010 & 19\\\\\n",
       "\t2 & 2010 & 33\\\\\n",
       "\t3 & 2010 & 33\\\\\n",
       "\t4 & 2010 & 32\\\\\n",
       "\t5 & 2011 &  6\\\\\n",
       "\t6 & 2011 & 37\\\\\n",
       "\\end{tabular}\n"
      ],
      "text/markdown": [
       "\n",
       "A data.frame: 6 × 2\n",
       "\n",
       "| <!--/--> | a &lt;int&gt; | b &lt;dbl&gt; |\n",
       "|---|---|---|\n",
       "| 1 | 2010 | 19 |\n",
       "| 2 | 2010 | 33 |\n",
       "| 3 | 2010 | 33 |\n",
       "| 4 | 2010 | 32 |\n",
       "| 5 | 2011 |  6 |\n",
       "| 6 | 2011 | 37 |\n",
       "\n"
      ],
      "text/plain": [
       "  a    b \n",
       "1 2010 19\n",
       "2 2010 33\n",
       "3 2010 33\n",
       "4 2010 32\n",
       "5 2011  6\n",
       "6 2011 37"
      ]
     },
     "metadata": {},
     "output_type": "display_data"
    },
    {
     "data": {
      "text/html": [
       "<table class=\"dataframe\">\n",
       "<caption>A data.frame: 32 × 2</caption>\n",
       "<thead>\n",
       "\t<tr><th scope=col>a</th><th scope=col>b</th></tr>\n",
       "\t<tr><th scope=col>&lt;int&gt;</th><th scope=col>&lt;dbl&gt;</th></tr>\n",
       "</thead>\n",
       "<tbody>\n",
       "\t<tr><td>2010</td><td>19</td></tr>\n",
       "\t<tr><td>2010</td><td>33</td></tr>\n",
       "\t<tr><td>2010</td><td>33</td></tr>\n",
       "\t<tr><td>2010</td><td>32</td></tr>\n",
       "\t<tr><td>2011</td><td> 6</td></tr>\n",
       "\t<tr><td>2011</td><td>37</td></tr>\n",
       "\t<tr><td>2011</td><td>14</td></tr>\n",
       "\t<tr><td>2011</td><td>20</td></tr>\n",
       "\t<tr><td>2012</td><td>35</td></tr>\n",
       "\t<tr><td>2012</td><td>20</td></tr>\n",
       "\t<tr><td>2012</td><td> 0</td></tr>\n",
       "\t<tr><td>2012</td><td>31</td></tr>\n",
       "\t<tr><td>2013</td><td>40</td></tr>\n",
       "\t<tr><td>2013</td><td>16</td></tr>\n",
       "\t<tr><td>2013</td><td>37</td></tr>\n",
       "\t<tr><td>2013</td><td> 7</td></tr>\n",
       "\t<tr><td>2014</td><td> 3</td></tr>\n",
       "\t<tr><td>2014</td><td>10</td></tr>\n",
       "\t<tr><td>2014</td><td>30</td></tr>\n",
       "\t<tr><td>2014</td><td> 3</td></tr>\n",
       "\t<tr><td>2015</td><td>18</td></tr>\n",
       "\t<tr><td>2015</td><td> 6</td></tr>\n",
       "\t<tr><td>2015</td><td>10</td></tr>\n",
       "\t<tr><td>2015</td><td>37</td></tr>\n",
       "\t<tr><td>2016</td><td>21</td></tr>\n",
       "\t<tr><td>2016</td><td> 5</td></tr>\n",
       "\t<tr><td>2016</td><td> 8</td></tr>\n",
       "\t<tr><td>2016</td><td>11</td></tr>\n",
       "\t<tr><td>2017</td><td>14</td></tr>\n",
       "\t<tr><td>2017</td><td>40</td></tr>\n",
       "\t<tr><td>2017</td><td> 9</td></tr>\n",
       "\t<tr><td>2017</td><td> 8</td></tr>\n",
       "</tbody>\n",
       "</table>\n"
      ],
      "text/latex": [
       "A data.frame: 32 × 2\n",
       "\\begin{tabular}{ll}\n",
       " a & b\\\\\n",
       " <int> & <dbl>\\\\\n",
       "\\hline\n",
       "\t 2010 & 19\\\\\n",
       "\t 2010 & 33\\\\\n",
       "\t 2010 & 33\\\\\n",
       "\t 2010 & 32\\\\\n",
       "\t 2011 &  6\\\\\n",
       "\t 2011 & 37\\\\\n",
       "\t 2011 & 14\\\\\n",
       "\t 2011 & 20\\\\\n",
       "\t 2012 & 35\\\\\n",
       "\t 2012 & 20\\\\\n",
       "\t 2012 &  0\\\\\n",
       "\t 2012 & 31\\\\\n",
       "\t 2013 & 40\\\\\n",
       "\t 2013 & 16\\\\\n",
       "\t 2013 & 37\\\\\n",
       "\t 2013 &  7\\\\\n",
       "\t 2014 &  3\\\\\n",
       "\t 2014 & 10\\\\\n",
       "\t 2014 & 30\\\\\n",
       "\t 2014 &  3\\\\\n",
       "\t 2015 & 18\\\\\n",
       "\t 2015 &  6\\\\\n",
       "\t 2015 & 10\\\\\n",
       "\t 2015 & 37\\\\\n",
       "\t 2016 & 21\\\\\n",
       "\t 2016 &  5\\\\\n",
       "\t 2016 &  8\\\\\n",
       "\t 2016 & 11\\\\\n",
       "\t 2017 & 14\\\\\n",
       "\t 2017 & 40\\\\\n",
       "\t 2017 &  9\\\\\n",
       "\t 2017 &  8\\\\\n",
       "\\end{tabular}\n"
      ],
      "text/markdown": [
       "\n",
       "A data.frame: 32 × 2\n",
       "\n",
       "| a &lt;int&gt; | b &lt;dbl&gt; |\n",
       "|---|---|\n",
       "| 2010 | 19 |\n",
       "| 2010 | 33 |\n",
       "| 2010 | 33 |\n",
       "| 2010 | 32 |\n",
       "| 2011 |  6 |\n",
       "| 2011 | 37 |\n",
       "| 2011 | 14 |\n",
       "| 2011 | 20 |\n",
       "| 2012 | 35 |\n",
       "| 2012 | 20 |\n",
       "| 2012 |  0 |\n",
       "| 2012 | 31 |\n",
       "| 2013 | 40 |\n",
       "| 2013 | 16 |\n",
       "| 2013 | 37 |\n",
       "| 2013 |  7 |\n",
       "| 2014 |  3 |\n",
       "| 2014 | 10 |\n",
       "| 2014 | 30 |\n",
       "| 2014 |  3 |\n",
       "| 2015 | 18 |\n",
       "| 2015 |  6 |\n",
       "| 2015 | 10 |\n",
       "| 2015 | 37 |\n",
       "| 2016 | 21 |\n",
       "| 2016 |  5 |\n",
       "| 2016 |  8 |\n",
       "| 2016 | 11 |\n",
       "| 2017 | 14 |\n",
       "| 2017 | 40 |\n",
       "| 2017 |  9 |\n",
       "| 2017 |  8 |\n",
       "\n"
      ],
      "text/plain": [
       "   a    b \n",
       "1  2010 19\n",
       "2  2010 33\n",
       "3  2010 33\n",
       "4  2010 32\n",
       "5  2011  6\n",
       "6  2011 37\n",
       "7  2011 14\n",
       "8  2011 20\n",
       "9  2012 35\n",
       "10 2012 20\n",
       "11 2012  0\n",
       "12 2012 31\n",
       "13 2013 40\n",
       "14 2013 16\n",
       "15 2013 37\n",
       "16 2013  7\n",
       "17 2014  3\n",
       "18 2014 10\n",
       "19 2014 30\n",
       "20 2014  3\n",
       "21 2015 18\n",
       "22 2015  6\n",
       "23 2015 10\n",
       "24 2015 37\n",
       "25 2016 21\n",
       "26 2016  5\n",
       "27 2016  8\n",
       "28 2016 11\n",
       "29 2017 14\n",
       "30 2017 40\n",
       "31 2017  9\n",
       "32 2017  8"
      ]
     },
     "metadata": {},
     "output_type": "display_data"
    }
   ],
   "source": [
    "head(c)\n",
    "c"
   ]
  },
  {
   "cell_type": "code",
   "execution_count": 268,
   "id": "91f91396",
   "metadata": {},
   "outputs": [
    {
     "data": {
      "text/html": [
       "<style>\n",
       ".list-inline {list-style: none; margin:0; padding: 0}\n",
       ".list-inline>li {display: inline-block}\n",
       ".list-inline>li:not(:last-child)::after {content: \"\\00b7\"; padding: 0 .5ex}\n",
       "</style>\n",
       "<ol class=list-inline><li>1</li><li>2</li><li>3</li><li>4</li><li>5</li><li>6</li><li>7</li><li>8</li><li>9</li><li>10</li><li>11</li><li>12</li><li>13</li><li>14</li><li>15</li><li>16</li><li>17</li><li>18</li><li>19</li><li>20</li><li>21</li><li>22</li><li>23</li><li>24</li><li>25</li></ol>\n"
      ],
      "text/latex": [
       "\\begin{enumerate*}\n",
       "\\item 1\n",
       "\\item 2\n",
       "\\item 3\n",
       "\\item 4\n",
       "\\item 5\n",
       "\\item 6\n",
       "\\item 7\n",
       "\\item 8\n",
       "\\item 9\n",
       "\\item 10\n",
       "\\item 11\n",
       "\\item 12\n",
       "\\item 13\n",
       "\\item 14\n",
       "\\item 15\n",
       "\\item 16\n",
       "\\item 17\n",
       "\\item 18\n",
       "\\item 19\n",
       "\\item 20\n",
       "\\item 21\n",
       "\\item 22\n",
       "\\item 23\n",
       "\\item 24\n",
       "\\item 25\n",
       "\\end{enumerate*}\n"
      ],
      "text/markdown": [
       "1. 1\n",
       "2. 2\n",
       "3. 3\n",
       "4. 4\n",
       "5. 5\n",
       "6. 6\n",
       "7. 7\n",
       "8. 8\n",
       "9. 9\n",
       "10. 10\n",
       "11. 11\n",
       "12. 12\n",
       "13. 13\n",
       "14. 14\n",
       "15. 15\n",
       "16. 16\n",
       "17. 17\n",
       "18. 18\n",
       "19. 19\n",
       "20. 20\n",
       "21. 21\n",
       "22. 22\n",
       "23. 23\n",
       "24. 24\n",
       "25. 25\n",
       "\n",
       "\n"
      ],
      "text/plain": [
       " [1]  1  2  3  4  5  6  7  8  9 10 11 12 13 14 15 16 17 18 19 20 21 22 23 24 25"
      ]
     },
     "metadata": {},
     "output_type": "display_data"
    },
    {
     "data": {
      "text/html": [
       "<table class=\"dataframe\">\n",
       "<caption>A matrix: 5 × 5 of type int</caption>\n",
       "<tbody>\n",
       "\t<tr><td>1</td><td> 6</td><td>11</td><td>16</td><td>21</td></tr>\n",
       "\t<tr><td>2</td><td> 7</td><td>12</td><td>17</td><td>22</td></tr>\n",
       "\t<tr><td>3</td><td> 8</td><td>13</td><td>18</td><td>23</td></tr>\n",
       "\t<tr><td>4</td><td> 9</td><td>14</td><td>19</td><td>24</td></tr>\n",
       "\t<tr><td>5</td><td>10</td><td>15</td><td>20</td><td>25</td></tr>\n",
       "</tbody>\n",
       "</table>\n"
      ],
      "text/latex": [
       "A matrix: 5 × 5 of type int\n",
       "\\begin{tabular}{lllll}\n",
       "\t 1 &  6 & 11 & 16 & 21\\\\\n",
       "\t 2 &  7 & 12 & 17 & 22\\\\\n",
       "\t 3 &  8 & 13 & 18 & 23\\\\\n",
       "\t 4 &  9 & 14 & 19 & 24\\\\\n",
       "\t 5 & 10 & 15 & 20 & 25\\\\\n",
       "\\end{tabular}\n"
      ],
      "text/markdown": [
       "\n",
       "A matrix: 5 × 5 of type int\n",
       "\n",
       "| 1 |  6 | 11 | 16 | 21 |\n",
       "| 2 |  7 | 12 | 17 | 22 |\n",
       "| 3 |  8 | 13 | 18 | 23 |\n",
       "| 4 |  9 | 14 | 19 | 24 |\n",
       "| 5 | 10 | 15 | 20 | 25 |\n",
       "\n"
      ],
      "text/plain": [
       "     [,1] [,2] [,3] [,4] [,5]\n",
       "[1,] 1     6   11   16   21  \n",
       "[2,] 2     7   12   17   22  \n",
       "[3,] 3     8   13   18   23  \n",
       "[4,] 4     9   14   19   24  \n",
       "[5,] 5    10   15   20   25  "
      ]
     },
     "metadata": {},
     "output_type": "display_data"
    }
   ],
   "source": [
    "a <- 1:25\n",
    "a\n",
    "b <- matrix(a,nrow=5, ncol=5)\n",
    "b"
   ]
  },
  {
   "cell_type": "code",
   "execution_count": 269,
   "id": "48dc44f3",
   "metadata": {},
   "outputs": [
    {
     "data": {
      "text/html": [
       "<table class=\"dataframe\">\n",
       "<caption>A matrix: 5 × 5 of type dbl</caption>\n",
       "<tbody>\n",
       "\t<tr><td>10</td><td> 60</td><td>110</td><td>160</td><td>210</td></tr>\n",
       "\t<tr><td>20</td><td> 70</td><td>120</td><td>170</td><td>220</td></tr>\n",
       "\t<tr><td>30</td><td> 80</td><td>130</td><td>180</td><td>230</td></tr>\n",
       "\t<tr><td>40</td><td> 90</td><td>140</td><td>190</td><td>240</td></tr>\n",
       "\t<tr><td>50</td><td>100</td><td>150</td><td>200</td><td>250</td></tr>\n",
       "</tbody>\n",
       "</table>\n"
      ],
      "text/latex": [
       "A matrix: 5 × 5 of type dbl\n",
       "\\begin{tabular}{lllll}\n",
       "\t 10 &  60 & 110 & 160 & 210\\\\\n",
       "\t 20 &  70 & 120 & 170 & 220\\\\\n",
       "\t 30 &  80 & 130 & 180 & 230\\\\\n",
       "\t 40 &  90 & 140 & 190 & 240\\\\\n",
       "\t 50 & 100 & 150 & 200 & 250\\\\\n",
       "\\end{tabular}\n"
      ],
      "text/markdown": [
       "\n",
       "A matrix: 5 × 5 of type dbl\n",
       "\n",
       "| 10 |  60 | 110 | 160 | 210 |\n",
       "| 20 |  70 | 120 | 170 | 220 |\n",
       "| 30 |  80 | 130 | 180 | 230 |\n",
       "| 40 |  90 | 140 | 190 | 240 |\n",
       "| 50 | 100 | 150 | 200 | 250 |\n",
       "\n"
      ],
      "text/plain": [
       "     [,1] [,2] [,3] [,4] [,5]\n",
       "[1,] 10    60  110  160  210 \n",
       "[2,] 20    70  120  170  220 \n",
       "[3,] 30    80  130  180  230 \n",
       "[4,] 40    90  140  190  240 \n",
       "[5,] 50   100  150  200  250 "
      ]
     },
     "metadata": {},
     "output_type": "display_data"
    },
    {
     "data": {
      "text/html": [
       "<table class=\"dataframe\">\n",
       "<caption>A matrix: 5 × 5 of type int</caption>\n",
       "<tbody>\n",
       "\t<tr><td> 1</td><td> 36</td><td>121</td><td>256</td><td>441</td></tr>\n",
       "\t<tr><td> 4</td><td> 49</td><td>144</td><td>289</td><td>484</td></tr>\n",
       "\t<tr><td> 9</td><td> 64</td><td>169</td><td>324</td><td>529</td></tr>\n",
       "\t<tr><td>16</td><td> 81</td><td>196</td><td>361</td><td>576</td></tr>\n",
       "\t<tr><td>25</td><td>100</td><td>225</td><td>400</td><td>625</td></tr>\n",
       "</tbody>\n",
       "</table>\n"
      ],
      "text/latex": [
       "A matrix: 5 × 5 of type int\n",
       "\\begin{tabular}{lllll}\n",
       "\t  1 &  36 & 121 & 256 & 441\\\\\n",
       "\t  4 &  49 & 144 & 289 & 484\\\\\n",
       "\t  9 &  64 & 169 & 324 & 529\\\\\n",
       "\t 16 &  81 & 196 & 361 & 576\\\\\n",
       "\t 25 & 100 & 225 & 400 & 625\\\\\n",
       "\\end{tabular}\n"
      ],
      "text/markdown": [
       "\n",
       "A matrix: 5 × 5 of type int\n",
       "\n",
       "|  1 |  36 | 121 | 256 | 441 |\n",
       "|  4 |  49 | 144 | 289 | 484 |\n",
       "|  9 |  64 | 169 | 324 | 529 |\n",
       "| 16 |  81 | 196 | 361 | 576 |\n",
       "| 25 | 100 | 225 | 400 | 625 |\n",
       "\n"
      ],
      "text/plain": [
       "     [,1] [,2] [,3] [,4] [,5]\n",
       "[1,]  1    36  121  256  441 \n",
       "[2,]  4    49  144  289  484 \n",
       "[3,]  9    64  169  324  529 \n",
       "[4,] 16    81  196  361  576 \n",
       "[5,] 25   100  225  400  625 "
      ]
     },
     "metadata": {},
     "output_type": "display_data"
    }
   ],
   "source": [
    "b*10\n",
    "b*b"
   ]
  },
  {
   "cell_type": "code",
   "execution_count": 270,
   "id": "784b4d8e",
   "metadata": {},
   "outputs": [
    {
     "data": {
      "text/html": [
       "<style>\n",
       ".list-inline {list-style: none; margin:0; padding: 0}\n",
       ".list-inline>li {display: inline-block}\n",
       ".list-inline>li:not(:last-child)::after {content: \"\\00b7\"; padding: 0 .5ex}\n",
       "</style>\n",
       "<ol class=list-inline><li>1</li><li>6</li><li>11</li><li>16</li><li>21</li></ol>\n"
      ],
      "text/latex": [
       "\\begin{enumerate*}\n",
       "\\item 1\n",
       "\\item 6\n",
       "\\item 11\n",
       "\\item 16\n",
       "\\item 21\n",
       "\\end{enumerate*}\n"
      ],
      "text/markdown": [
       "1. 1\n",
       "2. 6\n",
       "3. 11\n",
       "4. 16\n",
       "5. 21\n",
       "\n",
       "\n"
      ],
      "text/plain": [
       "[1]  1  6 11 16 21"
      ]
     },
     "metadata": {},
     "output_type": "display_data"
    },
    {
     "data": {
      "text/html": [
       "<style>\n",
       ".list-inline {list-style: none; margin:0; padding: 0}\n",
       ".list-inline>li {display: inline-block}\n",
       ".list-inline>li:not(:last-child)::after {content: \"\\00b7\"; padding: 0 .5ex}\n",
       "</style>\n",
       "<ol class=list-inline><li>16</li><li>17</li><li>18</li><li>19</li><li>20</li></ol>\n"
      ],
      "text/latex": [
       "\\begin{enumerate*}\n",
       "\\item 16\n",
       "\\item 17\n",
       "\\item 18\n",
       "\\item 19\n",
       "\\item 20\n",
       "\\end{enumerate*}\n"
      ],
      "text/markdown": [
       "1. 16\n",
       "2. 17\n",
       "3. 18\n",
       "4. 19\n",
       "5. 20\n",
       "\n",
       "\n"
      ],
      "text/plain": [
       "[1] 16 17 18 19 20"
      ]
     },
     "metadata": {},
     "output_type": "display_data"
    },
    {
     "data": {
      "text/html": [
       "<table class=\"dataframe\">\n",
       "<caption>A matrix: 5 × 2 of type int</caption>\n",
       "<tbody>\n",
       "\t<tr><td>11</td><td>16</td></tr>\n",
       "\t<tr><td>12</td><td>17</td></tr>\n",
       "\t<tr><td>13</td><td>18</td></tr>\n",
       "\t<tr><td>14</td><td>19</td></tr>\n",
       "\t<tr><td>15</td><td>20</td></tr>\n",
       "</tbody>\n",
       "</table>\n"
      ],
      "text/latex": [
       "A matrix: 5 × 2 of type int\n",
       "\\begin{tabular}{ll}\n",
       "\t 11 & 16\\\\\n",
       "\t 12 & 17\\\\\n",
       "\t 13 & 18\\\\\n",
       "\t 14 & 19\\\\\n",
       "\t 15 & 20\\\\\n",
       "\\end{tabular}\n"
      ],
      "text/markdown": [
       "\n",
       "A matrix: 5 × 2 of type int\n",
       "\n",
       "| 11 | 16 |\n",
       "| 12 | 17 |\n",
       "| 13 | 18 |\n",
       "| 14 | 19 |\n",
       "| 15 | 20 |\n",
       "\n"
      ],
      "text/plain": [
       "     [,1] [,2]\n",
       "[1,] 11   16  \n",
       "[2,] 12   17  \n",
       "[3,] 13   18  \n",
       "[4,] 14   19  \n",
       "[5,] 15   20  "
      ]
     },
     "metadata": {},
     "output_type": "display_data"
    },
    {
     "data": {
      "text/html": [
       "<table class=\"dataframe\">\n",
       "<caption>A matrix: 2 × 5 of type int</caption>\n",
       "<tbody>\n",
       "\t<tr><td>1</td><td> 6</td><td>11</td><td>16</td><td>21</td></tr>\n",
       "\t<tr><td>5</td><td>10</td><td>15</td><td>20</td><td>25</td></tr>\n",
       "</tbody>\n",
       "</table>\n"
      ],
      "text/latex": [
       "A matrix: 2 × 5 of type int\n",
       "\\begin{tabular}{lllll}\n",
       "\t 1 &  6 & 11 & 16 & 21\\\\\n",
       "\t 5 & 10 & 15 & 20 & 25\\\\\n",
       "\\end{tabular}\n"
      ],
      "text/markdown": [
       "\n",
       "A matrix: 2 × 5 of type int\n",
       "\n",
       "| 1 |  6 | 11 | 16 | 21 |\n",
       "| 5 | 10 | 15 | 20 | 25 |\n",
       "\n"
      ],
      "text/plain": [
       "     [,1] [,2] [,3] [,4] [,5]\n",
       "[1,] 1     6   11   16   21  \n",
       "[2,] 5    10   15   20   25  "
      ]
     },
     "metadata": {},
     "output_type": "display_data"
    },
    {
     "data": {
      "text/html": [
       "18"
      ],
      "text/latex": [
       "18"
      ],
      "text/markdown": [
       "18"
      ],
      "text/plain": [
       "[1] 18"
      ]
     },
     "metadata": {},
     "output_type": "display_data"
    }
   ],
   "source": [
    "b[1,]\n",
    "b[,4]\n",
    "b[,3:4]\n",
    "b[c(1,5),]\n",
    "b[3,4]"
   ]
  },
  {
   "cell_type": "code",
   "execution_count": 271,
   "id": "83251baa",
   "metadata": {},
   "outputs": [
    {
     "data": {
      "text/html": [
       "<style>\n",
       ".list-inline {list-style: none; margin:0; padding: 0}\n",
       ".list-inline>li {display: inline-block}\n",
       ".list-inline>li:not(:last-child)::after {content: \"\\00b7\"; padding: 0 .5ex}\n",
       "</style>\n",
       "<ol class=list-inline><li>2010</li><li>2010</li><li>2010</li><li>2010</li><li>2011</li><li>2011</li><li>2011</li><li>2011</li><li>2012</li><li>2012</li><li>2012</li><li>2012</li><li>2013</li><li>2013</li><li>2013</li><li>2013</li><li>2014</li><li>2014</li><li>2014</li><li>2014</li><li>2015</li><li>2015</li><li>2015</li><li>2015</li><li>2016</li><li>2016</li><li>2016</li><li>2016</li><li>2017</li><li>2017</li><li>2017</li><li>2017</li></ol>\n"
      ],
      "text/latex": [
       "\\begin{enumerate*}\n",
       "\\item 2010\n",
       "\\item 2010\n",
       "\\item 2010\n",
       "\\item 2010\n",
       "\\item 2011\n",
       "\\item 2011\n",
       "\\item 2011\n",
       "\\item 2011\n",
       "\\item 2012\n",
       "\\item 2012\n",
       "\\item 2012\n",
       "\\item 2012\n",
       "\\item 2013\n",
       "\\item 2013\n",
       "\\item 2013\n",
       "\\item 2013\n",
       "\\item 2014\n",
       "\\item 2014\n",
       "\\item 2014\n",
       "\\item 2014\n",
       "\\item 2015\n",
       "\\item 2015\n",
       "\\item 2015\n",
       "\\item 2015\n",
       "\\item 2016\n",
       "\\item 2016\n",
       "\\item 2016\n",
       "\\item 2016\n",
       "\\item 2017\n",
       "\\item 2017\n",
       "\\item 2017\n",
       "\\item 2017\n",
       "\\end{enumerate*}\n"
      ],
      "text/markdown": [
       "1. 2010\n",
       "2. 2010\n",
       "3. 2010\n",
       "4. 2010\n",
       "5. 2011\n",
       "6. 2011\n",
       "7. 2011\n",
       "8. 2011\n",
       "9. 2012\n",
       "10. 2012\n",
       "11. 2012\n",
       "12. 2012\n",
       "13. 2013\n",
       "14. 2013\n",
       "15. 2013\n",
       "16. 2013\n",
       "17. 2014\n",
       "18. 2014\n",
       "19. 2014\n",
       "20. 2014\n",
       "21. 2015\n",
       "22. 2015\n",
       "23. 2015\n",
       "24. 2015\n",
       "25. 2016\n",
       "26. 2016\n",
       "27. 2016\n",
       "28. 2016\n",
       "29. 2017\n",
       "30. 2017\n",
       "31. 2017\n",
       "32. 2017\n",
       "\n",
       "\n"
      ],
      "text/plain": [
       " [1] 2010 2010 2010 2010 2011 2011 2011 2011 2012 2012 2012 2012 2013 2013 2013\n",
       "[16] 2013 2014 2014 2014 2014 2015 2015 2015 2015 2016 2016 2016 2016 2017 2017\n",
       "[31] 2017 2017"
      ]
     },
     "metadata": {},
     "output_type": "display_data"
    },
    {
     "data": {
      "text/html": [
       "<style>\n",
       ".list-inline {list-style: none; margin:0; padding: 0}\n",
       ".list-inline>li {display: inline-block}\n",
       ".list-inline>li:not(:last-child)::after {content: \"\\00b7\"; padding: 0 .5ex}\n",
       "</style>\n",
       "<ol class=list-inline><li>2010</li><li>2010</li><li>2010</li><li>2010</li><li>2011</li><li>2011</li><li>2011</li><li>2011</li><li>2012</li><li>2012</li><li>2012</li><li>2012</li><li>2013</li><li>2013</li><li>2013</li><li>2013</li><li>2014</li><li>2014</li><li>2014</li><li>2014</li><li>2015</li><li>2015</li><li>2015</li><li>2015</li><li>2016</li><li>2016</li><li>2016</li><li>2016</li><li>2017</li><li>2017</li><li>2017</li><li>2017</li></ol>\n"
      ],
      "text/latex": [
       "\\begin{enumerate*}\n",
       "\\item 2010\n",
       "\\item 2010\n",
       "\\item 2010\n",
       "\\item 2010\n",
       "\\item 2011\n",
       "\\item 2011\n",
       "\\item 2011\n",
       "\\item 2011\n",
       "\\item 2012\n",
       "\\item 2012\n",
       "\\item 2012\n",
       "\\item 2012\n",
       "\\item 2013\n",
       "\\item 2013\n",
       "\\item 2013\n",
       "\\item 2013\n",
       "\\item 2014\n",
       "\\item 2014\n",
       "\\item 2014\n",
       "\\item 2014\n",
       "\\item 2015\n",
       "\\item 2015\n",
       "\\item 2015\n",
       "\\item 2015\n",
       "\\item 2016\n",
       "\\item 2016\n",
       "\\item 2016\n",
       "\\item 2016\n",
       "\\item 2017\n",
       "\\item 2017\n",
       "\\item 2017\n",
       "\\item 2017\n",
       "\\end{enumerate*}\n"
      ],
      "text/markdown": [
       "1. 2010\n",
       "2. 2010\n",
       "3. 2010\n",
       "4. 2010\n",
       "5. 2011\n",
       "6. 2011\n",
       "7. 2011\n",
       "8. 2011\n",
       "9. 2012\n",
       "10. 2012\n",
       "11. 2012\n",
       "12. 2012\n",
       "13. 2013\n",
       "14. 2013\n",
       "15. 2013\n",
       "16. 2013\n",
       "17. 2014\n",
       "18. 2014\n",
       "19. 2014\n",
       "20. 2014\n",
       "21. 2015\n",
       "22. 2015\n",
       "23. 2015\n",
       "24. 2015\n",
       "25. 2016\n",
       "26. 2016\n",
       "27. 2016\n",
       "28. 2016\n",
       "29. 2017\n",
       "30. 2017\n",
       "31. 2017\n",
       "32. 2017\n",
       "\n",
       "\n"
      ],
      "text/plain": [
       " [1] 2010 2010 2010 2010 2011 2011 2011 2011 2012 2012 2012 2012 2013 2013 2013\n",
       "[16] 2013 2014 2014 2014 2014 2015 2015 2015 2015 2016 2016 2016 2016 2017 2017\n",
       "[31] 2017 2017"
      ]
     },
     "metadata": {},
     "output_type": "display_data"
    },
    {
     "data": {
      "text/html": [
       "<style>\n",
       ".list-inline {list-style: none; margin:0; padding: 0}\n",
       ".list-inline>li {display: inline-block}\n",
       ".list-inline>li:not(:last-child)::after {content: \"\\00b7\"; padding: 0 .5ex}\n",
       "</style>\n",
       "<ol class=list-inline><li>'a'</li><li>'b'</li></ol>\n"
      ],
      "text/latex": [
       "\\begin{enumerate*}\n",
       "\\item 'a'\n",
       "\\item 'b'\n",
       "\\end{enumerate*}\n"
      ],
      "text/markdown": [
       "1. 'a'\n",
       "2. 'b'\n",
       "\n",
       "\n"
      ],
      "text/plain": [
       "[1] \"a\" \"b\""
      ]
     },
     "metadata": {},
     "output_type": "display_data"
    }
   ],
   "source": [
    "c$a\n",
    "c[,\"a\"]\n",
    "colnames(c)"
   ]
  },
  {
   "cell_type": "code",
   "execution_count": 272,
   "id": "319560d4",
   "metadata": {},
   "outputs": [],
   "source": [
    "colnames(c) <- c(\"Year\",\"Count\")"
   ]
  },
  {
   "cell_type": "code",
   "execution_count": 273,
   "id": "c545fe1e",
   "metadata": {},
   "outputs": [
    {
     "data": {
      "text/html": [
       "<table class=\"dataframe\">\n",
       "<caption>A data.frame: 6 × 2</caption>\n",
       "<thead>\n",
       "\t<tr><th></th><th scope=col>Year</th><th scope=col>Count</th></tr>\n",
       "\t<tr><th></th><th scope=col>&lt;int&gt;</th><th scope=col>&lt;dbl&gt;</th></tr>\n",
       "</thead>\n",
       "<tbody>\n",
       "\t<tr><th scope=row>1</th><td>2010</td><td>19</td></tr>\n",
       "\t<tr><th scope=row>2</th><td>2010</td><td>33</td></tr>\n",
       "\t<tr><th scope=row>3</th><td>2010</td><td>33</td></tr>\n",
       "\t<tr><th scope=row>4</th><td>2010</td><td>32</td></tr>\n",
       "\t<tr><th scope=row>5</th><td>2011</td><td> 6</td></tr>\n",
       "\t<tr><th scope=row>6</th><td>2011</td><td>37</td></tr>\n",
       "</tbody>\n",
       "</table>\n"
      ],
      "text/latex": [
       "A data.frame: 6 × 2\n",
       "\\begin{tabular}{r|ll}\n",
       "  & Year & Count\\\\\n",
       "  & <int> & <dbl>\\\\\n",
       "\\hline\n",
       "\t1 & 2010 & 19\\\\\n",
       "\t2 & 2010 & 33\\\\\n",
       "\t3 & 2010 & 33\\\\\n",
       "\t4 & 2010 & 32\\\\\n",
       "\t5 & 2011 &  6\\\\\n",
       "\t6 & 2011 & 37\\\\\n",
       "\\end{tabular}\n"
      ],
      "text/markdown": [
       "\n",
       "A data.frame: 6 × 2\n",
       "\n",
       "| <!--/--> | Year &lt;int&gt; | Count &lt;dbl&gt; |\n",
       "|---|---|---|\n",
       "| 1 | 2010 | 19 |\n",
       "| 2 | 2010 | 33 |\n",
       "| 3 | 2010 | 33 |\n",
       "| 4 | 2010 | 32 |\n",
       "| 5 | 2011 |  6 |\n",
       "| 6 | 2011 | 37 |\n",
       "\n"
      ],
      "text/plain": [
       "  Year Count\n",
       "1 2010 19   \n",
       "2 2010 33   \n",
       "3 2010 33   \n",
       "4 2010 32   \n",
       "5 2011  6   \n",
       "6 2011 37   "
      ]
     },
     "metadata": {},
     "output_type": "display_data"
    }
   ],
   "source": [
    "head(c)"
   ]
  },
  {
   "cell_type": "code",
   "execution_count": 274,
   "id": "b2adbd58",
   "metadata": {},
   "outputs": [],
   "source": [
    "earnings <- read.csv(\"C:\\\\RScripts\\\\data\\\\ACS_14_5YR_S1501_with_ann.csv\")"
   ]
  },
  {
   "cell_type": "code",
   "execution_count": 275,
   "id": "c8be1fad",
   "metadata": {},
   "outputs": [
    {
     "data": {
      "text/html": [
       "<style>\n",
       ".list-inline {list-style: none; margin:0; padding: 0}\n",
       ".list-inline>li {display: inline-block}\n",
       ".list-inline>li:not(:last-child)::after {content: \"\\00b7\"; padding: 0 .5ex}\n",
       "</style>\n",
       "<ol class=list-inline><li>'UID'</li><li>'Bachelor_Higher'</li><li>'Bachelor_Higher_m'</li></ol>\n"
      ],
      "text/latex": [
       "\\begin{enumerate*}\n",
       "\\item 'UID'\n",
       "\\item 'Bachelor\\_Higher'\n",
       "\\item 'Bachelor\\_Higher\\_m'\n",
       "\\end{enumerate*}\n"
      ],
      "text/markdown": [
       "1. 'UID'\n",
       "2. 'Bachelor_Higher'\n",
       "3. 'Bachelor_Higher_m'\n",
       "\n",
       "\n"
      ],
      "text/plain": [
       "[1] \"UID\"               \"Bachelor_Higher\"   \"Bachelor_Higher_m\""
      ]
     },
     "metadata": {},
     "output_type": "display_data"
    }
   ],
   "source": [
    "colnames(earnings)"
   ]
  },
  {
   "cell_type": "code",
   "execution_count": 276,
   "id": "e8271257",
   "metadata": {
    "scrolled": true
   },
   "outputs": [
    {
     "name": "stdout",
     "output_type": "stream",
     "text": [
      "'data.frame':\t197 obs. of  3 variables:\n",
      " $ UID              : num  6.08e+09 6.08e+09 6.08e+09 6.08e+09 6.08e+09 ...\n",
      " $ Bachelor_Higher  : chr  \"44.3\" \"58.8\" \"48.8\" \"35.9\" ...\n",
      " $ Bachelor_Higher_m: chr  \"19.5\" \"30.8\" \"13.2\" \"26.1\" ...\n"
     ]
    }
   ],
   "source": [
    "str(earnings)"
   ]
  },
  {
   "cell_type": "code",
   "execution_count": 277,
   "id": "853bc052",
   "metadata": {},
   "outputs": [
    {
     "data": {
      "text/html": [
       "'C:/rscripts'"
      ],
      "text/latex": [
       "'C:/rscripts'"
      ],
      "text/markdown": [
       "'C:/rscripts'"
      ],
      "text/plain": [
       "[1] \"C:/rscripts\""
      ]
     },
     "metadata": {},
     "output_type": "display_data"
    }
   ],
   "source": [
    "getwd()"
   ]
  },
  {
   "cell_type": "code",
   "execution_count": 278,
   "id": "2e84ed2d",
   "metadata": {},
   "outputs": [],
   "source": [
    "library(XLConnect)"
   ]
  },
  {
   "cell_type": "code",
   "execution_count": 279,
   "id": "b8d13a66",
   "metadata": {},
   "outputs": [],
   "source": [
    "workbook <- loadWorkbook(\"C:\\\\rscripts\\\\data\\\\tfl-daily-cycle-hires.xlsx\")\n"
   ]
  },
  {
   "cell_type": "code",
   "execution_count": 280,
   "id": "54d56d17",
   "metadata": {},
   "outputs": [],
   "source": [
    "cycle_hire <- readWorksheet(workbook, sheet=\"Data\")"
   ]
  },
  {
   "cell_type": "code",
   "execution_count": 281,
   "id": "8ab681f6",
   "metadata": {},
   "outputs": [
    {
     "data": {
      "text/html": [
       "<table class=\"dataframe\">\n",
       "<caption>A data.frame: 4385 × 11</caption>\n",
       "<thead>\n",
       "\t<tr><th scope=col>Day</th><th scope=col>Number.of.Bicycle.Hires</th><th scope=col>Col3</th><th scope=col>Month</th><th scope=col>Number.of.Bicycle.Hires.1</th><th scope=col>Col6</th><th scope=col>Year</th><th scope=col>Number.of.Bicycle.Hires.2</th><th scope=col>Col9</th><th scope=col>Month.1</th><th scope=col>Average.Hire.Time..mins.</th></tr>\n",
       "\t<tr><th scope=col>&lt;dttm&gt;</th><th scope=col>&lt;dbl&gt;</th><th scope=col>&lt;lgl&gt;</th><th scope=col>&lt;dttm&gt;</th><th scope=col>&lt;dbl&gt;</th><th scope=col>&lt;lgl&gt;</th><th scope=col>&lt;chr&gt;</th><th scope=col>&lt;chr&gt;</th><th scope=col>&lt;lgl&gt;</th><th scope=col>&lt;dttm&gt;</th><th scope=col>&lt;dbl&gt;</th></tr>\n",
       "</thead>\n",
       "<tbody>\n",
       "\t<tr><td>2010-07-30</td><td> 6897</td><td>NA</td><td>2010-07-01</td><td>  12461</td><td>NA</td><td>2010              </td><td>2,180,813        </td><td>NA</td><td>2010-07-01</td><td>17.23257</td></tr>\n",
       "\t<tr><td>2010-07-31</td><td> 5564</td><td>NA</td><td>2010-08-01</td><td> 341203</td><td>NA</td><td>2011              </td><td>7,142,449        </td><td>NA</td><td>2010-08-01</td><td>16.55188</td></tr>\n",
       "\t<tr><td>2010-08-01</td><td> 4303</td><td>NA</td><td>2010-09-01</td><td> 540859</td><td>NA</td><td>2012              </td><td>9,519,283        </td><td>NA</td><td>2010-09-01</td><td>15.21908</td></tr>\n",
       "\t<tr><td>2010-08-02</td><td> 6642</td><td>NA</td><td>2010-10-01</td><td> 544412</td><td>NA</td><td>2013              </td><td>8,045,459        </td><td>NA</td><td>2010-10-01</td><td>15.20448</td></tr>\n",
       "\t<tr><td>2010-08-03</td><td> 7966</td><td>NA</td><td>2010-11-01</td><td> 456304</td><td>NA</td><td>2014              </td><td>10,023,897       </td><td>NA</td><td>2010-11-01</td><td>13.77608</td></tr>\n",
       "\t<tr><td>2010-08-04</td><td> 7893</td><td>NA</td><td>2010-12-01</td><td> 285574</td><td>NA</td><td>2015              </td><td>9,871,839        </td><td>NA</td><td>2010-12-01</td><td>16.82051</td></tr>\n",
       "\t<tr><td>2010-08-05</td><td> 8724</td><td>NA</td><td>2011-01-01</td><td> 403178</td><td>NA</td><td>2016              </td><td>10,303,637       </td><td>NA</td><td>2011-01-01</td><td>16.09323</td></tr>\n",
       "\t<tr><td>2010-08-06</td><td> 9797</td><td>NA</td><td>2011-02-01</td><td> 398292</td><td>NA</td><td>2017              </td><td>10,446,044       </td><td>NA</td><td>2011-02-01</td><td>17.24941</td></tr>\n",
       "\t<tr><td>2010-08-07</td><td> 6631</td><td>NA</td><td>2011-03-01</td><td> 556155</td><td>NA</td><td>2018              </td><td>10,567,540       </td><td>NA</td><td>2011-03-01</td><td>19.95211</td></tr>\n",
       "\t<tr><td>2010-08-08</td><td> 7864</td><td>NA</td><td>2011-04-01</td><td> 673639</td><td>NA</td><td>2019              </td><td>10,168,936       </td><td>NA</td><td>2011-04-01</td><td>26.87884</td></tr>\n",
       "\t<tr><td>2010-08-09</td><td> 6191</td><td>NA</td><td>2011-05-01</td><td> 722072</td><td>NA</td><td>2020              </td><td>10,434,167       </td><td>NA</td><td>2011-05-01</td><td>15.04771</td></tr>\n",
       "\t<tr><td>2010-08-10</td><td> 4802</td><td>NA</td><td>2011-06-01</td><td> 638717</td><td>NA</td><td>2021              </td><td>10,941,264       </td><td>NA</td><td>2011-06-01</td><td>16.39879</td></tr>\n",
       "\t<tr><td>2010-08-11</td><td>14013</td><td>NA</td><td>2011-07-01</td><td> 708454</td><td>NA</td><td>NA                </td><td>NA               </td><td>NA</td><td>2011-07-01</td><td>15.60818</td></tr>\n",
       "\t<tr><td>2010-08-12</td><td>13080</td><td>NA</td><td>2011-08-01</td><td> 642440</td><td>NA</td><td>NA                </td><td>NA               </td><td>NA</td><td>2011-08-01</td><td>17.57802</td></tr>\n",
       "\t<tr><td>2010-08-13</td><td>12151</td><td>NA</td><td>2011-09-01</td><td> 684780</td><td>NA</td><td>Against last month</td><td>Against last year</td><td>NA</td><td>2011-09-01</td><td>17.33648</td></tr>\n",
       "\t<tr><td>2010-08-14</td><td> 9195</td><td>NA</td><td>2011-10-01</td><td> 708802</td><td>NA</td><td>3.51%             </td><td>30.20%           </td><td>NA</td><td>2011-10-01</td><td>16.97347</td></tr>\n",
       "\t<tr><td>2010-08-15</td><td>10928</td><td>NA</td><td>2011-11-01</td><td> 597191</td><td>NA</td><td>-15.75%           </td><td>30.88%           </td><td>NA</td><td>2011-11-01</td><td>15.57492</td></tr>\n",
       "\t<tr><td>2010-08-16</td><td>15384</td><td>NA</td><td>2011-12-01</td><td> 408729</td><td>NA</td><td>-31.56%           </td><td>43.13%           </td><td>NA</td><td>2011-12-01</td><td>19.41107</td></tr>\n",
       "\t<tr><td>2010-08-17</td><td>15396</td><td>NA</td><td>2012-01-01</td><td> 494325</td><td>NA</td><td>20.94%            </td><td>22.61%           </td><td>NA</td><td>2012-01-01</td><td>16.90368</td></tr>\n",
       "\t<tr><td>2010-08-18</td><td>16062</td><td>NA</td><td>2012-02-01</td><td> 481826</td><td>NA</td><td>-2.53%            </td><td>20.97%           </td><td>NA</td><td>2012-02-01</td><td>17.31854</td></tr>\n",
       "\t<tr><td>2010-08-19</td><td>17170</td><td>NA</td><td>2012-03-01</td><td> 818209</td><td>NA</td><td>69.81%            </td><td>47.12%           </td><td>NA</td><td>2012-03-01</td><td>21.24056</td></tr>\n",
       "\t<tr><td>2010-08-20</td><td>16462</td><td>NA</td><td>2012-04-01</td><td> 649473</td><td>NA</td><td>-20.62%           </td><td>-3.59%           </td><td>NA</td><td>2012-04-01</td><td>21.42034</td></tr>\n",
       "\t<tr><td>2010-08-21</td><td>11719</td><td>NA</td><td>2012-05-01</td><td> 926952</td><td>NA</td><td>42.72%            </td><td>28.37%           </td><td>NA</td><td>2012-05-01</td><td>22.05060</td></tr>\n",
       "\t<tr><td>2010-08-22</td><td>10129</td><td>NA</td><td>2012-06-01</td><td> 858805</td><td>NA</td><td>-7.35%            </td><td>34.46%           </td><td>NA</td><td>2012-06-01</td><td>22.07958</td></tr>\n",
       "\t<tr><td>2010-08-23</td><td>12935</td><td>NA</td><td>2012-07-01</td><td>1014174</td><td>NA</td><td>18.09%            </td><td>43.15%           </td><td>NA</td><td>2012-07-01</td><td>22.90373</td></tr>\n",
       "\t<tr><td>2010-08-24</td><td>17006</td><td>NA</td><td>2012-08-01</td><td>1163171</td><td>NA</td><td>14.69%            </td><td>81.06%           </td><td>NA</td><td>2012-08-01</td><td>23.20337</td></tr>\n",
       "\t<tr><td>2010-08-25</td><td>10062</td><td>NA</td><td>2012-09-01</td><td>1015145</td><td>NA</td><td>-12.73%           </td><td>48.24%           </td><td>NA</td><td>2012-09-01</td><td>20.01736</td></tr>\n",
       "\t<tr><td>2010-08-26</td><td> 9875</td><td>NA</td><td>2012-10-01</td><td> 856866</td><td>NA</td><td>-15.59%           </td><td>20.89%           </td><td>NA</td><td>2012-10-01</td><td>17.99326</td></tr>\n",
       "\t<tr><td>2010-08-27</td><td>12854</td><td>NA</td><td>2012-11-01</td><td> 726893</td><td>NA</td><td>-15.17%           </td><td>21.72%           </td><td>NA</td><td>2012-11-01</td><td>16.97739</td></tr>\n",
       "\t<tr><td>2010-08-28</td><td>10116</td><td>NA</td><td>2012-12-01</td><td> 513444</td><td>NA</td><td>-29.36%           </td><td>25.62%           </td><td>NA</td><td>2012-12-01</td><td>18.95486</td></tr>\n",
       "\t<tr><td>⋮</td><td>⋮</td><td>⋮</td><td>⋮</td><td>⋮</td><td>⋮</td><td>⋮</td><td>⋮</td><td>⋮</td><td>⋮</td><td>⋮</td></tr>\n",
       "\t<tr><td>2022-07-02</td><td>42316</td><td>NA</td><td>NA</td><td>NA</td><td>NA</td><td>NA</td><td>NA</td><td>NA</td><td>NA</td><td>NA</td></tr>\n",
       "\t<tr><td>2022-07-03</td><td>38719</td><td>NA</td><td>NA</td><td>NA</td><td>NA</td><td>NA</td><td>NA</td><td>NA</td><td>NA</td><td>NA</td></tr>\n",
       "\t<tr><td>2022-07-04</td><td>42140</td><td>NA</td><td>NA</td><td>NA</td><td>NA</td><td>NA</td><td>NA</td><td>NA</td><td>NA</td><td>NA</td></tr>\n",
       "\t<tr><td>2022-07-05</td><td>44717</td><td>NA</td><td>NA</td><td>NA</td><td>NA</td><td>NA</td><td>NA</td><td>NA</td><td>NA</td><td>NA</td></tr>\n",
       "\t<tr><td>2022-07-06</td><td>45401</td><td>NA</td><td>NA</td><td>NA</td><td>NA</td><td>NA</td><td>NA</td><td>NA</td><td>NA</td><td>NA</td></tr>\n",
       "\t<tr><td>2022-07-07</td><td>46050</td><td>NA</td><td>NA</td><td>NA</td><td>NA</td><td>NA</td><td>NA</td><td>NA</td><td>NA</td><td>NA</td></tr>\n",
       "\t<tr><td>2022-07-08</td><td>44741</td><td>NA</td><td>NA</td><td>NA</td><td>NA</td><td>NA</td><td>NA</td><td>NA</td><td>NA</td><td>NA</td></tr>\n",
       "\t<tr><td>2022-07-09</td><td>47058</td><td>NA</td><td>NA</td><td>NA</td><td>NA</td><td>NA</td><td>NA</td><td>NA</td><td>NA</td><td>NA</td></tr>\n",
       "\t<tr><td>2022-07-10</td><td>44154</td><td>NA</td><td>NA</td><td>NA</td><td>NA</td><td>NA</td><td>NA</td><td>NA</td><td>NA</td><td>NA</td></tr>\n",
       "\t<tr><td>2022-07-11</td><td>42739</td><td>NA</td><td>NA</td><td>NA</td><td>NA</td><td>NA</td><td>NA</td><td>NA</td><td>NA</td><td>NA</td></tr>\n",
       "\t<tr><td>2022-07-12</td><td>45037</td><td>NA</td><td>NA</td><td>NA</td><td>NA</td><td>NA</td><td>NA</td><td>NA</td><td>NA</td><td>NA</td></tr>\n",
       "\t<tr><td>2022-07-13</td><td>46715</td><td>NA</td><td>NA</td><td>NA</td><td>NA</td><td>NA</td><td>NA</td><td>NA</td><td>NA</td><td>NA</td></tr>\n",
       "\t<tr><td>2022-07-14</td><td>46293</td><td>NA</td><td>NA</td><td>NA</td><td>NA</td><td>NA</td><td>NA</td><td>NA</td><td>NA</td><td>NA</td></tr>\n",
       "\t<tr><td>2022-07-15</td><td>45023</td><td>NA</td><td>NA</td><td>NA</td><td>NA</td><td>NA</td><td>NA</td><td>NA</td><td>NA</td><td>NA</td></tr>\n",
       "\t<tr><td>2022-07-16</td><td>48260</td><td>NA</td><td>NA</td><td>NA</td><td>NA</td><td>NA</td><td>NA</td><td>NA</td><td>NA</td><td>NA</td></tr>\n",
       "\t<tr><td>2022-07-17</td><td>40796</td><td>NA</td><td>NA</td><td>NA</td><td>NA</td><td>NA</td><td>NA</td><td>NA</td><td>NA</td><td>NA</td></tr>\n",
       "\t<tr><td>2022-07-18</td><td>38798</td><td>NA</td><td>NA</td><td>NA</td><td>NA</td><td>NA</td><td>NA</td><td>NA</td><td>NA</td><td>NA</td></tr>\n",
       "\t<tr><td>2022-07-19</td><td>36895</td><td>NA</td><td>NA</td><td>NA</td><td>NA</td><td>NA</td><td>NA</td><td>NA</td><td>NA</td><td>NA</td></tr>\n",
       "\t<tr><td>2022-07-20</td><td>42070</td><td>NA</td><td>NA</td><td>NA</td><td>NA</td><td>NA</td><td>NA</td><td>NA</td><td>NA</td><td>NA</td></tr>\n",
       "\t<tr><td>2022-07-21</td><td>41430</td><td>NA</td><td>NA</td><td>NA</td><td>NA</td><td>NA</td><td>NA</td><td>NA</td><td>NA</td><td>NA</td></tr>\n",
       "\t<tr><td>2022-07-22</td><td>39453</td><td>NA</td><td>NA</td><td>NA</td><td>NA</td><td>NA</td><td>NA</td><td>NA</td><td>NA</td><td>NA</td></tr>\n",
       "\t<tr><td>2022-07-23</td><td>43414</td><td>NA</td><td>NA</td><td>NA</td><td>NA</td><td>NA</td><td>NA</td><td>NA</td><td>NA</td><td>NA</td></tr>\n",
       "\t<tr><td>2022-07-24</td><td>40175</td><td>NA</td><td>NA</td><td>NA</td><td>NA</td><td>NA</td><td>NA</td><td>NA</td><td>NA</td><td>NA</td></tr>\n",
       "\t<tr><td>2022-07-25</td><td>38114</td><td>NA</td><td>NA</td><td>NA</td><td>NA</td><td>NA</td><td>NA</td><td>NA</td><td>NA</td><td>NA</td></tr>\n",
       "\t<tr><td>2022-07-26</td><td>41296</td><td>NA</td><td>NA</td><td>NA</td><td>NA</td><td>NA</td><td>NA</td><td>NA</td><td>NA</td><td>NA</td></tr>\n",
       "\t<tr><td>2022-07-27</td><td>39282</td><td>NA</td><td>NA</td><td>NA</td><td>NA</td><td>NA</td><td>NA</td><td>NA</td><td>NA</td><td>NA</td></tr>\n",
       "\t<tr><td>2022-07-28</td><td>43096</td><td>NA</td><td>NA</td><td>NA</td><td>NA</td><td>NA</td><td>NA</td><td>NA</td><td>NA</td><td>NA</td></tr>\n",
       "\t<tr><td>2022-07-29</td><td>41584</td><td>NA</td><td>NA</td><td>NA</td><td>NA</td><td>NA</td><td>NA</td><td>NA</td><td>NA</td><td>NA</td></tr>\n",
       "\t<tr><td>2022-07-30</td><td>42718</td><td>NA</td><td>NA</td><td>NA</td><td>NA</td><td>NA</td><td>NA</td><td>NA</td><td>NA</td><td>NA</td></tr>\n",
       "\t<tr><td>2022-07-31</td><td>36041</td><td>NA</td><td>NA</td><td>NA</td><td>NA</td><td>NA</td><td>NA</td><td>NA</td><td>NA</td><td>NA</td></tr>\n",
       "</tbody>\n",
       "</table>\n"
      ],
      "text/latex": [
       "A data.frame: 4385 × 11\n",
       "\\begin{tabular}{lllllllllll}\n",
       " Day & Number.of.Bicycle.Hires & Col3 & Month & Number.of.Bicycle.Hires.1 & Col6 & Year & Number.of.Bicycle.Hires.2 & Col9 & Month.1 & Average.Hire.Time..mins.\\\\\n",
       " <dttm> & <dbl> & <lgl> & <dttm> & <dbl> & <lgl> & <chr> & <chr> & <lgl> & <dttm> & <dbl>\\\\\n",
       "\\hline\n",
       "\t 2010-07-30 &  6897 & NA & 2010-07-01 &   12461 & NA & 2010               & 2,180,813         & NA & 2010-07-01 & 17.23257\\\\\n",
       "\t 2010-07-31 &  5564 & NA & 2010-08-01 &  341203 & NA & 2011               & 7,142,449         & NA & 2010-08-01 & 16.55188\\\\\n",
       "\t 2010-08-01 &  4303 & NA & 2010-09-01 &  540859 & NA & 2012               & 9,519,283         & NA & 2010-09-01 & 15.21908\\\\\n",
       "\t 2010-08-02 &  6642 & NA & 2010-10-01 &  544412 & NA & 2013               & 8,045,459         & NA & 2010-10-01 & 15.20448\\\\\n",
       "\t 2010-08-03 &  7966 & NA & 2010-11-01 &  456304 & NA & 2014               & 10,023,897        & NA & 2010-11-01 & 13.77608\\\\\n",
       "\t 2010-08-04 &  7893 & NA & 2010-12-01 &  285574 & NA & 2015               & 9,871,839         & NA & 2010-12-01 & 16.82051\\\\\n",
       "\t 2010-08-05 &  8724 & NA & 2011-01-01 &  403178 & NA & 2016               & 10,303,637        & NA & 2011-01-01 & 16.09323\\\\\n",
       "\t 2010-08-06 &  9797 & NA & 2011-02-01 &  398292 & NA & 2017               & 10,446,044        & NA & 2011-02-01 & 17.24941\\\\\n",
       "\t 2010-08-07 &  6631 & NA & 2011-03-01 &  556155 & NA & 2018               & 10,567,540        & NA & 2011-03-01 & 19.95211\\\\\n",
       "\t 2010-08-08 &  7864 & NA & 2011-04-01 &  673639 & NA & 2019               & 10,168,936        & NA & 2011-04-01 & 26.87884\\\\\n",
       "\t 2010-08-09 &  6191 & NA & 2011-05-01 &  722072 & NA & 2020               & 10,434,167        & NA & 2011-05-01 & 15.04771\\\\\n",
       "\t 2010-08-10 &  4802 & NA & 2011-06-01 &  638717 & NA & 2021               & 10,941,264        & NA & 2011-06-01 & 16.39879\\\\\n",
       "\t 2010-08-11 & 14013 & NA & 2011-07-01 &  708454 & NA & NA                 & NA                & NA & 2011-07-01 & 15.60818\\\\\n",
       "\t 2010-08-12 & 13080 & NA & 2011-08-01 &  642440 & NA & NA                 & NA                & NA & 2011-08-01 & 17.57802\\\\\n",
       "\t 2010-08-13 & 12151 & NA & 2011-09-01 &  684780 & NA & Against last month & Against last year & NA & 2011-09-01 & 17.33648\\\\\n",
       "\t 2010-08-14 &  9195 & NA & 2011-10-01 &  708802 & NA & 3.51\\%              & 30.20\\%            & NA & 2011-10-01 & 16.97347\\\\\n",
       "\t 2010-08-15 & 10928 & NA & 2011-11-01 &  597191 & NA & -15.75\\%            & 30.88\\%            & NA & 2011-11-01 & 15.57492\\\\\n",
       "\t 2010-08-16 & 15384 & NA & 2011-12-01 &  408729 & NA & -31.56\\%            & 43.13\\%            & NA & 2011-12-01 & 19.41107\\\\\n",
       "\t 2010-08-17 & 15396 & NA & 2012-01-01 &  494325 & NA & 20.94\\%             & 22.61\\%            & NA & 2012-01-01 & 16.90368\\\\\n",
       "\t 2010-08-18 & 16062 & NA & 2012-02-01 &  481826 & NA & -2.53\\%             & 20.97\\%            & NA & 2012-02-01 & 17.31854\\\\\n",
       "\t 2010-08-19 & 17170 & NA & 2012-03-01 &  818209 & NA & 69.81\\%             & 47.12\\%            & NA & 2012-03-01 & 21.24056\\\\\n",
       "\t 2010-08-20 & 16462 & NA & 2012-04-01 &  649473 & NA & -20.62\\%            & -3.59\\%            & NA & 2012-04-01 & 21.42034\\\\\n",
       "\t 2010-08-21 & 11719 & NA & 2012-05-01 &  926952 & NA & 42.72\\%             & 28.37\\%            & NA & 2012-05-01 & 22.05060\\\\\n",
       "\t 2010-08-22 & 10129 & NA & 2012-06-01 &  858805 & NA & -7.35\\%             & 34.46\\%            & NA & 2012-06-01 & 22.07958\\\\\n",
       "\t 2010-08-23 & 12935 & NA & 2012-07-01 & 1014174 & NA & 18.09\\%             & 43.15\\%            & NA & 2012-07-01 & 22.90373\\\\\n",
       "\t 2010-08-24 & 17006 & NA & 2012-08-01 & 1163171 & NA & 14.69\\%             & 81.06\\%            & NA & 2012-08-01 & 23.20337\\\\\n",
       "\t 2010-08-25 & 10062 & NA & 2012-09-01 & 1015145 & NA & -12.73\\%            & 48.24\\%            & NA & 2012-09-01 & 20.01736\\\\\n",
       "\t 2010-08-26 &  9875 & NA & 2012-10-01 &  856866 & NA & -15.59\\%            & 20.89\\%            & NA & 2012-10-01 & 17.99326\\\\\n",
       "\t 2010-08-27 & 12854 & NA & 2012-11-01 &  726893 & NA & -15.17\\%            & 21.72\\%            & NA & 2012-11-01 & 16.97739\\\\\n",
       "\t 2010-08-28 & 10116 & NA & 2012-12-01 &  513444 & NA & -29.36\\%            & 25.62\\%            & NA & 2012-12-01 & 18.95486\\\\\n",
       "\t ⋮ & ⋮ & ⋮ & ⋮ & ⋮ & ⋮ & ⋮ & ⋮ & ⋮ & ⋮ & ⋮\\\\\n",
       "\t 2022-07-02 & 42316 & NA & NA & NA & NA & NA & NA & NA & NA & NA\\\\\n",
       "\t 2022-07-03 & 38719 & NA & NA & NA & NA & NA & NA & NA & NA & NA\\\\\n",
       "\t 2022-07-04 & 42140 & NA & NA & NA & NA & NA & NA & NA & NA & NA\\\\\n",
       "\t 2022-07-05 & 44717 & NA & NA & NA & NA & NA & NA & NA & NA & NA\\\\\n",
       "\t 2022-07-06 & 45401 & NA & NA & NA & NA & NA & NA & NA & NA & NA\\\\\n",
       "\t 2022-07-07 & 46050 & NA & NA & NA & NA & NA & NA & NA & NA & NA\\\\\n",
       "\t 2022-07-08 & 44741 & NA & NA & NA & NA & NA & NA & NA & NA & NA\\\\\n",
       "\t 2022-07-09 & 47058 & NA & NA & NA & NA & NA & NA & NA & NA & NA\\\\\n",
       "\t 2022-07-10 & 44154 & NA & NA & NA & NA & NA & NA & NA & NA & NA\\\\\n",
       "\t 2022-07-11 & 42739 & NA & NA & NA & NA & NA & NA & NA & NA & NA\\\\\n",
       "\t 2022-07-12 & 45037 & NA & NA & NA & NA & NA & NA & NA & NA & NA\\\\\n",
       "\t 2022-07-13 & 46715 & NA & NA & NA & NA & NA & NA & NA & NA & NA\\\\\n",
       "\t 2022-07-14 & 46293 & NA & NA & NA & NA & NA & NA & NA & NA & NA\\\\\n",
       "\t 2022-07-15 & 45023 & NA & NA & NA & NA & NA & NA & NA & NA & NA\\\\\n",
       "\t 2022-07-16 & 48260 & NA & NA & NA & NA & NA & NA & NA & NA & NA\\\\\n",
       "\t 2022-07-17 & 40796 & NA & NA & NA & NA & NA & NA & NA & NA & NA\\\\\n",
       "\t 2022-07-18 & 38798 & NA & NA & NA & NA & NA & NA & NA & NA & NA\\\\\n",
       "\t 2022-07-19 & 36895 & NA & NA & NA & NA & NA & NA & NA & NA & NA\\\\\n",
       "\t 2022-07-20 & 42070 & NA & NA & NA & NA & NA & NA & NA & NA & NA\\\\\n",
       "\t 2022-07-21 & 41430 & NA & NA & NA & NA & NA & NA & NA & NA & NA\\\\\n",
       "\t 2022-07-22 & 39453 & NA & NA & NA & NA & NA & NA & NA & NA & NA\\\\\n",
       "\t 2022-07-23 & 43414 & NA & NA & NA & NA & NA & NA & NA & NA & NA\\\\\n",
       "\t 2022-07-24 & 40175 & NA & NA & NA & NA & NA & NA & NA & NA & NA\\\\\n",
       "\t 2022-07-25 & 38114 & NA & NA & NA & NA & NA & NA & NA & NA & NA\\\\\n",
       "\t 2022-07-26 & 41296 & NA & NA & NA & NA & NA & NA & NA & NA & NA\\\\\n",
       "\t 2022-07-27 & 39282 & NA & NA & NA & NA & NA & NA & NA & NA & NA\\\\\n",
       "\t 2022-07-28 & 43096 & NA & NA & NA & NA & NA & NA & NA & NA & NA\\\\\n",
       "\t 2022-07-29 & 41584 & NA & NA & NA & NA & NA & NA & NA & NA & NA\\\\\n",
       "\t 2022-07-30 & 42718 & NA & NA & NA & NA & NA & NA & NA & NA & NA\\\\\n",
       "\t 2022-07-31 & 36041 & NA & NA & NA & NA & NA & NA & NA & NA & NA\\\\\n",
       "\\end{tabular}\n"
      ],
      "text/markdown": [
       "\n",
       "A data.frame: 4385 × 11\n",
       "\n",
       "| Day &lt;dttm&gt; | Number.of.Bicycle.Hires &lt;dbl&gt; | Col3 &lt;lgl&gt; | Month &lt;dttm&gt; | Number.of.Bicycle.Hires.1 &lt;dbl&gt; | Col6 &lt;lgl&gt; | Year &lt;chr&gt; | Number.of.Bicycle.Hires.2 &lt;chr&gt; | Col9 &lt;lgl&gt; | Month.1 &lt;dttm&gt; | Average.Hire.Time..mins. &lt;dbl&gt; |\n",
       "|---|---|---|---|---|---|---|---|---|---|---|\n",
       "| 2010-07-30 |  6897 | NA | 2010-07-01 |   12461 | NA | 2010               | 2,180,813         | NA | 2010-07-01 | 17.23257 |\n",
       "| 2010-07-31 |  5564 | NA | 2010-08-01 |  341203 | NA | 2011               | 7,142,449         | NA | 2010-08-01 | 16.55188 |\n",
       "| 2010-08-01 |  4303 | NA | 2010-09-01 |  540859 | NA | 2012               | 9,519,283         | NA | 2010-09-01 | 15.21908 |\n",
       "| 2010-08-02 |  6642 | NA | 2010-10-01 |  544412 | NA | 2013               | 8,045,459         | NA | 2010-10-01 | 15.20448 |\n",
       "| 2010-08-03 |  7966 | NA | 2010-11-01 |  456304 | NA | 2014               | 10,023,897        | NA | 2010-11-01 | 13.77608 |\n",
       "| 2010-08-04 |  7893 | NA | 2010-12-01 |  285574 | NA | 2015               | 9,871,839         | NA | 2010-12-01 | 16.82051 |\n",
       "| 2010-08-05 |  8724 | NA | 2011-01-01 |  403178 | NA | 2016               | 10,303,637        | NA | 2011-01-01 | 16.09323 |\n",
       "| 2010-08-06 |  9797 | NA | 2011-02-01 |  398292 | NA | 2017               | 10,446,044        | NA | 2011-02-01 | 17.24941 |\n",
       "| 2010-08-07 |  6631 | NA | 2011-03-01 |  556155 | NA | 2018               | 10,567,540        | NA | 2011-03-01 | 19.95211 |\n",
       "| 2010-08-08 |  7864 | NA | 2011-04-01 |  673639 | NA | 2019               | 10,168,936        | NA | 2011-04-01 | 26.87884 |\n",
       "| 2010-08-09 |  6191 | NA | 2011-05-01 |  722072 | NA | 2020               | 10,434,167        | NA | 2011-05-01 | 15.04771 |\n",
       "| 2010-08-10 |  4802 | NA | 2011-06-01 |  638717 | NA | 2021               | 10,941,264        | NA | 2011-06-01 | 16.39879 |\n",
       "| 2010-08-11 | 14013 | NA | 2011-07-01 |  708454 | NA | NA                 | NA                | NA | 2011-07-01 | 15.60818 |\n",
       "| 2010-08-12 | 13080 | NA | 2011-08-01 |  642440 | NA | NA                 | NA                | NA | 2011-08-01 | 17.57802 |\n",
       "| 2010-08-13 | 12151 | NA | 2011-09-01 |  684780 | NA | Against last month | Against last year | NA | 2011-09-01 | 17.33648 |\n",
       "| 2010-08-14 |  9195 | NA | 2011-10-01 |  708802 | NA | 3.51%              | 30.20%            | NA | 2011-10-01 | 16.97347 |\n",
       "| 2010-08-15 | 10928 | NA | 2011-11-01 |  597191 | NA | -15.75%            | 30.88%            | NA | 2011-11-01 | 15.57492 |\n",
       "| 2010-08-16 | 15384 | NA | 2011-12-01 |  408729 | NA | -31.56%            | 43.13%            | NA | 2011-12-01 | 19.41107 |\n",
       "| 2010-08-17 | 15396 | NA | 2012-01-01 |  494325 | NA | 20.94%             | 22.61%            | NA | 2012-01-01 | 16.90368 |\n",
       "| 2010-08-18 | 16062 | NA | 2012-02-01 |  481826 | NA | -2.53%             | 20.97%            | NA | 2012-02-01 | 17.31854 |\n",
       "| 2010-08-19 | 17170 | NA | 2012-03-01 |  818209 | NA | 69.81%             | 47.12%            | NA | 2012-03-01 | 21.24056 |\n",
       "| 2010-08-20 | 16462 | NA | 2012-04-01 |  649473 | NA | -20.62%            | -3.59%            | NA | 2012-04-01 | 21.42034 |\n",
       "| 2010-08-21 | 11719 | NA | 2012-05-01 |  926952 | NA | 42.72%             | 28.37%            | NA | 2012-05-01 | 22.05060 |\n",
       "| 2010-08-22 | 10129 | NA | 2012-06-01 |  858805 | NA | -7.35%             | 34.46%            | NA | 2012-06-01 | 22.07958 |\n",
       "| 2010-08-23 | 12935 | NA | 2012-07-01 | 1014174 | NA | 18.09%             | 43.15%            | NA | 2012-07-01 | 22.90373 |\n",
       "| 2010-08-24 | 17006 | NA | 2012-08-01 | 1163171 | NA | 14.69%             | 81.06%            | NA | 2012-08-01 | 23.20337 |\n",
       "| 2010-08-25 | 10062 | NA | 2012-09-01 | 1015145 | NA | -12.73%            | 48.24%            | NA | 2012-09-01 | 20.01736 |\n",
       "| 2010-08-26 |  9875 | NA | 2012-10-01 |  856866 | NA | -15.59%            | 20.89%            | NA | 2012-10-01 | 17.99326 |\n",
       "| 2010-08-27 | 12854 | NA | 2012-11-01 |  726893 | NA | -15.17%            | 21.72%            | NA | 2012-11-01 | 16.97739 |\n",
       "| 2010-08-28 | 10116 | NA | 2012-12-01 |  513444 | NA | -29.36%            | 25.62%            | NA | 2012-12-01 | 18.95486 |\n",
       "| ⋮ | ⋮ | ⋮ | ⋮ | ⋮ | ⋮ | ⋮ | ⋮ | ⋮ | ⋮ | ⋮ |\n",
       "| 2022-07-02 | 42316 | NA | NA | NA | NA | NA | NA | NA | NA | NA |\n",
       "| 2022-07-03 | 38719 | NA | NA | NA | NA | NA | NA | NA | NA | NA |\n",
       "| 2022-07-04 | 42140 | NA | NA | NA | NA | NA | NA | NA | NA | NA |\n",
       "| 2022-07-05 | 44717 | NA | NA | NA | NA | NA | NA | NA | NA | NA |\n",
       "| 2022-07-06 | 45401 | NA | NA | NA | NA | NA | NA | NA | NA | NA |\n",
       "| 2022-07-07 | 46050 | NA | NA | NA | NA | NA | NA | NA | NA | NA |\n",
       "| 2022-07-08 | 44741 | NA | NA | NA | NA | NA | NA | NA | NA | NA |\n",
       "| 2022-07-09 | 47058 | NA | NA | NA | NA | NA | NA | NA | NA | NA |\n",
       "| 2022-07-10 | 44154 | NA | NA | NA | NA | NA | NA | NA | NA | NA |\n",
       "| 2022-07-11 | 42739 | NA | NA | NA | NA | NA | NA | NA | NA | NA |\n",
       "| 2022-07-12 | 45037 | NA | NA | NA | NA | NA | NA | NA | NA | NA |\n",
       "| 2022-07-13 | 46715 | NA | NA | NA | NA | NA | NA | NA | NA | NA |\n",
       "| 2022-07-14 | 46293 | NA | NA | NA | NA | NA | NA | NA | NA | NA |\n",
       "| 2022-07-15 | 45023 | NA | NA | NA | NA | NA | NA | NA | NA | NA |\n",
       "| 2022-07-16 | 48260 | NA | NA | NA | NA | NA | NA | NA | NA | NA |\n",
       "| 2022-07-17 | 40796 | NA | NA | NA | NA | NA | NA | NA | NA | NA |\n",
       "| 2022-07-18 | 38798 | NA | NA | NA | NA | NA | NA | NA | NA | NA |\n",
       "| 2022-07-19 | 36895 | NA | NA | NA | NA | NA | NA | NA | NA | NA |\n",
       "| 2022-07-20 | 42070 | NA | NA | NA | NA | NA | NA | NA | NA | NA |\n",
       "| 2022-07-21 | 41430 | NA | NA | NA | NA | NA | NA | NA | NA | NA |\n",
       "| 2022-07-22 | 39453 | NA | NA | NA | NA | NA | NA | NA | NA | NA |\n",
       "| 2022-07-23 | 43414 | NA | NA | NA | NA | NA | NA | NA | NA | NA |\n",
       "| 2022-07-24 | 40175 | NA | NA | NA | NA | NA | NA | NA | NA | NA |\n",
       "| 2022-07-25 | 38114 | NA | NA | NA | NA | NA | NA | NA | NA | NA |\n",
       "| 2022-07-26 | 41296 | NA | NA | NA | NA | NA | NA | NA | NA | NA |\n",
       "| 2022-07-27 | 39282 | NA | NA | NA | NA | NA | NA | NA | NA | NA |\n",
       "| 2022-07-28 | 43096 | NA | NA | NA | NA | NA | NA | NA | NA | NA |\n",
       "| 2022-07-29 | 41584 | NA | NA | NA | NA | NA | NA | NA | NA | NA |\n",
       "| 2022-07-30 | 42718 | NA | NA | NA | NA | NA | NA | NA | NA | NA |\n",
       "| 2022-07-31 | 36041 | NA | NA | NA | NA | NA | NA | NA | NA | NA |\n",
       "\n"
      ],
      "text/plain": [
       "     Day        Number.of.Bicycle.Hires Col3 Month     \n",
       "1    2010-07-30  6897                   NA   2010-07-01\n",
       "2    2010-07-31  5564                   NA   2010-08-01\n",
       "3    2010-08-01  4303                   NA   2010-09-01\n",
       "4    2010-08-02  6642                   NA   2010-10-01\n",
       "5    2010-08-03  7966                   NA   2010-11-01\n",
       "6    2010-08-04  7893                   NA   2010-12-01\n",
       "7    2010-08-05  8724                   NA   2011-01-01\n",
       "8    2010-08-06  9797                   NA   2011-02-01\n",
       "9    2010-08-07  6631                   NA   2011-03-01\n",
       "10   2010-08-08  7864                   NA   2011-04-01\n",
       "11   2010-08-09  6191                   NA   2011-05-01\n",
       "12   2010-08-10  4802                   NA   2011-06-01\n",
       "13   2010-08-11 14013                   NA   2011-07-01\n",
       "14   2010-08-12 13080                   NA   2011-08-01\n",
       "15   2010-08-13 12151                   NA   2011-09-01\n",
       "16   2010-08-14  9195                   NA   2011-10-01\n",
       "17   2010-08-15 10928                   NA   2011-11-01\n",
       "18   2010-08-16 15384                   NA   2011-12-01\n",
       "19   2010-08-17 15396                   NA   2012-01-01\n",
       "20   2010-08-18 16062                   NA   2012-02-01\n",
       "21   2010-08-19 17170                   NA   2012-03-01\n",
       "22   2010-08-20 16462                   NA   2012-04-01\n",
       "23   2010-08-21 11719                   NA   2012-05-01\n",
       "24   2010-08-22 10129                   NA   2012-06-01\n",
       "25   2010-08-23 12935                   NA   2012-07-01\n",
       "26   2010-08-24 17006                   NA   2012-08-01\n",
       "27   2010-08-25 10062                   NA   2012-09-01\n",
       "28   2010-08-26  9875                   NA   2012-10-01\n",
       "29   2010-08-27 12854                   NA   2012-11-01\n",
       "30   2010-08-28 10116                   NA   2012-12-01\n",
       "⋮    ⋮          ⋮                       ⋮    ⋮         \n",
       "4356 2022-07-02 42316                   NA   <NA>      \n",
       "4357 2022-07-03 38719                   NA   <NA>      \n",
       "4358 2022-07-04 42140                   NA   <NA>      \n",
       "4359 2022-07-05 44717                   NA   <NA>      \n",
       "4360 2022-07-06 45401                   NA   <NA>      \n",
       "4361 2022-07-07 46050                   NA   <NA>      \n",
       "4362 2022-07-08 44741                   NA   <NA>      \n",
       "4363 2022-07-09 47058                   NA   <NA>      \n",
       "4364 2022-07-10 44154                   NA   <NA>      \n",
       "4365 2022-07-11 42739                   NA   <NA>      \n",
       "4366 2022-07-12 45037                   NA   <NA>      \n",
       "4367 2022-07-13 46715                   NA   <NA>      \n",
       "4368 2022-07-14 46293                   NA   <NA>      \n",
       "4369 2022-07-15 45023                   NA   <NA>      \n",
       "4370 2022-07-16 48260                   NA   <NA>      \n",
       "4371 2022-07-17 40796                   NA   <NA>      \n",
       "4372 2022-07-18 38798                   NA   <NA>      \n",
       "4373 2022-07-19 36895                   NA   <NA>      \n",
       "4374 2022-07-20 42070                   NA   <NA>      \n",
       "4375 2022-07-21 41430                   NA   <NA>      \n",
       "4376 2022-07-22 39453                   NA   <NA>      \n",
       "4377 2022-07-23 43414                   NA   <NA>      \n",
       "4378 2022-07-24 40175                   NA   <NA>      \n",
       "4379 2022-07-25 38114                   NA   <NA>      \n",
       "4380 2022-07-26 41296                   NA   <NA>      \n",
       "4381 2022-07-27 39282                   NA   <NA>      \n",
       "4382 2022-07-28 43096                   NA   <NA>      \n",
       "4383 2022-07-29 41584                   NA   <NA>      \n",
       "4384 2022-07-30 42718                   NA   <NA>      \n",
       "4385 2022-07-31 36041                   NA   <NA>      \n",
       "     Number.of.Bicycle.Hires.1 Col6 Year              \n",
       "1      12461                   NA   2010              \n",
       "2     341203                   NA   2011              \n",
       "3     540859                   NA   2012              \n",
       "4     544412                   NA   2013              \n",
       "5     456304                   NA   2014              \n",
       "6     285574                   NA   2015              \n",
       "7     403178                   NA   2016              \n",
       "8     398292                   NA   2017              \n",
       "9     556155                   NA   2018              \n",
       "10    673639                   NA   2019              \n",
       "11    722072                   NA   2020              \n",
       "12    638717                   NA   2021              \n",
       "13    708454                   NA   NA                \n",
       "14    642440                   NA   NA                \n",
       "15    684780                   NA   Against last month\n",
       "16    708802                   NA   3.51%             \n",
       "17    597191                   NA   -15.75%           \n",
       "18    408729                   NA   -31.56%           \n",
       "19    494325                   NA   20.94%            \n",
       "20    481826                   NA   -2.53%            \n",
       "21    818209                   NA   69.81%            \n",
       "22    649473                   NA   -20.62%           \n",
       "23    926952                   NA   42.72%            \n",
       "24    858805                   NA   -7.35%            \n",
       "25   1014174                   NA   18.09%            \n",
       "26   1163171                   NA   14.69%            \n",
       "27   1015145                   NA   -12.73%           \n",
       "28    856866                   NA   -15.59%           \n",
       "29    726893                   NA   -15.17%           \n",
       "30    513444                   NA   -29.36%           \n",
       "⋮    ⋮                         ⋮    ⋮                 \n",
       "4356 NA                        NA   NA                \n",
       "4357 NA                        NA   NA                \n",
       "4358 NA                        NA   NA                \n",
       "4359 NA                        NA   NA                \n",
       "4360 NA                        NA   NA                \n",
       "4361 NA                        NA   NA                \n",
       "4362 NA                        NA   NA                \n",
       "4363 NA                        NA   NA                \n",
       "4364 NA                        NA   NA                \n",
       "4365 NA                        NA   NA                \n",
       "4366 NA                        NA   NA                \n",
       "4367 NA                        NA   NA                \n",
       "4368 NA                        NA   NA                \n",
       "4369 NA                        NA   NA                \n",
       "4370 NA                        NA   NA                \n",
       "4371 NA                        NA   NA                \n",
       "4372 NA                        NA   NA                \n",
       "4373 NA                        NA   NA                \n",
       "4374 NA                        NA   NA                \n",
       "4375 NA                        NA   NA                \n",
       "4376 NA                        NA   NA                \n",
       "4377 NA                        NA   NA                \n",
       "4378 NA                        NA   NA                \n",
       "4379 NA                        NA   NA                \n",
       "4380 NA                        NA   NA                \n",
       "4381 NA                        NA   NA                \n",
       "4382 NA                        NA   NA                \n",
       "4383 NA                        NA   NA                \n",
       "4384 NA                        NA   NA                \n",
       "4385 NA                        NA   NA                \n",
       "     Number.of.Bicycle.Hires.2 Col9 Month.1    Average.Hire.Time..mins.\n",
       "1    2,180,813                 NA   2010-07-01 17.23257                \n",
       "2    7,142,449                 NA   2010-08-01 16.55188                \n",
       "3    9,519,283                 NA   2010-09-01 15.21908                \n",
       "4    8,045,459                 NA   2010-10-01 15.20448                \n",
       "5    10,023,897                NA   2010-11-01 13.77608                \n",
       "6    9,871,839                 NA   2010-12-01 16.82051                \n",
       "7    10,303,637                NA   2011-01-01 16.09323                \n",
       "8    10,446,044                NA   2011-02-01 17.24941                \n",
       "9    10,567,540                NA   2011-03-01 19.95211                \n",
       "10   10,168,936                NA   2011-04-01 26.87884                \n",
       "11   10,434,167                NA   2011-05-01 15.04771                \n",
       "12   10,941,264                NA   2011-06-01 16.39879                \n",
       "13   NA                        NA   2011-07-01 15.60818                \n",
       "14   NA                        NA   2011-08-01 17.57802                \n",
       "15   Against last year         NA   2011-09-01 17.33648                \n",
       "16   30.20%                    NA   2011-10-01 16.97347                \n",
       "17   30.88%                    NA   2011-11-01 15.57492                \n",
       "18   43.13%                    NA   2011-12-01 19.41107                \n",
       "19   22.61%                    NA   2012-01-01 16.90368                \n",
       "20   20.97%                    NA   2012-02-01 17.31854                \n",
       "21   47.12%                    NA   2012-03-01 21.24056                \n",
       "22   -3.59%                    NA   2012-04-01 21.42034                \n",
       "23   28.37%                    NA   2012-05-01 22.05060                \n",
       "24   34.46%                    NA   2012-06-01 22.07958                \n",
       "25   43.15%                    NA   2012-07-01 22.90373                \n",
       "26   81.06%                    NA   2012-08-01 23.20337                \n",
       "27   48.24%                    NA   2012-09-01 20.01736                \n",
       "28   20.89%                    NA   2012-10-01 17.99326                \n",
       "29   21.72%                    NA   2012-11-01 16.97739                \n",
       "30   25.62%                    NA   2012-12-01 18.95486                \n",
       "⋮    ⋮                         ⋮    ⋮          ⋮                       \n",
       "4356 NA                        NA   <NA>       NA                      \n",
       "4357 NA                        NA   <NA>       NA                      \n",
       "4358 NA                        NA   <NA>       NA                      \n",
       "4359 NA                        NA   <NA>       NA                      \n",
       "4360 NA                        NA   <NA>       NA                      \n",
       "4361 NA                        NA   <NA>       NA                      \n",
       "4362 NA                        NA   <NA>       NA                      \n",
       "4363 NA                        NA   <NA>       NA                      \n",
       "4364 NA                        NA   <NA>       NA                      \n",
       "4365 NA                        NA   <NA>       NA                      \n",
       "4366 NA                        NA   <NA>       NA                      \n",
       "4367 NA                        NA   <NA>       NA                      \n",
       "4368 NA                        NA   <NA>       NA                      \n",
       "4369 NA                        NA   <NA>       NA                      \n",
       "4370 NA                        NA   <NA>       NA                      \n",
       "4371 NA                        NA   <NA>       NA                      \n",
       "4372 NA                        NA   <NA>       NA                      \n",
       "4373 NA                        NA   <NA>       NA                      \n",
       "4374 NA                        NA   <NA>       NA                      \n",
       "4375 NA                        NA   <NA>       NA                      \n",
       "4376 NA                        NA   <NA>       NA                      \n",
       "4377 NA                        NA   <NA>       NA                      \n",
       "4378 NA                        NA   <NA>       NA                      \n",
       "4379 NA                        NA   <NA>       NA                      \n",
       "4380 NA                        NA   <NA>       NA                      \n",
       "4381 NA                        NA   <NA>       NA                      \n",
       "4382 NA                        NA   <NA>       NA                      \n",
       "4383 NA                        NA   <NA>       NA                      \n",
       "4384 NA                        NA   <NA>       NA                      \n",
       "4385 NA                        NA   <NA>       NA                      "
      ]
     },
     "metadata": {},
     "output_type": "display_data"
    }
   ],
   "source": [
    "cycle_hire"
   ]
  },
  {
   "cell_type": "code",
   "execution_count": 282,
   "id": "a916bbeb",
   "metadata": {},
   "outputs": [
    {
     "ename": "ERROR",
     "evalue": "Error: (converted from warning) package 'rgdal' is in use and will not be installed\n",
     "output_type": "error",
     "traceback": [
      "Error: (converted from warning) package 'rgdal' is in use and will not be installed\nTraceback:\n",
      "1. install.packages(\"rgdal\")",
      "2. warning(sprintf(ngettext(sum(inuse), \"package %s is in use and will not be installed\", \n .     \"packages %s are in use and will not be installed\"), paste(sQuote(pkgnames[inuse]), \n .     collapse = \", \")), call. = FALSE, domain = NA, immediate. = TRUE)",
      "3. .signalSimpleWarning(\"package 'rgdal' is in use and will not be installed\", \n .     base::quote(NULL))",
      "4. withRestarts({\n .     .Internal(.signalCondition(simpleWarning(msg, call), msg, \n .         call))\n .     .Internal(.dfltWarn(msg, call))\n . }, muffleWarning = function() NULL)",
      "5. withOneRestart(expr, restarts[[1L]])",
      "6. doWithOneRestart(return(expr), restart)"
     ]
    }
   ],
   "source": [
    "install.packages(\"rgdal\")"
   ]
  },
  {
   "cell_type": "code",
   "execution_count": 283,
   "id": "a4725542",
   "metadata": {},
   "outputs": [],
   "source": [
    "library(rgdal)"
   ]
  },
  {
   "cell_type": "code",
   "execution_count": 284,
   "id": "3d10f4cc",
   "metadata": {},
   "outputs": [
    {
     "name": "stdout",
     "output_type": "stream",
     "text": [
      "OGR data source with driver: ESRI Shapefile \n",
      "Source: \"C:\\rscripts\\data\", layer: \"tl_2010_06075_tract10\"\n",
      "with 197 features\n",
      "It has 12 fields\n",
      "Integer64 fields read as strings:  ALAND10 AWATER10 \n"
     ]
    }
   ],
   "source": [
    "SF <- readOGR(dsn = \"C://rscripts//data\", layer = \"tl_2010_06075_tract10\")"
   ]
  },
  {
   "cell_type": "code",
   "execution_count": 285,
   "id": "afde865c",
   "metadata": {},
   "outputs": [
    {
     "data": {
      "image/png": "[encoded data removed]",
      "text/plain": [
       "plot without title"
      ]
     },
     "metadata": {
      "image/png": {
       "height": 420,
       "width": 420
      }
     },
     "output_type": "display_data"
    }
   ],
   "source": [
    "plot(SF)"
   ]
  },
  {
   "cell_type": "code",
   "execution_count": 286,
   "id": "9120e9b0",
   "metadata": {},
   "outputs": [
    {
     "data": {
      "text/html": [
       "<style>\n",
       ".list-inline {list-style: none; margin:0; padding: 0}\n",
       ".list-inline>li {display: inline-block}\n",
       ".list-inline>li:not(:last-child)::after {content: \"\\00b7\"; padding: 0 .5ex}\n",
       "</style>\n",
       "<ol class=list-inline><li>'data'</li><li>'polygons'</li><li>'plotOrder'</li><li>'bbox'</li><li>'proj4string'</li></ol>\n"
      ],
      "text/latex": [
       "\\begin{enumerate*}\n",
       "\\item 'data'\n",
       "\\item 'polygons'\n",
       "\\item 'plotOrder'\n",
       "\\item 'bbox'\n",
       "\\item 'proj4string'\n",
       "\\end{enumerate*}\n"
      ],
      "text/markdown": [
       "1. 'data'\n",
       "2. 'polygons'\n",
       "3. 'plotOrder'\n",
       "4. 'bbox'\n",
       "5. 'proj4string'\n",
       "\n",
       "\n"
      ],
      "text/plain": [
       "[1] \"data\"        \"polygons\"    \"plotOrder\"   \"bbox\"        \"proj4string\""
      ]
     },
     "metadata": {},
     "output_type": "display_data"
    }
   ],
   "source": [
    "slotNames(SF)"
   ]
  },
  {
   "cell_type": "code",
   "execution_count": 287,
   "id": "e8aa2bdf",
   "metadata": {},
   "outputs": [
    {
     "data": {
      "text/html": [
       "<table class=\"dataframe\">\n",
       "<caption>A data.frame: 6 × 12</caption>\n",
       "<thead>\n",
       "\t<tr><th></th><th scope=col>STATEFP10</th><th scope=col>COUNTYFP10</th><th scope=col>TRACTCE10</th><th scope=col>GEOID10</th><th scope=col>NAME10</th><th scope=col>NAMELSAD10</th><th scope=col>MTFCC10</th><th scope=col>FUNCSTAT10</th><th scope=col>ALAND10</th><th scope=col>AWATER10</th><th scope=col>INTPTLAT10</th><th scope=col>INTPTLON10</th></tr>\n",
       "\t<tr><th></th><th scope=col>&lt;chr&gt;</th><th scope=col>&lt;chr&gt;</th><th scope=col>&lt;chr&gt;</th><th scope=col>&lt;chr&gt;</th><th scope=col>&lt;chr&gt;</th><th scope=col>&lt;chr&gt;</th><th scope=col>&lt;chr&gt;</th><th scope=col>&lt;chr&gt;</th><th scope=col>&lt;chr&gt;</th><th scope=col>&lt;chr&gt;</th><th scope=col>&lt;chr&gt;</th><th scope=col>&lt;chr&gt;</th></tr>\n",
       "</thead>\n",
       "<tbody>\n",
       "\t<tr><th scope=row>0</th><td>06</td><td>075</td><td>016500</td><td>06075016500</td><td>165</td><td>Census Tract 165</td><td>G5020</td><td>S</td><td>370459</td><td>0</td><td>+37.7741958</td><td>-122.4477884</td></tr>\n",
       "\t<tr><th scope=row>1</th><td>06</td><td>075</td><td>016400</td><td>06075016400</td><td>164</td><td>Census Tract 164</td><td>G5020</td><td>S</td><td>309097</td><td>0</td><td>+37.7750995</td><td>-122.4369729</td></tr>\n",
       "\t<tr><th scope=row>2</th><td>06</td><td>075</td><td>016300</td><td>06075016300</td><td>163</td><td>Census Tract 163</td><td>G5020</td><td>S</td><td>245867</td><td>0</td><td>+37.7760456</td><td>-122.4295509</td></tr>\n",
       "\t<tr><th scope=row>3</th><td>06</td><td>075</td><td>016100</td><td>06075016100</td><td>161</td><td>Census Tract 161</td><td>G5020</td><td>S</td><td>368901</td><td>0</td><td>+37.7799831</td><td>-122.4286631</td></tr>\n",
       "\t<tr><th scope=row>4</th><td>06</td><td>075</td><td>016000</td><td>06075016000</td><td>160</td><td>Census Tract 160</td><td>G5020</td><td>S</td><td>158236</td><td>0</td><td>+37.7823363</td><td>-122.4224838</td></tr>\n",
       "\t<tr><th scope=row>5</th><td>06</td><td>075</td><td>015900</td><td>06075015900</td><td>159</td><td>Census Tract 159</td><td>G5020</td><td>S</td><td>295388</td><td>0</td><td>+37.7833400</td><td>-122.4293428</td></tr>\n",
       "</tbody>\n",
       "</table>\n"
      ],
      "text/latex": [
       "A data.frame: 6 × 12\n",
       "\\begin{tabular}{r|llllllllllll}\n",
       "  & STATEFP10 & COUNTYFP10 & TRACTCE10 & GEOID10 & NAME10 & NAMELSAD10 & MTFCC10 & FUNCSTAT10 & ALAND10 & AWATER10 & INTPTLAT10 & INTPTLON10\\\\\n",
       "  & <chr> & <chr> & <chr> & <chr> & <chr> & <chr> & <chr> & <chr> & <chr> & <chr> & <chr> & <chr>\\\\\n",
       "\\hline\n",
       "\t0 & 06 & 075 & 016500 & 06075016500 & 165 & Census Tract 165 & G5020 & S & 370459 & 0 & +37.7741958 & -122.4477884\\\\\n",
       "\t1 & 06 & 075 & 016400 & 06075016400 & 164 & Census Tract 164 & G5020 & S & 309097 & 0 & +37.7750995 & -122.4369729\\\\\n",
       "\t2 & 06 & 075 & 016300 & 06075016300 & 163 & Census Tract 163 & G5020 & S & 245867 & 0 & +37.7760456 & -122.4295509\\\\\n",
       "\t3 & 06 & 075 & 016100 & 06075016100 & 161 & Census Tract 161 & G5020 & S & 368901 & 0 & +37.7799831 & -122.4286631\\\\\n",
       "\t4 & 06 & 075 & 016000 & 06075016000 & 160 & Census Tract 160 & G5020 & S & 158236 & 0 & +37.7823363 & -122.4224838\\\\\n",
       "\t5 & 06 & 075 & 015900 & 06075015900 & 159 & Census Tract 159 & G5020 & S & 295388 & 0 & +37.7833400 & -122.4293428\\\\\n",
       "\\end{tabular}\n"
      ],
      "text/markdown": [
       "\n",
       "A data.frame: 6 × 12\n",
       "\n",
       "| <!--/--> | STATEFP10 &lt;chr&gt; | COUNTYFP10 &lt;chr&gt; | TRACTCE10 &lt;chr&gt; | GEOID10 &lt;chr&gt; | NAME10 &lt;chr&gt; | NAMELSAD10 &lt;chr&gt; | MTFCC10 &lt;chr&gt; | FUNCSTAT10 &lt;chr&gt; | ALAND10 &lt;chr&gt; | AWATER10 &lt;chr&gt; | INTPTLAT10 &lt;chr&gt; | INTPTLON10 &lt;chr&gt; |\n",
       "|---|---|---|---|---|---|---|---|---|---|---|---|---|\n",
       "| 0 | 06 | 075 | 016500 | 06075016500 | 165 | Census Tract 165 | G5020 | S | 370459 | 0 | +37.7741958 | -122.4477884 |\n",
       "| 1 | 06 | 075 | 016400 | 06075016400 | 164 | Census Tract 164 | G5020 | S | 309097 | 0 | +37.7750995 | -122.4369729 |\n",
       "| 2 | 06 | 075 | 016300 | 06075016300 | 163 | Census Tract 163 | G5020 | S | 245867 | 0 | +37.7760456 | -122.4295509 |\n",
       "| 3 | 06 | 075 | 016100 | 06075016100 | 161 | Census Tract 161 | G5020 | S | 368901 | 0 | +37.7799831 | -122.4286631 |\n",
       "| 4 | 06 | 075 | 016000 | 06075016000 | 160 | Census Tract 160 | G5020 | S | 158236 | 0 | +37.7823363 | -122.4224838 |\n",
       "| 5 | 06 | 075 | 015900 | 06075015900 | 159 | Census Tract 159 | G5020 | S | 295388 | 0 | +37.7833400 | -122.4293428 |\n",
       "\n"
      ],
      "text/plain": [
       "  STATEFP10 COUNTYFP10 TRACTCE10 GEOID10     NAME10 NAMELSAD10       MTFCC10\n",
       "0 06        075        016500    06075016500 165    Census Tract 165 G5020  \n",
       "1 06        075        016400    06075016400 164    Census Tract 164 G5020  \n",
       "2 06        075        016300    06075016300 163    Census Tract 163 G5020  \n",
       "3 06        075        016100    06075016100 161    Census Tract 161 G5020  \n",
       "4 06        075        016000    06075016000 160    Census Tract 160 G5020  \n",
       "5 06        075        015900    06075015900 159    Census Tract 159 G5020  \n",
       "  FUNCSTAT10 ALAND10 AWATER10 INTPTLAT10  INTPTLON10  \n",
       "0 S          370459  0        +37.7741958 -122.4477884\n",
       "1 S          309097  0        +37.7750995 -122.4369729\n",
       "2 S          245867  0        +37.7760456 -122.4295509\n",
       "3 S          368901  0        +37.7799831 -122.4286631\n",
       "4 S          158236  0        +37.7823363 -122.4224838\n",
       "5 S          295388  0        +37.7833400 -122.4293428"
      ]
     },
     "metadata": {},
     "output_type": "display_data"
    }
   ],
   "source": [
    "head(SF@data)"
   ]
  },
  {
   "cell_type": "code",
   "execution_count": 288,
   "id": "303ba2de",
   "metadata": {},
   "outputs": [],
   "source": [
    "data_311 <- read.csv(\"C://rscripts//data//311.csv\")"
   ]
  },
  {
   "cell_type": "code",
   "execution_count": 289,
   "id": "776beeb4",
   "metadata": {},
   "outputs": [
    {
     "data": {
      "text/html": [
       "<table class=\"dataframe\">\n",
       "<caption>A data.frame: 6 × 4</caption>\n",
       "<thead>\n",
       "\t<tr><th></th><th scope=col>CaseID</th><th scope=col>Category</th><th scope=col>Lat</th><th scope=col>Lon</th></tr>\n",
       "\t<tr><th></th><th scope=col>&lt;int&gt;</th><th scope=col>&lt;chr&gt;</th><th scope=col>&lt;dbl&gt;</th><th scope=col>&lt;dbl&gt;</th></tr>\n",
       "</thead>\n",
       "<tbody>\n",
       "\t<tr><th scope=row>1</th><td>6405492</td><td>Street Defects              </td><td>37.82269</td><td>-122.3632</td></tr>\n",
       "\t<tr><th scope=row>2</th><td>6590944</td><td>Sewer Issues                </td><td>37.81054</td><td>-122.3634</td></tr>\n",
       "\t<tr><th scope=row>3</th><td>5646247</td><td>Abandoned Vehicle           </td><td>37.72862</td><td>-122.3647</td></tr>\n",
       "\t<tr><th scope=row>4</th><td>5547584</td><td>Graffiti Public Property    </td><td>37.72528</td><td>-122.3658</td></tr>\n",
       "\t<tr><th scope=row>5</th><td>6407484</td><td>Street and Sidewalk Cleaning</td><td>37.72541</td><td>-122.3659</td></tr>\n",
       "\t<tr><th scope=row>6</th><td>5503177</td><td>Temporary Sign Request      </td><td>37.81994</td><td>-122.3663</td></tr>\n",
       "</tbody>\n",
       "</table>\n"
      ],
      "text/latex": [
       "A data.frame: 6 × 4\n",
       "\\begin{tabular}{r|llll}\n",
       "  & CaseID & Category & Lat & Lon\\\\\n",
       "  & <int> & <chr> & <dbl> & <dbl>\\\\\n",
       "\\hline\n",
       "\t1 & 6405492 & Street Defects               & 37.82269 & -122.3632\\\\\n",
       "\t2 & 6590944 & Sewer Issues                 & 37.81054 & -122.3634\\\\\n",
       "\t3 & 5646247 & Abandoned Vehicle            & 37.72862 & -122.3647\\\\\n",
       "\t4 & 5547584 & Graffiti Public Property     & 37.72528 & -122.3658\\\\\n",
       "\t5 & 6407484 & Street and Sidewalk Cleaning & 37.72541 & -122.3659\\\\\n",
       "\t6 & 5503177 & Temporary Sign Request       & 37.81994 & -122.3663\\\\\n",
       "\\end{tabular}\n"
      ],
      "text/markdown": [
       "\n",
       "A data.frame: 6 × 4\n",
       "\n",
       "| <!--/--> | CaseID &lt;int&gt; | Category &lt;chr&gt; | Lat &lt;dbl&gt; | Lon &lt;dbl&gt; |\n",
       "|---|---|---|---|---|\n",
       "| 1 | 6405492 | Street Defects               | 37.82269 | -122.3632 |\n",
       "| 2 | 6590944 | Sewer Issues                 | 37.81054 | -122.3634 |\n",
       "| 3 | 5646247 | Abandoned Vehicle            | 37.72862 | -122.3647 |\n",
       "| 4 | 5547584 | Graffiti Public Property     | 37.72528 | -122.3658 |\n",
       "| 5 | 6407484 | Street and Sidewalk Cleaning | 37.72541 | -122.3659 |\n",
       "| 6 | 5503177 | Temporary Sign Request       | 37.81994 | -122.3663 |\n",
       "\n"
      ],
      "text/plain": [
       "  CaseID  Category                     Lat      Lon      \n",
       "1 6405492 Street Defects               37.82269 -122.3632\n",
       "2 6590944 Sewer Issues                 37.81054 -122.3634\n",
       "3 5646247 Abandoned Vehicle            37.72862 -122.3647\n",
       "4 5547584 Graffiti Public Property     37.72528 -122.3658\n",
       "5 6407484 Street and Sidewalk Cleaning 37.72541 -122.3659\n",
       "6 5503177 Temporary Sign Request       37.81994 -122.3663"
      ]
     },
     "metadata": {},
     "output_type": "display_data"
    }
   ],
   "source": [
    "head(data_311)"
   ]
  },
  {
   "cell_type": "code",
   "execution_count": 290,
   "id": "bba97e74",
   "metadata": {},
   "outputs": [],
   "source": [
    "SP_311 <- SpatialPointsDataFrame(coords = data.frame(data_311$Lon, data_311$Lat), data = data.frame(data_311$CaseID,data_311$Category), proj4string = SF@proj4string)"
   ]
  },
  {
   "cell_type": "code",
   "execution_count": 291,
   "id": "1623ebe9",
   "metadata": {},
   "outputs": [
    {
     "data": {
      "image/png": "[encoded data removed]",
      "text/plain": [
       "plot without title"
      ]
     },
     "metadata": {
      "image/png": {
       "height": 420,
       "width": 420
      }
     },
     "output_type": "display_data"
    }
   ],
   "source": [
    "plot(SP_311)"
   ]
  },
  {
   "cell_type": "code",
   "execution_count": 292,
   "id": "87db36b7",
   "metadata": {},
   "outputs": [
    {
     "data": {
      "text/plain": [
       "\n",
       "        311 External Request            Abandoned Vehicle \n",
       "                         179                         5655 \n",
       "  Blocked Street or SideWalk      Catch Basin Maintenance \n",
       "                         941                          161 \n",
       "                  Color Curb             Damaged Property \n",
       "                         146                         1966 \n",
       "      DPW Volunteer Programs             General Requests \n",
       "                           7                         5976 \n",
       "   Graffiti Private Property     Graffiti Public Property \n",
       "                        7436                         9500 \n",
       "            Illegal Postings    Interdepartmental Request \n",
       "                        1137                           90 \n",
       "          Litter Receptacles                MUNI Feedback \n",
       "                        1552                         1928 \n",
       "                Noise Report        Rec and Park Requests \n",
       "                         626                         1304 \n",
       "Residential Building Request                 Sewer Issues \n",
       "                         295                         2432 \n",
       "               SFHA Requests             Sidewalk or Curb \n",
       "                         693                         1822 \n",
       "                 Sign Repair Street and Sidewalk Cleaning \n",
       "                        1219                        41683 \n",
       "              Street Defects                 Streetlights \n",
       "                        2146                         2155 \n",
       "      Temporary Sign Request             Tree Maintenance \n",
       "                        1045                         1764 \n",
       "   Unpermitted Cab Complaint \n",
       "                           6 "
      ]
     },
     "metadata": {},
     "output_type": "display_data"
    }
   ],
   "source": [
    "table(data_311$Category)"
   ]
  },
  {
   "cell_type": "code",
   "execution_count": 293,
   "id": "fd501949",
   "metadata": {},
   "outputs": [],
   "source": [
    "sewer_issues <- subset(data_311,Category == \"Sewer Issues\")"
   ]
  },
  {
   "cell_type": "code",
   "execution_count": 294,
   "id": "37718c71",
   "metadata": {},
   "outputs": [
    {
     "data": {
      "text/html": [
       "<table class=\"dataframe\">\n",
       "<caption>A data.frame: 6 × 4</caption>\n",
       "<thead>\n",
       "\t<tr><th></th><th scope=col>CaseID</th><th scope=col>Category</th><th scope=col>Lat</th><th scope=col>Lon</th></tr>\n",
       "\t<tr><th></th><th scope=col>&lt;int&gt;</th><th scope=col>&lt;chr&gt;</th><th scope=col>&lt;dbl&gt;</th><th scope=col>&lt;dbl&gt;</th></tr>\n",
       "</thead>\n",
       "<tbody>\n",
       "\t<tr><th scope=row>2</th><td>6590944</td><td>Sewer Issues</td><td>37.81054</td><td>-122.3634</td></tr>\n",
       "\t<tr><th scope=row>7</th><td>5514170</td><td>Sewer Issues</td><td>37.81050</td><td>-122.3664</td></tr>\n",
       "\t<tr><th scope=row>31</th><td>6434120</td><td>Sewer Issues</td><td>37.73344</td><td>-122.3716</td></tr>\n",
       "\t<tr><th scope=row>34</th><td>6497361</td><td>Sewer Issues</td><td>37.73344</td><td>-122.3716</td></tr>\n",
       "\t<tr><th scope=row>51</th><td>5518467</td><td>Sewer Issues</td><td>37.73156</td><td>-122.3733</td></tr>\n",
       "\t<tr><th scope=row>75</th><td>6560395</td><td>Sewer Issues</td><td>37.82589</td><td>-122.3751</td></tr>\n",
       "</tbody>\n",
       "</table>\n"
      ],
      "text/latex": [
       "A data.frame: 6 × 4\n",
       "\\begin{tabular}{r|llll}\n",
       "  & CaseID & Category & Lat & Lon\\\\\n",
       "  & <int> & <chr> & <dbl> & <dbl>\\\\\n",
       "\\hline\n",
       "\t2 & 6590944 & Sewer Issues & 37.81054 & -122.3634\\\\\n",
       "\t7 & 5514170 & Sewer Issues & 37.81050 & -122.3664\\\\\n",
       "\t31 & 6434120 & Sewer Issues & 37.73344 & -122.3716\\\\\n",
       "\t34 & 6497361 & Sewer Issues & 37.73344 & -122.3716\\\\\n",
       "\t51 & 5518467 & Sewer Issues & 37.73156 & -122.3733\\\\\n",
       "\t75 & 6560395 & Sewer Issues & 37.82589 & -122.3751\\\\\n",
       "\\end{tabular}\n"
      ],
      "text/markdown": [
       "\n",
       "A data.frame: 6 × 4\n",
       "\n",
       "| <!--/--> | CaseID &lt;int&gt; | Category &lt;chr&gt; | Lat &lt;dbl&gt; | Lon &lt;dbl&gt; |\n",
       "|---|---|---|---|---|\n",
       "| 2 | 6590944 | Sewer Issues | 37.81054 | -122.3634 |\n",
       "| 7 | 5514170 | Sewer Issues | 37.81050 | -122.3664 |\n",
       "| 31 | 6434120 | Sewer Issues | 37.73344 | -122.3716 |\n",
       "| 34 | 6497361 | Sewer Issues | 37.73344 | -122.3716 |\n",
       "| 51 | 5518467 | Sewer Issues | 37.73156 | -122.3733 |\n",
       "| 75 | 6560395 | Sewer Issues | 37.82589 | -122.3751 |\n",
       "\n"
      ],
      "text/plain": [
       "   CaseID  Category     Lat      Lon      \n",
       "2  6590944 Sewer Issues 37.81054 -122.3634\n",
       "7  5514170 Sewer Issues 37.81050 -122.3664\n",
       "31 6434120 Sewer Issues 37.73344 -122.3716\n",
       "34 6497361 Sewer Issues 37.73344 -122.3716\n",
       "51 5518467 Sewer Issues 37.73156 -122.3733\n",
       "75 6560395 Sewer Issues 37.82589 -122.3751"
      ]
     },
     "metadata": {},
     "output_type": "display_data"
    }
   ],
   "source": [
    "head(sewer_issues)"
   ]
  },
  {
   "cell_type": "code",
   "execution_count": 295,
   "id": "3b7d8c03",
   "metadata": {},
   "outputs": [],
   "source": [
    "sewer_issues_IDs <- subset(data_311,Category == \"Sewer Issues\", select = \"CaseID\")"
   ]
  },
  {
   "cell_type": "code",
   "execution_count": 296,
   "id": "e88e514c",
   "metadata": {},
   "outputs": [
    {
     "data": {
      "text/html": [
       "<table class=\"dataframe\">\n",
       "<caption>A data.frame: 6 × 1</caption>\n",
       "<thead>\n",
       "\t<tr><th></th><th scope=col>CaseID</th></tr>\n",
       "\t<tr><th></th><th scope=col>&lt;int&gt;</th></tr>\n",
       "</thead>\n",
       "<tbody>\n",
       "\t<tr><th scope=row>2</th><td>6590944</td></tr>\n",
       "\t<tr><th scope=row>7</th><td>5514170</td></tr>\n",
       "\t<tr><th scope=row>31</th><td>6434120</td></tr>\n",
       "\t<tr><th scope=row>34</th><td>6497361</td></tr>\n",
       "\t<tr><th scope=row>51</th><td>5518467</td></tr>\n",
       "\t<tr><th scope=row>75</th><td>6560395</td></tr>\n",
       "</tbody>\n",
       "</table>\n"
      ],
      "text/latex": [
       "A data.frame: 6 × 1\n",
       "\\begin{tabular}{r|l}\n",
       "  & CaseID\\\\\n",
       "  & <int>\\\\\n",
       "\\hline\n",
       "\t2 & 6590944\\\\\n",
       "\t7 & 5514170\\\\\n",
       "\t31 & 6434120\\\\\n",
       "\t34 & 6497361\\\\\n",
       "\t51 & 5518467\\\\\n",
       "\t75 & 6560395\\\\\n",
       "\\end{tabular}\n"
      ],
      "text/markdown": [
       "\n",
       "A data.frame: 6 × 1\n",
       "\n",
       "| <!--/--> | CaseID &lt;int&gt; |\n",
       "|---|---|\n",
       "| 2 | 6590944 |\n",
       "| 7 | 5514170 |\n",
       "| 31 | 6434120 |\n",
       "| 34 | 6497361 |\n",
       "| 51 | 5518467 |\n",
       "| 75 | 6560395 |\n",
       "\n"
      ],
      "text/plain": [
       "   CaseID \n",
       "2  6590944\n",
       "7  5514170\n",
       "31 6434120\n",
       "34 6497361\n",
       "51 5518467\n",
       "75 6560395"
      ]
     },
     "metadata": {},
     "output_type": "display_data"
    }
   ],
   "source": [
    "head(sewer_issues_IDs)"
   ]
  },
  {
   "cell_type": "code",
   "execution_count": 297,
   "id": "bb20039e",
   "metadata": {},
   "outputs": [
    {
     "data": {
      "image/png": "[encoded data removed]",
      "text/plain": [
       "plot without title"
      ]
     },
     "metadata": {
      "image/png": {
       "height": 420,
       "width": 420
      }
     },
     "output_type": "display_data"
    }
   ],
   "source": [
    "plot(SF[SF@data$GEOID10 != \"06075980401\",])"
   ]
  },
  {
   "cell_type": "code",
   "execution_count": 298,
   "id": "f26eda1c",
   "metadata": {},
   "outputs": [
    {
     "data": {
      "image/png": "[encoded data removed]",
      "text/plain": [
       "plot without title"
      ]
     },
     "metadata": {
      "image/png": {
       "height": 420,
       "width": 420
      }
     },
     "output_type": "display_data"
    }
   ],
   "source": [
    "plot(SF[SF@data$GEOID10 == \"06075980401\",])"
   ]
  },
  {
   "cell_type": "code",
   "execution_count": 299,
   "id": "1279e297",
   "metadata": {},
   "outputs": [],
   "source": [
    "SF <- SF[SF@data$GEOID10 != \"06075980401\",]"
   ]
  },
  {
   "cell_type": "code",
   "execution_count": 300,
   "id": "1d4ab4e3",
   "metadata": {},
   "outputs": [
    {
     "data": {
      "image/png": "[encoded data removed]",
      "text/plain": [
       "plot without title"
      ]
     },
     "metadata": {
      "image/png": {
       "height": 420,
       "width": 420
      }
     },
     "output_type": "display_data"
    }
   ],
   "source": [
    "plot(SF)"
   ]
  },
  {
   "cell_type": "code",
   "execution_count": 301,
   "id": "913b577c",
   "metadata": {},
   "outputs": [],
   "source": [
    "library(\"raster\")"
   ]
  },
  {
   "cell_type": "code",
   "execution_count": 302,
   "id": "b49669aa",
   "metadata": {},
   "outputs": [
    {
     "name": "stdout",
     "output_type": "stream",
     "text": [
      "OGR data source with driver: ESRI Shapefile \n",
      "Source: \"C:\\rscripts\\data\", layer: \"cb_2015_us_county_500k\"\n",
      "with 3233 features\n",
      "It has 9 fields\n",
      "Integer64 fields read as strings:  ALAND AWATER \n"
     ]
    }
   ],
   "source": [
    "coast <- readOGR(dsn = \"C://rscripts//data\", layer = \"cb_2015_us_county_500k\")"
   ]
  },
  {
   "cell_type": "code",
   "execution_count": 405,
   "id": "5f13dfb8",
   "metadata": {},
   "outputs": [],
   "source": [
    "SF_clipped <- crop(SF, coast)"
   ]
  },
  {
   "cell_type": "code",
   "execution_count": 406,
   "id": "419fdd92",
   "metadata": {},
   "outputs": [
    {
     "data": {
      "image/png": "[encoded data removed]",
      "text/plain": [
       "plot without title"
      ]
     },
     "metadata": {
      "image/png": {
       "height": 420,
       "width": 420
      }
     },
     "output_type": "display_data"
    }
   ],
   "source": [
    "plot(SF_clipped)"
   ]
  },
  {
   "cell_type": "code",
   "execution_count": 305,
   "id": "186ef918",
   "metadata": {},
   "outputs": [],
   "source": [
    "library(spatialEco)"
   ]
  },
  {
   "cell_type": "code",
   "execution_count": 324,
   "id": "2bf9225c",
   "metadata": {},
   "outputs": [],
   "source": [
    "SP_311_PIP <- point.in.poly(SP_311, coast)"
   ]
  },
  {
   "cell_type": "code",
   "execution_count": 326,
   "id": "fc434a2c",
   "metadata": {},
   "outputs": [
    {
     "data": {
      "image/png": "[encoded data removed]",
      "text/plain": [
       "plot without title"
      ]
     },
     "metadata": {
      "image/png": {
       "height": 420,
       "width": 420
      }
     },
     "output_type": "display_data"
    }
   ],
   "source": [
    "plot(SP_311_PIP)\n"
   ]
  },
  {
   "cell_type": "code",
   "execution_count": 339,
   "id": "ee514501",
   "metadata": {},
   "outputs": [],
   "source": [
    "bachelors <- read.csv(\"C://rscripts//data/ACS_14_5YR_S2001_with_ann.csv\")"
   ]
  },
  {
   "cell_type": "code",
   "execution_count": 340,
   "id": "0c8f6328",
   "metadata": {},
   "outputs": [
    {
     "data": {
      "text/html": [
       "<table class=\"dataframe\">\n",
       "<caption>A data.frame: 6 × 5</caption>\n",
       "<thead>\n",
       "\t<tr><th></th><th scope=col>UID</th><th scope=col>pop</th><th scope=col>pop_m</th><th scope=col>earnings</th><th scope=col>earnings_m</th></tr>\n",
       "\t<tr><th></th><th scope=col>&lt;dbl&gt;</th><th scope=col>&lt;int&gt;</th><th scope=col>&lt;int&gt;</th><th scope=col>&lt;chr&gt;</th><th scope=col>&lt;chr&gt;</th></tr>\n",
       "</thead>\n",
       "<tbody>\n",
       "\t<tr><th scope=row>1</th><td>6075010100</td><td>2371</td><td>226</td><td>49954 </td><td>15503</td></tr>\n",
       "\t<tr><th scope=row>2</th><td>6075010200</td><td>2975</td><td>315</td><td>75984 </td><td>10892</td></tr>\n",
       "\t<tr><th scope=row>3</th><td>6075010300</td><td>2748</td><td>324</td><td>47586 </td><td>10549</td></tr>\n",
       "\t<tr><th scope=row>4</th><td>6075010400</td><td>3668</td><td>442</td><td>48931 </td><td>6531 </td></tr>\n",
       "\t<tr><th scope=row>5</th><td>6075010500</td><td>1562</td><td>198</td><td>110076</td><td>5331 </td></tr>\n",
       "\t<tr><th scope=row>6</th><td>6075010600</td><td>2172</td><td>374</td><td>22074 </td><td>8666 </td></tr>\n",
       "</tbody>\n",
       "</table>\n"
      ],
      "text/latex": [
       "A data.frame: 6 × 5\n",
       "\\begin{tabular}{r|lllll}\n",
       "  & UID & pop & pop\\_m & earnings & earnings\\_m\\\\\n",
       "  & <dbl> & <int> & <int> & <chr> & <chr>\\\\\n",
       "\\hline\n",
       "\t1 & 6075010100 & 2371 & 226 & 49954  & 15503\\\\\n",
       "\t2 & 6075010200 & 2975 & 315 & 75984  & 10892\\\\\n",
       "\t3 & 6075010300 & 2748 & 324 & 47586  & 10549\\\\\n",
       "\t4 & 6075010400 & 3668 & 442 & 48931  & 6531 \\\\\n",
       "\t5 & 6075010500 & 1562 & 198 & 110076 & 5331 \\\\\n",
       "\t6 & 6075010600 & 2172 & 374 & 22074  & 8666 \\\\\n",
       "\\end{tabular}\n"
      ],
      "text/markdown": [
       "\n",
       "A data.frame: 6 × 5\n",
       "\n",
       "| <!--/--> | UID &lt;dbl&gt; | pop &lt;int&gt; | pop_m &lt;int&gt; | earnings &lt;chr&gt; | earnings_m &lt;chr&gt; |\n",
       "|---|---|---|---|---|---|\n",
       "| 1 | 6075010100 | 2371 | 226 | 49954  | 15503 |\n",
       "| 2 | 6075010200 | 2975 | 315 | 75984  | 10892 |\n",
       "| 3 | 6075010300 | 2748 | 324 | 47586  | 10549 |\n",
       "| 4 | 6075010400 | 3668 | 442 | 48931  | 6531  |\n",
       "| 5 | 6075010500 | 1562 | 198 | 110076 | 5331  |\n",
       "| 6 | 6075010600 | 2172 | 374 | 22074  | 8666  |\n",
       "\n"
      ],
      "text/plain": [
       "  UID        pop  pop_m earnings earnings_m\n",
       "1 6075010100 2371 226   49954    15503     \n",
       "2 6075010200 2975 315   75984    10892     \n",
       "3 6075010300 2748 324   47586    10549     \n",
       "4 6075010400 3668 442   48931    6531      \n",
       "5 6075010500 1562 198   110076   5331      \n",
       "6 6075010600 2172 374   22074    8666      "
      ]
     },
     "metadata": {},
     "output_type": "display_data"
    }
   ],
   "source": [
    "head(bachelors)"
   ]
  },
  {
   "cell_type": "code",
   "execution_count": 341,
   "id": "7c5f84a1",
   "metadata": {},
   "outputs": [],
   "source": [
    "SF_Tract_ACS <- merge(x=earnings,y=bachelors,by.x=\"UID\",by.y=\"UID\")"
   ]
  },
  {
   "cell_type": "code",
   "execution_count": 342,
   "id": "a8cf6664",
   "metadata": {},
   "outputs": [],
   "source": [
    "SF_Tract_ACS <- merge(earnings,bachelors,by=\"UID\")"
   ]
  },
  {
   "cell_type": "code",
   "execution_count": 346,
   "id": "2d0f8859",
   "metadata": {},
   "outputs": [
    {
     "data": {
      "text/html": [
       "<table class=\"dataframe\">\n",
       "<caption>A data.frame: 6 × 7</caption>\n",
       "<thead>\n",
       "\t<tr><th></th><th scope=col>UID</th><th scope=col>Bachelor_Higher</th><th scope=col>Bachelor_Higher_m</th><th scope=col>pop</th><th scope=col>pop_m</th><th scope=col>earnings</th><th scope=col>earnings_m</th></tr>\n",
       "\t<tr><th></th><th scope=col>&lt;dbl&gt;</th><th scope=col>&lt;chr&gt;</th><th scope=col>&lt;chr&gt;</th><th scope=col>&lt;int&gt;</th><th scope=col>&lt;int&gt;</th><th scope=col>&lt;chr&gt;</th><th scope=col>&lt;chr&gt;</th></tr>\n",
       "</thead>\n",
       "<tbody>\n",
       "\t<tr><th scope=row>1</th><td>6075010100</td><td>44.3</td><td>19.5</td><td>2371</td><td>226</td><td>49954 </td><td>15503</td></tr>\n",
       "\t<tr><th scope=row>2</th><td>6075010200</td><td>58.8</td><td>30.8</td><td>2975</td><td>315</td><td>75984 </td><td>10892</td></tr>\n",
       "\t<tr><th scope=row>3</th><td>6075010300</td><td>48.8</td><td>13.2</td><td>2748</td><td>324</td><td>47586 </td><td>10549</td></tr>\n",
       "\t<tr><th scope=row>4</th><td>6075010400</td><td>35.9</td><td>26.1</td><td>3668</td><td>442</td><td>48931 </td><td>6531 </td></tr>\n",
       "\t<tr><th scope=row>5</th><td>6075010500</td><td>39.2</td><td>33.7</td><td>1562</td><td>198</td><td>110076</td><td>5331 </td></tr>\n",
       "\t<tr><th scope=row>6</th><td>6075010600</td><td>34.1</td><td>23  </td><td>2172</td><td>374</td><td>22074 </td><td>8666 </td></tr>\n",
       "</tbody>\n",
       "</table>\n"
      ],
      "text/latex": [
       "A data.frame: 6 × 7\n",
       "\\begin{tabular}{r|lllllll}\n",
       "  & UID & Bachelor\\_Higher & Bachelor\\_Higher\\_m & pop & pop\\_m & earnings & earnings\\_m\\\\\n",
       "  & <dbl> & <chr> & <chr> & <int> & <int> & <chr> & <chr>\\\\\n",
       "\\hline\n",
       "\t1 & 6075010100 & 44.3 & 19.5 & 2371 & 226 & 49954  & 15503\\\\\n",
       "\t2 & 6075010200 & 58.8 & 30.8 & 2975 & 315 & 75984  & 10892\\\\\n",
       "\t3 & 6075010300 & 48.8 & 13.2 & 2748 & 324 & 47586  & 10549\\\\\n",
       "\t4 & 6075010400 & 35.9 & 26.1 & 3668 & 442 & 48931  & 6531 \\\\\n",
       "\t5 & 6075010500 & 39.2 & 33.7 & 1562 & 198 & 110076 & 5331 \\\\\n",
       "\t6 & 6075010600 & 34.1 & 23   & 2172 & 374 & 22074  & 8666 \\\\\n",
       "\\end{tabular}\n"
      ],
      "text/markdown": [
       "\n",
       "A data.frame: 6 × 7\n",
       "\n",
       "| <!--/--> | UID &lt;dbl&gt; | Bachelor_Higher &lt;chr&gt; | Bachelor_Higher_m &lt;chr&gt; | pop &lt;int&gt; | pop_m &lt;int&gt; | earnings &lt;chr&gt; | earnings_m &lt;chr&gt; |\n",
       "|---|---|---|---|---|---|---|---|\n",
       "| 1 | 6075010100 | 44.3 | 19.5 | 2371 | 226 | 49954  | 15503 |\n",
       "| 2 | 6075010200 | 58.8 | 30.8 | 2975 | 315 | 75984  | 10892 |\n",
       "| 3 | 6075010300 | 48.8 | 13.2 | 2748 | 324 | 47586  | 10549 |\n",
       "| 4 | 6075010400 | 35.9 | 26.1 | 3668 | 442 | 48931  | 6531  |\n",
       "| 5 | 6075010500 | 39.2 | 33.7 | 1562 | 198 | 110076 | 5331  |\n",
       "| 6 | 6075010600 | 34.1 | 23   | 2172 | 374 | 22074  | 8666  |\n",
       "\n"
      ],
      "text/plain": [
       "  UID        Bachelor_Higher Bachelor_Higher_m pop  pop_m earnings earnings_m\n",
       "1 6075010100 44.3            19.5              2371 226   49954    15503     \n",
       "2 6075010200 58.8            30.8              2975 315   75984    10892     \n",
       "3 6075010300 48.8            13.2              2748 324   47586    10549     \n",
       "4 6075010400 35.9            26.1              3668 442   48931    6531      \n",
       "5 6075010500 39.2            33.7              1562 198   110076   5331      \n",
       "6 6075010600 34.1            23                2172 374   22074    8666      "
      ]
     },
     "metadata": {},
     "output_type": "display_data"
    }
   ],
   "source": [
    "head(SF_Tract_ACS)\n"
   ]
  },
  {
   "cell_type": "code",
   "execution_count": 347,
   "id": "436f3102",
   "metadata": {},
   "outputs": [
    {
     "ename": "ERROR",
     "evalue": "Error in `[.data.frame`(SF_clipped@data, , \"GEOID10\"): undefined columns selected\n",
     "output_type": "error",
     "traceback": [
      "Error in `[.data.frame`(SF_clipped@data, , \"GEOID10\"): undefined columns selected\nTraceback:\n",
      "1. data.frame(SF_clipped@data[, \"GEOID10\"])",
      "2. SF_clipped@data[, \"GEOID10\"]",
      "3. `[.data.frame`(SF_clipped@data, , \"GEOID10\")",
      "4. stop(\"undefined columns selected\")"
     ]
    }
   ],
   "source": [
    "SF_clipped@data <- data.frame(SF_clipped@data[,\"GEOID10\"])"
   ]
  },
  {
   "cell_type": "code",
   "execution_count": 348,
   "id": "db6bd9bb",
   "metadata": {},
   "outputs": [
    {
     "data": {
      "text/html": [
       "<table class=\"dataframe\">\n",
       "<caption>A data.frame: 6 × 1</caption>\n",
       "<thead>\n",
       "\t<tr><th></th><th scope=col>SF_clipped.data....GEOID10..</th></tr>\n",
       "\t<tr><th></th><th scope=col>&lt;chr&gt;</th></tr>\n",
       "</thead>\n",
       "<tbody>\n",
       "\t<tr><th scope=row>1</th><td>06075016500</td></tr>\n",
       "\t<tr><th scope=row>2</th><td>06075016400</td></tr>\n",
       "\t<tr><th scope=row>3</th><td>06075016300</td></tr>\n",
       "\t<tr><th scope=row>4</th><td>06075016100</td></tr>\n",
       "\t<tr><th scope=row>5</th><td>06075016000</td></tr>\n",
       "\t<tr><th scope=row>6</th><td>06075015900</td></tr>\n",
       "</tbody>\n",
       "</table>\n"
      ],
      "text/latex": [
       "A data.frame: 6 × 1\n",
       "\\begin{tabular}{r|l}\n",
       "  & SF\\_clipped.data....GEOID10..\\\\\n",
       "  & <chr>\\\\\n",
       "\\hline\n",
       "\t1 & 06075016500\\\\\n",
       "\t2 & 06075016400\\\\\n",
       "\t3 & 06075016300\\\\\n",
       "\t4 & 06075016100\\\\\n",
       "\t5 & 06075016000\\\\\n",
       "\t6 & 06075015900\\\\\n",
       "\\end{tabular}\n"
      ],
      "text/markdown": [
       "\n",
       "A data.frame: 6 × 1\n",
       "\n",
       "| <!--/--> | SF_clipped.data....GEOID10.. &lt;chr&gt; |\n",
       "|---|---|\n",
       "| 1 | 06075016500 |\n",
       "| 2 | 06075016400 |\n",
       "| 3 | 06075016300 |\n",
       "| 4 | 06075016100 |\n",
       "| 5 | 06075016000 |\n",
       "| 6 | 06075015900 |\n",
       "\n"
      ],
      "text/plain": [
       "  SF_clipped.data....GEOID10..\n",
       "1 06075016500                 \n",
       "2 06075016400                 \n",
       "3 06075016300                 \n",
       "4 06075016100                 \n",
       "5 06075016000                 \n",
       "6 06075015900                 "
      ]
     },
     "metadata": {},
     "output_type": "display_data"
    }
   ],
   "source": [
    "head(SF_clipped)"
   ]
  },
  {
   "cell_type": "code",
   "execution_count": 349,
   "id": "e5637124",
   "metadata": {},
   "outputs": [
    {
     "data": {
      "text/html": [
       "<table class=\"dataframe\">\n",
       "<caption>A data.frame: 6 × 1</caption>\n",
       "<thead>\n",
       "\t<tr><th></th><th scope=col>GEOID10</th></tr>\n",
       "\t<tr><th></th><th scope=col>&lt;chr&gt;</th></tr>\n",
       "</thead>\n",
       "<tbody>\n",
       "\t<tr><th scope=row>1</th><td>06075016500</td></tr>\n",
       "\t<tr><th scope=row>2</th><td>06075016400</td></tr>\n",
       "\t<tr><th scope=row>3</th><td>06075016300</td></tr>\n",
       "\t<tr><th scope=row>4</th><td>06075016100</td></tr>\n",
       "\t<tr><th scope=row>5</th><td>06075016000</td></tr>\n",
       "\t<tr><th scope=row>6</th><td>06075015900</td></tr>\n",
       "</tbody>\n",
       "</table>\n"
      ],
      "text/latex": [
       "A data.frame: 6 × 1\n",
       "\\begin{tabular}{r|l}\n",
       "  & GEOID10\\\\\n",
       "  & <chr>\\\\\n",
       "\\hline\n",
       "\t1 & 06075016500\\\\\n",
       "\t2 & 06075016400\\\\\n",
       "\t3 & 06075016300\\\\\n",
       "\t4 & 06075016100\\\\\n",
       "\t5 & 06075016000\\\\\n",
       "\t6 & 06075015900\\\\\n",
       "\\end{tabular}\n"
      ],
      "text/markdown": [
       "\n",
       "A data.frame: 6 × 1\n",
       "\n",
       "| <!--/--> | GEOID10 &lt;chr&gt; |\n",
       "|---|---|\n",
       "| 1 | 06075016500 |\n",
       "| 2 | 06075016400 |\n",
       "| 3 | 06075016300 |\n",
       "| 4 | 06075016100 |\n",
       "| 5 | 06075016000 |\n",
       "| 6 | 06075015900 |\n",
       "\n"
      ],
      "text/plain": [
       "  GEOID10    \n",
       "1 06075016500\n",
       "2 06075016400\n",
       "3 06075016300\n",
       "4 06075016100\n",
       "5 06075016000\n",
       "6 06075015900"
      ]
     },
     "metadata": {},
     "output_type": "display_data"
    }
   ],
   "source": [
    "colnames(SF_clipped@data) <- \"GEOID10\" #Update column names\n",
    "head(SF_clipped@data) #Check the updated values"
   ]
  },
  {
   "cell_type": "code",
   "execution_count": 350,
   "id": "ef10931e",
   "metadata": {},
   "outputs": [
    {
     "data": {
      "text/html": [
       "<table class=\"dataframe\">\n",
       "<caption>A data.frame: 6 × 7</caption>\n",
       "<thead>\n",
       "\t<tr><th></th><th scope=col>UID</th><th scope=col>Bachelor_Higher</th><th scope=col>Bachelor_Higher_m</th><th scope=col>pop</th><th scope=col>pop_m</th><th scope=col>earnings</th><th scope=col>earnings_m</th></tr>\n",
       "\t<tr><th></th><th scope=col>&lt;dbl&gt;</th><th scope=col>&lt;chr&gt;</th><th scope=col>&lt;chr&gt;</th><th scope=col>&lt;int&gt;</th><th scope=col>&lt;int&gt;</th><th scope=col>&lt;chr&gt;</th><th scope=col>&lt;chr&gt;</th></tr>\n",
       "</thead>\n",
       "<tbody>\n",
       "\t<tr><th scope=row>1</th><td>6075010100</td><td>44.3</td><td>19.5</td><td>2371</td><td>226</td><td>49954 </td><td>15503</td></tr>\n",
       "\t<tr><th scope=row>2</th><td>6075010200</td><td>58.8</td><td>30.8</td><td>2975</td><td>315</td><td>75984 </td><td>10892</td></tr>\n",
       "\t<tr><th scope=row>3</th><td>6075010300</td><td>48.8</td><td>13.2</td><td>2748</td><td>324</td><td>47586 </td><td>10549</td></tr>\n",
       "\t<tr><th scope=row>4</th><td>6075010400</td><td>35.9</td><td>26.1</td><td>3668</td><td>442</td><td>48931 </td><td>6531 </td></tr>\n",
       "\t<tr><th scope=row>5</th><td>6075010500</td><td>39.2</td><td>33.7</td><td>1562</td><td>198</td><td>110076</td><td>5331 </td></tr>\n",
       "\t<tr><th scope=row>6</th><td>6075010600</td><td>34.1</td><td>23  </td><td>2172</td><td>374</td><td>22074 </td><td>8666 </td></tr>\n",
       "</tbody>\n",
       "</table>\n"
      ],
      "text/latex": [
       "A data.frame: 6 × 7\n",
       "\\begin{tabular}{r|lllllll}\n",
       "  & UID & Bachelor\\_Higher & Bachelor\\_Higher\\_m & pop & pop\\_m & earnings & earnings\\_m\\\\\n",
       "  & <dbl> & <chr> & <chr> & <int> & <int> & <chr> & <chr>\\\\\n",
       "\\hline\n",
       "\t1 & 6075010100 & 44.3 & 19.5 & 2371 & 226 & 49954  & 15503\\\\\n",
       "\t2 & 6075010200 & 58.8 & 30.8 & 2975 & 315 & 75984  & 10892\\\\\n",
       "\t3 & 6075010300 & 48.8 & 13.2 & 2748 & 324 & 47586  & 10549\\\\\n",
       "\t4 & 6075010400 & 35.9 & 26.1 & 3668 & 442 & 48931  & 6531 \\\\\n",
       "\t5 & 6075010500 & 39.2 & 33.7 & 1562 & 198 & 110076 & 5331 \\\\\n",
       "\t6 & 6075010600 & 34.1 & 23   & 2172 & 374 & 22074  & 8666 \\\\\n",
       "\\end{tabular}\n"
      ],
      "text/markdown": [
       "\n",
       "A data.frame: 6 × 7\n",
       "\n",
       "| <!--/--> | UID &lt;dbl&gt; | Bachelor_Higher &lt;chr&gt; | Bachelor_Higher_m &lt;chr&gt; | pop &lt;int&gt; | pop_m &lt;int&gt; | earnings &lt;chr&gt; | earnings_m &lt;chr&gt; |\n",
       "|---|---|---|---|---|---|---|---|\n",
       "| 1 | 6075010100 | 44.3 | 19.5 | 2371 | 226 | 49954  | 15503 |\n",
       "| 2 | 6075010200 | 58.8 | 30.8 | 2975 | 315 | 75984  | 10892 |\n",
       "| 3 | 6075010300 | 48.8 | 13.2 | 2748 | 324 | 47586  | 10549 |\n",
       "| 4 | 6075010400 | 35.9 | 26.1 | 3668 | 442 | 48931  | 6531  |\n",
       "| 5 | 6075010500 | 39.2 | 33.7 | 1562 | 198 | 110076 | 5331  |\n",
       "| 6 | 6075010600 | 34.1 | 23   | 2172 | 374 | 22074  | 8666  |\n",
       "\n"
      ],
      "text/plain": [
       "  UID        Bachelor_Higher Bachelor_Higher_m pop  pop_m earnings earnings_m\n",
       "1 6075010100 44.3            19.5              2371 226   49954    15503     \n",
       "2 6075010200 58.8            30.8              2975 315   75984    10892     \n",
       "3 6075010300 48.8            13.2              2748 324   47586    10549     \n",
       "4 6075010400 35.9            26.1              3668 442   48931    6531      \n",
       "5 6075010500 39.2            33.7              1562 198   110076   5331      \n",
       "6 6075010600 34.1            23                2172 374   22074    8666      "
      ]
     },
     "metadata": {},
     "output_type": "display_data"
    }
   ],
   "source": [
    "head(SF_Tract_ACS)"
   ]
  },
  {
   "cell_type": "code",
   "execution_count": 351,
   "id": "edf3a7e9",
   "metadata": {},
   "outputs": [],
   "source": [
    "SF_Tract_ACS$GEOID10 <- paste0(\"0\",SF_Tract_ACS$UID)"
   ]
  },
  {
   "cell_type": "code",
   "execution_count": 352,
   "id": "0f1a78bd",
   "metadata": {},
   "outputs": [
    {
     "data": {
      "text/html": [
       "<table class=\"dataframe\">\n",
       "<caption>A data.frame: 6 × 8</caption>\n",
       "<thead>\n",
       "\t<tr><th></th><th scope=col>UID</th><th scope=col>Bachelor_Higher</th><th scope=col>Bachelor_Higher_m</th><th scope=col>pop</th><th scope=col>pop_m</th><th scope=col>earnings</th><th scope=col>earnings_m</th><th scope=col>GEOID10</th></tr>\n",
       "\t<tr><th></th><th scope=col>&lt;dbl&gt;</th><th scope=col>&lt;chr&gt;</th><th scope=col>&lt;chr&gt;</th><th scope=col>&lt;int&gt;</th><th scope=col>&lt;int&gt;</th><th scope=col>&lt;chr&gt;</th><th scope=col>&lt;chr&gt;</th><th scope=col>&lt;chr&gt;</th></tr>\n",
       "</thead>\n",
       "<tbody>\n",
       "\t<tr><th scope=row>1</th><td>6075010100</td><td>44.3</td><td>19.5</td><td>2371</td><td>226</td><td>49954 </td><td>15503</td><td>06075010100</td></tr>\n",
       "\t<tr><th scope=row>2</th><td>6075010200</td><td>58.8</td><td>30.8</td><td>2975</td><td>315</td><td>75984 </td><td>10892</td><td>06075010200</td></tr>\n",
       "\t<tr><th scope=row>3</th><td>6075010300</td><td>48.8</td><td>13.2</td><td>2748</td><td>324</td><td>47586 </td><td>10549</td><td>06075010300</td></tr>\n",
       "\t<tr><th scope=row>4</th><td>6075010400</td><td>35.9</td><td>26.1</td><td>3668</td><td>442</td><td>48931 </td><td>6531 </td><td>06075010400</td></tr>\n",
       "\t<tr><th scope=row>5</th><td>6075010500</td><td>39.2</td><td>33.7</td><td>1562</td><td>198</td><td>110076</td><td>5331 </td><td>06075010500</td></tr>\n",
       "\t<tr><th scope=row>6</th><td>6075010600</td><td>34.1</td><td>23  </td><td>2172</td><td>374</td><td>22074 </td><td>8666 </td><td>06075010600</td></tr>\n",
       "</tbody>\n",
       "</table>\n"
      ],
      "text/latex": [
       "A data.frame: 6 × 8\n",
       "\\begin{tabular}{r|llllllll}\n",
       "  & UID & Bachelor\\_Higher & Bachelor\\_Higher\\_m & pop & pop\\_m & earnings & earnings\\_m & GEOID10\\\\\n",
       "  & <dbl> & <chr> & <chr> & <int> & <int> & <chr> & <chr> & <chr>\\\\\n",
       "\\hline\n",
       "\t1 & 6075010100 & 44.3 & 19.5 & 2371 & 226 & 49954  & 15503 & 06075010100\\\\\n",
       "\t2 & 6075010200 & 58.8 & 30.8 & 2975 & 315 & 75984  & 10892 & 06075010200\\\\\n",
       "\t3 & 6075010300 & 48.8 & 13.2 & 2748 & 324 & 47586  & 10549 & 06075010300\\\\\n",
       "\t4 & 6075010400 & 35.9 & 26.1 & 3668 & 442 & 48931  & 6531  & 06075010400\\\\\n",
       "\t5 & 6075010500 & 39.2 & 33.7 & 1562 & 198 & 110076 & 5331  & 06075010500\\\\\n",
       "\t6 & 6075010600 & 34.1 & 23   & 2172 & 374 & 22074  & 8666  & 06075010600\\\\\n",
       "\\end{tabular}\n"
      ],
      "text/markdown": [
       "\n",
       "A data.frame: 6 × 8\n",
       "\n",
       "| <!--/--> | UID &lt;dbl&gt; | Bachelor_Higher &lt;chr&gt; | Bachelor_Higher_m &lt;chr&gt; | pop &lt;int&gt; | pop_m &lt;int&gt; | earnings &lt;chr&gt; | earnings_m &lt;chr&gt; | GEOID10 &lt;chr&gt; |\n",
       "|---|---|---|---|---|---|---|---|---|\n",
       "| 1 | 6075010100 | 44.3 | 19.5 | 2371 | 226 | 49954  | 15503 | 06075010100 |\n",
       "| 2 | 6075010200 | 58.8 | 30.8 | 2975 | 315 | 75984  | 10892 | 06075010200 |\n",
       "| 3 | 6075010300 | 48.8 | 13.2 | 2748 | 324 | 47586  | 10549 | 06075010300 |\n",
       "| 4 | 6075010400 | 35.9 | 26.1 | 3668 | 442 | 48931  | 6531  | 06075010400 |\n",
       "| 5 | 6075010500 | 39.2 | 33.7 | 1562 | 198 | 110076 | 5331  | 06075010500 |\n",
       "| 6 | 6075010600 | 34.1 | 23   | 2172 | 374 | 22074  | 8666  | 06075010600 |\n",
       "\n"
      ],
      "text/plain": [
       "  UID        Bachelor_Higher Bachelor_Higher_m pop  pop_m earnings earnings_m\n",
       "1 6075010100 44.3            19.5              2371 226   49954    15503     \n",
       "2 6075010200 58.8            30.8              2975 315   75984    10892     \n",
       "3 6075010300 48.8            13.2              2748 324   47586    10549     \n",
       "4 6075010400 35.9            26.1              3668 442   48931    6531      \n",
       "5 6075010500 39.2            33.7              1562 198   110076   5331      \n",
       "6 6075010600 34.1            23                2172 374   22074    8666      \n",
       "  GEOID10    \n",
       "1 06075010100\n",
       "2 06075010200\n",
       "3 06075010300\n",
       "4 06075010400\n",
       "5 06075010500\n",
       "6 06075010600"
      ]
     },
     "metadata": {},
     "output_type": "display_data"
    }
   ],
   "source": [
    "head(SF_Tract_ACS)"
   ]
  },
  {
   "cell_type": "code",
   "execution_count": 353,
   "id": "ec633d45",
   "metadata": {},
   "outputs": [
    {
     "name": "stdout",
     "output_type": "stream",
     "text": [
      "'data.frame':\t197 obs. of  8 variables:\n",
      " $ UID              : num  6.08e+09 6.08e+09 6.08e+09 6.08e+09 6.08e+09 ...\n",
      " $ Bachelor_Higher  : chr  \"44.3\" \"58.8\" \"48.8\" \"35.9\" ...\n",
      " $ Bachelor_Higher_m: chr  \"19.5\" \"30.8\" \"13.2\" \"26.1\" ...\n",
      " $ pop              : int  2371 2975 2748 3668 1562 2172 2716 3173 3517 4030 ...\n",
      " $ pop_m            : int  226 315 324 442 198 374 315 338 258 521 ...\n",
      " $ earnings         : chr  \"49954\" \"75984\" \"47586\" \"48931\" ...\n",
      " $ earnings_m       : chr  \"15503\" \"10892\" \"10549\" \"6531\" ...\n",
      " $ GEOID10          : chr  \"06075010100\" \"06075010200\" \"06075010300\" \"06075010400\" ...\n"
     ]
    }
   ],
   "source": [
    "str(SF_Tract_ACS)"
   ]
  },
  {
   "cell_type": "code",
   "execution_count": 354,
   "id": "764f61bc",
   "metadata": {},
   "outputs": [],
   "source": [
    "SF_Tract_ACS$UID <- NULL"
   ]
  },
  {
   "cell_type": "code",
   "execution_count": 355,
   "id": "6e38f8e4",
   "metadata": {},
   "outputs": [
    {
     "data": {
      "text/html": [
       "<table class=\"dataframe\">\n",
       "<caption>A data.frame: 6 × 7</caption>\n",
       "<thead>\n",
       "\t<tr><th></th><th scope=col>Bachelor_Higher</th><th scope=col>Bachelor_Higher_m</th><th scope=col>pop</th><th scope=col>pop_m</th><th scope=col>earnings</th><th scope=col>earnings_m</th><th scope=col>GEOID10</th></tr>\n",
       "\t<tr><th></th><th scope=col>&lt;chr&gt;</th><th scope=col>&lt;chr&gt;</th><th scope=col>&lt;int&gt;</th><th scope=col>&lt;int&gt;</th><th scope=col>&lt;chr&gt;</th><th scope=col>&lt;chr&gt;</th><th scope=col>&lt;chr&gt;</th></tr>\n",
       "</thead>\n",
       "<tbody>\n",
       "\t<tr><th scope=row>1</th><td>44.3</td><td>19.5</td><td>2371</td><td>226</td><td>49954 </td><td>15503</td><td>06075010100</td></tr>\n",
       "\t<tr><th scope=row>2</th><td>58.8</td><td>30.8</td><td>2975</td><td>315</td><td>75984 </td><td>10892</td><td>06075010200</td></tr>\n",
       "\t<tr><th scope=row>3</th><td>48.8</td><td>13.2</td><td>2748</td><td>324</td><td>47586 </td><td>10549</td><td>06075010300</td></tr>\n",
       "\t<tr><th scope=row>4</th><td>35.9</td><td>26.1</td><td>3668</td><td>442</td><td>48931 </td><td>6531 </td><td>06075010400</td></tr>\n",
       "\t<tr><th scope=row>5</th><td>39.2</td><td>33.7</td><td>1562</td><td>198</td><td>110076</td><td>5331 </td><td>06075010500</td></tr>\n",
       "\t<tr><th scope=row>6</th><td>34.1</td><td>23  </td><td>2172</td><td>374</td><td>22074 </td><td>8666 </td><td>06075010600</td></tr>\n",
       "</tbody>\n",
       "</table>\n"
      ],
      "text/latex": [
       "A data.frame: 6 × 7\n",
       "\\begin{tabular}{r|lllllll}\n",
       "  & Bachelor\\_Higher & Bachelor\\_Higher\\_m & pop & pop\\_m & earnings & earnings\\_m & GEOID10\\\\\n",
       "  & <chr> & <chr> & <int> & <int> & <chr> & <chr> & <chr>\\\\\n",
       "\\hline\n",
       "\t1 & 44.3 & 19.5 & 2371 & 226 & 49954  & 15503 & 06075010100\\\\\n",
       "\t2 & 58.8 & 30.8 & 2975 & 315 & 75984  & 10892 & 06075010200\\\\\n",
       "\t3 & 48.8 & 13.2 & 2748 & 324 & 47586  & 10549 & 06075010300\\\\\n",
       "\t4 & 35.9 & 26.1 & 3668 & 442 & 48931  & 6531  & 06075010400\\\\\n",
       "\t5 & 39.2 & 33.7 & 1562 & 198 & 110076 & 5331  & 06075010500\\\\\n",
       "\t6 & 34.1 & 23   & 2172 & 374 & 22074  & 8666  & 06075010600\\\\\n",
       "\\end{tabular}\n"
      ],
      "text/markdown": [
       "\n",
       "A data.frame: 6 × 7\n",
       "\n",
       "| <!--/--> | Bachelor_Higher &lt;chr&gt; | Bachelor_Higher_m &lt;chr&gt; | pop &lt;int&gt; | pop_m &lt;int&gt; | earnings &lt;chr&gt; | earnings_m &lt;chr&gt; | GEOID10 &lt;chr&gt; |\n",
       "|---|---|---|---|---|---|---|---|\n",
       "| 1 | 44.3 | 19.5 | 2371 | 226 | 49954  | 15503 | 06075010100 |\n",
       "| 2 | 58.8 | 30.8 | 2975 | 315 | 75984  | 10892 | 06075010200 |\n",
       "| 3 | 48.8 | 13.2 | 2748 | 324 | 47586  | 10549 | 06075010300 |\n",
       "| 4 | 35.9 | 26.1 | 3668 | 442 | 48931  | 6531  | 06075010400 |\n",
       "| 5 | 39.2 | 33.7 | 1562 | 198 | 110076 | 5331  | 06075010500 |\n",
       "| 6 | 34.1 | 23   | 2172 | 374 | 22074  | 8666  | 06075010600 |\n",
       "\n"
      ],
      "text/plain": [
       "  Bachelor_Higher Bachelor_Higher_m pop  pop_m earnings earnings_m GEOID10    \n",
       "1 44.3            19.5              2371 226   49954    15503      06075010100\n",
       "2 58.8            30.8              2975 315   75984    10892      06075010200\n",
       "3 48.8            13.2              2748 324   47586    10549      06075010300\n",
       "4 35.9            26.1              3668 442   48931    6531       06075010400\n",
       "5 39.2            33.7              1562 198   110076   5331       06075010500\n",
       "6 34.1            23                2172 374   22074    8666       06075010600"
      ]
     },
     "metadata": {},
     "output_type": "display_data"
    }
   ],
   "source": [
    "head(SF_Tract_ACS)"
   ]
  },
  {
   "cell_type": "code",
   "execution_count": 357,
   "id": "c9a3d4ac",
   "metadata": {},
   "outputs": [],
   "source": [
    "SF_Tract_ACS$earnings <- gsub(\"-\",NA,SF_Tract_ACS$earnings,fixed=TRUE)\n",
    "SF_Tract_ACS$earnings_m <- gsub(\"**\",NA,SF_Tract_ACS$earnings_m,fixed=TRUE)\n",
    "SF_Tract_ACS$Bachelor_Higher <- gsub(\"-\",NA,SF_Tract_ACS$Bachelor_Higher,fixed=TRUE) \n",
    "SF_Tract_ACS$Bachelor_Higher_m <- gsub(\"**\",NA,SF_Tract_ACS$Bachelor_Higher_m,fixed=TRUE) "
   ]
  },
  {
   "cell_type": "code",
   "execution_count": 358,
   "id": "9d32c7b6",
   "metadata": {},
   "outputs": [],
   "source": [
    "SF_Tract_ACS$earnings <- as.numeric(SF_Tract_ACS$earnings)\n",
    "SF_Tract_ACS$earnings_m <- as.numeric(SF_Tract_ACS$earnings_m)\n",
    "SF_Tract_ACS$Bachelor_Higher <- as.numeric(SF_Tract_ACS$Bachelor_Higher)\n",
    "SF_Tract_ACS$Bachelor_Higher_m <- as.numeric(SF_Tract_ACS$Bachelor_Higher_m )"
   ]
  },
  {
   "cell_type": "code",
   "execution_count": 359,
   "id": "b180bc32",
   "metadata": {},
   "outputs": [
    {
     "name": "stdout",
     "output_type": "stream",
     "text": [
      "'data.frame':\t197 obs. of  7 variables:\n",
      " $ Bachelor_Higher  : num  44.3 58.8 48.8 35.9 39.2 34.1 21.4 51.3 83 52.6 ...\n",
      " $ Bachelor_Higher_m: num  19.5 30.8 13.2 26.1 33.7 23 13.2 25.8 17 25.3 ...\n",
      " $ pop              : int  2371 2975 2748 3668 1562 2172 2716 3173 3517 4030 ...\n",
      " $ pop_m            : int  226 315 324 442 198 374 315 338 258 521 ...\n",
      " $ earnings         : num  49954 75984 47586 48931 110076 ...\n",
      " $ earnings_m       : num  15503 10892 10549 6531 5331 ...\n",
      " $ GEOID10          : chr  \"06075010100\" \"06075010200\" \"06075010300\" \"06075010400\" ...\n"
     ]
    }
   ],
   "source": [
    "str(SF_Tract_ACS)"
   ]
  },
  {
   "cell_type": "code",
   "execution_count": 360,
   "id": "908c245d",
   "metadata": {},
   "outputs": [
    {
     "data": {
      "text/html": [
       "<table class=\"dataframe\">\n",
       "<caption>A data.frame: 6 × 7</caption>\n",
       "<thead>\n",
       "\t<tr><th></th><th scope=col>GEOID10</th><th scope=col>Bachelor_Higher</th><th scope=col>Bachelor_Higher_m</th><th scope=col>pop</th><th scope=col>pop_m</th><th scope=col>earnings</th><th scope=col>earnings_m</th></tr>\n",
       "\t<tr><th></th><th scope=col>&lt;chr&gt;</th><th scope=col>&lt;dbl&gt;</th><th scope=col>&lt;dbl&gt;</th><th scope=col>&lt;int&gt;</th><th scope=col>&lt;int&gt;</th><th scope=col>&lt;dbl&gt;</th><th scope=col>&lt;dbl&gt;</th></tr>\n",
       "</thead>\n",
       "<tbody>\n",
       "\t<tr><th scope=row>56</th><td>06075016500</td><td>25.7</td><td>17.2</td><td>3973</td><td>428</td><td>50901</td><td>10181</td></tr>\n",
       "\t<tr><th scope=row>55</th><td>06075016400</td><td>56.7</td><td>22.3</td><td>3076</td><td>249</td><td>52870</td><td> 7839</td></tr>\n",
       "\t<tr><th scope=row>54</th><td>06075016300</td><td>63.2</td><td>23.9</td><td>3907</td><td>853</td><td>40522</td><td>11269</td></tr>\n",
       "\t<tr><th scope=row>52</th><td>06075016100</td><td>50.2</td><td>22.7</td><td>2247</td><td>388</td><td>23906</td><td> 8405</td></tr>\n",
       "\t<tr><th scope=row>51</th><td>06075016000</td><td>70.8</td><td>27.2</td><td>1670</td><td>247</td><td>59583</td><td>15262</td></tr>\n",
       "\t<tr><th scope=row>50</th><td>06075015900</td><td>23.5</td><td>15.2</td><td>2177</td><td>241</td><td>38774</td><td> 6988</td></tr>\n",
       "</tbody>\n",
       "</table>\n"
      ],
      "text/latex": [
       "A data.frame: 6 × 7\n",
       "\\begin{tabular}{r|lllllll}\n",
       "  & GEOID10 & Bachelor\\_Higher & Bachelor\\_Higher\\_m & pop & pop\\_m & earnings & earnings\\_m\\\\\n",
       "  & <chr> & <dbl> & <dbl> & <int> & <int> & <dbl> & <dbl>\\\\\n",
       "\\hline\n",
       "\t56 & 06075016500 & 25.7 & 17.2 & 3973 & 428 & 50901 & 10181\\\\\n",
       "\t55 & 06075016400 & 56.7 & 22.3 & 3076 & 249 & 52870 &  7839\\\\\n",
       "\t54 & 06075016300 & 63.2 & 23.9 & 3907 & 853 & 40522 & 11269\\\\\n",
       "\t52 & 06075016100 & 50.2 & 22.7 & 2247 & 388 & 23906 &  8405\\\\\n",
       "\t51 & 06075016000 & 70.8 & 27.2 & 1670 & 247 & 59583 & 15262\\\\\n",
       "\t50 & 06075015900 & 23.5 & 15.2 & 2177 & 241 & 38774 &  6988\\\\\n",
       "\\end{tabular}\n"
      ],
      "text/markdown": [
       "\n",
       "A data.frame: 6 × 7\n",
       "\n",
       "| <!--/--> | GEOID10 &lt;chr&gt; | Bachelor_Higher &lt;dbl&gt; | Bachelor_Higher_m &lt;dbl&gt; | pop &lt;int&gt; | pop_m &lt;int&gt; | earnings &lt;dbl&gt; | earnings_m &lt;dbl&gt; |\n",
       "|---|---|---|---|---|---|---|---|\n",
       "| 56 | 06075016500 | 25.7 | 17.2 | 3973 | 428 | 50901 | 10181 |\n",
       "| 55 | 06075016400 | 56.7 | 22.3 | 3076 | 249 | 52870 |  7839 |\n",
       "| 54 | 06075016300 | 63.2 | 23.9 | 3907 | 853 | 40522 | 11269 |\n",
       "| 52 | 06075016100 | 50.2 | 22.7 | 2247 | 388 | 23906 |  8405 |\n",
       "| 51 | 06075016000 | 70.8 | 27.2 | 1670 | 247 | 59583 | 15262 |\n",
       "| 50 | 06075015900 | 23.5 | 15.2 | 2177 | 241 | 38774 |  6988 |\n",
       "\n"
      ],
      "text/plain": [
       "   GEOID10     Bachelor_Higher Bachelor_Higher_m pop  pop_m earnings earnings_m\n",
       "56 06075016500 25.7            17.2              3973 428   50901    10181     \n",
       "55 06075016400 56.7            22.3              3076 249   52870     7839     \n",
       "54 06075016300 63.2            23.9              3907 853   40522    11269     \n",
       "52 06075016100 50.2            22.7              2247 388   23906     8405     \n",
       "51 06075016000 70.8            27.2              1670 247   59583    15262     \n",
       "50 06075015900 23.5            15.2              2177 241   38774     6988     "
      ]
     },
     "metadata": {},
     "output_type": "display_data"
    }
   ],
   "source": [
    "SF_clipped <- merge(SF_clipped,SF_Tract_ACS, by=\"GEOID10\") \n",
    "head(SF_clipped@data)"
   ]
  },
  {
   "cell_type": "code",
   "execution_count": 361,
   "id": "11e35d8e",
   "metadata": {},
   "outputs": [
    {
     "data": {
      "image/png": "[encoded data removed]",
      "text/plain": [
       "plot without title"
      ]
     },
     "metadata": {
      "image/png": {
       "height": 420,
       "width": 420
      }
     },
     "output_type": "display_data"
    }
   ],
   "source": [
    "plot(SP_311_PIP)"
   ]
  },
  {
   "cell_type": "code",
   "execution_count": 362,
   "id": "88065fd6",
   "metadata": {},
   "outputs": [],
   "source": [
    "SP_311_PIP@data <- data.frame(SP_311_PIP@data[,\"data_311.Category\"])"
   ]
  },
  {
   "cell_type": "code",
   "execution_count": 363,
   "id": "99eb6a46",
   "metadata": {},
   "outputs": [],
   "source": [
    "colnames(SP_311_PIP@data) <- \"Category\""
   ]
  },
  {
   "cell_type": "code",
   "execution_count": 364,
   "id": "f6b46f80",
   "metadata": {},
   "outputs": [],
   "source": [
    "SF_clipped_311 <- point.in.poly(SP_311_PIP, SF)"
   ]
  },
  {
   "cell_type": "code",
   "execution_count": 365,
   "id": "2946b54b",
   "metadata": {},
   "outputs": [],
   "source": [
    "SF_clipped_311@data <- SF_clipped_311@data[,c(\"GEOID10\",\"Category\")]"
   ]
  },
  {
   "cell_type": "code",
   "execution_count": 366,
   "id": "6a9e4e4e",
   "metadata": {},
   "outputs": [
    {
     "data": {
      "text/html": [
       "<table class=\"dataframe\">\n",
       "<caption>A data.frame: 6 × 2</caption>\n",
       "<thead>\n",
       "\t<tr><th></th><th scope=col>GEOID10</th><th scope=col>Category</th></tr>\n",
       "\t<tr><th></th><th scope=col>&lt;chr&gt;</th><th scope=col>&lt;chr&gt;</th></tr>\n",
       "</thead>\n",
       "<tbody>\n",
       "\t<tr><th scope=row>1</th><td>06075017902</td><td>Street Defects              </td></tr>\n",
       "\t<tr><th scope=row>2</th><td>06075017902</td><td>Sewer Issues                </td></tr>\n",
       "\t<tr><th scope=row>3</th><td>06075980600</td><td>Abandoned Vehicle           </td></tr>\n",
       "\t<tr><th scope=row>4</th><td>06075980600</td><td>Graffiti Public Property    </td></tr>\n",
       "\t<tr><th scope=row>5</th><td>06075980600</td><td>Street and Sidewalk Cleaning</td></tr>\n",
       "\t<tr><th scope=row>6</th><td>06075017902</td><td>Temporary Sign Request      </td></tr>\n",
       "</tbody>\n",
       "</table>\n"
      ],
      "text/latex": [
       "A data.frame: 6 × 2\n",
       "\\begin{tabular}{r|ll}\n",
       "  & GEOID10 & Category\\\\\n",
       "  & <chr> & <chr>\\\\\n",
       "\\hline\n",
       "\t1 & 06075017902 & Street Defects              \\\\\n",
       "\t2 & 06075017902 & Sewer Issues                \\\\\n",
       "\t3 & 06075980600 & Abandoned Vehicle           \\\\\n",
       "\t4 & 06075980600 & Graffiti Public Property    \\\\\n",
       "\t5 & 06075980600 & Street and Sidewalk Cleaning\\\\\n",
       "\t6 & 06075017902 & Temporary Sign Request      \\\\\n",
       "\\end{tabular}\n"
      ],
      "text/markdown": [
       "\n",
       "A data.frame: 6 × 2\n",
       "\n",
       "| <!--/--> | GEOID10 &lt;chr&gt; | Category &lt;chr&gt; |\n",
       "|---|---|---|\n",
       "| 1 | 06075017902 | Street Defects               |\n",
       "| 2 | 06075017902 | Sewer Issues                 |\n",
       "| 3 | 06075980600 | Abandoned Vehicle            |\n",
       "| 4 | 06075980600 | Graffiti Public Property     |\n",
       "| 5 | 06075980600 | Street and Sidewalk Cleaning |\n",
       "| 6 | 06075017902 | Temporary Sign Request       |\n",
       "\n"
      ],
      "text/plain": [
       "  GEOID10     Category                    \n",
       "1 06075017902 Street Defects              \n",
       "2 06075017902 Sewer Issues                \n",
       "3 06075980600 Abandoned Vehicle           \n",
       "4 06075980600 Graffiti Public Property    \n",
       "5 06075980600 Street and Sidewalk Cleaning\n",
       "6 06075017902 Temporary Sign Request      "
      ]
     },
     "metadata": {},
     "output_type": "display_data"
    }
   ],
   "source": [
    "head(SF_clipped_311@data)"
   ]
  },
  {
   "cell_type": "code",
   "execution_count": 371,
   "id": "c9828097",
   "metadata": {},
   "outputs": [],
   "source": [
    "write.csv(SF_clipped_311@data,\"311_Tract_Coded3.csv\")"
   ]
  },
  {
   "cell_type": "code",
   "execution_count": 383,
   "id": "d5a0dafb",
   "metadata": {},
   "outputs": [
    {
     "data": {
      "text/html": [
       "'C:/rscripts'"
      ],
      "text/latex": [
       "'C:/rscripts'"
      ],
      "text/markdown": [
       "'C:/rscripts'"
      ],
      "text/plain": [
       "[1] \"C:/rscripts\""
      ]
     },
     "metadata": {},
     "output_type": "display_data"
    }
   ],
   "source": [
    "getwd()"
   ]
  },
  {
   "cell_type": "code",
   "execution_count": 404,
   "id": "315320c5",
   "metadata": {},
   "outputs": [],
   "source": [
    "writeOGR(SF, \".\", \"SF_clipped2\", driver=\"ESRI Shapefile\")"
   ]
  },
  {
   "cell_type": "code",
   "execution_count": 407,
   "id": "b1df2d7a",
   "metadata": {},
   "outputs": [
    {
     "data": {
      "text/html": [
       "'C:/rscripts'"
      ],
      "text/latex": [
       "'C:/rscripts'"
      ],
      "text/markdown": [
       "'C:/rscripts'"
      ],
      "text/plain": [
       "[1] \"C:/rscripts\""
      ]
     },
     "metadata": {},
     "output_type": "display_data"
    }
   ],
   "source": [
    "getwd()"
   ]
  },
  {
   "cell_type": "code",
   "execution_count": null,
   "id": "d7a8bcd7",
   "metadata": {},
   "outputs": [],
   "source": []
  }
 ],
 "metadata": {
  "kernelspec": {
   "display_name": "R",
   "language": "R",
   "name": "ir"
  },
  "language_info": {
   "codemirror_mode": "r",
   "file_extension": ".r",
   "mimetype": "text/x-r-source",
   "name": "R",
   "pygments_lexer": "r",
   "version": "4.2.1"
  }
 },
 "nbformat": 4,
 "nbformat_minor": 5
}
