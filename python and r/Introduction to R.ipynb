{
 "cells": [
  {
   "cell_type": "code",
   "execution_count": 1,
   "id": "71184d67",
   "metadata": {},
   "outputs": [
    {
     "data": {
      "text/html": [
       "6"
      ],
      "text/latex": [
       "6"
      ],
      "text/markdown": [
       "6"
      ],
      "text/plain": [
       "[1] 6"
      ]
     },
     "metadata": {},
     "output_type": "display_data"
    }
   ],
   "source": [
    "1+5\n"
   ]
  },
  {
   "cell_type": "markdown",
   "id": "e40bfae6",
   "metadata": {},
   "source": [
    "install.packages(\"ggplot2\")"
   ]
  },
  {
   "cell_type": "code",
   "execution_count": 34,
   "id": "45c8fa45",
   "metadata": {},
   "outputs": [
    {
     "data": {
      "text/html": [
       "'c:/temp'"
      ],
      "text/latex": [
       "'c:/temp'"
      ],
      "text/markdown": [
       "'c:/temp'"
      ],
      "text/plain": [
       "[1] \"c:/temp\""
      ]
     },
     "metadata": {},
     "output_type": "display_data"
    }
   ],
   "source": [
    "setwd(\"c:/temp\")\n",
    "\n",
    "getwd()"
   ]
  },
  {
   "cell_type": "code",
   "execution_count": 33,
   "id": "b3cafb4a",
   "metadata": {},
   "outputs": [
    {
     "data": {
      "text/html": [
       "15"
      ],
      "text/latex": [
       "15"
      ],
      "text/markdown": [
       "15"
      ],
      "text/plain": [
       "[1] 15"
      ]
     },
     "metadata": {},
     "output_type": "display_data"
    }
   ],
   "source": [
    "a <- 5\n",
    "\n",
    "b <- 10\n",
    "\n",
    "a+b"
   ]
  },
  {
   "cell_type": "code",
   "execution_count": 32,
   "id": "4a3c1ce1",
   "metadata": {},
   "outputs": [
    {
     "data": {
      "text/html": [
       "'numeric'"
      ],
      "text/latex": [
       "'numeric'"
      ],
      "text/markdown": [
       "'numeric'"
      ],
      "text/plain": [
       "[1] \"numeric\""
      ]
     },
     "metadata": {},
     "output_type": "display_data"
    }
   ],
   "source": [
    "z <- 54.8\n",
    "\n",
    "class(z)"
   ]
  },
  {
   "cell_type": "code",
   "execution_count": 31,
   "id": "c8979e28",
   "metadata": {},
   "outputs": [
    {
     "data": {
      "text/html": [
       "FALSE"
      ],
      "text/latex": [
       "FALSE"
      ],
      "text/markdown": [
       "FALSE"
      ],
      "text/plain": [
       "[1] FALSE"
      ]
     },
     "metadata": {},
     "output_type": "display_data"
    }
   ],
   "source": [
    "y <- 51\n",
    "\n",
    "c <- 5\n",
    "\n",
    "d <- 2\n",
    "\n",
    "q <- c < d\n",
    "\n",
    "q"
   ]
  },
  {
   "cell_type": "code",
   "execution_count": 30,
   "id": "e542af3d",
   "metadata": {},
   "outputs": [
    {
     "data": {
      "text/html": [
       "TRUE"
      ],
      "text/latex": [
       "TRUE"
      ],
      "text/markdown": [
       "TRUE"
      ],
      "text/plain": [
       "[1] TRUE"
      ]
     },
     "metadata": {},
     "output_type": "display_data"
    }
   ],
   "source": [
    "s <- \"Hello\"\n",
    "\n",
    "is.character(s)\n",
    "\n"
   ]
  },
  {
   "cell_type": "code",
   "execution_count": 36,
   "id": "cc63bb19",
   "metadata": {},
   "outputs": [],
   "source": [
    "u <- 4\n",
    "\n",
    "as.character(u)"
   ]
  },
  {
   "cell_type": "code",
   "execution_count": 40,
   "id": "35807c7e",
   "metadata": {},
   "outputs": [
    {
     "data": {
      "text/html": [
       "1"
      ],
      "text/latex": [
       "1"
      ],
      "text/markdown": [
       "1"
      ],
      "text/plain": [
       "[1] 1"
      ]
     },
     "metadata": {},
     "output_type": "display_data"
    }
   ],
   "source": [
    "i <- \"1\"\n",
    "\n",
    "as.numeric(i)"
   ]
  },
  {
   "cell_type": "code",
   "execution_count": 43,
   "id": "f3b5b139",
   "metadata": {},
   "outputs": [
    {
     "data": {
      "text/html": [
       "<style>\n",
       ".list-inline {list-style: none; margin:0; padding: 0}\n",
       ".list-inline>li {display: inline-block}\n",
       ".list-inline>li:not(:last-child)::after {content: \"\\00b7\"; padding: 0 .5ex}\n",
       "</style>\n",
       "<ol class=list-inline><li>-2</li><li>-4</li><li>-4</li><li>-6</li><li>-4</li><li>7</li><li>6</li></ol>\n"
      ],
      "text/latex": [
       "\\begin{enumerate*}\n",
       "\\item -2\n",
       "\\item -4\n",
       "\\item -4\n",
       "\\item -6\n",
       "\\item -4\n",
       "\\item 7\n",
       "\\item 6\n",
       "\\end{enumerate*}\n"
      ],
      "text/markdown": [
       "1. -2\n",
       "2. -4\n",
       "3. -4\n",
       "4. -6\n",
       "5. -4\n",
       "6. 7\n",
       "7. 6\n",
       "\n",
       "\n"
      ],
      "text/plain": [
       "[1] -2 -4 -4 -6 -4  7  6"
      ]
     },
     "metadata": {},
     "output_type": "display_data"
    },
    {
     "data": {
      "text/html": [
       "<style>\n",
       ".list-inline {list-style: none; margin:0; padding: 0}\n",
       ".list-inline>li {display: inline-block}\n",
       ".list-inline>li:not(:last-child)::after {content: \"\\00b7\"; padding: 0 .5ex}\n",
       "</style>\n",
       "<ol class=list-inline><li>20</li><li>30</li><li>50</li><li>60</li><li>70</li><li>80</li><li>90</li></ol>\n"
      ],
      "text/latex": [
       "\\begin{enumerate*}\n",
       "\\item 20\n",
       "\\item 30\n",
       "\\item 50\n",
       "\\item 60\n",
       "\\item 70\n",
       "\\item 80\n",
       "\\item 90\n",
       "\\end{enumerate*}\n"
      ],
      "text/markdown": [
       "1. 20\n",
       "2. 30\n",
       "3. 50\n",
       "4. 60\n",
       "5. 70\n",
       "6. 80\n",
       "7. 90\n",
       "\n",
       "\n"
      ],
      "text/plain": [
       "[1] 20 30 50 60 70 80 90"
      ]
     },
     "metadata": {},
     "output_type": "display_data"
    },
    {
     "data": {
      "text/html": [
       "<style>\n",
       ".list-inline {list-style: none; margin:0; padding: 0}\n",
       ".list-inline>li {display: inline-block}\n",
       ".list-inline>li:not(:last-child)::after {content: \"\\00b7\"; padding: 0 .5ex}\n",
       "</style>\n",
       "<ol class=list-inline><li>'I'</li><li>'like'</li><li>'R'</li><li>'it'</li><li>'is'</li><li>'fun'</li></ol>\n"
      ],
      "text/latex": [
       "\\begin{enumerate*}\n",
       "\\item 'I'\n",
       "\\item 'like'\n",
       "\\item 'R'\n",
       "\\item 'it'\n",
       "\\item 'is'\n",
       "\\item 'fun'\n",
       "\\end{enumerate*}\n"
      ],
      "text/markdown": [
       "1. 'I'\n",
       "2. 'like'\n",
       "3. 'R'\n",
       "4. 'it'\n",
       "5. 'is'\n",
       "6. 'fun'\n",
       "\n",
       "\n"
      ],
      "text/plain": [
       "[1] \"I\"    \"like\" \"R\"    \"it\"   \"is\"   \"fun\" "
      ]
     },
     "metadata": {},
     "output_type": "display_data"
    }
   ],
   "source": [
    "v_1 <- c(2,3,5,6,7,8,9) \n",
    "v_2 <- c(4,7,9,12,11,1,3)\n",
    "v_1 - v_2\n",
    "v_1 * 10\n",
    "v_3 <- c(\"I\",\"like\",\"R\",\"it\",\"is\",\"fun\")\n",
    "v_3\n",
    "\n",
    "v_3[4]"
   ]
  },
  {
   "cell_type": "code",
   "execution_count": 47,
   "id": "ccac9cac",
   "metadata": {},
   "outputs": [
    {
     "data": {
      "text/html": [
       "<ol>\n",
       "\t<li>'A'</li>\n",
       "\t<li>'B'</li>\n",
       "\t<li>4</li>\n",
       "\t<li>5</li>\n",
       "\t<li><style>\n",
       ".list-inline {list-style: none; margin:0; padding: 0}\n",
       ".list-inline>li {display: inline-block}\n",
       ".list-inline>li:not(:last-child)::after {content: \"\\00b7\"; padding: 0 .5ex}\n",
       "</style>\n",
       "<ol class=list-inline><li>2</li><li>3</li><li>5</li><li>6</li><li>7</li><li>8</li><li>9</li></ol>\n",
       "</li>\n",
       "</ol>\n"
      ],
      "text/latex": [
       "\\begin{enumerate}\n",
       "\\item 'A'\n",
       "\\item 'B'\n",
       "\\item 4\n",
       "\\item 5\n",
       "\\item \\begin{enumerate*}\n",
       "\\item 2\n",
       "\\item 3\n",
       "\\item 5\n",
       "\\item 6\n",
       "\\item 7\n",
       "\\item 8\n",
       "\\item 9\n",
       "\\end{enumerate*}\n",
       "\n",
       "\\end{enumerate}\n"
      ],
      "text/markdown": [
       "1. 'A'\n",
       "2. 'B'\n",
       "3. 4\n",
       "4. 5\n",
       "5. 1. 2\n",
       "2. 3\n",
       "3. 5\n",
       "4. 6\n",
       "5. 7\n",
       "6. 8\n",
       "7. 9\n",
       "\n",
       "\n",
       "\n",
       "\n",
       "\n"
      ],
      "text/plain": [
       "[[1]]\n",
       "[1] \"A\"\n",
       "\n",
       "[[2]]\n",
       "[1] \"B\"\n",
       "\n",
       "[[3]]\n",
       "[1] 4\n",
       "\n",
       "[[4]]\n",
       "[1] 5\n",
       "\n",
       "[[5]]\n",
       "[1] 2 3 5 6 7 8 9\n"
      ]
     },
     "metadata": {},
     "output_type": "display_data"
    },
    {
     "data": {
      "text/html": [
       "<ol>\n",
       "\t<li>'B'</li>\n",
       "\t<li>5</li>\n",
       "</ol>\n"
      ],
      "text/latex": [
       "\\begin{enumerate}\n",
       "\\item 'B'\n",
       "\\item 5\n",
       "\\end{enumerate}\n"
      ],
      "text/markdown": [
       "1. 'B'\n",
       "2. 5\n",
       "\n",
       "\n"
      ],
      "text/plain": [
       "[[1]]\n",
       "[1] \"B\"\n",
       "\n",
       "[[2]]\n",
       "[1] 5\n"
      ]
     },
     "metadata": {},
     "output_type": "display_data"
    }
   ],
   "source": [
    "v_4 <- list(\"A\", \"B\", 4, 5, v_1)\n",
    "v_4\n",
    "v_4[c(2,4)]"
   ]
  },
  {
   "cell_type": "code",
   "execution_count": 49,
   "id": "1fe670c7",
   "metadata": {},
   "outputs": [
    {
     "data": {
      "text/html": [
       "TRUE"
      ],
      "text/latex": [
       "TRUE"
      ],
      "text/markdown": [
       "TRUE"
      ],
      "text/plain": [
       "[1] TRUE"
      ]
     },
     "metadata": {},
     "output_type": "display_data"
    },
    {
     "data": {
      "text/html": [
       "FALSE"
      ],
      "text/latex": [
       "FALSE"
      ],
      "text/markdown": [
       "FALSE"
      ],
      "text/plain": [
       "[1] FALSE"
      ]
     },
     "metadata": {},
     "output_type": "display_data"
    },
    {
     "data": {
      "text/html": [
       "TRUE"
      ],
      "text/latex": [
       "TRUE"
      ],
      "text/markdown": [
       "TRUE"
      ],
      "text/plain": [
       "[1] TRUE"
      ]
     },
     "metadata": {},
     "output_type": "display_data"
    }
   ],
   "source": [
    "n <- c(\"London\",\"New York\",\"London\",\"New York\",\"Shanghai\",\"Chicago\",\"Chicago\")\n",
    "is.character(n)\n",
    "o <- factor(n)\n",
    "is.character(o)\n",
    "is.factor(o)"
   ]
  },
  {
   "cell_type": "code",
   "execution_count": 59,
   "id": "95e43ee0",
   "metadata": {},
   "outputs": [
    {
     "data": {
      "text/html": [
       "<style>\n",
       ".list-inline {list-style: none; margin:0; padding: 0}\n",
       ".list-inline>li {display: inline-block}\n",
       ".list-inline>li:not(:last-child)::after {content: \"\\00b7\"; padding: 0 .5ex}\n",
       "</style>\n",
       "<ol class=list-inline><li>'Chicago'</li><li>'London'</li><li>'New York'</li><li>'Shanghai'</li></ol>\n"
      ],
      "text/latex": [
       "\\begin{enumerate*}\n",
       "\\item 'Chicago'\n",
       "\\item 'London'\n",
       "\\item 'New York'\n",
       "\\item 'Shanghai'\n",
       "\\end{enumerate*}\n"
      ],
      "text/markdown": [
       "1. 'Chicago'\n",
       "2. 'London'\n",
       "3. 'New York'\n",
       "4. 'Shanghai'\n",
       "\n",
       "\n"
      ],
      "text/plain": [
       "[1] \"Chicago\"  \"London\"   \"New York\" \"Shanghai\""
      ]
     },
     "metadata": {},
     "output_type": "display_data"
    },
    {
     "data": {
      "text/html": [
       "<style>\n",
       ".dl-inline {width: auto; margin:0; padding: 0}\n",
       ".dl-inline>dt, .dl-inline>dd {float: none; width: auto; display: inline-block}\n",
       ".dl-inline>dt::after {content: \":\\0020\"; padding-right: .5ex}\n",
       ".dl-inline>dt:not(:first-of-type) {padding-left: .5ex}\n",
       "</style><dl class=dl-inline><dt>Chicago</dt><dd>2</dd><dt>London</dt><dd>2</dd><dt>New York</dt><dd>2</dd><dt>Shanghai</dt><dd>1</dd></dl>\n"
      ],
      "text/latex": [
       "\\begin{description*}\n",
       "\\item[Chicago] 2\n",
       "\\item[London] 2\n",
       "\\item[New York] 2\n",
       "\\item[Shanghai] 1\n",
       "\\end{description*}\n"
      ],
      "text/markdown": [
       "Chicago\n",
       ":   2London\n",
       ":   2New York\n",
       ":   2Shanghai\n",
       ":   1\n",
       "\n"
      ],
      "text/plain": [
       " Chicago   London New York Shanghai \n",
       "       2        2        2        1 "
      ]
     },
     "metadata": {},
     "output_type": "display_data"
    }
   ],
   "source": [
    "levels(o)\n",
    "summary(o)\n",
    "\n"
   ]
  },
  {
   "cell_type": "code",
   "execution_count": 60,
   "id": "038ef9fe",
   "metadata": {},
   "outputs": [
    {
     "data": {
      "text/html": [
       "<style>\n",
       ".list-inline {list-style: none; margin:0; padding: 0}\n",
       ".list-inline>li {display: inline-block}\n",
       ".list-inline>li:not(:last-child)::after {content: \"\\00b7\"; padding: 0 .5ex}\n",
       "</style>\n",
       "<ol class=list-inline><li>Very Unhappy</li><li>Unhappy</li><li>Very Unhappy</li><li>Unhappy</li><li>Very Unhappy</li><li>Unhappy</li><li>Fine</li><li>Happy</li><li>Very Happy</li><li>Fine</li><li>Happy</li><li>Very Happy</li><li>Fine</li><li>Happy</li><li>Very Happy</li></ol>\n",
       "\n",
       "<details>\n",
       "\t<summary style=display:list-item;cursor:pointer>\n",
       "\t\t<strong>Levels</strong>:\n",
       "\t</summary>\n",
       "\t<style>\n",
       "\t.list-inline {list-style: none; margin:0; padding: 0}\n",
       "\t.list-inline>li {display: inline-block}\n",
       "\t.list-inline>li:not(:last-child)::after {content: \"\\00b7\"; padding: 0 .5ex}\n",
       "\t</style>\n",
       "\t<ol class=list-inline><li>'Very Unhappy'</li><li>'Unhappy'</li><li>'Fine'</li><li>'Happy'</li><li>'Very Happy'</li></ol>\n",
       "</details>"
      ],
      "text/latex": [
       "\\begin{enumerate*}\n",
       "\\item Very Unhappy\n",
       "\\item Unhappy\n",
       "\\item Very Unhappy\n",
       "\\item Unhappy\n",
       "\\item Very Unhappy\n",
       "\\item Unhappy\n",
       "\\item Fine\n",
       "\\item Happy\n",
       "\\item Very Happy\n",
       "\\item Fine\n",
       "\\item Happy\n",
       "\\item Very Happy\n",
       "\\item Fine\n",
       "\\item Happy\n",
       "\\item Very Happy\n",
       "\\end{enumerate*}\n",
       "\n",
       "\\emph{Levels}: \\begin{enumerate*}\n",
       "\\item 'Very Unhappy'\n",
       "\\item 'Unhappy'\n",
       "\\item 'Fine'\n",
       "\\item 'Happy'\n",
       "\\item 'Very Happy'\n",
       "\\end{enumerate*}\n"
      ],
      "text/markdown": [
       "1. Very Unhappy\n",
       "2. Unhappy\n",
       "3. Very Unhappy\n",
       "4. Unhappy\n",
       "5. Very Unhappy\n",
       "6. Unhappy\n",
       "7. Fine\n",
       "8. Happy\n",
       "9. Very Happy\n",
       "10. Fine\n",
       "11. Happy\n",
       "12. Very Happy\n",
       "13. Fine\n",
       "14. Happy\n",
       "15. Very Happy\n",
       "\n",
       "\n",
       "\n",
       "**Levels**: 1. 'Very Unhappy'\n",
       "2. 'Unhappy'\n",
       "3. 'Fine'\n",
       "4. 'Happy'\n",
       "5. 'Very Happy'\n",
       "\n",
       "\n"
      ],
      "text/plain": [
       " [1] Very Unhappy Unhappy      Very Unhappy Unhappy      Very Unhappy\n",
       " [6] Unhappy      Fine         Happy        Very Happy   Fine        \n",
       "[11] Happy        Very Happy   Fine         Happy        Very Happy  \n",
       "Levels: Very Unhappy < Unhappy < Fine < Happy < Very Happy"
      ]
     },
     "metadata": {},
     "output_type": "display_data"
    }
   ],
   "source": [
    "responses <- c(\"Very Unhappy\", \"Unhappy\",\"Very Unhappy\", \"Unhappy\",\"Very Unhappy\", \"Unhappy\", \"Fine\", \"Happy\", \"Very Happy\", \"Fine\", \"Happy\", \"Very Happy\", \"Fine\", \"Happy\", \"Very Happy\")\n",
    "p <- factor(responses, levels=c(\"Very Unhappy\", \"Unhappy\", \"Fine\", \"Happy\", \"Very Happy\"), ordered=TRUE)\n",
    "p"
   ]
  },
  {
   "cell_type": "code",
   "execution_count": 61,
   "id": "2c98bd68",
   "metadata": {},
   "outputs": [
    {
     "ename": "ERROR",
     "evalue": "Error in parse(text = x, srcfile = src): <text>:1:6: unexpected symbol\n1: head p\n         ^\n",
     "output_type": "error",
     "traceback": [
      "Error in parse(text = x, srcfile = src): <text>:1:6: unexpected symbol\n1: head p\n         ^\nTraceback:\n"
     ]
    }
   ],
   "source": [
    "head p "
   ]
  },
  {
   "cell_type": "code",
   "execution_count": null,
   "id": "39038a2f",
   "metadata": {},
   "outputs": [],
   "source": []
  }
 ],
 "metadata": {
  "kernelspec": {
   "display_name": "R",
   "language": "R",
   "name": "ir"
  },
  "language_info": {
   "codemirror_mode": "r",
   "file_extension": ".r",
   "mimetype": "text/x-r-source",
   "name": "R",
   "pygments_lexer": "r",
   "version": "4.2.1"
  }
 },
 "nbformat": 4,
 "nbformat_minor": 5
}
