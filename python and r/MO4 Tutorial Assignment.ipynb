{
 "cells": [
  {
   "cell_type": "code",
   "execution_count": 2,
   "id": "48ed6bab",
   "metadata": {},
   "outputs": [],
   "source": [
    "amsterdam <- read.csv(\"C:/rscripts/data/listings.csv\")"
   ]
  },
  {
   "cell_type": "code",
   "execution_count": 3,
   "id": "dde12f5e",
   "metadata": {},
   "outputs": [
    {
     "data": {
      "text/html": [
       "<style>\n",
       ".list-inline {list-style: none; margin:0; padding: 0}\n",
       ".list-inline>li {display: inline-block}\n",
       ".list-inline>li:not(:last-child)::after {content: \"\\00b7\"; padding: 0 .5ex}\n",
       "</style>\n",
       "<ol class=list-inline><li>'id'</li><li>'name'</li><li>'host_id'</li><li>'host_name'</li><li>'neighbourhood_group'</li><li>'neighbourhood'</li><li>'latitude'</li><li>'longitude'</li><li>'room_type'</li><li>'price'</li><li>'minimum_nights'</li><li>'number_of_reviews'</li><li>'last_review'</li><li>'reviews_per_month'</li><li>'calculated_host_listings_count'</li><li>'availability_365'</li><li>'number_of_reviews_ltm'</li><li>'license'</li></ol>\n"
      ],
      "text/latex": [
       "\\begin{enumerate*}\n",
       "\\item 'id'\n",
       "\\item 'name'\n",
       "\\item 'host\\_id'\n",
       "\\item 'host\\_name'\n",
       "\\item 'neighbourhood\\_group'\n",
       "\\item 'neighbourhood'\n",
       "\\item 'latitude'\n",
       "\\item 'longitude'\n",
       "\\item 'room\\_type'\n",
       "\\item 'price'\n",
       "\\item 'minimum\\_nights'\n",
       "\\item 'number\\_of\\_reviews'\n",
       "\\item 'last\\_review'\n",
       "\\item 'reviews\\_per\\_month'\n",
       "\\item 'calculated\\_host\\_listings\\_count'\n",
       "\\item 'availability\\_365'\n",
       "\\item 'number\\_of\\_reviews\\_ltm'\n",
       "\\item 'license'\n",
       "\\end{enumerate*}\n"
      ],
      "text/markdown": [
       "1. 'id'\n",
       "2. 'name'\n",
       "3. 'host_id'\n",
       "4. 'host_name'\n",
       "5. 'neighbourhood_group'\n",
       "6. 'neighbourhood'\n",
       "7. 'latitude'\n",
       "8. 'longitude'\n",
       "9. 'room_type'\n",
       "10. 'price'\n",
       "11. 'minimum_nights'\n",
       "12. 'number_of_reviews'\n",
       "13. 'last_review'\n",
       "14. 'reviews_per_month'\n",
       "15. 'calculated_host_listings_count'\n",
       "16. 'availability_365'\n",
       "17. 'number_of_reviews_ltm'\n",
       "18. 'license'\n",
       "\n",
       "\n"
      ],
      "text/plain": [
       " [1] \"id\"                             \"name\"                          \n",
       " [3] \"host_id\"                        \"host_name\"                     \n",
       " [5] \"neighbourhood_group\"            \"neighbourhood\"                 \n",
       " [7] \"latitude\"                       \"longitude\"                     \n",
       " [9] \"room_type\"                      \"price\"                         \n",
       "[11] \"minimum_nights\"                 \"number_of_reviews\"             \n",
       "[13] \"last_review\"                    \"reviews_per_month\"             \n",
       "[15] \"calculated_host_listings_count\" \"availability_365\"              \n",
       "[17] \"number_of_reviews_ltm\"          \"license\"                       "
      ]
     },
     "metadata": {},
     "output_type": "display_data"
    }
   ],
   "source": [
    "colnames(amsterdam)"
   ]
  },
  {
   "cell_type": "code",
   "execution_count": 9,
   "id": "f57e1e5d",
   "metadata": {},
   "outputs": [
    {
     "ename": "ERROR",
     "evalue": "Error in `[.data.frame`(x, r, vars, drop = drop): undefined columns selected\n",
     "output_type": "error",
     "traceback": [
      "Error in `[.data.frame`(x, r, vars, drop = drop): undefined columns selected\nTraceback:\n",
      "1. subset(amsterdam, select = c(\"id\", \"neighbourhood_cleansed\", \n .     \"latitude\", \"longitude\", \"property_type\", \"room_type\", \"bedrooms\", \n .     \"price\", \"number_of_reviews\"))",
      "2. subset.data.frame(amsterdam, select = c(\"id\", \"neighbourhood_cleansed\", \n .     \"latitude\", \"longitude\", \"property_type\", \"room_type\", \"bedrooms\", \n .     \"price\", \"number_of_reviews\"))",
      "3. x[r, vars, drop = drop]",
      "4. `[.data.frame`(x, r, vars, drop = drop)",
      "5. stop(\"undefined columns selected\")"
     ]
    }
   ],
   "source": [
    "amsterdam <- subset(amsterdam, select = c(\"id\",\"neighbourhood_cleansed\",\"latitude\",\"longitude\",\"property_type\",\"room_type\",\"bedrooms\",\"price\",\"number_of_reviews\"))"
   ]
  },
  {
   "cell_type": "code",
   "execution_count": 10,
   "id": "590ae54c",
   "metadata": {},
   "outputs": [],
   "source": [
    "amsterdam$price <- gsub(\"$\",\"\",amsterdam$price,fixed = TRUE)"
   ]
  },
  {
   "cell_type": "code",
   "execution_count": 11,
   "id": "a5883e72",
   "metadata": {},
   "outputs": [],
   "source": [
    "amsterdam$price <- gsub(\",\",\"\",amsterdam$price,fixed = TRUE)\n",
    "amsterdam$price <- as.numeric(as.character(amsterdam$price))"
   ]
  },
  {
   "cell_type": "code",
   "execution_count": 12,
   "id": "44128c8d",
   "metadata": {},
   "outputs": [],
   "source": [
    "amsterdam <- amsterdam[complete.cases(amsterdam),]"
   ]
  },
  {
   "cell_type": "code",
   "execution_count": 13,
   "id": "25449258",
   "metadata": {},
   "outputs": [
    {
     "data": {
      "text/html": [
       "<table class=\"dataframe\">\n",
       "<caption>A data.frame: 0 × 18</caption>\n",
       "<thead>\n",
       "\t<tr><th scope=col>id</th><th scope=col>name</th><th scope=col>host_id</th><th scope=col>host_name</th><th scope=col>neighbourhood_group</th><th scope=col>neighbourhood</th><th scope=col>latitude</th><th scope=col>longitude</th><th scope=col>room_type</th><th scope=col>price</th><th scope=col>minimum_nights</th><th scope=col>number_of_reviews</th><th scope=col>last_review</th><th scope=col>reviews_per_month</th><th scope=col>calculated_host_listings_count</th><th scope=col>availability_365</th><th scope=col>number_of_reviews_ltm</th><th scope=col>license</th></tr>\n",
       "\t<tr><th scope=col>&lt;dbl&gt;</th><th scope=col>&lt;chr&gt;</th><th scope=col>&lt;int&gt;</th><th scope=col>&lt;chr&gt;</th><th scope=col>&lt;lgl&gt;</th><th scope=col>&lt;chr&gt;</th><th scope=col>&lt;dbl&gt;</th><th scope=col>&lt;dbl&gt;</th><th scope=col>&lt;chr&gt;</th><th scope=col>&lt;dbl&gt;</th><th scope=col>&lt;int&gt;</th><th scope=col>&lt;int&gt;</th><th scope=col>&lt;chr&gt;</th><th scope=col>&lt;dbl&gt;</th><th scope=col>&lt;int&gt;</th><th scope=col>&lt;int&gt;</th><th scope=col>&lt;int&gt;</th><th scope=col>&lt;chr&gt;</th></tr>\n",
       "</thead>\n",
       "<tbody>\n",
       "</tbody>\n",
       "</table>\n"
      ],
      "text/latex": [
       "A data.frame: 0 × 18\n",
       "\\begin{tabular}{llllllllllllllllll}\n",
       " id & name & host\\_id & host\\_name & neighbourhood\\_group & neighbourhood & latitude & longitude & room\\_type & price & minimum\\_nights & number\\_of\\_reviews & last\\_review & reviews\\_per\\_month & calculated\\_host\\_listings\\_count & availability\\_365 & number\\_of\\_reviews\\_ltm & license\\\\\n",
       " <dbl> & <chr> & <int> & <chr> & <lgl> & <chr> & <dbl> & <dbl> & <chr> & <dbl> & <int> & <int> & <chr> & <dbl> & <int> & <int> & <int> & <chr>\\\\\n",
       "\\hline\n",
       "\\end{tabular}\n"
      ],
      "text/markdown": [
       "\n",
       "A data.frame: 0 × 18\n",
       "\n",
       "| id &lt;dbl&gt; | name &lt;chr&gt; | host_id &lt;int&gt; | host_name &lt;chr&gt; | neighbourhood_group &lt;lgl&gt; | neighbourhood &lt;chr&gt; | latitude &lt;dbl&gt; | longitude &lt;dbl&gt; | room_type &lt;chr&gt; | price &lt;dbl&gt; | minimum_nights &lt;int&gt; | number_of_reviews &lt;int&gt; | last_review &lt;chr&gt; | reviews_per_month &lt;dbl&gt; | calculated_host_listings_count &lt;int&gt; | availability_365 &lt;int&gt; | number_of_reviews_ltm &lt;int&gt; | license &lt;chr&gt; |\n",
       "|---|---|---|---|---|---|---|---|---|---|---|---|---|---|---|---|---|---|\n",
       "\n"
      ],
      "text/plain": [
       "     id name host_id host_name neighbourhood_group neighbourhood latitude\n",
       "     longitude room_type price minimum_nights number_of_reviews last_review\n",
       "     reviews_per_month calculated_host_listings_count availability_365\n",
       "     number_of_reviews_ltm license"
      ]
     },
     "metadata": {},
     "output_type": "display_data"
    }
   ],
   "source": [
    "head(amsterdam)"
   ]
  },
  {
   "cell_type": "code",
   "execution_count": 14,
   "id": "4f118e23",
   "metadata": {},
   "outputs": [
    {
     "data": {
      "text/plain": [
       "       id          name              host_id     host_name        \n",
       " Min.   : NA   Length:0           Min.   : NA   Length:0          \n",
       " 1st Qu.: NA   Class :character   1st Qu.: NA   Class :character  \n",
       " Median : NA   Mode  :character   Median : NA   Mode  :character  \n",
       " Mean   :NaN                      Mean   :NaN                     \n",
       " 3rd Qu.: NA                      3rd Qu.: NA                     \n",
       " Max.   : NA                      Max.   : NA                     \n",
       " neighbourhood_group neighbourhood         latitude     longitude  \n",
       " Mode:logical        Length:0           Min.   : NA   Min.   : NA  \n",
       "                     Class :character   1st Qu.: NA   1st Qu.: NA  \n",
       "                     Mode  :character   Median : NA   Median : NA  \n",
       "                                        Mean   :NaN   Mean   :NaN  \n",
       "                                        3rd Qu.: NA   3rd Qu.: NA  \n",
       "                                        Max.   : NA   Max.   : NA  \n",
       "  room_type             price     minimum_nights number_of_reviews\n",
       " Length:0           Min.   : NA   Min.   : NA    Min.   : NA      \n",
       " Class :character   1st Qu.: NA   1st Qu.: NA    1st Qu.: NA      \n",
       " Mode  :character   Median : NA   Median : NA    Median : NA      \n",
       "                    Mean   :NaN   Mean   :NaN    Mean   :NaN      \n",
       "                    3rd Qu.: NA   3rd Qu.: NA    3rd Qu.: NA      \n",
       "                    Max.   : NA   Max.   : NA    Max.   : NA      \n",
       " last_review        reviews_per_month calculated_host_listings_count\n",
       " Length:0           Min.   : NA       Min.   : NA                   \n",
       " Class :character   1st Qu.: NA       1st Qu.: NA                   \n",
       " Mode  :character   Median : NA       Median : NA                   \n",
       "                    Mean   :NaN       Mean   :NaN                   \n",
       "                    3rd Qu.: NA       3rd Qu.: NA                   \n",
       "                    Max.   : NA       Max.   : NA                   \n",
       " availability_365 number_of_reviews_ltm   license         \n",
       " Min.   : NA      Min.   : NA           Length:0          \n",
       " 1st Qu.: NA      1st Qu.: NA           Class :character  \n",
       " Median : NA      Median : NA           Mode  :character  \n",
       " Mean   :NaN      Mean   :NaN                             \n",
       " 3rd Qu.: NA      3rd Qu.: NA                             \n",
       " Max.   : NA      Max.   : NA                             "
      ]
     },
     "metadata": {},
     "output_type": "display_data"
    }
   ],
   "source": [
    "summary(amsterdam)"
   ]
  },
  {
   "cell_type": "code",
   "execution_count": 21,
   "id": "0e556456",
   "metadata": {},
   "outputs": [
    {
     "data": {
      "text/plain": [
       "< table of extent 0 >"
      ]
     },
     "metadata": {},
     "output_type": "display_data"
    }
   ],
   "source": [
    "table(amsterdam$neighbourhood_cleansed)"
   ]
  },
  {
   "cell_type": "code",
   "execution_count": 22,
   "id": "69587c41",
   "metadata": {},
   "outputs": [
    {
     "data": {
      "text/plain": [
       "< table of extent 0 x 0 >"
      ]
     },
     "metadata": {},
     "output_type": "display_data"
    }
   ],
   "source": [
    "table(amsterdam$neighbourhood_cleansed,amsterdam$bedrooms)"
   ]
  },
  {
   "cell_type": "code",
   "execution_count": 23,
   "id": "13ca631d",
   "metadata": {},
   "outputs": [],
   "source": [
    "neigh_bedrooms <- table(amsterdam$neighbourhood_cleansed,amsterdam$bedrooms)"
   ]
  },
  {
   "cell_type": "code",
   "execution_count": 26,
   "id": "84fb6b9d",
   "metadata": {},
   "outputs": [],
   "source": [
    "neigh_bedrooms_DF <- as.data.frame(neigh_bedrooms)"
   ]
  },
  {
   "cell_type": "code",
   "execution_count": 28,
   "id": "8e6069ff",
   "metadata": {},
   "outputs": [],
   "source": [
    "neigh_bedrooms_DF <- as.data.frame.matrix(neigh_bedrooms)"
   ]
  },
  {
   "cell_type": "code",
   "execution_count": 30,
   "id": "4fb8fa54",
   "metadata": {},
   "outputs": [
    {
     "name": "stderr",
     "output_type": "stream",
     "text": [
      "Installing package into 'C:/Users/Douglas Schoewe/AppData/Local/R/win-library/4.2'\n",
      "(as 'lib' is unspecified)\n",
      "\n",
      "also installing the dependencies 'minqa', 'nloptr', 'RcppEigen', 'backports', 'tidyr', 'tidyselect', 'lme4', 'numDeriv', 'broom', 'Deriv', 'dplyr', 'microbenchmark', 'pbkrtest'\n",
      "\n",
      "\n"
     ]
    },
    {
     "name": "stdout",
     "output_type": "stream",
     "text": [
      "package 'minqa' successfully unpacked and MD5 sums checked\n",
      "package 'nloptr' successfully unpacked and MD5 sums checked\n",
      "package 'RcppEigen' successfully unpacked and MD5 sums checked\n",
      "package 'backports' successfully unpacked and MD5 sums checked\n",
      "package 'tidyr' successfully unpacked and MD5 sums checked\n",
      "package 'tidyselect' successfully unpacked and MD5 sums checked\n",
      "package 'lme4' successfully unpacked and MD5 sums checked\n",
      "package 'numDeriv' successfully unpacked and MD5 sums checked\n",
      "package 'broom' successfully unpacked and MD5 sums checked\n",
      "package 'Deriv' successfully unpacked and MD5 sums checked\n",
      "package 'dplyr' successfully unpacked and MD5 sums checked\n",
      "package 'microbenchmark' successfully unpacked and MD5 sums checked\n",
      "package 'pbkrtest' successfully unpacked and MD5 sums checked\n",
      "package 'doBy' successfully unpacked and MD5 sums checked\n",
      "\n",
      "The downloaded binary packages are in\n",
      "\tC:\\Users\\Douglas Schoewe\\AppData\\Local\\Temp\\RtmpG0l820\\downloaded_packages\n"
     ]
    }
   ],
   "source": [
    "install.packages(\"doBy\")"
   ]
  },
  {
   "cell_type": "code",
   "execution_count": 31,
   "id": "d599a167",
   "metadata": {},
   "outputs": [],
   "source": [
    "library(doBy)"
   ]
  },
  {
   "cell_type": "code",
   "execution_count": 32,
   "id": "da88b1b4",
   "metadata": {},
   "outputs": [
    {
     "ename": "ERROR",
     "evalue": "Error in .get_fun_names(FUN): object 'data_description' not found\n",
     "output_type": "error",
     "traceback": [
      "Error in .get_fun_names(FUN): object 'data_description' not found\nTraceback:\n",
      "1. summaryBy(price ~ property_type, data = amsterdam, FUN = data_description)",
      "2. .get_fun_names(FUN)"
     ]
    }
   ],
   "source": [
    "summaryBy(price ~ property_type, data = amsterdam, FUN = data_description )"
   ]
  },
  {
   "cell_type": "code",
   "execution_count": null,
   "id": "a51aba1e",
   "metadata": {},
   "outputs": [],
   "source": [
    "library(rgdal,verbose = FALSE)"
   ]
  },
  {
   "cell_type": "code",
   "execution_count": 36,
   "id": "ac695241",
   "metadata": {},
   "outputs": [
    {
     "ename": "ERROR",
     "evalue": "Error in readOGR(\"C:/rscripts/data/urban_analytics-master/04_Descriptive_statistics/data/historic_buildings.geojson\", : could not find function \"readOGR\"\n",
     "output_type": "error",
     "traceback": [
      "Error in readOGR(\"C:/rscripts/data/urban_analytics-master/04_Descriptive_statistics/data/historic_buildings.geojson\", : could not find function \"readOGR\"\nTraceback:\n"
     ]
    }
   ],
   "source": [
    "historic = readOGR(\"C:/rscripts/data/urban_analytics-master/04_Descriptive_statistics/data/historic_buildings.geojson\", \"OGRGeoJSON\",verbose = FALSE)"
   ]
  },
  {
   "cell_type": "code",
   "execution_count": null,
   "id": "3c5c11cf",
   "metadata": {},
   "outputs": [],
   "source": []
  },
  {
   "cell_type": "code",
   "execution_count": null,
   "id": "5a007f30",
   "metadata": {},
   "outputs": [],
   "source": []
  }
 ],
 "metadata": {
  "kernelspec": {
   "display_name": "R",
   "language": "R",
   "name": "ir"
  },
  "language_info": {
   "codemirror_mode": "r",
   "file_extension": ".r",
   "mimetype": "text/x-r-source",
   "name": "R",
   "pygments_lexer": "r",
   "version": "4.2.1"
  }
 },
 "nbformat": 4,
 "nbformat_minor": 5
}
