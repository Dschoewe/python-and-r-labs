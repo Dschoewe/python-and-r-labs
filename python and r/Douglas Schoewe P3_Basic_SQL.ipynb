{
 "cells": [
  {
   "cell_type": "code",
   "execution_count": 1,
   "id": "2179cb23",
   "metadata": {},
   "outputs": [
    {
     "data": {
      "text/html": [
       "'C:/Users/Douglas Schoewe'"
      ],
      "text/latex": [
       "'C:/Users/Douglas Schoewe'"
      ],
      "text/markdown": [
       "'C:/Users/Douglas Schoewe'"
      ],
      "text/plain": [
       "[1] \"C:/Users/Douglas Schoewe\""
      ]
     },
     "metadata": {},
     "output_type": "display_data"
    }
   ],
   "source": [
    "getwd()\n"
   ]
  },
  {
   "cell_type": "code",
   "execution_count": 3,
   "id": "58942cbd",
   "metadata": {},
   "outputs": [],
   "source": [
    "setwd(\"C:\\\\rscripts\")"
   ]
  },
  {
   "cell_type": "code",
   "execution_count": 33,
   "id": "bfcc3384",
   "metadata": {},
   "outputs": [],
   "source": [
    "tract_311 <- read.csv(\"./data/311_Tract_Coded.csv\")"
   ]
  },
  {
   "cell_type": "code",
   "execution_count": 34,
   "id": "e91ad958",
   "metadata": {},
   "outputs": [
    {
     "data": {
      "text/html": [
       "<table class=\"dataframe\">\n",
       "<caption>A data.frame: 6 × 2</caption>\n",
       "<thead>\n",
       "\t<tr><th></th><th scope=col>GEOID10</th><th scope=col>Category</th></tr>\n",
       "\t<tr><th></th><th scope=col>&lt;dbl&gt;</th><th scope=col>&lt;chr&gt;</th></tr>\n",
       "</thead>\n",
       "<tbody>\n",
       "\t<tr><th scope=row>1</th><td>6075980600</td><td>Abandoned Vehicle           </td></tr>\n",
       "\t<tr><th scope=row>2</th><td>6075980600</td><td>Graffiti Public Property    </td></tr>\n",
       "\t<tr><th scope=row>3</th><td>6075980600</td><td>Street and Sidewalk Cleaning</td></tr>\n",
       "\t<tr><th scope=row>4</th><td>6075980600</td><td>Street and Sidewalk Cleaning</td></tr>\n",
       "\t<tr><th scope=row>5</th><td>6075980600</td><td>Street and Sidewalk Cleaning</td></tr>\n",
       "\t<tr><th scope=row>6</th><td>6075980600</td><td>Street and Sidewalk Cleaning</td></tr>\n",
       "</tbody>\n",
       "</table>\n"
      ],
      "text/latex": [
       "A data.frame: 6 × 2\n",
       "\\begin{tabular}{r|ll}\n",
       "  & GEOID10 & Category\\\\\n",
       "  & <dbl> & <chr>\\\\\n",
       "\\hline\n",
       "\t1 & 6075980600 & Abandoned Vehicle           \\\\\n",
       "\t2 & 6075980600 & Graffiti Public Property    \\\\\n",
       "\t3 & 6075980600 & Street and Sidewalk Cleaning\\\\\n",
       "\t4 & 6075980600 & Street and Sidewalk Cleaning\\\\\n",
       "\t5 & 6075980600 & Street and Sidewalk Cleaning\\\\\n",
       "\t6 & 6075980600 & Street and Sidewalk Cleaning\\\\\n",
       "\\end{tabular}\n"
      ],
      "text/markdown": [
       "\n",
       "A data.frame: 6 × 2\n",
       "\n",
       "| <!--/--> | GEOID10 &lt;dbl&gt; | Category &lt;chr&gt; |\n",
       "|---|---|---|\n",
       "| 1 | 6075980600 | Abandoned Vehicle            |\n",
       "| 2 | 6075980600 | Graffiti Public Property     |\n",
       "| 3 | 6075980600 | Street and Sidewalk Cleaning |\n",
       "| 4 | 6075980600 | Street and Sidewalk Cleaning |\n",
       "| 5 | 6075980600 | Street and Sidewalk Cleaning |\n",
       "| 6 | 6075980600 | Street and Sidewalk Cleaning |\n",
       "\n"
      ],
      "text/plain": [
       "  GEOID10    Category                    \n",
       "1 6075980600 Abandoned Vehicle           \n",
       "2 6075980600 Graffiti Public Property    \n",
       "3 6075980600 Street and Sidewalk Cleaning\n",
       "4 6075980600 Street and Sidewalk Cleaning\n",
       "5 6075980600 Street and Sidewalk Cleaning\n",
       "6 6075980600 Street and Sidewalk Cleaning"
      ]
     },
     "metadata": {},
     "output_type": "display_data"
    }
   ],
   "source": [
    "head(tract_311)"
   ]
  },
  {
   "cell_type": "code",
   "execution_count": 35,
   "id": "b8cb1086",
   "metadata": {},
   "outputs": [],
   "source": [
    "WAC <- read.csv(\"./data/ca_wac_SI03_JT00_2014.csv\")"
   ]
  },
  {
   "cell_type": "code",
   "execution_count": 36,
   "id": "dceeaf75",
   "metadata": {},
   "outputs": [],
   "source": [
    "options(scipen = 999)"
   ]
  },
  {
   "cell_type": "code",
   "execution_count": 37,
   "id": "d8e816ad",
   "metadata": {},
   "outputs": [
    {
     "data": {
      "text/html": [
       "<table class=\"dataframe\">\n",
       "<caption>A data.frame: 6 × 53</caption>\n",
       "<thead>\n",
       "\t<tr><th></th><th scope=col>w_geocode</th><th scope=col>C000</th><th scope=col>CA01</th><th scope=col>CA02</th><th scope=col>CA03</th><th scope=col>CE01</th><th scope=col>CE02</th><th scope=col>CE03</th><th scope=col>CNS01</th><th scope=col>CNS02</th><th scope=col>⋯</th><th scope=col>CFA02</th><th scope=col>CFA03</th><th scope=col>CFA04</th><th scope=col>CFA05</th><th scope=col>CFS01</th><th scope=col>CFS02</th><th scope=col>CFS03</th><th scope=col>CFS04</th><th scope=col>CFS05</th><th scope=col>createdate</th></tr>\n",
       "\t<tr><th></th><th scope=col>&lt;dbl&gt;</th><th scope=col>&lt;int&gt;</th><th scope=col>&lt;int&gt;</th><th scope=col>&lt;int&gt;</th><th scope=col>&lt;int&gt;</th><th scope=col>&lt;int&gt;</th><th scope=col>&lt;int&gt;</th><th scope=col>&lt;int&gt;</th><th scope=col>&lt;int&gt;</th><th scope=col>&lt;int&gt;</th><th scope=col>⋯</th><th scope=col>&lt;int&gt;</th><th scope=col>&lt;int&gt;</th><th scope=col>&lt;int&gt;</th><th scope=col>&lt;int&gt;</th><th scope=col>&lt;int&gt;</th><th scope=col>&lt;int&gt;</th><th scope=col>&lt;int&gt;</th><th scope=col>&lt;int&gt;</th><th scope=col>&lt;int&gt;</th><th scope=col>&lt;int&gt;</th></tr>\n",
       "</thead>\n",
       "<tbody>\n",
       "\t<tr><th scope=row>1</th><td>60014001001007</td><td>45</td><td>17</td><td>15</td><td>13</td><td>16</td><td>7</td><td>22</td><td>0</td><td>0</td><td>⋯</td><td>0</td><td>0</td><td>0</td><td>0</td><td>0</td><td>0</td><td>0</td><td>0</td><td>0</td><td>20190825</td></tr>\n",
       "\t<tr><th scope=row>2</th><td>60014001001008</td><td>26</td><td> 3</td><td>15</td><td> 8</td><td> 3</td><td>5</td><td>18</td><td>0</td><td>0</td><td>⋯</td><td>0</td><td>0</td><td>0</td><td>0</td><td>0</td><td>0</td><td>0</td><td>0</td><td>0</td><td>20190825</td></tr>\n",
       "\t<tr><th scope=row>3</th><td>60014001001017</td><td> 9</td><td> 2</td><td> 3</td><td> 4</td><td> 1</td><td>1</td><td> 7</td><td>0</td><td>0</td><td>⋯</td><td>0</td><td>0</td><td>0</td><td>0</td><td>0</td><td>0</td><td>0</td><td>0</td><td>0</td><td>20190825</td></tr>\n",
       "\t<tr><th scope=row>4</th><td>60014001001024</td><td>19</td><td> 9</td><td> 9</td><td> 1</td><td> 9</td><td>6</td><td> 4</td><td>0</td><td>0</td><td>⋯</td><td>0</td><td>0</td><td>0</td><td>0</td><td>0</td><td>0</td><td>0</td><td>0</td><td>0</td><td>20190825</td></tr>\n",
       "\t<tr><th scope=row>5</th><td>60014001001026</td><td> 4</td><td> 1</td><td> 2</td><td> 1</td><td> 0</td><td>3</td><td> 1</td><td>0</td><td>0</td><td>⋯</td><td>0</td><td>0</td><td>0</td><td>0</td><td>0</td><td>0</td><td>0</td><td>0</td><td>0</td><td>20190825</td></tr>\n",
       "\t<tr><th scope=row>6</th><td>60014001001027</td><td>11</td><td> 2</td><td> 1</td><td> 8</td><td> 5</td><td>4</td><td> 2</td><td>0</td><td>0</td><td>⋯</td><td>0</td><td>0</td><td>0</td><td>0</td><td>0</td><td>0</td><td>0</td><td>0</td><td>0</td><td>20190825</td></tr>\n",
       "</tbody>\n",
       "</table>\n"
      ],
      "text/latex": [
       "A data.frame: 6 × 53\n",
       "\\begin{tabular}{r|lllllllllllllllllllll}\n",
       "  & w\\_geocode & C000 & CA01 & CA02 & CA03 & CE01 & CE02 & CE03 & CNS01 & CNS02 & ⋯ & CFA02 & CFA03 & CFA04 & CFA05 & CFS01 & CFS02 & CFS03 & CFS04 & CFS05 & createdate\\\\\n",
       "  & <dbl> & <int> & <int> & <int> & <int> & <int> & <int> & <int> & <int> & <int> & ⋯ & <int> & <int> & <int> & <int> & <int> & <int> & <int> & <int> & <int> & <int>\\\\\n",
       "\\hline\n",
       "\t1 & 60014001001007 & 45 & 17 & 15 & 13 & 16 & 7 & 22 & 0 & 0 & ⋯ & 0 & 0 & 0 & 0 & 0 & 0 & 0 & 0 & 0 & 20190825\\\\\n",
       "\t2 & 60014001001008 & 26 &  3 & 15 &  8 &  3 & 5 & 18 & 0 & 0 & ⋯ & 0 & 0 & 0 & 0 & 0 & 0 & 0 & 0 & 0 & 20190825\\\\\n",
       "\t3 & 60014001001017 &  9 &  2 &  3 &  4 &  1 & 1 &  7 & 0 & 0 & ⋯ & 0 & 0 & 0 & 0 & 0 & 0 & 0 & 0 & 0 & 20190825\\\\\n",
       "\t4 & 60014001001024 & 19 &  9 &  9 &  1 &  9 & 6 &  4 & 0 & 0 & ⋯ & 0 & 0 & 0 & 0 & 0 & 0 & 0 & 0 & 0 & 20190825\\\\\n",
       "\t5 & 60014001001026 &  4 &  1 &  2 &  1 &  0 & 3 &  1 & 0 & 0 & ⋯ & 0 & 0 & 0 & 0 & 0 & 0 & 0 & 0 & 0 & 20190825\\\\\n",
       "\t6 & 60014001001027 & 11 &  2 &  1 &  8 &  5 & 4 &  2 & 0 & 0 & ⋯ & 0 & 0 & 0 & 0 & 0 & 0 & 0 & 0 & 0 & 20190825\\\\\n",
       "\\end{tabular}\n"
      ],
      "text/markdown": [
       "\n",
       "A data.frame: 6 × 53\n",
       "\n",
       "| <!--/--> | w_geocode &lt;dbl&gt; | C000 &lt;int&gt; | CA01 &lt;int&gt; | CA02 &lt;int&gt; | CA03 &lt;int&gt; | CE01 &lt;int&gt; | CE02 &lt;int&gt; | CE03 &lt;int&gt; | CNS01 &lt;int&gt; | CNS02 &lt;int&gt; | ⋯ ⋯ | CFA02 &lt;int&gt; | CFA03 &lt;int&gt; | CFA04 &lt;int&gt; | CFA05 &lt;int&gt; | CFS01 &lt;int&gt; | CFS02 &lt;int&gt; | CFS03 &lt;int&gt; | CFS04 &lt;int&gt; | CFS05 &lt;int&gt; | createdate &lt;int&gt; |\n",
       "|---|---|---|---|---|---|---|---|---|---|---|---|---|---|---|---|---|---|---|---|---|---|\n",
       "| 1 | 60014001001007 | 45 | 17 | 15 | 13 | 16 | 7 | 22 | 0 | 0 | ⋯ | 0 | 0 | 0 | 0 | 0 | 0 | 0 | 0 | 0 | 20190825 |\n",
       "| 2 | 60014001001008 | 26 |  3 | 15 |  8 |  3 | 5 | 18 | 0 | 0 | ⋯ | 0 | 0 | 0 | 0 | 0 | 0 | 0 | 0 | 0 | 20190825 |\n",
       "| 3 | 60014001001017 |  9 |  2 |  3 |  4 |  1 | 1 |  7 | 0 | 0 | ⋯ | 0 | 0 | 0 | 0 | 0 | 0 | 0 | 0 | 0 | 20190825 |\n",
       "| 4 | 60014001001024 | 19 |  9 |  9 |  1 |  9 | 6 |  4 | 0 | 0 | ⋯ | 0 | 0 | 0 | 0 | 0 | 0 | 0 | 0 | 0 | 20190825 |\n",
       "| 5 | 60014001001026 |  4 |  1 |  2 |  1 |  0 | 3 |  1 | 0 | 0 | ⋯ | 0 | 0 | 0 | 0 | 0 | 0 | 0 | 0 | 0 | 20190825 |\n",
       "| 6 | 60014001001027 | 11 |  2 |  1 |  8 |  5 | 4 |  2 | 0 | 0 | ⋯ | 0 | 0 | 0 | 0 | 0 | 0 | 0 | 0 | 0 | 20190825 |\n",
       "\n"
      ],
      "text/plain": [
       "  w_geocode      C000 CA01 CA02 CA03 CE01 CE02 CE03 CNS01 CNS02 ⋯ CFA02 CFA03\n",
       "1 60014001001007 45   17   15   13   16   7    22   0     0     ⋯ 0     0    \n",
       "2 60014001001008 26    3   15    8    3   5    18   0     0     ⋯ 0     0    \n",
       "3 60014001001017  9    2    3    4    1   1     7   0     0     ⋯ 0     0    \n",
       "4 60014001001024 19    9    9    1    9   6     4   0     0     ⋯ 0     0    \n",
       "5 60014001001026  4    1    2    1    0   3     1   0     0     ⋯ 0     0    \n",
       "6 60014001001027 11    2    1    8    5   4     2   0     0     ⋯ 0     0    \n",
       "  CFA04 CFA05 CFS01 CFS02 CFS03 CFS04 CFS05 createdate\n",
       "1 0     0     0     0     0     0     0     20190825  \n",
       "2 0     0     0     0     0     0     0     20190825  \n",
       "3 0     0     0     0     0     0     0     20190825  \n",
       "4 0     0     0     0     0     0     0     20190825  \n",
       "5 0     0     0     0     0     0     0     20190825  \n",
       "6 0     0     0     0     0     0     0     20190825  "
      ]
     },
     "metadata": {},
     "output_type": "display_data"
    }
   ],
   "source": [
    "head(WAC)"
   ]
  },
  {
   "cell_type": "code",
   "execution_count": 38,
   "id": "12325718",
   "metadata": {},
   "outputs": [],
   "source": [
    "crosswalk <- read.csv(\"./data/ca_xwalk.csv\")"
   ]
  },
  {
   "cell_type": "code",
   "execution_count": 39,
   "id": "415dcaf5",
   "metadata": {},
   "outputs": [],
   "source": [
    "crosswalk <- subset(crosswalk, select = c(\"tabblk2010\",\"trct\"))"
   ]
  },
  {
   "cell_type": "code",
   "execution_count": 40,
   "id": "2bbd2857",
   "metadata": {},
   "outputs": [
    {
     "data": {
      "text/html": [
       "<table class=\"dataframe\">\n",
       "<caption>A data.frame: 6 × 2</caption>\n",
       "<thead>\n",
       "\t<tr><th></th><th scope=col>tabblk2010</th><th scope=col>trct</th></tr>\n",
       "\t<tr><th></th><th scope=col>&lt;dbl&gt;</th><th scope=col>&lt;dbl&gt;</th></tr>\n",
       "</thead>\n",
       "<tbody>\n",
       "\t<tr><th scope=row>1</th><td>60030100002053</td><td>6003010000</td></tr>\n",
       "\t<tr><th scope=row>2</th><td>60070013003023</td><td>6007001300</td></tr>\n",
       "\t<tr><th scope=row>3</th><td>60150002031279</td><td>6015000203</td></tr>\n",
       "\t<tr><th scope=row>4</th><td>60150002031336</td><td>6015000203</td></tr>\n",
       "\t<tr><th scope=row>5</th><td>60150002031264</td><td>6015000203</td></tr>\n",
       "\t<tr><th scope=row>6</th><td>60150002031342</td><td>6015000203</td></tr>\n",
       "</tbody>\n",
       "</table>\n"
      ],
      "text/latex": [
       "A data.frame: 6 × 2\n",
       "\\begin{tabular}{r|ll}\n",
       "  & tabblk2010 & trct\\\\\n",
       "  & <dbl> & <dbl>\\\\\n",
       "\\hline\n",
       "\t1 & 60030100002053 & 6003010000\\\\\n",
       "\t2 & 60070013003023 & 6007001300\\\\\n",
       "\t3 & 60150002031279 & 6015000203\\\\\n",
       "\t4 & 60150002031336 & 6015000203\\\\\n",
       "\t5 & 60150002031264 & 6015000203\\\\\n",
       "\t6 & 60150002031342 & 6015000203\\\\\n",
       "\\end{tabular}\n"
      ],
      "text/markdown": [
       "\n",
       "A data.frame: 6 × 2\n",
       "\n",
       "| <!--/--> | tabblk2010 &lt;dbl&gt; | trct &lt;dbl&gt; |\n",
       "|---|---|---|\n",
       "| 1 | 60030100002053 | 6003010000 |\n",
       "| 2 | 60070013003023 | 6007001300 |\n",
       "| 3 | 60150002031279 | 6015000203 |\n",
       "| 4 | 60150002031336 | 6015000203 |\n",
       "| 5 | 60150002031264 | 6015000203 |\n",
       "| 6 | 60150002031342 | 6015000203 |\n",
       "\n"
      ],
      "text/plain": [
       "  tabblk2010     trct      \n",
       "1 60030100002053 6003010000\n",
       "2 60070013003023 6007001300\n",
       "3 60150002031279 6015000203\n",
       "4 60150002031336 6015000203\n",
       "5 60150002031264 6015000203\n",
       "6 60150002031342 6015000203"
      ]
     },
     "metadata": {},
     "output_type": "display_data"
    }
   ],
   "source": [
    "head(crosswalk)"
   ]
  },
  {
   "cell_type": "code",
   "execution_count": 15,
   "id": "fc849484",
   "metadata": {},
   "outputs": [
    {
     "name": "stderr",
     "output_type": "stream",
     "text": [
      "Installing package into 'C:/Users/Douglas Schoewe/AppData/Local/R/win-library/4.2'\n",
      "(as 'lib' is unspecified)\n",
      "\n",
      "also installing the dependencies 'bit', 'bit64', 'blob', 'plogr', 'gsubfn', 'proto', 'RSQLite', 'chron'\n",
      "\n",
      "\n"
     ]
    },
    {
     "name": "stdout",
     "output_type": "stream",
     "text": [
      "package 'bit' successfully unpacked and MD5 sums checked\n",
      "package 'bit64' successfully unpacked and MD5 sums checked\n",
      "package 'blob' successfully unpacked and MD5 sums checked\n",
      "package 'plogr' successfully unpacked and MD5 sums checked\n",
      "package 'gsubfn' successfully unpacked and MD5 sums checked\n",
      "package 'proto' successfully unpacked and MD5 sums checked\n",
      "package 'RSQLite' successfully unpacked and MD5 sums checked\n",
      "package 'chron' successfully unpacked and MD5 sums checked\n",
      "package 'sqldf' successfully unpacked and MD5 sums checked\n",
      "\n",
      "The downloaded binary packages are in\n",
      "\tC:\\Users\\Douglas Schoewe\\AppData\\Local\\Temp\\RtmpOcBPM1\\downloaded_packages\n"
     ]
    }
   ],
   "source": [
    "install.packages(\"sqldf\")"
   ]
  },
  {
   "cell_type": "code",
   "execution_count": 42,
   "id": "7d65eaec",
   "metadata": {},
   "outputs": [],
   "source": [
    "library(sqldf)"
   ]
  },
  {
   "cell_type": "code",
   "execution_count": 43,
   "id": "1966ff1d",
   "metadata": {},
   "outputs": [],
   "source": [
    "library(rgdal)"
   ]
  },
  {
   "cell_type": "code",
   "execution_count": 44,
   "id": "d9a90e9a",
   "metadata": {},
   "outputs": [],
   "source": [
    "tmp <- sqldf('SELECT * from tract_311')"
   ]
  },
  {
   "cell_type": "code",
   "execution_count": 45,
   "id": "0b8b4e10",
   "metadata": {},
   "outputs": [],
   "source": [
    "AER_311 <- sqldf('SELECT w_geocode, CNS17 FROM WAC')"
   ]
  },
  {
   "cell_type": "code",
   "execution_count": 46,
   "id": "57d2163e",
   "metadata": {},
   "outputs": [
    {
     "data": {
      "text/html": [
       "<table class=\"dataframe\">\n",
       "<caption>A data.frame: 6 × 2</caption>\n",
       "<thead>\n",
       "\t<tr><th></th><th scope=col>w_geocode</th><th scope=col>CNS17</th></tr>\n",
       "\t<tr><th></th><th scope=col>&lt;dbl&gt;</th><th scope=col>&lt;int&gt;</th></tr>\n",
       "</thead>\n",
       "<tbody>\n",
       "\t<tr><th scope=row>1</th><td>60014001001007</td><td>0</td></tr>\n",
       "\t<tr><th scope=row>2</th><td>60014001001008</td><td>0</td></tr>\n",
       "\t<tr><th scope=row>3</th><td>60014001001017</td><td>0</td></tr>\n",
       "\t<tr><th scope=row>4</th><td>60014001001024</td><td>0</td></tr>\n",
       "\t<tr><th scope=row>5</th><td>60014001001026</td><td>0</td></tr>\n",
       "\t<tr><th scope=row>6</th><td>60014001001027</td><td>0</td></tr>\n",
       "</tbody>\n",
       "</table>\n"
      ],
      "text/latex": [
       "A data.frame: 6 × 2\n",
       "\\begin{tabular}{r|ll}\n",
       "  & w\\_geocode & CNS17\\\\\n",
       "  & <dbl> & <int>\\\\\n",
       "\\hline\n",
       "\t1 & 60014001001007 & 0\\\\\n",
       "\t2 & 60014001001008 & 0\\\\\n",
       "\t3 & 60014001001017 & 0\\\\\n",
       "\t4 & 60014001001024 & 0\\\\\n",
       "\t5 & 60014001001026 & 0\\\\\n",
       "\t6 & 60014001001027 & 0\\\\\n",
       "\\end{tabular}\n"
      ],
      "text/markdown": [
       "\n",
       "A data.frame: 6 × 2\n",
       "\n",
       "| <!--/--> | w_geocode &lt;dbl&gt; | CNS17 &lt;int&gt; |\n",
       "|---|---|---|\n",
       "| 1 | 60014001001007 | 0 |\n",
       "| 2 | 60014001001008 | 0 |\n",
       "| 3 | 60014001001017 | 0 |\n",
       "| 4 | 60014001001024 | 0 |\n",
       "| 5 | 60014001001026 | 0 |\n",
       "| 6 | 60014001001027 | 0 |\n",
       "\n"
      ],
      "text/plain": [
       "  w_geocode      CNS17\n",
       "1 60014001001007 0    \n",
       "2 60014001001008 0    \n",
       "3 60014001001017 0    \n",
       "4 60014001001024 0    \n",
       "5 60014001001026 0    \n",
       "6 60014001001027 0    "
      ]
     },
     "metadata": {},
     "output_type": "display_data"
    }
   ],
   "source": [
    "head(AER_311)"
   ]
  },
  {
   "cell_type": "code",
   "execution_count": 47,
   "id": "1dfeb784",
   "metadata": {},
   "outputs": [],
   "source": [
    "AER_311 <- sqldf('SELECT w_geocode, CNS17 FROM WAC ORDER BY CNS17 DESC')"
   ]
  },
  {
   "cell_type": "code",
   "execution_count": 48,
   "id": "4a32f4ff",
   "metadata": {},
   "outputs": [
    {
     "data": {
      "text/html": [
       "<table class=\"dataframe\">\n",
       "<caption>A data.frame: 6 × 2</caption>\n",
       "<thead>\n",
       "\t<tr><th></th><th scope=col>w_geocode</th><th scope=col>AER</th></tr>\n",
       "\t<tr><th></th><th scope=col>&lt;dbl&gt;</th><th scope=col>&lt;int&gt;</th></tr>\n",
       "</thead>\n",
       "<tbody>\n",
       "\t<tr><th scope=row>1</th><td>60014001001007</td><td>0</td></tr>\n",
       "\t<tr><th scope=row>2</th><td>60014001001008</td><td>0</td></tr>\n",
       "\t<tr><th scope=row>3</th><td>60014001001017</td><td>0</td></tr>\n",
       "\t<tr><th scope=row>4</th><td>60014001001024</td><td>0</td></tr>\n",
       "\t<tr><th scope=row>5</th><td>60014001001026</td><td>0</td></tr>\n",
       "\t<tr><th scope=row>6</th><td>60014001001027</td><td>0</td></tr>\n",
       "</tbody>\n",
       "</table>\n"
      ],
      "text/latex": [
       "A data.frame: 6 × 2\n",
       "\\begin{tabular}{r|ll}\n",
       "  & w\\_geocode & AER\\\\\n",
       "  & <dbl> & <int>\\\\\n",
       "\\hline\n",
       "\t1 & 60014001001007 & 0\\\\\n",
       "\t2 & 60014001001008 & 0\\\\\n",
       "\t3 & 60014001001017 & 0\\\\\n",
       "\t4 & 60014001001024 & 0\\\\\n",
       "\t5 & 60014001001026 & 0\\\\\n",
       "\t6 & 60014001001027 & 0\\\\\n",
       "\\end{tabular}\n"
      ],
      "text/markdown": [
       "\n",
       "A data.frame: 6 × 2\n",
       "\n",
       "| <!--/--> | w_geocode &lt;dbl&gt; | AER &lt;int&gt; |\n",
       "|---|---|---|\n",
       "| 1 | 60014001001007 | 0 |\n",
       "| 2 | 60014001001008 | 0 |\n",
       "| 3 | 60014001001017 | 0 |\n",
       "| 4 | 60014001001024 | 0 |\n",
       "| 5 | 60014001001026 | 0 |\n",
       "| 6 | 60014001001027 | 0 |\n",
       "\n"
      ],
      "text/plain": [
       "  w_geocode      AER\n",
       "1 60014001001007 0  \n",
       "2 60014001001008 0  \n",
       "3 60014001001017 0  \n",
       "4 60014001001024 0  \n",
       "5 60014001001026 0  \n",
       "6 60014001001027 0  "
      ]
     },
     "metadata": {},
     "output_type": "display_data"
    }
   ],
   "source": [
    "AER_311 <- sqldf('SELECT w_geocode, CNS17 AS AER FROM WAC')\n",
    "head(AER_311)"
   ]
  },
  {
   "cell_type": "code",
   "execution_count": 49,
   "id": "7d2fb9f4",
   "metadata": {
    "scrolled": true
   },
   "outputs": [
    {
     "data": {
      "text/html": [
       "<table class=\"dataframe\">\n",
       "<caption>A data.frame: 10 × 2</caption>\n",
       "<thead>\n",
       "\t<tr><th scope=col>GEOID10</th><th scope=col>Category</th></tr>\n",
       "\t<tr><th scope=col>&lt;dbl&gt;</th><th scope=col>&lt;chr&gt;</th></tr>\n",
       "</thead>\n",
       "<tbody>\n",
       "\t<tr><td>6075980600</td><td>Abandoned Vehicle           </td></tr>\n",
       "\t<tr><td>6075980600</td><td>Graffiti Public Property    </td></tr>\n",
       "\t<tr><td>6075980600</td><td>Street and Sidewalk Cleaning</td></tr>\n",
       "\t<tr><td>6075980600</td><td>Street and Sidewalk Cleaning</td></tr>\n",
       "\t<tr><td>6075980600</td><td>Street and Sidewalk Cleaning</td></tr>\n",
       "\t<tr><td>6075980600</td><td>Street and Sidewalk Cleaning</td></tr>\n",
       "\t<tr><td>6075980600</td><td>Street and Sidewalk Cleaning</td></tr>\n",
       "\t<tr><td>6075980600</td><td>Street and Sidewalk Cleaning</td></tr>\n",
       "\t<tr><td>6075980600</td><td>Street and Sidewalk Cleaning</td></tr>\n",
       "\t<tr><td>6075980600</td><td>MUNI Feedback               </td></tr>\n",
       "</tbody>\n",
       "</table>\n"
      ],
      "text/latex": [
       "A data.frame: 10 × 2\n",
       "\\begin{tabular}{ll}\n",
       " GEOID10 & Category\\\\\n",
       " <dbl> & <chr>\\\\\n",
       "\\hline\n",
       "\t 6075980600 & Abandoned Vehicle           \\\\\n",
       "\t 6075980600 & Graffiti Public Property    \\\\\n",
       "\t 6075980600 & Street and Sidewalk Cleaning\\\\\n",
       "\t 6075980600 & Street and Sidewalk Cleaning\\\\\n",
       "\t 6075980600 & Street and Sidewalk Cleaning\\\\\n",
       "\t 6075980600 & Street and Sidewalk Cleaning\\\\\n",
       "\t 6075980600 & Street and Sidewalk Cleaning\\\\\n",
       "\t 6075980600 & Street and Sidewalk Cleaning\\\\\n",
       "\t 6075980600 & Street and Sidewalk Cleaning\\\\\n",
       "\t 6075980600 & MUNI Feedback               \\\\\n",
       "\\end{tabular}\n"
      ],
      "text/markdown": [
       "\n",
       "A data.frame: 10 × 2\n",
       "\n",
       "| GEOID10 &lt;dbl&gt; | Category &lt;chr&gt; |\n",
       "|---|---|\n",
       "| 6075980600 | Abandoned Vehicle            |\n",
       "| 6075980600 | Graffiti Public Property     |\n",
       "| 6075980600 | Street and Sidewalk Cleaning |\n",
       "| 6075980600 | Street and Sidewalk Cleaning |\n",
       "| 6075980600 | Street and Sidewalk Cleaning |\n",
       "| 6075980600 | Street and Sidewalk Cleaning |\n",
       "| 6075980600 | Street and Sidewalk Cleaning |\n",
       "| 6075980600 | Street and Sidewalk Cleaning |\n",
       "| 6075980600 | Street and Sidewalk Cleaning |\n",
       "| 6075980600 | MUNI Feedback                |\n",
       "\n"
      ],
      "text/plain": [
       "   GEOID10    Category                    \n",
       "1  6075980600 Abandoned Vehicle           \n",
       "2  6075980600 Graffiti Public Property    \n",
       "3  6075980600 Street and Sidewalk Cleaning\n",
       "4  6075980600 Street and Sidewalk Cleaning\n",
       "5  6075980600 Street and Sidewalk Cleaning\n",
       "6  6075980600 Street and Sidewalk Cleaning\n",
       "7  6075980600 Street and Sidewalk Cleaning\n",
       "8  6075980600 Street and Sidewalk Cleaning\n",
       "9  6075980600 Street and Sidewalk Cleaning\n",
       "10 6075980600 MUNI Feedback               "
      ]
     },
     "metadata": {},
     "output_type": "display_data"
    }
   ],
   "source": [
    "sqldf('SELECT * from tract_311 LIMIT 10')\n"
   ]
  },
  {
   "cell_type": "code",
   "execution_count": 65,
   "id": "7926f667",
   "metadata": {},
   "outputs": [],
   "source": [
    "noise_311 <- sqldf('SELECT * from tract_311 WHERE Category = \"Noise Report\"')"
   ]
  },
  {
   "cell_type": "code",
   "execution_count": 69,
   "id": "e15217de",
   "metadata": {},
   "outputs": [],
   "source": [
    "AER_311_Tract <- sqldf(\"SELECT * from AER_311 AS A LEFT JOIN crosswalk AS B on A.w_geocode = B.tabblk2010\") "
   ]
  },
  {
   "cell_type": "code",
   "execution_count": 70,
   "id": "40db65c0",
   "metadata": {},
   "outputs": [
    {
     "data": {
      "text/html": [
       "<table class=\"dataframe\">\n",
       "<caption>A data.frame: 6 × 4</caption>\n",
       "<thead>\n",
       "\t<tr><th></th><th scope=col>w_geocode</th><th scope=col>AER</th><th scope=col>tabblk2010</th><th scope=col>trct</th></tr>\n",
       "\t<tr><th></th><th scope=col>&lt;dbl&gt;</th><th scope=col>&lt;int&gt;</th><th scope=col>&lt;dbl&gt;</th><th scope=col>&lt;dbl&gt;</th></tr>\n",
       "</thead>\n",
       "<tbody>\n",
       "\t<tr><th scope=row>1</th><td>60014001001007</td><td>0</td><td>60014001001007</td><td>6001400100</td></tr>\n",
       "\t<tr><th scope=row>2</th><td>60014001001008</td><td>0</td><td>60014001001008</td><td>6001400100</td></tr>\n",
       "\t<tr><th scope=row>3</th><td>60014001001017</td><td>0</td><td>60014001001017</td><td>6001422700</td></tr>\n",
       "\t<tr><th scope=row>4</th><td>60014001001024</td><td>0</td><td>60014001001024</td><td>6001400100</td></tr>\n",
       "\t<tr><th scope=row>5</th><td>60014001001026</td><td>0</td><td>60014001001026</td><td>6001400100</td></tr>\n",
       "\t<tr><th scope=row>6</th><td>60014001001027</td><td>0</td><td>60014001001027</td><td>6001400100</td></tr>\n",
       "</tbody>\n",
       "</table>\n"
      ],
      "text/latex": [
       "A data.frame: 6 × 4\n",
       "\\begin{tabular}{r|llll}\n",
       "  & w\\_geocode & AER & tabblk2010 & trct\\\\\n",
       "  & <dbl> & <int> & <dbl> & <dbl>\\\\\n",
       "\\hline\n",
       "\t1 & 60014001001007 & 0 & 60014001001007 & 6001400100\\\\\n",
       "\t2 & 60014001001008 & 0 & 60014001001008 & 6001400100\\\\\n",
       "\t3 & 60014001001017 & 0 & 60014001001017 & 6001422700\\\\\n",
       "\t4 & 60014001001024 & 0 & 60014001001024 & 6001400100\\\\\n",
       "\t5 & 60014001001026 & 0 & 60014001001026 & 6001400100\\\\\n",
       "\t6 & 60014001001027 & 0 & 60014001001027 & 6001400100\\\\\n",
       "\\end{tabular}\n"
      ],
      "text/markdown": [
       "\n",
       "A data.frame: 6 × 4\n",
       "\n",
       "| <!--/--> | w_geocode &lt;dbl&gt; | AER &lt;int&gt; | tabblk2010 &lt;dbl&gt; | trct &lt;dbl&gt; |\n",
       "|---|---|---|---|---|\n",
       "| 1 | 60014001001007 | 0 | 60014001001007 | 6001400100 |\n",
       "| 2 | 60014001001008 | 0 | 60014001001008 | 6001400100 |\n",
       "| 3 | 60014001001017 | 0 | 60014001001017 | 6001422700 |\n",
       "| 4 | 60014001001024 | 0 | 60014001001024 | 6001400100 |\n",
       "| 5 | 60014001001026 | 0 | 60014001001026 | 6001400100 |\n",
       "| 6 | 60014001001027 | 0 | 60014001001027 | 6001400100 |\n",
       "\n"
      ],
      "text/plain": [
       "  w_geocode      AER tabblk2010     trct      \n",
       "1 60014001001007 0   60014001001007 6001400100\n",
       "2 60014001001008 0   60014001001008 6001400100\n",
       "3 60014001001017 0   60014001001017 6001422700\n",
       "4 60014001001024 0   60014001001024 6001400100\n",
       "5 60014001001026 0   60014001001026 6001400100\n",
       "6 60014001001027 0   60014001001027 6001400100"
      ]
     },
     "metadata": {},
     "output_type": "display_data"
    }
   ],
   "source": [
    "head(AER_311_Tract)"
   ]
  },
  {
   "cell_type": "code",
   "execution_count": 71,
   "id": "21a562ff",
   "metadata": {},
   "outputs": [],
   "source": [
    "AER_311_Tract <- sqldf(\"SELECT sum(A.AER) AS AER, B.trct from AER_311 AS A LEFT JOIN crosswalk AS B on A.w_geocode = B.tabblk2010 GROUP BY trct\")"
   ]
  },
  {
   "cell_type": "code",
   "execution_count": 72,
   "id": "2492195d",
   "metadata": {},
   "outputs": [
    {
     "data": {
      "text/html": [
       "<table class=\"dataframe\">\n",
       "<caption>A data.frame: 6 × 2</caption>\n",
       "<thead>\n",
       "\t<tr><th></th><th scope=col>AER</th><th scope=col>trct</th></tr>\n",
       "\t<tr><th></th><th scope=col>&lt;int&gt;</th><th scope=col>&lt;dbl&gt;</th></tr>\n",
       "</thead>\n",
       "<tbody>\n",
       "\t<tr><th scope=row>1</th><td>15</td><td>6001400100</td></tr>\n",
       "\t<tr><th scope=row>2</th><td> 1</td><td>6001400200</td></tr>\n",
       "\t<tr><th scope=row>3</th><td> 8</td><td>6001400300</td></tr>\n",
       "\t<tr><th scope=row>4</th><td> 2</td><td>6001400400</td></tr>\n",
       "\t<tr><th scope=row>5</th><td> 0</td><td>6001400500</td></tr>\n",
       "\t<tr><th scope=row>6</th><td> 2</td><td>6001400600</td></tr>\n",
       "</tbody>\n",
       "</table>\n"
      ],
      "text/latex": [
       "A data.frame: 6 × 2\n",
       "\\begin{tabular}{r|ll}\n",
       "  & AER & trct\\\\\n",
       "  & <int> & <dbl>\\\\\n",
       "\\hline\n",
       "\t1 & 15 & 6001400100\\\\\n",
       "\t2 &  1 & 6001400200\\\\\n",
       "\t3 &  8 & 6001400300\\\\\n",
       "\t4 &  2 & 6001400400\\\\\n",
       "\t5 &  0 & 6001400500\\\\\n",
       "\t6 &  2 & 6001400600\\\\\n",
       "\\end{tabular}\n"
      ],
      "text/markdown": [
       "\n",
       "A data.frame: 6 × 2\n",
       "\n",
       "| <!--/--> | AER &lt;int&gt; | trct &lt;dbl&gt; |\n",
       "|---|---|---|\n",
       "| 1 | 15 | 6001400100 |\n",
       "| 2 |  1 | 6001400200 |\n",
       "| 3 |  8 | 6001400300 |\n",
       "| 4 |  2 | 6001400400 |\n",
       "| 5 |  0 | 6001400500 |\n",
       "| 6 |  2 | 6001400600 |\n",
       "\n"
      ],
      "text/plain": [
       "  AER trct      \n",
       "1 15  6001400100\n",
       "2  1  6001400200\n",
       "3  8  6001400300\n",
       "4  2  6001400400\n",
       "5  0  6001400500\n",
       "6  2  6001400600"
      ]
     },
     "metadata": {},
     "output_type": "display_data"
    }
   ],
   "source": [
    "head(AER_311_Tract)"
   ]
  },
  {
   "cell_type": "code",
   "execution_count": 73,
   "id": "d45189ad",
   "metadata": {},
   "outputs": [],
   "source": [
    "noise_311_tract <- sqldf(\"SELECT GEOID10, count(Category) as Noise_C FROM noise_311 GROUP BY GEOID10\")"
   ]
  },
  {
   "cell_type": "code",
   "execution_count": 74,
   "id": "85ce9086",
   "metadata": {},
   "outputs": [],
   "source": [
    "noise_AER_tract <- merge(AER_311_Tract,noise_311_tract, by.x=\"trct\",by.y = \"GEOID10\")"
   ]
  },
  {
   "cell_type": "code",
   "execution_count": 76,
   "id": "a1bb40b8",
   "metadata": {},
   "outputs": [
    {
     "data": {
      "text/html": [
       "<table class=\"dataframe\">\n",
       "<caption>A data.frame: 6 × 3</caption>\n",
       "<thead>\n",
       "\t<tr><th></th><th scope=col>trct</th><th scope=col>AER</th><th scope=col>Noise_C</th></tr>\n",
       "\t<tr><th></th><th scope=col>&lt;dbl&gt;</th><th scope=col>&lt;int&gt;</th><th scope=col>&lt;int&gt;</th></tr>\n",
       "</thead>\n",
       "<tbody>\n",
       "\t<tr><th scope=row>1</th><td>6075010100</td><td> 71</td><td> 5</td></tr>\n",
       "\t<tr><th scope=row>2</th><td>6075010200</td><td>  5</td><td> 6</td></tr>\n",
       "\t<tr><th scope=row>3</th><td>6075010300</td><td> 27</td><td> 5</td></tr>\n",
       "\t<tr><th scope=row>4</th><td>6075010400</td><td>238</td><td> 2</td></tr>\n",
       "\t<tr><th scope=row>5</th><td>6075010500</td><td>576</td><td>10</td></tr>\n",
       "\t<tr><th scope=row>6</th><td>6075010700</td><td> 56</td><td> 4</td></tr>\n",
       "</tbody>\n",
       "</table>\n"
      ],
      "text/latex": [
       "A data.frame: 6 × 3\n",
       "\\begin{tabular}{r|lll}\n",
       "  & trct & AER & Noise\\_C\\\\\n",
       "  & <dbl> & <int> & <int>\\\\\n",
       "\\hline\n",
       "\t1 & 6075010100 &  71 &  5\\\\\n",
       "\t2 & 6075010200 &   5 &  6\\\\\n",
       "\t3 & 6075010300 &  27 &  5\\\\\n",
       "\t4 & 6075010400 & 238 &  2\\\\\n",
       "\t5 & 6075010500 & 576 & 10\\\\\n",
       "\t6 & 6075010700 &  56 &  4\\\\\n",
       "\\end{tabular}\n"
      ],
      "text/markdown": [
       "\n",
       "A data.frame: 6 × 3\n",
       "\n",
       "| <!--/--> | trct &lt;dbl&gt; | AER &lt;int&gt; | Noise_C &lt;int&gt; |\n",
       "|---|---|---|---|\n",
       "| 1 | 6075010100 |  71 |  5 |\n",
       "| 2 | 6075010200 |   5 |  6 |\n",
       "| 3 | 6075010300 |  27 |  5 |\n",
       "| 4 | 6075010400 | 238 |  2 |\n",
       "| 5 | 6075010500 | 576 | 10 |\n",
       "| 6 | 6075010700 |  56 |  4 |\n",
       "\n"
      ],
      "text/plain": [
       "  trct       AER Noise_C\n",
       "1 6075010100  71  5     \n",
       "2 6075010200   5  6     \n",
       "3 6075010300  27  5     \n",
       "4 6075010400 238  2     \n",
       "5 6075010500 576 10     \n",
       "6 6075010700  56  4     "
      ]
     },
     "metadata": {},
     "output_type": "display_data"
    }
   ],
   "source": [
    "head(noise_AER_tract)"
   ]
  },
  {
   "cell_type": "code",
   "execution_count": 77,
   "id": "acae67a9",
   "metadata": {},
   "outputs": [
    {
     "name": "stderr",
     "output_type": "stream",
     "text": [
      "Installing package into 'C:/Users/Douglas Schoewe/AppData/Local/R/win-library/4.2'\n",
      "(as 'lib' is unspecified)\n",
      "\n",
      "also installing the dependency 'bitops'\n",
      "\n",
      "\n"
     ]
    },
    {
     "name": "stdout",
     "output_type": "stream",
     "text": [
      "package 'bitops' successfully unpacked and MD5 sums checked\n",
      "package 'RCurl' successfully unpacked and MD5 sums checked\n",
      "\n",
      "The downloaded binary packages are in\n",
      "\tC:\\Users\\Douglas Schoewe\\AppData\\Local\\Temp\\RtmpOcBPM1\\downloaded_packages\n"
     ]
    }
   ],
   "source": [
    "install.packages(\"RCurl\")"
   ]
  },
  {
   "cell_type": "code",
   "execution_count": 78,
   "id": "9cc89b66",
   "metadata": {},
   "outputs": [
    {
     "name": "stderr",
     "output_type": "stream",
     "text": [
      "Installing package into 'C:/Users/Douglas Schoewe/AppData/Local/R/win-library/4.2'\n",
      "(as 'lib' is unspecified)\n",
      "\n"
     ]
    },
    {
     "name": "stdout",
     "output_type": "stream",
     "text": [
      "package 'RJSONIO' successfully unpacked and MD5 sums checked\n",
      "\n",
      "The downloaded binary packages are in\n",
      "\tC:\\Users\\Douglas Schoewe\\AppData\\Local\\Temp\\RtmpOcBPM1\\downloaded_packages\n"
     ]
    }
   ],
   "source": [
    "install.packages(\"RJSONIO\")"
   ]
  },
  {
   "cell_type": "code",
   "execution_count": 79,
   "id": "c7fd1ff6",
   "metadata": {},
   "outputs": [
    {
     "name": "stderr",
     "output_type": "stream",
     "text": [
      "Installing package into 'C:/Users/Douglas Schoewe/AppData/Local/R/win-library/4.2'\n",
      "(as 'lib' is unspecified)\n",
      "\n"
     ]
    },
    {
     "name": "stdout",
     "output_type": "stream",
     "text": [
      "package 'devtools' successfully unpacked and MD5 sums checked\n",
      "\n",
      "The downloaded binary packages are in\n",
      "\tC:\\Users\\Douglas Schoewe\\AppData\\Local\\Temp\\RtmpOcBPM1\\downloaded_packages\n"
     ]
    }
   ],
   "source": [
    "install.packages(\"devtools\")"
   ]
  },
  {
   "cell_type": "code",
   "execution_count": 80,
   "id": "63f74d6c",
   "metadata": {},
   "outputs": [
    {
     "name": "stderr",
     "output_type": "stream",
     "text": [
      "Loading required package: usethis\n",
      "\n"
     ]
    }
   ],
   "source": [
    "library(devtools)"
   ]
  },
  {
   "cell_type": "code",
   "execution_count": 81,
   "id": "049ce632",
   "metadata": {},
   "outputs": [
    {
     "name": "stderr",
     "output_type": "stream",
     "text": [
      "Downloading GitHub repo alexsingleton/cartodb-r@HEAD\n",
      "\n"
     ]
    },
    {
     "name": "stdout",
     "output_type": "stream",
     "text": [
      "\n",
      "\u001b[32m✔\u001b[39m  \u001b[90mchecking for file 'C:\\Users\\Douglas Schoewe\\AppData\\Local\\Temp\\RtmpOcBPM1\\remotes6d0835183510\\alexsingleton-cartodb-r-ea893c4\\CartoDB/DESCRIPTION'\u001b[39m\u001b[36m\u001b[39m\n",
      "\u001b[90m─\u001b[39m\u001b[90m  \u001b[39m\u001b[90mpreparing 'CartoDB':\u001b[39m\u001b[36m\u001b[39m\n",
      "\u001b[32m✔\u001b[39m  \u001b[90mchecking DESCRIPTION meta-information\u001b[39m\u001b[36m\u001b[39m\n",
      "\u001b[90m─\u001b[39m\u001b[90m  \u001b[39m\u001b[90mchecking for LF line-endings in source and make files and shell scripts\u001b[39m\u001b[36m\u001b[39m\n",
      "\u001b[90m─\u001b[39m\u001b[90m  \u001b[39m\u001b[90mchecking for empty or unneeded directories\u001b[39m\u001b[36m\u001b[39m\n",
      "\u001b[90m─\u001b[39m\u001b[90m  \u001b[39m\u001b[90mbuilding 'CartoDB_1.4.tar.gz'\u001b[39m\u001b[36m\u001b[39m\n",
      "   \n",
      "\r"
     ]
    },
    {
     "name": "stderr",
     "output_type": "stream",
     "text": [
      "Installing package into 'C:/Users/Douglas Schoewe/AppData/Local/R/win-library/4.2'\n",
      "(as 'lib' is unspecified)\n",
      "\n"
     ]
    }
   ],
   "source": [
    "install_github(\"alexsingleton/cartodb-r\", subdir = \"CartoDB\")"
   ]
  },
  {
   "cell_type": "code",
   "execution_count": 82,
   "id": "cd92bfca",
   "metadata": {},
   "outputs": [
    {
     "name": "stderr",
     "output_type": "stream",
     "text": [
      "Loading required package: RCurl\n",
      "\n",
      "Loading required package: RJSONIO\n",
      "\n"
     ]
    }
   ],
   "source": [
    "library(CartoDB)"
   ]
  },
  {
   "cell_type": "code",
   "execution_count": 25,
   "id": "c0e85ff1",
   "metadata": {},
   "outputs": [],
   "source": [
    "##Beyond this point I was unable to connect and read/write to the Carto API## I called Carto and spoke with a representitve## He said that the Free version no longer supports using CARTO API"
   ]
  },
  {
   "cell_type": "code",
   "execution_count": 117,
   "id": "6a9b6fe7",
   "metadata": {},
   "outputs": [],
   "source": [
    "cartodb(\"urbananlytics\",api.key=\"5c0dcfdd79366035bf50cc6229da08032b35445a\")"
   ]
  },
  {
   "cell_type": "code",
   "execution_count": 119,
   "id": "dcfc1492",
   "metadata": {},
   "outputs": [
    {
     "name": "stderr",
     "output_type": "stream",
     "text": [
      "Warning message:\n",
      "\"package 'devtools' is in use and will not be installed\"\n",
      "Downloading GitHub repo dracodoc/rCartoAPI@HEAD\n",
      "\n"
     ]
    },
    {
     "name": "stdout",
     "output_type": "stream",
     "text": [
      "generics  (NA -> 0.1.3) [CRAN]\n",
      "lubridate (NA -> 1.8.0) [CRAN]\n"
     ]
    },
    {
     "name": "stderr",
     "output_type": "stream",
     "text": [
      "Installing 2 packages: generics, lubridate\n",
      "\n",
      "Installing packages into 'C:/Users/Douglas Schoewe/AppData/Local/R/win-library/4.2'\n",
      "(as 'lib' is unspecified)\n",
      "\n",
      "Warning message in download.file(url, destfile, method, mode = \"wb\", ...):\n",
      "\"URL 'https://cran.r-project.org/bin/windows/contrib/4.2/generics_0.1.3.zip': Timeout of 60 seconds was reached\"\n"
     ]
    },
    {
     "name": "stdout",
     "output_type": "stream",
     "text": [
      "Error in download.file(url, destfile, method, mode = \"wb\", ...) : \n",
      "  cannot open URL 'https://cran.r-project.org/bin/windows/contrib/4.2/generics_0.1.3.zip'\n"
     ]
    },
    {
     "name": "stderr",
     "output_type": "stream",
     "text": [
      "Warning message in download.packages(pkgs, destdir = tmpd, available = available, :\n",
      "\"download of package 'generics' failed\"\n",
      "Warning message in download.file(url, destfile, method, mode = \"wb\", ...):\n",
      "\"URL 'https://cran.r-project.org/bin/windows/contrib/4.2/lubridate_1.8.0.zip': Timeout of 60 seconds was reached\"\n"
     ]
    },
    {
     "name": "stdout",
     "output_type": "stream",
     "text": [
      "Error in download.file(url, destfile, method, mode = \"wb\", ...) : \n",
      "  cannot open URL 'https://cran.r-project.org/bin/windows/contrib/4.2/lubridate_1.8.0.zip'\n"
     ]
    },
    {
     "name": "stderr",
     "output_type": "stream",
     "text": [
      "Warning message in download.packages(pkgs, destdir = tmpd, available = available, :\n",
      "\"download of package 'lubridate' failed\"\n"
     ]
    },
    {
     "name": "stdout",
     "output_type": "stream",
     "text": [
      "\u001b[32m✔\u001b[39m  \u001b[90mchecking for file 'C:\\Users\\Douglas Schoewe\\AppData\\Local\\Temp\\RtmpOcBPM1\\remotes6d08a787c42\\dracodoc-rCartoAPI-7851f2b/DESCRIPTION'\u001b[39m\u001b[36m\u001b[36m (557ms)\u001b[36m\u001b[39m\n",
      "\u001b[90m─\u001b[39m\u001b[90m  \u001b[39m\u001b[90mpreparing 'rCartoAPI':\u001b[39m\u001b[36m\u001b[36m (354ms)\u001b[36m\u001b[39m\n",
      "\u001b[32m✔\u001b[39m  \u001b[90mchecking DESCRIPTION meta-information\u001b[39m\u001b[36m\u001b[39m\n",
      "\u001b[90m─\u001b[39m\u001b[90m  \u001b[39m\u001b[90mchecking for LF line-endings in source and make files and shell scripts\u001b[39m\u001b[36m\u001b[39m\n",
      "\u001b[90m─\u001b[39m\u001b[90m  \u001b[39m\u001b[90mchecking for empty or unneeded directories\u001b[39m\u001b[36m\u001b[39m\n",
      "   Omitted 'LazyData' from DESCRIPTION\n",
      "\u001b[90m─\u001b[39m\u001b[90m  \u001b[39m\u001b[90mbuilding 'rCartoAPI_0.1.0.tar.gz'\u001b[39m\u001b[36m\u001b[39m\n",
      "   \n",
      "\r"
     ]
    },
    {
     "name": "stderr",
     "output_type": "stream",
     "text": [
      "Installing package into 'C:/Users/Douglas Schoewe/AppData/Local/R/win-library/4.2'\n",
      "(as 'lib' is unspecified)\n",
      "\n",
      "Warning message in i.p(...):\n",
      "\"installation of package 'C:/Users/DOUGLA~1/AppData/Local/Temp/RtmpOcBPM1/file6d083ea275fa/rCartoAPI_0.1.0.tar.gz' had non-zero exit status\"\n"
     ]
    }
   ],
   "source": [
    "install.packages(\"devtools\") \n",
    "devtools::install_github(\"dracodoc/rCartoAPI\")"
   ]
  },
  {
   "cell_type": "code",
   "execution_count": 120,
   "id": "bf10c427",
   "metadata": {},
   "outputs": [
    {
     "name": "stderr",
     "output_type": "stream",
     "text": [
      "Downloading GitHub repo dracodoc/rCartoAPI@HEAD\n",
      "\n"
     ]
    },
    {
     "name": "stdout",
     "output_type": "stream",
     "text": [
      "generics  (NA -> 0.1.3) [CRAN]\n",
      "lubridate (NA -> 1.8.0) [CRAN]\n"
     ]
    },
    {
     "name": "stderr",
     "output_type": "stream",
     "text": [
      "Installing 2 packages: generics, lubridate\n",
      "\n",
      "Installing packages into 'C:/Users/Douglas Schoewe/AppData/Local/R/win-library/4.2'\n",
      "(as 'lib' is unspecified)\n",
      "\n"
     ]
    },
    {
     "name": "stdout",
     "output_type": "stream",
     "text": [
      "package 'generics' successfully unpacked and MD5 sums checked\n",
      "package 'lubridate' successfully unpacked and MD5 sums checked\n",
      "\n",
      "The downloaded binary packages are in\n",
      "\tC:\\Users\\Douglas Schoewe\\AppData\\Local\\Temp\\RtmpOcBPM1\\downloaded_packages\n",
      "\u001b[32m✔\u001b[39m  \u001b[90mchecking for file 'C:\\Users\\Douglas Schoewe\\AppData\\Local\\Temp\\RtmpOcBPM1\\remotes6d082cda3a96\\dracodoc-rCartoAPI-7851f2b/DESCRIPTION'\u001b[39m\u001b[36m\u001b[39m\n",
      "\u001b[90m─\u001b[39m\u001b[90m  \u001b[39m\u001b[90mpreparing 'rCartoAPI':\u001b[39m\u001b[36m\u001b[39m\n",
      "\u001b[32m✔\u001b[39m  \u001b[90mchecking DESCRIPTION meta-information\u001b[39m\u001b[36m\u001b[39m\n",
      "\u001b[90m─\u001b[39m\u001b[90m  \u001b[39m\u001b[90mchecking for LF line-endings in source and make files and shell scripts\u001b[39m\u001b[36m\u001b[39m\n",
      "\u001b[90m─\u001b[39m\u001b[90m  \u001b[39m\u001b[90mchecking for empty or unneeded directories\u001b[39m\u001b[36m\u001b[39m\n",
      "   Omitted 'LazyData' from DESCRIPTION\n",
      "\u001b[90m─\u001b[39m\u001b[90m  \u001b[39m\u001b[90mbuilding 'rCartoAPI_0.1.0.tar.gz'\u001b[39m\u001b[36m\u001b[39m\n",
      "   \n",
      "\r"
     ]
    },
    {
     "name": "stderr",
     "output_type": "stream",
     "text": [
      "Installing package into 'C:/Users/Douglas Schoewe/AppData/Local/R/win-library/4.2'\n",
      "(as 'lib' is unspecified)\n",
      "\n"
     ]
    }
   ],
   "source": [
    "remotes::install_github(\"dracodoc/rCartoAPI\")"
   ]
  },
  {
   "cell_type": "code",
   "execution_count": 13,
   "id": "c51ee9cb",
   "metadata": {},
   "outputs": [
    {
     "ename": "ERROR",
     "evalue": "Error in cartodb.collection(\"brooklyn_trees\", geomAs = \"XY\", limit = 10): could not find function \"cartodb.collection\"\n",
     "output_type": "error",
     "traceback": [
      "Error in cartodb.collection(\"brooklyn_trees\", geomAs = \"XY\", limit = 10): could not find function \"cartodb.collection\"\nTraceback:\n"
     ]
    }
   ],
   "source": [
    "tmp <- cartodb.collection(\"brooklyn_trees\", geomAs=\"XY\", limit=10)"
   ]
  },
  {
   "cell_type": "code",
   "execution_count": 14,
   "id": "340622ec",
   "metadata": {},
   "outputs": [
    {
     "ename": "ERROR",
     "evalue": "Error in eval(expr, envir, enclos): object 'tmp' not found\n",
     "output_type": "error",
     "traceback": [
      "Error in eval(expr, envir, enclos): object 'tmp' not found\nTraceback:\n"
     ]
    }
   ],
   "source": [
    "tmp\n",
    "\n",
    "#Same query, but supplied as a formal SQL query\n",
    "tmp <- cartodb.collection(sql=\"SELECT cartodb_id, the_geom, tree_speci, serial FROM brooklyn_trees LIMIT 10\")\n",
    "tmp"
   ]
  },
  {
   "cell_type": "code",
   "execution_count": 15,
   "id": "74c87fb5",
   "metadata": {},
   "outputs": [
    {
     "ename": "ERROR",
     "evalue": "Error in eval(expr, envir, enclos): object 'tmp' not found\n",
     "output_type": "error",
     "traceback": [
      "Error in eval(expr, envir, enclos): object 'tmp' not found\nTraceback:\n"
     ]
    }
   ],
   "source": [
    "tmp\n",
    "\n",
    "#Same query, but supplied as a formal SQL query\n",
    "tmp <- cartodb.collection(sql=\"SELECT cartodb_id,  ST_AsText(the_geom), ST_X(the_geom) AS Lon, ST_Y(the_geom) AS Lat, tree_speci, serial FROM brooklyn_trees LIMIT 10\")\n",
    "tmp"
   ]
  },
  {
   "cell_type": "code",
   "execution_count": 16,
   "id": "b9d36b3a",
   "metadata": {},
   "outputs": [
    {
     "ename": "ERROR",
     "evalue": "Error in cartodb.collection(\"brooklyn_neigh_tab\", columns = c(\"cartodb_id\", : could not find function \"cartodb.collection\"\n",
     "output_type": "error",
     "traceback": [
      "Error in cartodb.collection(\"brooklyn_neigh_tab\", columns = c(\"cartodb_id\", : could not find function \"cartodb.collection\"\nTraceback:\n"
     ]
    }
   ],
   "source": [
    "#Get the GeoJSON\n",
    "zones <- cartodb.collection(\"brooklyn_neigh_tab\",columns=c(\"cartodb_id\",\"the_geom\"),method=\"GeoJSON\")\n",
    "#Create a SpatialPolygonsDataFrame obect\n",
    "zones.SP <-readOGR(zones,layer = 'OGRGeoJSON',verbose =FALSE) #The \"verbose = FALSE\" stops readOGR printing the content of the geoJSON to the R console\n",
    "#Plot the zones\n",
    "plot(zones.SP)"
   ]
  },
  {
   "cell_type": "code",
   "execution_count": 17,
   "id": "ed3d0c4f",
   "metadata": {},
   "outputs": [
    {
     "ename": "ERROR",
     "evalue": "Error in cartodb.collection(sql = \"SELECT cartodb_id, ntaname, ST_Area(the_geom::geography) / 1000000 AS Area_KM FROM brooklyn_neigh_tab\"): could not find function \"cartodb.collection\"\n",
     "output_type": "error",
     "traceback": [
      "Error in cartodb.collection(sql = \"SELECT cartodb_id, ntaname, ST_Area(the_geom::geography) / 1000000 AS Area_KM FROM brooklyn_neigh_tab\"): could not find function \"cartodb.collection\"\nTraceback:\n"
     ]
    }
   ],
   "source": [
    "test<- cartodb.collection(sql=\"SELECT cartodb_id, ntaname, ST_Area(the_geom::geography) / 1000000 AS Area_KM FROM brooklyn_neigh_tab\")"
   ]
  },
  {
   "cell_type": "code",
   "execution_count": 18,
   "id": "88a137ac",
   "metadata": {},
   "outputs": [
    {
     "ename": "ERROR",
     "evalue": "Error in cartodb.collection(sql = \"SELECT cartodb_id, ntaname, ST_Centroid(the_geom) as the_geom FROM brooklyn_neigh_tab\", : could not find function \"cartodb.collection\"\n",
     "output_type": "error",
     "traceback": [
      "Error in cartodb.collection(sql = \"SELECT cartodb_id, ntaname, ST_Centroid(the_geom) as the_geom FROM brooklyn_neigh_tab\", : could not find function \"cartodb.collection\"\nTraceback:\n"
     ]
    }
   ],
   "source": [
    "test <- cartodb.collection(sql=\"SELECT cartodb_id, ntaname, ST_Centroid(the_geom) as the_geom FROM brooklyn_neigh_tab\",method=\"GeoJSON\")\n",
    "\n",
    "# Plot the results\n",
    "plot(readOGR(test,layer = 'OGRGeoJSON',verbose =FALSE))"
   ]
  },
  {
   "cell_type": "code",
   "execution_count": 19,
   "id": "a7b0a90a",
   "metadata": {},
   "outputs": [
    {
     "ename": "ERROR",
     "evalue": "Error in cartodb.collection(sql = \"SELECT cartodb_id,  ST_Buffer(the_geom::geography,200) as the_geom FROM brooklyn_trees WHERE tree_speci = 'Green Ash'\", : could not find function \"cartodb.collection\"\n",
     "output_type": "error",
     "traceback": [
      "Error in cartodb.collection(sql = \"SELECT cartodb_id,  ST_Buffer(the_geom::geography,200) as the_geom FROM brooklyn_trees WHERE tree_speci = 'Green Ash'\", : could not find function \"cartodb.collection\"\nTraceback:\n"
     ]
    }
   ],
   "source": [
    "#Return buffers\n",
    "buffers <- cartodb.collection(sql=\"SELECT cartodb_id,  ST_Buffer(the_geom::geography,200) as the_geom FROM brooklyn_trees WHERE tree_speci = 'Green Ash'\",method=\"GeoJSON\")\n",
    "\n",
    "# Plot the results\n",
    "buffers.SP <- readOGR(buffers,layer = 'OGRGeoJSON',verbose =FALSE)\n",
    "#Plot first 100 tree buffers\n",
    "plot(buffers.SP[1:100,])"
   ]
  },
  {
   "cell_type": "code",
   "execution_count": 20,
   "id": "ce25a773",
   "metadata": {},
   "outputs": [
    {
     "ename": "ERROR",
     "evalue": "Error in cartodb.collection(sql = \"SELECT a.*,b.ntaname FROM subway_stations AS a, brooklyn_neigh_tab AS b WHERE ST_Intersects(a.the_geom, b.the_geom)\", : could not find function \"cartodb.collection\"\n",
     "output_type": "error",
     "traceback": [
      "Error in cartodb.collection(sql = \"SELECT a.*,b.ntaname FROM subway_stations AS a, brooklyn_neigh_tab AS b WHERE ST_Intersects(a.the_geom, b.the_geom)\", : could not find function \"cartodb.collection\"\nTraceback:\n"
     ]
    }
   ],
   "source": [
    "# Return intersection of stations with Brooklyn neighborhoods\n",
    "intersection_stations <- cartodb.collection(sql=\"SELECT a.*,b.ntaname FROM subway_stations AS a, brooklyn_neigh_tab AS b WHERE ST_Intersects(a.the_geom, b.the_geom)\",method=\"GeoJSON\") # b.ntaname is added to the select statement to append the neighbouhood names that the stations are located within\n",
    "\n",
    "# Plot the results\n",
    "intersection_stations.SP <- readOGR(intersection_stations,layer = 'OGRGeoJSON',verbose =FALSE)\n",
    "plot(intersection_stations.SP)\n",
    "\n",
    "#We can also see how each of the stations now have the neighborhood appended\n",
    "head(intersection_stations.SP@data)"
   ]
  },
  {
   "cell_type": "code",
   "execution_count": 21,
   "id": "a24feeed",
   "metadata": {},
   "outputs": [
    {
     "ename": "ERROR",
     "evalue": "Error in cartodb.collection(sql = \"CREATE TABLE subway_stations_brooklyn AS SELECT a.* FROM subway_stations AS a, brooklyn_neigh_tab AS b WHERE ST_Intersects(a.the_geom, b.the_geom)\"): could not find function \"cartodb.collection\"\n",
     "output_type": "error",
     "traceback": [
      "Error in cartodb.collection(sql = \"CREATE TABLE subway_stations_brooklyn AS SELECT a.* FROM subway_stations AS a, brooklyn_neigh_tab AS b WHERE ST_Intersects(a.the_geom, b.the_geom)\"): could not find function \"cartodb.collection\"\nTraceback:\n"
     ]
    }
   ],
   "source": [
    "# Write the query to Carto\n",
    "cartodb.collection(sql=\"CREATE TABLE subway_stations_brooklyn AS SELECT a.* FROM subway_stations AS a, brooklyn_neigh_tab AS b WHERE ST_Intersects(a.the_geom, b.the_geom)\")\n",
    "\n",
    "# In order to make the table visible on the datasets page, this statement is also required\n",
    "cartodb.collection(sql=\"select cdb_cartodbfytable('subway_stations_brooklyn')\")"
   ]
  },
  {
   "cell_type": "code",
   "execution_count": 22,
   "id": "d18366b5",
   "metadata": {},
   "outputs": [
    {
     "ename": "ERROR",
     "evalue": "Error in cartodb.collection(sql = \"SELECT a.* FROM subway a, brooklyn_neigh_tab b WHERE ST_Intersects(a.the_geom, b.the_geom)\", : could not find function \"cartodb.collection\"\n",
     "output_type": "error",
     "traceback": [
      "Error in cartodb.collection(sql = \"SELECT a.* FROM subway a, brooklyn_neigh_tab b WHERE ST_Intersects(a.the_geom, b.the_geom)\", : could not find function \"cartodb.collection\"\nTraceback:\n"
     ]
    }
   ],
   "source": [
    "# Return intersection of stations with Brooklyn neighborhoods\n",
    "intersection_lines <- cartodb.collection(sql=\"SELECT a.* FROM subway a, brooklyn_neigh_tab b WHERE ST_Intersects(a.the_geom, b.the_geom)\",method=\"GeoJSON\")\n",
    "\n",
    "# Plot the results\n",
    "intersection_lines.SP <- readOGR(intersection_lines,layer = 'OGRGeoJSON',verbose =FALSE)\n",
    "plot(intersection_lines.SP)"
   ]
  },
  {
   "cell_type": "code",
   "execution_count": 23,
   "id": "3c43491d",
   "metadata": {},
   "outputs": [
    {
     "ename": "ERROR",
     "evalue": "Error in cartodb.collection(sql = \"SELECT * FROM subway\", method = \"GeoJSON\"): could not find function \"cartodb.collection\"\n",
     "output_type": "error",
     "traceback": [
      "Error in cartodb.collection(sql = \"SELECT * FROM subway\", method = \"GeoJSON\"): could not find function \"cartodb.collection\"\nTraceback:\n"
     ]
    }
   ],
   "source": [
    "# Return intersection of stations with Brooklyn neighborhoods\n",
    "lines <- cartodb.collection(sql=\"SELECT * FROM subway\",method=\"GeoJSON\")\n",
    "\n",
    "# Plot the results\n",
    "lines.SP <- readOGR(lines,layer = 'OGRGeoJSON',verbose =FALSE)\n",
    "plot(lines.SP)\n",
    "plot(zones.SP, col=\"#24478f4D\", border = NA, add=TRUE)\n",
    "plot(intersection_lines.SP,col=\"red\", add=TRUE)"
   ]
  },
  {
   "cell_type": "code",
   "execution_count": 24,
   "id": "94e83583",
   "metadata": {},
   "outputs": [
    {
     "ename": "ERROR",
     "evalue": "Error in cartodb.collection(sql = \"SELECT name, ST_Distance(the_geom::geography, ST_SetSRID(ST_Point(-73.9365832, 40.7042924),4326)::geography) as distance FROM subway_stations_brooklyn ORDER BY distance\"): could not find function \"cartodb.collection\"\n",
     "output_type": "error",
     "traceback": [
      "Error in cartodb.collection(sql = \"SELECT name, ST_Distance(the_geom::geography, ST_SetSRID(ST_Point(-73.9365832, 40.7042924),4326)::geography) as distance FROM subway_stations_brooklyn ORDER BY distance\"): could not find function \"cartodb.collection\"\nTraceback:\n"
     ]
    }
   ],
   "source": [
    "distance_station <- cartodb.collection(sql=\"SELECT name, ST_Distance(the_geom::geography, ST_SetSRID(ST_Point(-73.9365832, 40.7042924),4326)::geography) as distance FROM subway_stations_brooklyn ORDER BY distance\")\n",
    "\n",
    "#Show the closest six subway stations\n",
    "head(distance_station)"
   ]
  },
  {
   "cell_type": "code",
   "execution_count": null,
   "id": "78c24c1c",
   "metadata": {},
   "outputs": [],
   "source": []
  }
 ],
 "metadata": {
  "kernelspec": {
   "display_name": "R",
   "language": "R",
   "name": "ir"
  },
  "language_info": {
   "codemirror_mode": "r",
   "file_extension": ".r",
   "mimetype": "text/x-r-source",
   "name": "R",
   "pygments_lexer": "r",
   "version": "4.2.1"
  }
 },
 "nbformat": 4,
 "nbformat_minor": 5
}
