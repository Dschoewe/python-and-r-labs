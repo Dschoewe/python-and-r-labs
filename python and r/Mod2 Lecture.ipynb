{
 "cells": [
  {
   "cell_type": "markdown",
   "id": "adaa5844",
   "metadata": {},
   "source": [
    "# Numpy"
   ]
  },
  {
   "cell_type": "code",
   "execution_count": 1,
   "id": "3ca2971d",
   "metadata": {},
   "outputs": [],
   "source": [
    "import numpy as np\n"
   ]
  },
  {
   "cell_type": "markdown",
   "id": "64cee9de",
   "metadata": {},
   "source": [
    "# Creating An Array"
   ]
  },
  {
   "cell_type": "markdown",
   "id": "f6d26cbb",
   "metadata": {},
   "source": [
    "#### From a list or an iterable object:"
   ]
  },
  {
   "cell_type": "code",
   "execution_count": 84,
   "id": "3c418b93",
   "metadata": {},
   "outputs": [],
   "source": [
    "a = np.array([1,2,3,4,5])"
   ]
  },
  {
   "cell_type": "code",
   "execution_count": 85,
   "id": "dbe64a8e",
   "metadata": {},
   "outputs": [
    {
     "data": {
      "text/plain": [
       "array([1, 2, 3, 4, 5])"
      ]
     },
     "execution_count": 85,
     "metadata": {},
     "output_type": "execute_result"
    }
   ],
   "source": [
    "a\n"
   ]
  },
  {
   "cell_type": "markdown",
   "id": "fefa0f28",
   "metadata": {},
   "source": [
    "#### A 2 dimensional array with explicit data type:"
   ]
  },
  {
   "cell_type": "code",
   "execution_count": 3,
   "id": "81a6d37c",
   "metadata": {},
   "outputs": [],
   "source": [
    "a = np.array([[1,2],[3,4],[5,6]],dtype=np.float32)"
   ]
  },
  {
   "cell_type": "code",
   "execution_count": 4,
   "id": "922e78c4",
   "metadata": {
    "scrolled": true
   },
   "outputs": [
    {
     "data": {
      "text/plain": [
       "array([[1., 2.],\n",
       "       [3., 4.],\n",
       "       [5., 6.]], dtype=float32)"
      ]
     },
     "execution_count": 4,
     "metadata": {},
     "output_type": "execute_result"
    }
   ],
   "source": [
    "a"
   ]
  },
  {
   "cell_type": "markdown",
   "id": "c0bd8bf8",
   "metadata": {},
   "source": [
    "#### A 2x 3 array filled with zeros:"
   ]
  },
  {
   "cell_type": "code",
   "execution_count": 5,
   "id": "a543b075",
   "metadata": {},
   "outputs": [
    {
     "data": {
      "text/plain": [
       "array([[0., 0., 0.],\n",
       "       [0., 0., 0.]])"
      ]
     },
     "execution_count": 5,
     "metadata": {},
     "output_type": "execute_result"
    }
   ],
   "source": [
    "np.zeros((2,3))"
   ]
  },
  {
   "cell_type": "markdown",
   "id": "5d0924a9",
   "metadata": {},
   "source": [
    "#### A 3x2 filled with ones"
   ]
  },
  {
   "cell_type": "code",
   "execution_count": 6,
   "id": "d29b08bc",
   "metadata": {},
   "outputs": [
    {
     "data": {
      "text/plain": [
       "array([[1., 1.],\n",
       "       [1., 1.],\n",
       "       [1., 1.]])"
      ]
     },
     "execution_count": 6,
     "metadata": {},
     "output_type": "execute_result"
    }
   ],
   "source": [
    "np.ones((3,2))"
   ]
  },
  {
   "cell_type": "markdown",
   "id": "ccdfc2d4",
   "metadata": {},
   "source": [
    "#### Fill with explicit shape, value and type"
   ]
  },
  {
   "cell_type": "code",
   "execution_count": 7,
   "id": "477a40de",
   "metadata": {},
   "outputs": [
    {
     "data": {
      "text/plain": [
       "array([[123., 123.],\n",
       "       [123., 123.],\n",
       "       [123., 123.]])"
      ]
     },
     "execution_count": 7,
     "metadata": {},
     "output_type": "execute_result"
    }
   ],
   "source": [
    "np.full((3,2),123,dtype=np.float64)"
   ]
  },
  {
   "cell_type": "markdown",
   "id": "ff1bdb96",
   "metadata": {},
   "source": [
    "#### Fill incrementally between 0.0 (inclusive) and 10.0 (exclusive) by 1:"
   ]
  },
  {
   "cell_type": "code",
   "execution_count": 8,
   "id": "b6bb4f30",
   "metadata": {},
   "outputs": [
    {
     "data": {
      "text/plain": [
       "array([0., 1., 2., 3., 4., 5., 6., 7., 8., 9.])"
      ]
     },
     "execution_count": 8,
     "metadata": {},
     "output_type": "execute_result"
    }
   ],
   "source": [
    "np.arange(0.0,10.0,1.0)"
   ]
  },
  {
   "cell_type": "markdown",
   "id": "a8255d5b",
   "metadata": {},
   "source": [
    "#### Create a 21 element array with linearly spaced values between 0 and 10 inclusively:"
   ]
  },
  {
   "cell_type": "code",
   "execution_count": 9,
   "id": "627ecd1d",
   "metadata": {},
   "outputs": [
    {
     "data": {
      "text/plain": [
       "array([ 0. ,  0.5,  1. ,  1.5,  2. ,  2.5,  3. ,  3.5,  4. ,  4.5,  5. ,\n",
       "        5.5,  6. ,  6.5,  7. ,  7.5,  8. ,  8.5,  9. ,  9.5, 10. ])"
      ]
     },
     "execution_count": 9,
     "metadata": {},
     "output_type": "execute_result"
    }
   ],
   "source": [
    "np.linspace(0.0,10.0,21)"
   ]
  },
  {
   "cell_type": "markdown",
   "id": "a80ace10",
   "metadata": {},
   "source": [
    "#### Create 10 random values between -1 and 1 :"
   ]
  },
  {
   "cell_type": "code",
   "execution_count": 10,
   "id": "11aa43aa",
   "metadata": {},
   "outputs": [
    {
     "data": {
      "text/plain": [
       "array([-0.8680037 ,  0.0618367 , -0.88095757,  0.09430029,  0.72251833,\n",
       "        0.93819298, -0.16182331, -0.79098123,  0.05252952, -0.12711074])"
      ]
     },
     "execution_count": 10,
     "metadata": {},
     "output_type": "execute_result"
    }
   ],
   "source": [
    "np.random.uniform(-1,1,size=10)"
   ]
  },
  {
   "cell_type": "markdown",
   "id": "910ef617",
   "metadata": {},
   "source": [
    "#### Derive 20 random values between -1 and 1 :"
   ]
  },
  {
   "cell_type": "code",
   "execution_count": 11,
   "id": "4654b01d",
   "metadata": {},
   "outputs": [
    {
     "data": {
      "text/plain": [
       "array([ 9.92214148, 10.00567836, 10.08256488,  9.99640044,  9.83880639,\n",
       "        9.90629762,  9.9080683 , 10.0633301 , 10.05742952,  9.98068143,\n",
       "       10.16200752, 10.22695371,  9.94633504,  9.83965543,  9.92054799,\n",
       "       10.12070753,  9.89276938, 10.06158209, 10.10174209, 10.13939803])"
      ]
     },
     "execution_count": 11,
     "metadata": {},
     "output_type": "execute_result"
    }
   ],
   "source": [
    "mu = 10 \n",
    "sigma = 0.1\n",
    "np.random.normal(mu,sigma,size=20)"
   ]
  },
  {
   "cell_type": "markdown",
   "id": "e97cd715",
   "metadata": {},
   "source": [
    "# Indexing and Slicing"
   ]
  },
  {
   "cell_type": "markdown",
   "id": "e1e0f537",
   "metadata": {},
   "source": [
    "Example Description\n",
    "a[i] Select element at index  i , where  i  is an integer\n",
    "a[-i] Select element at index  i  from the end of the array, where  -1  is the last element and  i  is\n",
    "an integer\n",
    "a[:] Select all the elements in the array\n",
    "a[i:] Select all elements starting from index  i \n",
    "a[:i] Select all elements between index 0 (inclusive) and  i  (exclusive)\n",
    "a[i:j] Select all elements between index  i  (inclusive) and  j  (exclusive)\n",
    "a[i:j:k] Select all elements between index  i  (inclusive) and  j  (exclusive) with increment  k \n",
    "a[::-1] Select all elements in reserve order"
   ]
  },
  {
   "cell_type": "markdown",
   "id": "239d8dd3",
   "metadata": {},
   "source": [
    "#### Views into the array"
   ]
  },
  {
   "cell_type": "code",
   "execution_count": 12,
   "id": "a573e99f",
   "metadata": {},
   "outputs": [
    {
     "data": {
      "text/plain": [
       "array([[1., 2.],\n",
       "       [3., 4.],\n",
       "       [5., 6.]], dtype=float32)"
      ]
     },
     "execution_count": 12,
     "metadata": {},
     "output_type": "execute_result"
    }
   ],
   "source": [
    "a = np.array([[1.,2.],[3.,4.],[5.,6.]],dtype=np.float32)\n",
    "a"
   ]
  },
  {
   "cell_type": "code",
   "execution_count": 13,
   "id": "2c0db78f",
   "metadata": {},
   "outputs": [
    {
     "data": {
      "text/plain": [
       "array([[ 1.,  2.],\n",
       "       [30., 40.],\n",
       "       [ 5.,  6.]], dtype=float32)"
      ]
     },
     "execution_count": 13,
     "metadata": {},
     "output_type": "execute_result"
    }
   ],
   "source": [
    "b= a[1]\n",
    "b[:] = [30,40]\n",
    "a"
   ]
  },
  {
   "cell_type": "code",
   "execution_count": 14,
   "id": "54c2b064",
   "metadata": {},
   "outputs": [
    {
     "data": {
      "text/plain": [
       "array([[1., 2.],\n",
       "       [3., 4.],\n",
       "       [5., 6.]], dtype=float32)"
      ]
     },
     "execution_count": 14,
     "metadata": {},
     "output_type": "execute_result"
    }
   ],
   "source": [
    "a = np.array([[1,2],[3,4],[5,6]],dtype=np.float32)\n",
    "a"
   ]
  },
  {
   "cell_type": "markdown",
   "id": "01ec0ef7",
   "metadata": {},
   "source": [
    "#### make sure to use .copy() to have explicit copy rather than a view into the original array"
   ]
  },
  {
   "cell_type": "code",
   "execution_count": 15,
   "id": "dbe0e171",
   "metadata": {},
   "outputs": [
    {
     "data": {
      "text/plain": [
       "array([3., 4.], dtype=float32)"
      ]
     },
     "execution_count": 15,
     "metadata": {},
     "output_type": "execute_result"
    }
   ],
   "source": [
    "b = a [1].copy()\n",
    "b"
   ]
  },
  {
   "cell_type": "code",
   "execution_count": 16,
   "id": "105955e3",
   "metadata": {
    "scrolled": true
   },
   "outputs": [
    {
     "data": {
      "text/plain": [
       "array([[1., 2.],\n",
       "       [3., 4.],\n",
       "       [5., 6.]], dtype=float32)"
      ]
     },
     "execution_count": 16,
     "metadata": {},
     "output_type": "execute_result"
    }
   ],
   "source": [
    "b = a [1].copy()\n",
    "b[:]= [30,40]\n",
    "a"
   ]
  },
  {
   "cell_type": "markdown",
   "id": "559eba0b",
   "metadata": {},
   "source": [
    "#### Boolean Indexing"
   ]
  },
  {
   "cell_type": "code",
   "execution_count": 17,
   "id": "01b29f96",
   "metadata": {},
   "outputs": [
    {
     "data": {
      "text/plain": [
       "array([ 0. ,  0.5,  1. ,  1.5,  2. ,  2.5,  3. ,  3.5,  4. ,  4.5,  5. ,\n",
       "        5.5,  6. ,  6.5,  7. ,  7.5,  8. ,  8.5,  9. ,  9.5, 10. ])"
      ]
     },
     "execution_count": 17,
     "metadata": {},
     "output_type": "execute_result"
    }
   ],
   "source": [
    "a = np.linspace(0.0,10.0,21)\n",
    "a"
   ]
  },
  {
   "cell_type": "markdown",
   "id": "5db49170",
   "metadata": {},
   "source": [
    "#### Boolean indexing "
   ]
  },
  {
   "cell_type": "code",
   "execution_count": 18,
   "id": "b7c34f49",
   "metadata": {},
   "outputs": [
    {
     "data": {
      "text/plain": [
       "array([ 5.5,  6. ,  6.5,  7. ,  7.5,  8. ,  8.5,  9. ,  9.5, 10. ])"
      ]
     },
     "execution_count": 18,
     "metadata": {},
     "output_type": "execute_result"
    }
   ],
   "source": [
    "a[a>5.0]"
   ]
  },
  {
   "cell_type": "markdown",
   "id": "317d4004",
   "metadata": {},
   "source": [
    "#### Boolean-value indexing can be complex"
   ]
  },
  {
   "cell_type": "code",
   "execution_count": 19,
   "id": "75223ca9",
   "metadata": {},
   "outputs": [
    {
     "data": {
      "text/plain": [
       "array([[ 1.63103831e-01, -2.75890316e+01],\n",
       "       [-4.56403752e+01, -9.51096777e+00],\n",
       "       [-7.26946257e+01, -2.78341663e+01],\n",
       "       [ 2.32676940e+01,  8.95680886e+00],\n",
       "       [ 8.62944140e+01,  6.23194287e+00],\n",
       "       [-7.13711758e+01,  3.72678876e+01],\n",
       "       [ 5.62961178e+01,  3.63949987e-02],\n",
       "       [ 1.16884679e+01, -1.17843462e-01],\n",
       "       [ 2.39231803e+01,  1.71953816e+01],\n",
       "       [ 8.36109040e+01, -4.08580200e+01],\n",
       "       [-4.08020885e+01, -2.58736690e+01],\n",
       "       [-5.34575205e+01, -3.28346226e+01],\n",
       "       [ 6.43845496e+01, -8.38539931e+00],\n",
       "       [-7.97070714e+00,  2.45758178e+00],\n",
       "       [ 3.76988809e+01, -3.70177966e+01],\n",
       "       [-2.39427144e+01,  3.39715215e+01],\n",
       "       [ 4.75451539e+01, -1.48878035e+01],\n",
       "       [ 8.21015711e+01, -8.91945460e+00],\n",
       "       [ 8.25296522e+01, -1.19802847e+01],\n",
       "       [-2.63008357e+01, -3.41519007e+01],\n",
       "       [-7.07245472e+00, -6.82172706e+00],\n",
       "       [ 8.61327751e+01,  3.35688479e+01],\n",
       "       [-8.59731099e+01, -1.73400279e+01],\n",
       "       [-1.46818937e+01, -5.55729435e-01],\n",
       "       [-4.61961080e+01, -2.02543201e+01],\n",
       "       [-2.08318023e+01, -1.41216601e+01],\n",
       "       [ 2.86133760e+01,  2.41716065e+01],\n",
       "       [ 8.47295181e+01, -3.69980844e+01]])"
      ]
     },
     "execution_count": 19,
     "metadata": {},
     "output_type": "execute_result"
    }
   ],
   "source": [
    "x = np.random.uniform(-180,180,size=100)\n",
    "y = np.random.uniform(-90,90,size=100)\n",
    "xy=np.stack((x,y),axis=1)\n",
    "xy[(xy[:,0]>-90)& (xy[:,0]<90)&(xy[:,1]>-45) & (xy[:,1]<45)]"
   ]
  },
  {
   "cell_type": "markdown",
   "id": "b61b4b97",
   "metadata": {},
   "source": [
    "#### Reshaping"
   ]
  },
  {
   "cell_type": "code",
   "execution_count": 20,
   "id": "7a9a3983",
   "metadata": {},
   "outputs": [],
   "source": [
    "x = np.arange(0,10,1).reshape((5,2))\n"
   ]
  },
  {
   "cell_type": "code",
   "execution_count": 21,
   "id": "18d1d44d",
   "metadata": {},
   "outputs": [
    {
     "data": {
      "text/plain": [
       "array([[0, 1],\n",
       "       [2, 3],\n",
       "       [4, 5],\n",
       "       [6, 7],\n",
       "       [8, 9]])"
      ]
     },
     "execution_count": 21,
     "metadata": {},
     "output_type": "execute_result"
    }
   ],
   "source": [
    "x"
   ]
  },
  {
   "cell_type": "markdown",
   "id": "61a37b02",
   "metadata": {},
   "source": [
    "#### Arrays can be stacked horizontally and vertically\n"
   ]
  },
  {
   "cell_type": "code",
   "execution_count": 22,
   "id": "49bb6aba",
   "metadata": {},
   "outputs": [],
   "source": [
    "a = np.array([1,2,3])\n",
    "b = np.array([4,5,6])"
   ]
  },
  {
   "cell_type": "code",
   "execution_count": 23,
   "id": "a38072d9",
   "metadata": {},
   "outputs": [
    {
     "data": {
      "text/plain": [
       "array([[1, 2, 3],\n",
       "       [4, 5, 6]])"
      ]
     },
     "execution_count": 23,
     "metadata": {},
     "output_type": "execute_result"
    }
   ],
   "source": [
    "np.vstack((a,b))"
   ]
  },
  {
   "cell_type": "code",
   "execution_count": 24,
   "id": "4e1884e5",
   "metadata": {},
   "outputs": [
    {
     "data": {
      "text/plain": [
       "array([1, 2, 3, 4, 5, 6])"
      ]
     },
     "execution_count": 24,
     "metadata": {},
     "output_type": "execute_result"
    }
   ],
   "source": [
    "np.hstack((a,b))"
   ]
  },
  {
   "cell_type": "code",
   "execution_count": 25,
   "id": "e55b9864",
   "metadata": {},
   "outputs": [],
   "source": [
    "a = np.array([1,2,3])\n",
    "b = np.array([4,5,6])"
   ]
  },
  {
   "cell_type": "code",
   "execution_count": 26,
   "id": "ea164849",
   "metadata": {},
   "outputs": [
    {
     "data": {
      "text/plain": [
       "array([5, 7, 9])"
      ]
     },
     "execution_count": 26,
     "metadata": {},
     "output_type": "execute_result"
    }
   ],
   "source": [
    "a + b"
   ]
  },
  {
   "cell_type": "code",
   "execution_count": 27,
   "id": "7dcc9541",
   "metadata": {},
   "outputs": [
    {
     "data": {
      "text/plain": [
       "array([ 4, 10, 18])"
      ]
     },
     "execution_count": 27,
     "metadata": {},
     "output_type": "execute_result"
    }
   ],
   "source": [
    "a* b "
   ]
  },
  {
   "cell_type": "code",
   "execution_count": 28,
   "id": "10d218c9",
   "metadata": {},
   "outputs": [
    {
     "data": {
      "text/plain": [
       "array([11, 12, 13])"
      ]
     },
     "execution_count": 28,
     "metadata": {},
     "output_type": "execute_result"
    }
   ],
   "source": [
    "a + 10"
   ]
  },
  {
   "cell_type": "code",
   "execution_count": 29,
   "id": "9d5c5ee5",
   "metadata": {},
   "outputs": [
    {
     "data": {
      "text/plain": [
       "array([3, 6, 9])"
      ]
     },
     "execution_count": 29,
     "metadata": {},
     "output_type": "execute_result"
    }
   ],
   "source": [
    "a * 3"
   ]
  },
  {
   "cell_type": "code",
   "execution_count": 30,
   "id": "c4d373b6",
   "metadata": {},
   "outputs": [
    {
     "data": {
      "text/plain": [
       "array([-1.      , -0.809017, -0.309017,  0.309017,  0.809017,  1.      ,\n",
       "        0.809017,  0.309017, -0.309017, -0.809017, -1.      ])"
      ]
     },
     "execution_count": 30,
     "metadata": {},
     "output_type": "execute_result"
    }
   ],
   "source": [
    "x = np.linspace(-1,1,11)\n",
    "np.cos(np.pi*x).round(6)"
   ]
  },
  {
   "cell_type": "markdown",
   "id": "bed06a53",
   "metadata": {},
   "source": [
    "##### Aggregation"
   ]
  },
  {
   "cell_type": "code",
   "execution_count": 31,
   "id": "aedbc5b7",
   "metadata": {},
   "outputs": [
    {
     "data": {
      "text/plain": [
       "array([-17.63193658,   4.11397771])"
      ]
     },
     "execution_count": 31,
     "metadata": {},
     "output_type": "execute_result"
    }
   ],
   "source": [
    "x = np.random.uniform(-180,180,size=100)\n",
    "y = np.random.uniform(-90,90,size=100)\n",
    "xy = np.stack((x,y),axis=1)\n",
    "xy.mean(axis=0)"
   ]
  },
  {
   "cell_type": "code",
   "execution_count": 32,
   "id": "ccca3ae2",
   "metadata": {},
   "outputs": [],
   "source": [
    "%matplotlib inline"
   ]
  },
  {
   "cell_type": "code",
   "execution_count": 33,
   "id": "533067b1",
   "metadata": {},
   "outputs": [],
   "source": [
    "import matplotlib as mpl\n",
    "import matplotlib.pyplot as plt\n",
    "import matplotlib.colors as mcolors\n",
    "import numpy as np"
   ]
  },
  {
   "cell_type": "code",
   "execution_count": 34,
   "id": "8dde9335",
   "metadata": {},
   "outputs": [],
   "source": [
    "x = np.linspace(-5,5,51)\n",
    "y = np.cos(x)"
   ]
  },
  {
   "cell_type": "code",
   "execution_count": 35,
   "id": "1e71e10d",
   "metadata": {},
   "outputs": [
    {
     "data": {
      "image/png": "[encoded data removed]",
      "text/plain": [
       "<Figure size 432x288 with 1 Axes>"
      ]
     },
     "metadata": {
      "needs_background": "light"
     },
     "output_type": "display_data"
    }
   ],
   "source": [
    "fig, ax = plt.subplots()\n",
    "ax.plot(x,y, color= 'red',label=\"cos(x)\")\n",
    "ax.set_ylabel(\"y\")\n",
    "ax.set_xlabel(\"x\")\n",
    "ax.legend()\n",
    "plt.show()"
   ]
  },
  {
   "cell_type": "markdown",
   "id": "713e1281",
   "metadata": {},
   "source": [
    "##### A plot is composed of a figure, where a figure is composed of a set of axes and other components, such as a\n",
    "colorbar. Note that a figure has many axes, where an axes is a set of axis (I know, I bit confusing :-). A figure\n",
    "size is a tuple of the form (width, height), where width and height are defined in inches. In addition, axes are\n",
    "displayed by default using a grid layout with a user defined number of rows and columns. The following is an\n",
    "example of 2 axes:"
   ]
  },
  {
   "cell_type": "code",
   "execution_count": 36,
   "id": "f21d286a",
   "metadata": {},
   "outputs": [
    {
     "data": {
      "image/png": "[encoded data removed]",
      "text/plain": [
       "<Figure size 576x432 with 2 Axes>"
      ]
     },
     "metadata": {
      "needs_background": "light"
     },
     "output_type": "display_data"
    }
   ],
   "source": [
    "fig, (ax1,ax2) = plt.subplots(nrows=2, ncols=1, sharex=True, figsize=(8,6))\n",
    "ax1.plot(x,y, color='red', label=\"y(x)\")\n",
    "ax2.scatter(x,y)\n",
    "ax1.set_ylabel(\"y\")\n",
    "ax2.set_ylabel(\"y\")\n",
    "ax2.set_xlabel(\"x\")\n",
    "plt.show()"
   ]
  },
  {
   "cell_type": "code",
   "execution_count": 37,
   "id": "7d5df83b",
   "metadata": {},
   "outputs": [],
   "source": [
    "import numpy as np\n",
    "import matplotlib as mpl\n",
    "x = y = np.linspace(0,2*np.pi,31)\n",
    "X,Y = np.meshgrid(x,y)\n",
    "Z = np.sin(X) + np.sin(Y)"
   ]
  },
  {
   "cell_type": "code",
   "execution_count": 38,
   "id": "c5b64fee",
   "metadata": {},
   "outputs": [
    {
     "name": "stderr",
     "output_type": "stream",
     "text": [
      "<ipython-input-38-6cf7395e9e0a>:3: MatplotlibDeprecationWarning: shading='flat' when X and Y have the same dimensions as C is deprecated since 3.3.  Either specify the corners of the quadrilaterals with X and Y, or pass shading='auto', 'nearest' or 'gouraud', or set rcParams['pcolor.shading'].  This will become an error two minor releases later.\n",
      "  p = ax.pcolor(X,Y,Z,norm=norm)\n"
     ]
    },
    {
     "data": {
      "image/png": "[encoded data removed]",
      "text/plain": [
       "<Figure size 432x432 with 2 Axes>"
      ]
     },
     "metadata": {
      "needs_background": "light"
     },
     "output_type": "display_data"
    }
   ],
   "source": [
    "norm = mpl.colors.Normalize(Z.min(),Z.max())\n",
    "fig,ax = plt.subplots(figsize=(6,6))\n",
    "p = ax.pcolor(X,Y,Z,norm=norm)\n",
    "cb = fig.colorbar(p, ax=ax)"
   ]
  },
  {
   "cell_type": "code",
   "execution_count": 45,
   "id": "86acb9fa",
   "metadata": {},
   "outputs": [
    {
     "data": {
      "image/png": "[encoded data removed]",
      "text/plain": [
       "<Figure size 432x288 with 1 Axes>"
      ]
     },
     "metadata": {},
     "output_type": "display_data"
    }
   ],
   "source": [
    "hour_of_day = np.random.randint(low=0,high=24,size=100)\n",
    "counts,bins,_=plt.hist(hour_of_day,23)\n",
    "plt.show()"
   ]
  },
  {
   "cell_type": "code",
   "execution_count": 46,
   "id": "e21c89b9",
   "metadata": {},
   "outputs": [
    {
     "data": {
      "text/plain": [
       "array([ 0.,  1.,  2.,  3.,  4.,  5.,  6.,  7.,  8.,  9., 10., 11., 12.,\n",
       "       13., 14., 15., 16., 17., 18., 19., 20., 21., 22., 23.])"
      ]
     },
     "execution_count": 46,
     "metadata": {},
     "output_type": "execute_result"
    }
   ],
   "source": [
    "bins"
   ]
  },
  {
   "cell_type": "code",
   "execution_count": 47,
   "id": "29ada10b",
   "metadata": {},
   "outputs": [
    {
     "data": {
      "text/plain": [
       "array([ 1., 10.,  4.,  4.,  5.,  4.,  2.,  3.,  6.,  6.,  2.,  3.,  5.,\n",
       "        5.,  3.,  2.,  5.,  7.,  3.,  8.,  4.,  4.,  4.])"
      ]
     },
     "execution_count": 47,
     "metadata": {},
     "output_type": "execute_result"
    }
   ],
   "source": [
    "counts"
   ]
  },
  {
   "cell_type": "code",
   "execution_count": 50,
   "id": "1ac4ba32",
   "metadata": {},
   "outputs": [
    {
     "data": {
      "text/plain": [
       "'C:\\\\Users\\\\Douglas Schoewe'"
      ]
     },
     "execution_count": 50,
     "metadata": {},
     "output_type": "execute_result"
    }
   ],
   "source": [
    "pwd()"
   ]
  },
  {
   "cell_type": "code",
   "execution_count": 58,
   "id": "ef75f2ec",
   "metadata": {},
   "outputs": [
    {
     "name": "stdout",
     "output_type": "stream",
     "text": [
      "C:\\Classes\\AIML\n"
     ]
    }
   ],
   "source": [
    "cd C:\\Classes\\AIML"
   ]
  },
  {
   "cell_type": "markdown",
   "id": "3c45e9ec",
   "metadata": {},
   "source": [
    "# Seaborn is not working properly"
   ]
  },
  {
   "cell_type": "code",
   "execution_count": 59,
   "id": "e6d0b723",
   "metadata": {},
   "outputs": [
    {
     "data": {
      "text/plain": [
       "'C:\\\\Classes\\\\AIML'"
      ]
     },
     "execution_count": 59,
     "metadata": {},
     "output_type": "execute_result"
    }
   ],
   "source": [
    "pwd()"
   ]
  },
  {
   "cell_type": "code",
   "execution_count": 86,
   "id": "bb5db6b2",
   "metadata": {},
   "outputs": [],
   "source": [
    "sns.set()"
   ]
  },
  {
   "cell_type": "code",
   "execution_count": 69,
   "id": "04a9c573",
   "metadata": {},
   "outputs": [],
   "source": [
    "import pandas as pd"
   ]
  },
  {
   "cell_type": "code",
   "execution_count": 70,
   "id": "4561b84b",
   "metadata": {},
   "outputs": [
    {
     "data": {
      "text/plain": [
       "3    9962311\n",
       "4    5576606\n",
       "5    2984100\n",
       "6    6113532\n",
       "dtype: int64"
      ]
     },
     "execution_count": 70,
     "metadata": {},
     "output_type": "execute_result"
    }
   ],
   "source": [
    "s = pd.Series([1335907,6052177,6859819,9962311,5576606,2984100,6113532,1050493])\n",
    "s[3:7]"
   ]
  },
  {
   "cell_type": "code",
   "execution_count": 71,
   "id": "3e0b267b",
   "metadata": {},
   "outputs": [],
   "source": [
    "s.index = ['Maine','Maryland','Massachusetts','Michigan','Minnesota','Mississippi','Missouri','Montana']\n",
    "s.name = '2017 Population'"
   ]
  },
  {
   "cell_type": "code",
   "execution_count": 72,
   "id": "d4e42cfb",
   "metadata": {},
   "outputs": [
    {
     "data": {
      "text/plain": [
       "6859819"
      ]
     },
     "execution_count": 72,
     "metadata": {},
     "output_type": "execute_result"
    }
   ],
   "source": [
    "s.Massachusetts"
   ]
  },
  {
   "cell_type": "code",
   "execution_count": 76,
   "id": "8f6610f5",
   "metadata": {},
   "outputs": [
    {
     "data": {
      "text/plain": [
       "count    8.000000e+00\n",
       "mean     4.991868e+06\n",
       "std      3.020181e+06\n",
       "min      1.050493e+06\n",
       "25%      2.572052e+06\n",
       "50%      5.814392e+06\n",
       "75%      6.300104e+06\n",
       "max      9.962311e+06\n",
       "Name: 2017 Population, dtype: float64"
      ]
     },
     "execution_count": 76,
     "metadata": {},
     "output_type": "execute_result"
    }
   ],
   "source": [
    "s.describe()"
   ]
  },
  {
   "cell_type": "code",
   "execution_count": 77,
   "id": "37aff30d",
   "metadata": {},
   "outputs": [
    {
     "data": {
      "image/png": "[encoded data removed]",
      "text/plain": [
       "<Figure size 432x288 with 1 Axes>"
      ]
     },
     "metadata": {},
     "output_type": "display_data"
    }
   ],
   "source": [
    "fig, ax = plt.subplots()\n",
    "sp = s.plot(ax=ax, kind='bar')\n",
    "plt.show()"
   ]
  },
  {
   "cell_type": "code",
   "execution_count": 78,
   "id": "39f42512",
   "metadata": {},
   "outputs": [],
   "source": [
    "index = ['Maine','Maryland','Massachusetts']\n",
    "s2017 = pd.Series(data = [1335907,6052177,6859819], index=index)\n",
    "s2016 = pd.Series(data = [1330232,6024752,6823721], index=index)\n",
    "df = pd.DataFrame({\n",
    "    '2017':s2017,\n",
    "    '2016':s2016\n",
    "})"
   ]
  },
  {
   "cell_type": "code",
   "execution_count": 79,
   "id": "a44cad5d",
   "metadata": {},
   "outputs": [
    {
     "data": {
      "text/html": [
       "<div>\n",
       "<style scoped>\n",
       "    .dataframe tbody tr th:only-of-type {\n",
       "        vertical-align: middle;\n",
       "    }\n",
       "\n",
       "    .dataframe tbody tr th {\n",
       "        vertical-align: top;\n",
       "    }\n",
       "\n",
       "    .dataframe thead th {\n",
       "        text-align: right;\n",
       "    }\n",
       "</style>\n",
       "<table border=\"1\" class=\"dataframe\">\n",
       "  <thead>\n",
       "    <tr style=\"text-align: right;\">\n",
       "      <th></th>\n",
       "      <th>2017</th>\n",
       "      <th>2016</th>\n",
       "    </tr>\n",
       "  </thead>\n",
       "  <tbody>\n",
       "    <tr>\n",
       "      <th>Maine</th>\n",
       "      <td>1335907</td>\n",
       "      <td>1330232</td>\n",
       "    </tr>\n",
       "    <tr>\n",
       "      <th>Maryland</th>\n",
       "      <td>6052177</td>\n",
       "      <td>6024752</td>\n",
       "    </tr>\n",
       "    <tr>\n",
       "      <th>Massachusetts</th>\n",
       "      <td>6859819</td>\n",
       "      <td>6823721</td>\n",
       "    </tr>\n",
       "  </tbody>\n",
       "</table>\n",
       "</div>"
      ],
      "text/plain": [
       "                  2017     2016\n",
       "Maine          1335907  1330232\n",
       "Maryland       6052177  6024752\n",
       "Massachusetts  6859819  6823721"
      ]
     },
     "execution_count": 79,
     "metadata": {},
     "output_type": "execute_result"
    }
   ],
   "source": [
    "df\n"
   ]
  },
  {
   "cell_type": "code",
   "execution_count": 80,
   "id": "635232df",
   "metadata": {},
   "outputs": [
    {
     "data": {
      "text/plain": [
       "Maine            1330232\n",
       "Maryland         6024752\n",
       "Massachusetts    6823721\n",
       "Name: 2016, dtype: int64"
      ]
     },
     "execution_count": 80,
     "metadata": {},
     "output_type": "execute_result"
    }
   ],
   "source": [
    "df['2016']"
   ]
  },
  {
   "cell_type": "code",
   "execution_count": 81,
   "id": "df101932",
   "metadata": {},
   "outputs": [
    {
     "data": {
      "text/plain": [
       "2017    6859819\n",
       "2016    6823721\n",
       "Name: Massachusetts, dtype: int64"
      ]
     },
     "execution_count": 81,
     "metadata": {},
     "output_type": "execute_result"
    }
   ],
   "source": [
    "df.iloc[2]"
   ]
  },
  {
   "cell_type": "code",
   "execution_count": 82,
   "id": "4ee883f3",
   "metadata": {},
   "outputs": [
    {
     "data": {
      "text/html": [
       "<div>\n",
       "<style scoped>\n",
       "    .dataframe tbody tr th:only-of-type {\n",
       "        vertical-align: middle;\n",
       "    }\n",
       "\n",
       "    .dataframe tbody tr th {\n",
       "        vertical-align: top;\n",
       "    }\n",
       "\n",
       "    .dataframe thead th {\n",
       "        text-align: right;\n",
       "    }\n",
       "</style>\n",
       "<table border=\"1\" class=\"dataframe\">\n",
       "  <thead>\n",
       "    <tr style=\"text-align: right;\">\n",
       "      <th></th>\n",
       "      <th>2017</th>\n",
       "      <th>2016</th>\n",
       "    </tr>\n",
       "  </thead>\n",
       "  <tbody>\n",
       "    <tr>\n",
       "      <th>Maine</th>\n",
       "      <td>1335907</td>\n",
       "      <td>1330232</td>\n",
       "    </tr>\n",
       "    <tr>\n",
       "      <th>Massachusetts</th>\n",
       "      <td>6859819</td>\n",
       "      <td>6823721</td>\n",
       "    </tr>\n",
       "  </tbody>\n",
       "</table>\n",
       "</div>"
      ],
      "text/plain": [
       "                  2017     2016\n",
       "Maine          1335907  1330232\n",
       "Massachusetts  6859819  6823721"
      ]
     },
     "execution_count": 82,
     "metadata": {},
     "output_type": "execute_result"
    }
   ],
   "source": [
    "df.loc[['Maine','Massachusetts']]"
   ]
  },
  {
   "cell_type": "code",
   "execution_count": null,
   "id": "91391e9d",
   "metadata": {},
   "outputs": [],
   "source": []
  }
 ],
 "metadata": {
  "kernelspec": {
   "display_name": "Python 3",
   "language": "python",
   "name": "python3"
  },
  "language_info": {
   "codemirror_mode": {
    "name": "ipython",
    "version": 3
   },
   "file_extension": ".py",
   "mimetype": "text/x-python",
   "name": "python",
   "nbconvert_exporter": "python",
   "pygments_lexer": "ipython3",
   "version": "3.9.11"
  }
 },
 "nbformat": 4,
 "nbformat_minor": 5
}
